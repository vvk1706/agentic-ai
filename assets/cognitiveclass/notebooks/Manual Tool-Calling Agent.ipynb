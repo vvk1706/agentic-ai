{
 "cells": [
  {
   "cell_type": "markdown",
   "metadata": {},
   "source": [
    "<p style=\"text-align:center\">\n",
    "    <a href=\"https://skills.network\" target=\"_blank\">\n",
    "    <img src=\"https://cf-courses-data.s3.us.cloud-object-storage.appdomain.cloud/assets/logos/SN_web_lightmode.png\" width=\"200\" alt=\"Skills Network Logo\"  />\n",
    "    </a>\n",
    "</p>\n"
   ]
  },
  {
   "cell_type": "markdown",
   "metadata": {},
   "source": [
    "# **Build a Tool Calling Agent**\n"
   ]
  },
  {
   "cell_type": "markdown",
   "metadata": {},
   "source": [
    "Estimated time needed: **1** hour\n"
   ]
  },
  {
   "cell_type": "markdown",
   "metadata": {},
   "source": [
    "In this lab, you'll explore the powerful capabilities of tool calling in large language models (LLMs) to build advanced AI agents that can interact with external systems. You'll learn how to create custom tools that enable an LLM to perform specific actions, from extracting video IDs to fetching YouTube transcripts and metadata. Through hands-on examples, you'll first implement manual tool calling to understand the underlying mechanics, then build a flexible YouTube interaction system that can search videos, extract transcripts, and generate summaries. By the end of this lab, you'll understand how to construct both fixed-sequence and recursive tool-calling chains, allowing your AI assistants to dynamically decide which tools to use and when to use them, creating truly intelligent agents that can reason about and interact with the world around them.\n"
   ]
  },
  {
   "cell_type": "markdown",
   "metadata": {},
   "source": [
    "## __Table of Contents__\n",
    "\n",
    "<ol>\n",
    "   <li><a href=\"#Objectives\">Objectives</a></li>\n",
    "   <li>\n",
    "       <a href=\"#Setup\">Setup</a>\n",
    "       <ol>\n",
    "           <li><a href=\"#Installing-required-libraries\">Installing required libraries</a></li>\n",
    "           <li><a href=\"#Importing-Required-Libraries\">Importing required libraries</a></li>\n",
    "       </ol>\n",
    "   </li>\n",
    "   <li>\n",
    "       <a href=\"#Tools\">Tools</a>\n",
    "       <ol>\n",
    "           <li><a href=\"#Defining-video-ID-extraction-tool\">Defining video ID extraction tool</a></li>\n",
    "           <li><a href=\"#Tool-list\">Tool list</a></li>\n",
    "           <li><a href=\"#Defining-transcript-fetching-tool\">Defining transcript fetching tool</a></li>\n",
    "           <li><a href=\"#Defining-YouTube-search-tool\">Defining YouTube search tool</a></li>\n",
    "           <li><a href=\"#Defining-metadata-extraction-tool\">Defining metadata extraction tool</a></li>\n",
    "           <li><a href=\"#Defining-thumbnail-retrieval-tool\">Defining thumbnail retrieval tool</a></li>\n",
    "       </ol>\n",
    "   </li>\n",
    "   <li>\n",
    "       <a href=\"#Binding-tools\">Binding tools</a>\n",
    "       <ol>\n",
    "           <li><a href=\"#How-the-LLM-calls-a-tool\">How the LLM calls a tool</a></li>\n",
    "           <li><a href=\"#LangChain-tool-binding-process\">LangChain tool binding process</a></li>\n",
    "           <li><a href=\"#Extracting-tool-call-information\">Extracting tool call information</a></li>\n",
    "       </ol>\n",
    "   </li>\n",
    "   <li>\n",
    "       <a href=\"#Automating-the-tool-calling-process\">Automating the tool calling process</a>\n",
    "       <ol>\n",
    "           <li><a href=\"#Building-the-summarization-chain\">Building the summarization chain</a></li>\n",
    "       </ol>\n",
    "   </li>\n",
    "   <li>\n",
    "       <a href=\"#Recursive-chain-flow\">Recursive chain flow</a>\n",
    "       <ol>\n",
    "           <li><a href=\"#Defining-the-core-processing-logic\">Defining the core processing logic</a></li>\n",
    "           <li><a href=\"#Building-the-complete-universal-chain\">Building the complete universal chain</a></li>\n",
    "       </ol>\n",
    "   </li>\n",
    "</ol>\n",
    "\n",
    "<li><a href=\"#Exercise\">Exercise</a></li>\n"
   ]
  },
  {
   "cell_type": "markdown",
   "metadata": {},
   "source": [
    "## Objectives\n",
    "\n",
    "After completing this lab you will be able to:\n",
    "\n",
    "- Create custom tools that extend the capabilities of language models\n",
    "- Build both manual and automated tool calling chains\n",
    "- Implement recursive tool calling for dynamic, multi-step operations\n",
    "- Develop AI agents that can interact with YouTube's content programmatically\n",
    "- Apply tool calling techniques to extract, process, and summarize information from external sources\n",
    "- Design flexible workflows that allow LLMs to reason about when and how to use available tools\n"
   ]
  },
  {
   "cell_type": "markdown",
   "metadata": {},
   "source": [
    "----\n"
   ]
  },
  {
   "cell_type": "markdown",
   "metadata": {},
   "source": [
    "## Setup\n"
   ]
  },
  {
   "cell_type": "markdown",
   "metadata": {},
   "source": [
    "For this lab, you will be using the following libraries:\n",
    "\n",
    "*   [`pytube`](https://pytube.io/en/latest/) for accessing YouTube videos and their metadata programmatically.\n",
    "*   [`youtube-transcript-api`](https://github.com/jdepoix/youtube-transcript-api) for fetching transcripts from YouTube videos.\n",
    "*   [`langchain`](https://python.langchain.com/docs/get_started/introduction) for building tool-enabled LLM applications.\n",
    "*   [`langchain-community`](https://python.langchain.com/docs/integrations/providers/) for additional LangChain integrations.\n",
    "*   [`langchain-openai`](https://python.langchain.com/docs/integrations/llms/openai) for connecting to OpenAI's language models.\n",
    "*   [`yt-dlp`](https://github.com/yt-dlp/yt-dlp) for enhanced YouTube data extraction capabilities.\n"
   ]
  },
  {
   "cell_type": "markdown",
   "metadata": {},
   "source": [
    "### Installing required libraries\n"
   ]
  },
  {
   "cell_type": "code",
   "execution_count": 91,
   "metadata": {},
   "outputs": [],
   "source": [
    "%%capture\n",
    "%pip install pytube \n",
    "%pip install youtube-transcript-api==1.1.0\n",
    "%pip install langchain-community==0.3.16\n",
    "%pip install langchain==0.3.23\n",
    "%pip install langchain-openai==0.3.14\n",
    "%pip install yt-dlp"
   ]
  },
  {
   "cell_type": "markdown",
   "metadata": {},
   "source": [
    "### Importing required libraries\n",
    "\n",
    "_It is recommended that you import all required libraries in one place (here):_\n"
   ]
  },
  {
   "cell_type": "code",
   "execution_count": 92,
   "metadata": {},
   "outputs": [
    {
     "name": "stdout",
     "output_type": "stream",
     "text": [
      "3.12.8 | packaged by conda-forge | (main, Dec  5 2024, 14:24:40) [GCC 13.3.0]\n"
     ]
    }
   ],
   "source": [
    "import sys\n",
    "print(sys.version)\n",
    "\n",
    "import re\n",
    "from pytube import YouTube\n",
    "from langchain_core.tools import tool\n",
    "from IPython.display import display, JSON\n",
    "import yt_dlp\n",
    "from typing import List, Dict\n",
    "from langchain_core.messages import HumanMessage\n",
    "from langchain_core.messages import ToolMessage\n",
    "import json\n",
    "\n",
    "# Suppress warnings\n",
    "import warnings\n",
    "warnings.filterwarnings(\"ignore\")\n",
    "\n",
    "# Suppress pytube errors\n",
    "import logging\n",
    "pytube_logger = logging.getLogger('pytube')\n",
    "pytube_logger.setLevel(logging.ERROR)\n",
    "\n",
    "# Suppress yt-dlp warnings\n",
    "yt_dpl_logger = logging.getLogger('yt_dlp')\n",
    "yt_dpl_logger.setLevel(logging.ERROR)"
   ]
  },
  {
   "cell_type": "markdown",
   "metadata": {},
   "source": [
    "Let's initialize the language model that will power your tool calling capabilities. This code sets up a GPT-4o-mini model using the OpenAI provider through LangChain's interface, which you'll use to process queries and decide which tools to call.\n"
   ]
  },
  {
   "cell_type": "code",
   "execution_count": 93,
   "metadata": {},
   "outputs": [],
   "source": [
    "from langchain.chat_models import init_chat_model\n",
    "\n",
    "llm = init_chat_model(\"gpt-4o-mini\", model_provider=\"openai\")"
   ]
  },
  {
   "cell_type": "markdown",
   "metadata": {},
   "source": [
    "# API Disclaimer\n",
    "This lab uses LLMs provided by OpenAI. This environment has been configured to allow LLM use without API keys so you can prompt them for **free (with limitations)**. With that in mind, if you wish to run this notebook **locally outside** of Skills Network's JupyterLab environment, you will have to configure your own API keys. Please note that using your own API keys means that you will incur personal charges.\n",
    "\n",
    "### Running Locally\n",
    "If you are running this lab locally, you will need to configure your own API key. This lab uses the `init_chat_model` function from `langchain`. To use the model you must set the environment variable `OPENAI_API_KEY` to your OpenAI API key. **DO NOT** run the cell below if you aren't running locally, it will causes errors.\n"
   ]
  },
  {
   "cell_type": "code",
   "execution_count": 94,
   "metadata": {},
   "outputs": [
    {
     "ename": "NameError",
     "evalue": "name 'os' is not defined",
     "output_type": "error",
     "traceback": [
      "\u001b[0;31m---------------------------------------------------------------------------\u001b[0m",
      "\u001b[0;31mNameError\u001b[0m                                 Traceback (most recent call last)",
      "Cell \u001b[0;32mIn[94], line 2\u001b[0m\n\u001b[1;32m      1\u001b[0m \u001b[38;5;66;03m# IGNORE IF YOU ARE NOT RUNNING LOCALLY\u001b[39;00m\n\u001b[0;32m----> 2\u001b[0m \u001b[43mos\u001b[49m\u001b[38;5;241m.\u001b[39menviron[\u001b[38;5;124m\"\u001b[39m\u001b[38;5;124mOPENAI_API_KEY\u001b[39m\u001b[38;5;124m\"\u001b[39m] \u001b[38;5;241m=\u001b[39m \u001b[38;5;124m\"\u001b[39m\u001b[38;5;124myour OpenAI API key here\u001b[39m\u001b[38;5;124m\"\u001b[39m\n",
      "\u001b[0;31mNameError\u001b[0m: name 'os' is not defined"
     ]
    }
   ],
   "source": [
    "# IGNORE IF YOU ARE NOT RUNNING LOCALLY\n",
    "os.environ[\"OPENAI_API_KEY\"] = \"your OpenAI API key here\""
   ]
  },
  {
   "cell_type": "markdown",
   "metadata": {},
   "source": [
    "# Tools\n"
   ]
  },
  {
   "cell_type": "markdown",
   "metadata": {},
   "source": [
    "\n",
    "## Creating custom tools with LangChain\n",
    "\n",
    "### Anatomy of a tool\n",
    "\n",
    "Let's provide the basic building blooks a  tool, consider the following tools:\n",
    "\n",
    "```python\n",
    "@tool\n",
    "def tool_name(input_param: input_type) -> output_type:\n",
    "   \"\"\"\n",
    "   Clear description of what the tool does.\n",
    "   \n",
    "   Args:\n",
    "       input_param (input_type): Description of this parameter\n",
    "   \n",
    "   Returns:\n",
    "       output_type: Description of what is returned\n",
    "   \"\"\"\n",
    "   # Function implementation\n",
    "   result = process(input_param)\n",
    "   return result\n",
    "```\n",
    "\n",
    "\n",
    "## Key components\n",
    "\n",
    "1. **@tool decorator**\n",
    "   - Registers the function with LangChain\n",
    "   - Creates tool attributes (.name, .description, .func)\n",
    "   - Generates JSON schema for validation\n",
    "   - Transforms regular functions into callable tools\n",
    "\n",
    "2. **Function name**\n",
    "   - Used by LLM to select appropriate tool\n",
    "   - Used as reference in chains and tool mappings\n",
    "   - Appears in tool call logs for debugging\n",
    "   - Should clearly indicate the tool's purpose\n",
    "\n",
    "3. **Type annotations**\n",
    "   - Enable automatic input validation\n",
    "   - Create schema for parameters\n",
    "   - Allow proper serialization of inputs/outputs\n",
    "   - Help LLM understand required input formats\n",
    "\n",
    "4. **Docstring**\n",
    "   - Provides context for the LLM to decide when to use the tool\n",
    "   - Documents parameter requirements\n",
    "   - Explains expected outputs and behavior\n",
    "   - Critical for tool selection by the LLM\n",
    "\n",
    "5. **Implementation**\n",
    "   - Executes the actual operation\n",
    "   - Handles errors appropriately\n",
    "   - Returns properly formatted results\n",
    "   - Should be efficient and robust\n",
    "\n",
    "\n",
    "### Defining video ID extraction tool\n",
    "\n",
    "Now you'll define a function `extract_video_id` by denoting it as a tool that will help you to extract the video ID from a given URL. This is necessary because many YouTube API operations, including transcript extraction, require the video ID rather than the complete URL. The function uses regular expressions to handle different YouTube URL formats (standard, shortened, and embedded) and extract the 11-character video ID.\n"
   ]
  },
  {
   "cell_type": "code",
   "execution_count": 95,
   "metadata": {},
   "outputs": [],
   "source": [
    "@tool\n",
    "def extract_video_id(url: str) -> str:\n",
    "    \"\"\"\n",
    "    Extracts the 11-character YouTube video ID from a URL.\n",
    "    \n",
    "    Args:\n",
    "        url (str): A YouTube URL containing a video ID.\n",
    "\n",
    "    Returns:\n",
    "        str: Extracted video ID or error message if parsing fails.\n",
    "    \"\"\"\n",
    "    \n",
    "    # Regex pattern to match video IDs\n",
    "    pattern = r'(?:v=|be/|embed/)([a-zA-Z0-9_-]{11})'\n",
    "    match = re.search(pattern, url)\n",
    "    return match.group(1) if match else \"Error: Invalid YouTube URL\""
   ]
  },
  {
   "cell_type": "markdown",
   "metadata": {},
   "source": [
    "The decorator wraps your function, adding those attributes (.name, .description, .func) and registering it with LangChain's tool system. The original function becomes accessible through the .func attribute, but the overall object is an instance of LangChain's tool class, with additional methods like .run() for direct invocation.\n",
    "\n",
    "\n",
    "\n",
    "\n",
    "\n",
    "#### Testing the video ID extraction tool\n",
    "\n",
    "\n",
    "Now you'll be testing your `extract_video_id` tool to verify that it's correctly registered with LangChain. These print statements will show you:\n",
    "1. The tool's name (as it will be referenced by the LLM)\n",
    "2. The tool's description (which helps the LLM understand when to use this tool)\n",
    "3. The actual function reference that will be called\n",
    "\n",
    "\n",
    "\n",
    "\n"
   ]
  },
  {
   "cell_type": "code",
   "execution_count": 96,
   "metadata": {},
   "outputs": [
    {
     "name": "stdout",
     "output_type": "stream",
     "text": [
      "extract_video_id\n",
      "----------------------------\n",
      "Extracts the 11-character YouTube video ID from a URL.\n",
      "\n",
      "Args:\n",
      "    url (str): A YouTube URL containing a video ID.\n",
      "\n",
      "Returns:\n",
      "    str: Extracted video ID or error message if parsing fails.\n",
      "----------------------------\n",
      "<function extract_video_id at 0x768461a1e5c0>\n"
     ]
    }
   ],
   "source": [
    "print(extract_video_id.name)\n",
    "print(\"----------------------------\")\n",
    "print(extract_video_id.description)\n",
    "print(\"----------------------------\")\n",
    "print(extract_video_id.func)"
   ]
  },
  {
   "cell_type": "markdown",
   "metadata": {},
   "source": [
    "#### Testing tool execution\n",
    "\n",
    "Here, you're testing the actual execution of your `extract_video_id` tool with a real YouTube URL. You can call the tool using the `.run()` method, which is a convenient way to execute the tool directly and see its output.\n"
   ]
  },
  {
   "cell_type": "code",
   "execution_count": 97,
   "metadata": {},
   "outputs": [
    {
     "data": {
      "text/plain": [
       "'ZllD1loyRho'"
      ]
     },
     "execution_count": 97,
     "metadata": {},
     "output_type": "execute_result"
    }
   ],
   "source": [
    "extract_video_id.run(\"https://www.youtube.com/watch?v=ZllD1loyRho\")"
   ]
  },
  {
   "cell_type": "code",
   "execution_count": 98,
   "metadata": {},
   "outputs": [
    {
     "data": {
      "text/plain": [
       "StructuredTool(name='extract_video_id', description='Extracts the 11-character YouTube video ID from a URL.\\n\\nArgs:\\n    url (str): A YouTube URL containing a video ID.\\n\\nReturns:\\n    str: Extracted video ID or error message if parsing fails.', args_schema=<class 'langchain_core.utils.pydantic.extract_video_id'>, func=<function extract_video_id at 0x768461a1e5c0>)"
      ]
     },
     "execution_count": 98,
     "metadata": {},
     "output_type": "execute_result"
    }
   ],
   "source": [
    "extract_video_id"
   ]
  },
  {
   "cell_type": "markdown",
   "metadata": {},
   "source": [
    "This output shows that your function has been transformed into a `StructuredTool` object by LangChain. It displays the tool's name ('extract_video_id'), its description (our docstring), a Pydantic schema for input validation, and a reference to your original function.\n"
   ]
  },
  {
   "cell_type": "markdown",
   "metadata": {},
   "source": [
    "## Tool list \n",
    "Multiple tools will be created to enhance the LLM's capabilities. For organization, create a list called tools, which is a standard Python list that contains tool objects created with the @tool decorator. This list doesn't execute functions or determine call order - it simply collects tool objects in one place so they can be efficiently passed to the language model via llm.bind_tools(tools). This approach allows the LLM to access all available tools without requiring them to be individually registered.\n",
    "\n",
    "Adding the ```extract_video_id``` tool to your tools list, which you can later provide to the LLM so it can use this functionality when needed.\n",
    "\n"
   ]
  },
  {
   "cell_type": "code",
   "execution_count": 99,
   "metadata": {},
   "outputs": [
    {
     "name": "stdout",
     "output_type": "stream",
     "text": [
      "[StructuredTool(name='extract_video_id', description='Extracts the 11-character YouTube video ID from a URL.\\n\\nArgs:\\n    url (str): A YouTube URL containing a video ID.\\n\\nReturns:\\n    str: Extracted video ID or error message if parsing fails.', args_schema=<class 'langchain_core.utils.pydantic.extract_video_id'>, func=<function extract_video_id at 0x768461a1e5c0>)]\n"
     ]
    }
   ],
   "source": [
    "tools = []\n",
    "tools.append(extract_video_id)\n",
    "print(tools)"
   ]
  },
  {
   "cell_type": "markdown",
   "metadata": {},
   "source": [
    "Now that you have understood the basic structure, let's define the rest of the tools you'll need.\n"
   ]
  },
  {
   "cell_type": "markdown",
   "metadata": {},
   "source": [
    "### Defining transcript fetching tool\n",
    "\n",
    "Now you're going to create another tool that fetches the transcript from a YouTube video. This tool uses the `YouTubeTranscriptApi` library to retrieve the captions or subtitles from a video. You'll be taking the video ID (which can be extracted using your previous tool) and an optional language parameter. The function attempts to get the transcript and joins all text segments into a continuous string, or returns an error message if the transcript can't be retrieved.\n"
   ]
  },
  {
   "cell_type": "code",
   "execution_count": 100,
   "metadata": {},
   "outputs": [],
   "source": [
    "from youtube_transcript_api import YouTubeTranscriptApi\n",
    "\n",
    "\n",
    "@tool\n",
    "def fetch_transcript(video_id: str, language: str = \"en\") -> str:\n",
    "    \"\"\"\n",
    "    Fetches the transcript of a YouTube video.\n",
    "    \n",
    "    Args:\n",
    "        video_id (str): The YouTube video ID (e.g., \"dQw4w9WgXcQ\").\n",
    "        language (str): Language code for the transcript (e.g., \"en\", \"es\").\n",
    "    \n",
    "    Returns:\n",
    "        str: The transcript text or an error message.\n",
    "    \"\"\"\n",
    "    \n",
    "    try:\n",
    "        ytt_api = YouTubeTranscriptApi()\n",
    "        transcript = ytt_api.fetch(video_id, languages=[language])\n",
    "        return \" \".join([snippet.text for snippet in transcript.snippets])\n",
    "    except Exception as e:\n",
    "        return f\"Error: {str(e)}\""
   ]
  },
  {
   "cell_type": "markdown",
   "metadata": {},
   "source": [
    "Let's test the fetch_transcript tool by directly calling it with the .run() method on a specific video ID. This will attempt to retrieve the transcript for the video with ID \"hfIUstzHs9A\" in the default English language.\n"
   ]
  },
  {
   "cell_type": "code",
   "execution_count": 101,
   "metadata": {},
   "outputs": [
    {
     "data": {
      "text/plain": [
       "'Error: \\nCould not retrieve a transcript for the video https://www.youtube.com/watch?v=wpqHne-9MC0! This is most likely caused by:\\n\\nNo transcripts were found for any of the requested language codes: [\\'en\\']\\n\\nFor this video (wpqHne-9MC0) transcripts are available in the following languages:\\n\\n(MANUALLY CREATED)\\nNone\\n\\n(GENERATED)\\n - ru (\"Russian (auto-generated)\")[TRANSLATABLE]\\n\\n(TRANSLATION LANGUAGES)\\n - en (\"English\")\\n\\nIf you are sure that the described cause is not responsible for this error and that a transcript should be retrievable, please create an issue at https://github.com/jdepoix/youtube-transcript-api/issues. Please add which version of youtube_transcript_api you are using and provide the information needed to replicate the error. Also make sure that there are no open issues which already describe your problem!'"
      ]
     },
     "execution_count": 101,
     "metadata": {},
     "output_type": "execute_result"
    }
   ],
   "source": [
    "fetch_transcript.run(\"wpqHne-9MC0\")"
   ]
  },
  {
   "cell_type": "markdown",
   "metadata": {},
   "source": [
    "---\n",
    "Adding the `fetch_transcript` tool to your tools list.\n"
   ]
  },
  {
   "cell_type": "code",
   "execution_count": 102,
   "metadata": {},
   "outputs": [],
   "source": [
    "tools.append(fetch_transcript)"
   ]
  },
  {
   "cell_type": "markdown",
   "metadata": {},
   "source": [
    "### Defining YouTube search tool\n",
    "\n",
    "Now let's create a search tool that allows finding videos on YouTube based on a query string. This tool uses the `Search` class from the PyTube library to perform searches on YouTube. When given a search term, it returns a list of matching videos with each video represented as a dictionary containing the title, video ID, and a shortened URL. This tool will be helpful for discovering relevant videos when you don't already have a specific URL in mind.\n"
   ]
  },
  {
   "cell_type": "code",
   "execution_count": 103,
   "metadata": {},
   "outputs": [],
   "source": [
    "from pytube import Search\n",
    "from langchain.tools import tool\n",
    "from typing import List, Dict\n",
    "\n",
    "@tool\n",
    "def search_youtube(query: str) -> List[Dict[str, str]]:\n",
    "    \"\"\"\n",
    "    Search YouTube for videos matching the query.\n",
    "    \n",
    "    Args:\n",
    "        query (str): The search term to look for on YouTube\n",
    "        \n",
    "    Returns:\n",
    "        List of dictionaries containing video titles and IDs in format:\n",
    "        [{'title': 'Video Title', 'video_id': 'abc123'}, ...]\n",
    "        Returns error message if search fails\n",
    "    \"\"\"\n",
    "    try:\n",
    "        s = Search(query)\n",
    "        return [\n",
    "            {\n",
    "                \"title\": yt.title,\n",
    "                \"video_id\": yt.video_id,\n",
    "                \"url\": f\"https://youtu.be/{yt.video_id}\"\n",
    "            }\n",
    "            for yt in s.results\n",
    "        ]\n",
    "    except Exception as e:\n",
    "        return f\"Error: {str(e)}\""
   ]
  },
  {
   "cell_type": "markdown",
   "metadata": {},
   "source": [
    "Now, you'll test your `search_youtube` tool by calling it with the `.run()` method and the search query \"Generative AI.\" This will return a list of YouTube videos related to generative AI.\n"
   ]
  },
  {
   "cell_type": "code",
   "execution_count": 104,
   "metadata": {},
   "outputs": [
    {
     "data": {
      "application/json": [
       {
        "title": "Долгая дорога в дюнах. Остросюжетная драма. Все серии (1980-81)",
        "url": "https://youtu.be/QqZE1adB7uY",
        "video_id": "QqZE1adB7uY"
       },
       {
        "title": "Долгая дорога в дюнах 1980 все серии",
        "url": "https://youtu.be/U7dT-czbpz4",
        "video_id": "U7dT-czbpz4"
       },
       {
        "title": "Долгая дорога в дюнах",
        "url": "https://youtu.be/GZZ0ZQewPAU",
        "video_id": "GZZ0ZQewPAU"
       },
       {
        "title": "Фильм \"Долгая дорога в дюнах\" (финал)",
        "url": "https://youtu.be/wpqHne-9MC0",
        "video_id": "wpqHne-9MC0"
       },
       {
        "title": "\"Долгая дорога в дюнах\" - мелодия из фильма. Оркестр кинематографии 2016",
        "url": "https://youtu.be/r8JKOgD9nMo",
        "video_id": "r8JKOgD9nMo"
       },
       {
        "title": "Долгая дорога в дюнах. 1 серия (1980). Драма.Золотая коллекция советских фильмов.",
        "url": "https://youtu.be/MSIb8fJfp1Y",
        "video_id": "MSIb8fJfp1Y"
       },
       {
        "title": "Долгая дорога в дюнах. 6 серия (1980). Драма. Золотая коллекция советских фильмов.",
        "url": "https://youtu.be/Ww9Iuo0kIM0",
        "video_id": "Ww9Iuo0kIM0"
       },
       {
        "title": "Долгая дорога в дюнах. 7 серия (1980). Драма.Золотая коллекция советских фильмов.",
        "url": "https://youtu.be/TcWLmK5I84I",
        "video_id": "TcWLmK5I84I"
       },
       {
        "title": "Долгая дорога в дюнах 1 ☆ СССР 1982 ☆ Рижская киностудия ☆",
        "url": "https://youtu.be/z9TV-s18Q_4",
        "video_id": "z9TV-s18Q_4"
       },
       {
        "title": "\"Ну, здравствуй\". Встреча Марты и Артура. Фильм \"Долгая дорога в дюнах\" (1981)",
        "url": "https://youtu.be/Ks8ZAr4O-HU",
        "video_id": "Ks8ZAr4O-HU"
       },
       {
        "title": "Сериал \"ДОЛГАЯ ДОРОГА В ДЮНАХ\" • ВСЕ СЕРИИ (1980-1981 г., СССР, Рижская киностудия, военный, драма)",
        "url": "https://youtu.be/f0YzxQ888U0",
        "video_id": "f0YzxQ888U0"
       },
       {
        "title": "Долгая дорога в дюнах. 5 серия (1980). Драма. Золотая коллекция советских фильмов.",
        "url": "https://youtu.be/2E9hA7MwgxM",
        "video_id": "2E9hA7MwgxM"
       },
       {
        "title": "Долгая дорога в дюнах 4 ☆ СССР 1982 ☆ Рижская киностудия ☆",
        "url": "https://youtu.be/CD4OmsGdtjc",
        "video_id": "CD4OmsGdtjc"
       },
       {
        "title": "Долгая дорога в дюнах 6 ☆ СССР 1982 ☆ Рижская киностудия ☆",
        "url": "https://youtu.be/e2N6jqMmfXg",
        "video_id": "e2N6jqMmfXg"
       },
       {
        "title": "Раймонд Паулс - Долгая дорога в дюнах",
        "url": "https://youtu.be/wQ21ytXFuYo",
        "video_id": "wQ21ytXFuYo"
       },
       {
        "title": "Долгая дорога в дюнах. 3 серия (1980). Драма. Золотая коллекция советских фильмов.",
        "url": "https://youtu.be/7mw0WWeYIgs",
        "video_id": "7mw0WWeYIgs"
       },
       {
        "title": "Долгая дорога в дюнах. 2 серия (1980). Драма. Золотая коллекция советских фильмов.",
        "url": "https://youtu.be/KATQHSqaC5M",
        "video_id": "KATQHSqaC5M"
       },
       {
        "title": "Финальная сцена из фильма \"Долгая дорога в дюнах\" (1981)",
        "url": "https://youtu.be/7lCQdVQxvak",
        "video_id": "7lCQdVQxvak"
       }
      ],
      "text/plain": [
       "<IPython.core.display.JSON object>"
      ]
     },
     "metadata": {
      "application/json": {
       "expanded": false,
       "root": "root"
      }
     },
     "output_type": "display_data"
    }
   ],
   "source": [
    "search_out=search_youtube.run(\"Долгая дорога в дюнах\")\n",
    "display(JSON(search_out))"
   ]
  },
  {
   "cell_type": "markdown",
   "metadata": {},
   "source": [
    "Appending the `search_youtube` tool to tools list.\n"
   ]
  },
  {
   "cell_type": "code",
   "execution_count": 105,
   "metadata": {},
   "outputs": [],
   "source": [
    "tools.append(search_youtube)"
   ]
  },
  {
   "cell_type": "markdown",
   "metadata": {},
   "source": [
    "### Defining metadata extraction tool\n",
    "\n",
    "Now you'll create a tool that extracts detailed metadata from a YouTube video using the `yt-dlp` library. This tool takes a YouTube URL and returns comprehensive information about the video, including its title, view count, duration, channel name, like count, comment count, and any chapter markers.\n"
   ]
  },
  {
   "cell_type": "code",
   "execution_count": 106,
   "metadata": {},
   "outputs": [],
   "source": [
    "@tool\n",
    "def get_full_metadata(url: str) -> dict:\n",
    "    \"\"\"Extract metadata given a YouTube URL, including title, views, duration, channel, likes, comments, and chapters.\"\"\"\n",
    "    with yt_dlp.YoutubeDL({'quiet': True, 'logger': yt_dpl_logger}) as ydl:\n",
    "        info = ydl.extract_info(url, download=False)\n",
    "        return {\n",
    "            'title': info.get('title'),\n",
    "            'views': info.get('view_count'),\n",
    "            'duration': info.get('duration'),\n",
    "            'channel': info.get('uploader'),\n",
    "            'likes': info.get('like_count'),\n",
    "            'comments': info.get('comment_count'),\n",
    "            'chapters': info.get('chapters', [])\n",
    "        }"
   ]
  },
  {
   "cell_type": "markdown",
   "metadata": {},
   "source": [
    "Now, you'll test your `get_full_metadata` tool by running it on a specific YouTube video URL. This will extract comprehensive information about the video with ID \"qWHaMrR5WHQ\" without downloading the actual video content.\n",
    "\n",
    "**Note: If you find any issues with the given video link below, try any Youtube video link of your choosing.**\n"
   ]
  },
  {
   "cell_type": "code",
   "execution_count": 107,
   "metadata": {},
   "outputs": [
    {
     "data": {
      "application/json": {
       "channel": "lebedyshka12 Li",
       "chapters": null,
       "comments": 129,
       "duration": 4523,
       "likes": 790,
       "title": "Долгая дорога в дюнах. 2 серия (1980). Драма. Золотая коллекция советских фильмов.",
       "views": 123708
      },
      "text/plain": [
       "<IPython.core.display.JSON object>"
      ]
     },
     "metadata": {
      "application/json": {
       "expanded": false,
       "root": "root"
      }
     },
     "output_type": "display_data"
    }
   ],
   "source": [
    "meta_data=get_full_metadata.run(\"https://www.youtube.com/watch?v=KATQHSqaC5M\")\n",
    "display(JSON(meta_data))"
   ]
  },
  {
   "cell_type": "markdown",
   "metadata": {},
   "source": [
    "Adding the `get_full_metadata` tool to your tools list.\n"
   ]
  },
  {
   "cell_type": "code",
   "execution_count": 108,
   "metadata": {},
   "outputs": [],
   "source": [
    "tools.append(get_full_metadata)"
   ]
  },
  {
   "cell_type": "markdown",
   "metadata": {},
   "source": [
    "### Defining thumbnail retrieval tool\n",
    "\n",
    "Now you'll create a tool to extract all available thumbnail images for a YouTube video. This tool uses `yt-dlp` to retrieve information about the various thumbnail images that YouTube generates for videos at different resolutions. For each thumbnail, collect its URL, width, height, and formatted resolution.\n"
   ]
  },
  {
   "cell_type": "code",
   "execution_count": 109,
   "metadata": {},
   "outputs": [],
   "source": [
    "@tool\n",
    "def get_thumbnails(url: str) -> List[Dict]:\n",
    "    \"\"\"\n",
    "    Get available thumbnails for a YouTube video using its URL.\n",
    "    \n",
    "    Args:\n",
    "        url (str): YouTube video URL (any format)\n",
    "        \n",
    "    Returns:\n",
    "        List of dictionaries with thumbnail URLs and resolutions in YouTube's native order\n",
    "    \"\"\"\n",
    "    \n",
    "    try:\n",
    "        with yt_dlp.YoutubeDL({'quiet': True, 'logger': yt_dpl_logger}) as ydl:\n",
    "            info = ydl.extract_info(url, download=False)\n",
    "            \n",
    "            thumbnails = []\n",
    "            for t in info.get('thumbnails', []):\n",
    "                if 'url' in t:\n",
    "                    thumbnails.append({\n",
    "                        \"url\": t['url'],\n",
    "                        \"width\": t.get('width'),\n",
    "                        \"height\": t.get('height'),\n",
    "                        \"resolution\": f\"{t.get('width', '')}x{t.get('height', '')}\".strip('x')\n",
    "                    })\n",
    "            \n",
    "            return thumbnails\n",
    "\n",
    "    except Exception as e:\n",
    "        return [{\"error\": f\"Failed to get thumbnails: {str(e)}\"}]"
   ]
  },
  {
   "cell_type": "markdown",
   "metadata": {},
   "source": [
    "Now, you'll test your `get_thumbnails` tool by running it on a specific YouTube video URL. This will extract information about all available thumbnail images for the video.\n"
   ]
  },
  {
   "cell_type": "code",
   "execution_count": 110,
   "metadata": {},
   "outputs": [
    {
     "data": {
      "application/json": [
       {
        "height": null,
        "resolution": "",
        "url": "https://i.ytimg.com/vi/KATQHSqaC5M/3.jpg",
        "width": null
       },
       {
        "height": null,
        "resolution": "",
        "url": "https://i.ytimg.com/vi_webp/KATQHSqaC5M/3.webp",
        "width": null
       },
       {
        "height": null,
        "resolution": "",
        "url": "https://i.ytimg.com/vi/KATQHSqaC5M/2.jpg",
        "width": null
       },
       {
        "height": null,
        "resolution": "",
        "url": "https://i.ytimg.com/vi_webp/KATQHSqaC5M/2.webp",
        "width": null
       },
       {
        "height": null,
        "resolution": "",
        "url": "https://i.ytimg.com/vi/KATQHSqaC5M/1.jpg",
        "width": null
       },
       {
        "height": null,
        "resolution": "",
        "url": "https://i.ytimg.com/vi_webp/KATQHSqaC5M/1.webp",
        "width": null
       },
       {
        "height": null,
        "resolution": "",
        "url": "https://i.ytimg.com/vi/KATQHSqaC5M/mq3.jpg",
        "width": null
       },
       {
        "height": null,
        "resolution": "",
        "url": "https://i.ytimg.com/vi_webp/KATQHSqaC5M/mq3.webp",
        "width": null
       },
       {
        "height": null,
        "resolution": "",
        "url": "https://i.ytimg.com/vi/KATQHSqaC5M/mq2.jpg",
        "width": null
       },
       {
        "height": null,
        "resolution": "",
        "url": "https://i.ytimg.com/vi_webp/KATQHSqaC5M/mq2.webp",
        "width": null
       },
       {
        "height": null,
        "resolution": "",
        "url": "https://i.ytimg.com/vi/KATQHSqaC5M/mq1.jpg",
        "width": null
       },
       {
        "height": null,
        "resolution": "",
        "url": "https://i.ytimg.com/vi_webp/KATQHSqaC5M/mq1.webp",
        "width": null
       },
       {
        "height": null,
        "resolution": "",
        "url": "https://i.ytimg.com/vi/KATQHSqaC5M/hq3.jpg",
        "width": null
       },
       {
        "height": null,
        "resolution": "",
        "url": "https://i.ytimg.com/vi_webp/KATQHSqaC5M/hq3.webp",
        "width": null
       },
       {
        "height": null,
        "resolution": "",
        "url": "https://i.ytimg.com/vi/KATQHSqaC5M/hq2.jpg",
        "width": null
       },
       {
        "height": null,
        "resolution": "",
        "url": "https://i.ytimg.com/vi_webp/KATQHSqaC5M/hq2.webp",
        "width": null
       },
       {
        "height": null,
        "resolution": "",
        "url": "https://i.ytimg.com/vi/KATQHSqaC5M/hq1.jpg",
        "width": null
       },
       {
        "height": null,
        "resolution": "",
        "url": "https://i.ytimg.com/vi_webp/KATQHSqaC5M/hq1.webp",
        "width": null
       },
       {
        "height": null,
        "resolution": "",
        "url": "https://i.ytimg.com/vi/KATQHSqaC5M/sd3.jpg",
        "width": null
       },
       {
        "height": null,
        "resolution": "",
        "url": "https://i.ytimg.com/vi_webp/KATQHSqaC5M/sd3.webp",
        "width": null
       },
       {
        "height": null,
        "resolution": "",
        "url": "https://i.ytimg.com/vi/KATQHSqaC5M/sd2.jpg",
        "width": null
       },
       {
        "height": null,
        "resolution": "",
        "url": "https://i.ytimg.com/vi_webp/KATQHSqaC5M/sd2.webp",
        "width": null
       },
       {
        "height": null,
        "resolution": "",
        "url": "https://i.ytimg.com/vi/KATQHSqaC5M/sd1.jpg",
        "width": null
       },
       {
        "height": null,
        "resolution": "",
        "url": "https://i.ytimg.com/vi_webp/KATQHSqaC5M/sd1.webp",
        "width": null
       },
       {
        "height": 90,
        "resolution": "120x90",
        "url": "https://i.ytimg.com/vi/KATQHSqaC5M/default.jpg",
        "width": 120
       },
       {
        "height": null,
        "resolution": "",
        "url": "https://i.ytimg.com/vi_webp/KATQHSqaC5M/default.webp",
        "width": null
       },
       {
        "height": 180,
        "resolution": "320x180",
        "url": "https://i.ytimg.com/vi/KATQHSqaC5M/mqdefault.jpg",
        "width": 320
       },
       {
        "height": null,
        "resolution": "",
        "url": "https://i.ytimg.com/vi_webp/KATQHSqaC5M/mqdefault.webp",
        "width": null
       },
       {
        "height": null,
        "resolution": "",
        "url": "https://i.ytimg.com/vi/KATQHSqaC5M/0.jpg",
        "width": null
       },
       {
        "height": null,
        "resolution": "",
        "url": "https://i.ytimg.com/vi_webp/KATQHSqaC5M/0.webp",
        "width": null
       },
       {
        "height": 94,
        "resolution": "168x94",
        "url": "https://i.ytimg.com/vi/KATQHSqaC5M/hqdefault.jpg?sqp=-oaymwEbCKgBEF5IVfKriqkDDggBFQAAiEIYAXABwAEG&rs=AOn4CLAWLtNIV_CsjY_bf7mOspPOa0Mn_Q",
        "width": 168
       },
       {
        "height": 110,
        "resolution": "196x110",
        "url": "https://i.ytimg.com/vi/KATQHSqaC5M/hqdefault.jpg?sqp=-oaymwEbCMQBEG5IVfKriqkDDggBFQAAiEIYAXABwAEG&rs=AOn4CLDOsZuK-yLHMxp_66tcqB69rIywhA",
        "width": 196
       },
       {
        "height": 138,
        "resolution": "246x138",
        "url": "https://i.ytimg.com/vi/KATQHSqaC5M/hqdefault.jpg?sqp=-oaymwEcCPYBEIoBSFXyq4qpAw4IARUAAIhCGAFwAcABBg==&rs=AOn4CLCfTbpGXFRNLg0XZFdA4b1zvPkhJQ",
        "width": 246
       },
       {
        "height": 188,
        "resolution": "336x188",
        "url": "https://i.ytimg.com/vi/KATQHSqaC5M/hqdefault.jpg?sqp=-oaymwEcCNACELwBSFXyq4qpAw4IARUAAIhCGAFwAcABBg==&rs=AOn4CLB0mWloxlvdNwBBGEZbEOM_J27-yQ",
        "width": 336
       },
       {
        "height": 250,
        "resolution": "444x250",
        "url": "https://i.ytimg.com/vi/KATQHSqaC5M/hqdefault.jpg?sqp=-oaymwEXCLwDEPoBSFryq4qpAwkIARUAAIhCGAE=&rs=AOn4CLBqB6Ize4SJLc73xNy5st1qrMlz0A",
        "width": 444
       },
       {
        "height": 360,
        "resolution": "480x360",
        "url": "https://i.ytimg.com/vi/KATQHSqaC5M/hqdefault.jpg",
        "width": 480
       },
       {
        "height": null,
        "resolution": "",
        "url": "https://i.ytimg.com/vi_webp/KATQHSqaC5M/hqdefault.webp",
        "width": null
       },
       {
        "height": null,
        "resolution": "",
        "url": "https://i.ytimg.com/vi/KATQHSqaC5M/sddefault.jpg",
        "width": null
       },
       {
        "height": null,
        "resolution": "",
        "url": "https://i.ytimg.com/vi_webp/KATQHSqaC5M/sddefault.webp",
        "width": null
       },
       {
        "height": null,
        "resolution": "",
        "url": "https://i.ytimg.com/vi/KATQHSqaC5M/hq720.jpg",
        "width": null
       },
       {
        "height": null,
        "resolution": "",
        "url": "https://i.ytimg.com/vi_webp/KATQHSqaC5M/hq720.webp",
        "width": null
       },
       {
        "height": null,
        "resolution": "",
        "url": "https://i.ytimg.com/vi/KATQHSqaC5M/maxresdefault.jpg",
        "width": null
       },
       {
        "height": null,
        "resolution": "",
        "url": "https://i.ytimg.com/vi_webp/KATQHSqaC5M/maxresdefault.webp",
        "width": null
       }
      ],
      "text/plain": [
       "<IPython.core.display.JSON object>"
      ]
     },
     "metadata": {
      "application/json": {
       "expanded": false,
       "root": "root"
      }
     },
     "output_type": "display_data"
    }
   ],
   "source": [
    "thumbnails=get_thumbnails.run(\"https://www.youtube.com/watch?v=KATQHSqaC5M\")\n",
    "\n",
    "display(JSON(thumbnails))"
   ]
  },
  {
   "cell_type": "markdown",
   "metadata": {},
   "source": [
    "Now, let's add the `get_thumbnails` tool to your tools list.\n"
   ]
  },
  {
   "cell_type": "code",
   "execution_count": 111,
   "metadata": {},
   "outputs": [],
   "source": [
    "tools.append(get_thumbnails)"
   ]
  },
  {
   "cell_type": "markdown",
   "metadata": {},
   "source": [
    "##  Binding tools\n"
   ]
  },
  {
   "cell_type": "markdown",
   "metadata": {},
   "source": [
    "\n",
    "\n",
    "Now, you'll bind your collection of tools to the language model. It enables the LLM to access and use your custom YouTube tools during conversations. By binding the tools, you're giving the model the ability to call these functions when it determines they're needed to fulfill a user request, making the LLM aware of your tools' capabilities and how to use them.\n"
   ]
  },
  {
   "cell_type": "code",
   "execution_count": 112,
   "metadata": {},
   "outputs": [],
   "source": [
    "llm_with_tools = llm.bind_tools(tools)"
   ]
  },
  {
   "cell_type": "markdown",
   "metadata": {},
   "source": [
    "The ```bind_tools()``` function passes all this information to the language model. It converts each tool's attributes (name, description, parameters schema) into a standardized format that the LLM can understand and use to determine when and how to call specific tools based on user requests. Similar to the following code where the schema for each tool is stored:\n"
   ]
  },
  {
   "cell_type": "code",
   "execution_count": 113,
   "metadata": {},
   "outputs": [
    {
     "data": {
      "application/json": {
       "description": "Extracts the 11-character YouTube video ID from a URL.\n\nArgs:\n    url (str): A YouTube URL containing a video ID.\n\nReturns:\n    str: Extracted video ID or error message if parsing fails.",
       "name": "extract_video_id",
       "parameters": {
        "description": "Extracts the 11-character YouTube video ID from a URL.\n\nArgs:\n    url (str): A YouTube URL containing a video ID.\n\nReturns:\n    str: Extracted video ID or error message if parsing fails.",
        "properties": {
         "url": {
          "title": "Url",
          "type": "string"
         }
        },
        "required": [
         "url"
        ],
        "title": "extract_video_id",
        "type": "object"
       },
       "return": null
      },
      "text/plain": [
       "<IPython.core.display.JSON object>"
      ]
     },
     "metadata": {
      "application/json": {
       "expanded": false,
       "root": "root"
      }
     },
     "output_type": "display_data"
    },
    {
     "data": {
      "application/json": {
       "description": "Fetches the transcript of a YouTube video.\n\nArgs:\n    video_id (str): The YouTube video ID (e.g., \"dQw4w9WgXcQ\").\n    language (str): Language code for the transcript (e.g., \"en\", \"es\").\n\nReturns:\n    str: The transcript text or an error message.",
       "name": "fetch_transcript",
       "parameters": {
        "description": "Fetches the transcript of a YouTube video.\n\nArgs:\n    video_id (str): The YouTube video ID (e.g., \"dQw4w9WgXcQ\").\n    language (str): Language code for the transcript (e.g., \"en\", \"es\").\n\nReturns:\n    str: The transcript text or an error message.",
        "properties": {
         "language": {
          "default": "en",
          "title": "Language",
          "type": "string"
         },
         "video_id": {
          "title": "Video Id",
          "type": "string"
         }
        },
        "required": [
         "video_id"
        ],
        "title": "fetch_transcript",
        "type": "object"
       },
       "return": null
      },
      "text/plain": [
       "<IPython.core.display.JSON object>"
      ]
     },
     "metadata": {
      "application/json": {
       "expanded": false,
       "root": "root"
      }
     },
     "output_type": "display_data"
    },
    {
     "data": {
      "application/json": {
       "description": "Search YouTube for videos matching the query.\n\nArgs:\n    query (str): The search term to look for on YouTube\n\nReturns:\n    List of dictionaries containing video titles and IDs in format:\n    [{'title': 'Video Title', 'video_id': 'abc123'}, ...]\n    Returns error message if search fails",
       "name": "search_youtube",
       "parameters": {
        "description": "Search YouTube for videos matching the query.\n\nArgs:\n    query (str): The search term to look for on YouTube\n\nReturns:\n    List of dictionaries containing video titles and IDs in format:\n    [{'title': 'Video Title', 'video_id': 'abc123'}, ...]\n    Returns error message if search fails",
        "properties": {
         "query": {
          "title": "Query",
          "type": "string"
         }
        },
        "required": [
         "query"
        ],
        "title": "search_youtube",
        "type": "object"
       },
       "return": null
      },
      "text/plain": [
       "<IPython.core.display.JSON object>"
      ]
     },
     "metadata": {
      "application/json": {
       "expanded": false,
       "root": "root"
      }
     },
     "output_type": "display_data"
    },
    {
     "data": {
      "application/json": {
       "description": "Extract metadata given a YouTube URL, including title, views, duration, channel, likes, comments, and chapters.",
       "name": "get_full_metadata",
       "parameters": {
        "description": "Extract metadata given a YouTube URL, including title, views, duration, channel, likes, comments, and chapters.",
        "properties": {
         "url": {
          "title": "Url",
          "type": "string"
         }
        },
        "required": [
         "url"
        ],
        "title": "get_full_metadata",
        "type": "object"
       },
       "return": null
      },
      "text/plain": [
       "<IPython.core.display.JSON object>"
      ]
     },
     "metadata": {
      "application/json": {
       "expanded": false,
       "root": "root"
      }
     },
     "output_type": "display_data"
    },
    {
     "data": {
      "application/json": {
       "description": "Get available thumbnails for a YouTube video using its URL.\n\nArgs:\n    url (str): YouTube video URL (any format)\n\nReturns:\n    List of dictionaries with thumbnail URLs and resolutions in YouTube's native order",
       "name": "get_thumbnails",
       "parameters": {
        "description": "Get available thumbnails for a YouTube video using its URL.\n\nArgs:\n    url (str): YouTube video URL (any format)\n\nReturns:\n    List of dictionaries with thumbnail URLs and resolutions in YouTube's native order",
        "properties": {
         "url": {
          "title": "Url",
          "type": "string"
         }
        },
        "required": [
         "url"
        ],
        "title": "get_thumbnails",
        "type": "object"
       },
       "return": null
      },
      "text/plain": [
       "<IPython.core.display.JSON object>"
      ]
     },
     "metadata": {
      "application/json": {
       "expanded": false,
       "root": "root"
      }
     },
     "output_type": "display_data"
    }
   ],
   "source": [
    "for tool in tools:\n",
    "    schema = {\n",
    "   \"name\": tool.name,\n",
    "   \"description\": tool.description,\n",
    "   \"parameters\": tool.args_schema.schema() if tool.args_schema else {},\n",
    "   \"return\": tool.return_type if hasattr(tool, \"return_type\") else None}\n",
    "    display(JSON(schema))\n",
    "    "
   ]
  },
  {
   "cell_type": "markdown",
   "metadata": {},
   "source": [
    "### How the LLM calls a tool\n",
    "\n",
    "Now, define a sample user query that asks for a summary of a specific YouTube video. This query will be used to demonstrate how your LLM can understand a natural language request and use the appropriate tools you've provided to fulfill it.\n"
   ]
  },
  {
   "cell_type": "code",
   "execution_count": 114,
   "metadata": {},
   "outputs": [
    {
     "name": "stdout",
     "output_type": "stream",
     "text": [
      "I want to summarize youtube video: https://www.youtube.com/watch?v=wpqHne-9MC0 in russian\n"
     ]
    }
   ],
   "source": [
    "query = \"I want to summarize youtube video: https://www.youtube.com/watch?v=wpqHne-9MC0 in russian\"\n",
    "print(query)"
   ]
  },
  {
   "cell_type": "markdown",
   "metadata": {},
   "source": [
    "Repeating a message object to represent your user query. You'll be wrapping the query string in a HumanMessage object, which is the standard way to format user inputs in LangChain. It represents a human message as a person is expected to initiate the interaction.\n"
   ]
  },
  {
   "cell_type": "code",
   "execution_count": 115,
   "metadata": {},
   "outputs": [
    {
     "name": "stdout",
     "output_type": "stream",
     "text": [
      "[HumanMessage(content='I want to summarize youtube video: https://www.youtube.com/watch?v=wpqHne-9MC0 in russian', additional_kwargs={}, response_metadata={})]\n"
     ]
    },
    {
     "data": {
      "application/json": [
       [
        [
         "content",
         "I want to summarize youtube video: https://www.youtube.com/watch?v=wpqHne-9MC0 in russian"
        ],
        [
         "additional_kwargs",
         {}
        ],
        [
         "response_metadata",
         {}
        ],
        [
         "type",
         "human"
        ],
        [
         "name",
         null
        ],
        [
         "id",
         null
        ],
        [
         "example",
         false
        ]
       ]
      ],
      "text/plain": [
       "<IPython.core.display.JSON object>"
      ]
     },
     "metadata": {
      "application/json": {
       "expanded": false,
       "root": "root"
      }
     },
     "output_type": "display_data"
    }
   ],
   "source": [
    "messages = [HumanMessage(content = query)]\n",
    "print(messages)\n",
    "display(JSON(messages))"
   ]
  },
  {
   "cell_type": "markdown",
   "metadata": {},
   "source": [
    "### LangChain tool binding process\n",
    "\n",
    "This step involves sending your message to the LLM and storing its response. Here you'll invoke the language model with your user query about summarizing a YouTube video. The response will contain both text content and potentially tool calls that the model decides to make. ``response_1`` contains the LLM's response to the user message, including any tool calls it decides to make. The response object contains the content of the LLM's reply plus structured information about which tools it wants to call and with what parameters.\n"
   ]
  },
  {
   "cell_type": "code",
   "execution_count": 116,
   "metadata": {},
   "outputs": [
    {
     "data": {
      "application/json": [
       [
        [
         "content",
         ""
        ],
        [
         "additional_kwargs",
         {
          "refusal": null,
          "tool_calls": [
           {
            "function": {
             "arguments": "{\"url\":\"https://www.youtube.com/watch?v=wpqHne-9MC0\"}",
             "name": "extract_video_id"
            },
            "id": "call_gmT2pgqLY2ImUX6MAuMEd7n9",
            "type": "function"
           }
          ]
         }
        ],
        [
         "response_metadata",
         {
          "finish_reason": "tool_calls",
          "id": "chatcmpl-CGxCY47pvdqsaSTfSBG8qO7aYVrnp",
          "logprobs": null,
          "model_name": "gpt-4o-mini-2024-07-18",
          "system_fingerprint": "fp_560af6e559",
          "token_usage": {
           "completion_tokens": 30,
           "completion_tokens_details": {
            "accepted_prediction_tokens": 0,
            "audio_tokens": 0,
            "reasoning_tokens": 0,
            "rejected_prediction_tokens": 0
           },
           "prompt_tokens": 381,
           "prompt_tokens_details": {
            "audio_tokens": 0,
            "cached_tokens": 0
           },
           "total_tokens": 411
          }
         }
        ],
        [
         "type",
         "ai"
        ],
        [
         "name",
         null
        ],
        [
         "id",
         "run--1fb79b66-9f0d-4791-ad9d-189e557c1270-0"
        ],
        [
         "example",
         false
        ],
        [
         "tool_calls",
         [
          {
           "args": {
            "url": "https://www.youtube.com/watch?v=wpqHne-9MC0"
           },
           "id": "call_gmT2pgqLY2ImUX6MAuMEd7n9",
           "name": "extract_video_id",
           "type": "tool_call"
          }
         ]
        ],
        [
         "invalid_tool_calls",
         []
        ],
        [
         "usage_metadata",
         {
          "input_token_details": {
           "audio": 0,
           "cache_read": 0
          },
          "input_tokens": 381,
          "output_token_details": {
           "audio": 0,
           "reasoning": 0
          },
          "output_tokens": 30,
          "total_tokens": 411
         }
        ]
       ]
      ],
      "text/plain": [
       "<IPython.core.display.JSON object>"
      ]
     },
     "metadata": {
      "application/json": {
       "expanded": false,
       "root": "root"
      }
     },
     "output_type": "display_data"
    },
    {
     "name": "stdout",
     "output_type": "stream",
     "text": [
      "content='' additional_kwargs={'tool_calls': [{'id': 'call_gmT2pgqLY2ImUX6MAuMEd7n9', 'function': {'arguments': '{\"url\":\"https://www.youtube.com/watch?v=wpqHne-9MC0\"}', 'name': 'extract_video_id'}, 'type': 'function'}], 'refusal': None} response_metadata={'token_usage': {'completion_tokens': 30, 'prompt_tokens': 381, 'total_tokens': 411, 'completion_tokens_details': {'accepted_prediction_tokens': 0, 'audio_tokens': 0, 'reasoning_tokens': 0, 'rejected_prediction_tokens': 0}, 'prompt_tokens_details': {'audio_tokens': 0, 'cached_tokens': 0}}, 'model_name': 'gpt-4o-mini-2024-07-18', 'system_fingerprint': 'fp_560af6e559', 'id': 'chatcmpl-CGxCY47pvdqsaSTfSBG8qO7aYVrnp', 'finish_reason': 'tool_calls', 'logprobs': None} id='run--1fb79b66-9f0d-4791-ad9d-189e557c1270-0' tool_calls=[{'name': 'extract_video_id', 'args': {'url': 'https://www.youtube.com/watch?v=wpqHne-9MC0'}, 'id': 'call_gmT2pgqLY2ImUX6MAuMEd7n9', 'type': 'tool_call'}] usage_metadata={'input_tokens': 381, 'output_tokens': 30, 'total_tokens': 411, 'input_token_details': {'audio': 0, 'cache_read': 0}, 'output_token_details': {'audio': 0, 'reasoning': 0}}\n"
     ]
    }
   ],
   "source": [
    "response_1 = llm_with_tools.invoke(messages)\n",
    "\n",
    "display(JSON([response_1]))\n",
    "\n",
    "print(response_1)"
   ]
  },
  {
   "cell_type": "markdown",
   "metadata": {},
   "source": [
    "Adding the LLM's response to your conversation history. After receiving the response from the language model (which contains the tool call to extract the video ID), append it to your messages list to maintain the conversation context. This builds up the chat history that will be used for subsequent interactions with the model.\n",
    "\n"
   ]
  },
  {
   "cell_type": "code",
   "execution_count": 117,
   "metadata": {},
   "outputs": [
    {
     "name": "stdout",
     "output_type": "stream",
     "text": [
      "[HumanMessage(content='I want to summarize youtube video: https://www.youtube.com/watch?v=wpqHne-9MC0 in russian', additional_kwargs={}, response_metadata={}), AIMessage(content='', additional_kwargs={'tool_calls': [{'id': 'call_gmT2pgqLY2ImUX6MAuMEd7n9', 'function': {'arguments': '{\"url\":\"https://www.youtube.com/watch?v=wpqHne-9MC0\"}', 'name': 'extract_video_id'}, 'type': 'function'}], 'refusal': None}, response_metadata={'token_usage': {'completion_tokens': 30, 'prompt_tokens': 381, 'total_tokens': 411, 'completion_tokens_details': {'accepted_prediction_tokens': 0, 'audio_tokens': 0, 'reasoning_tokens': 0, 'rejected_prediction_tokens': 0}, 'prompt_tokens_details': {'audio_tokens': 0, 'cached_tokens': 0}}, 'model_name': 'gpt-4o-mini-2024-07-18', 'system_fingerprint': 'fp_560af6e559', 'id': 'chatcmpl-CGxCY47pvdqsaSTfSBG8qO7aYVrnp', 'finish_reason': 'tool_calls', 'logprobs': None}, id='run--1fb79b66-9f0d-4791-ad9d-189e557c1270-0', tool_calls=[{'name': 'extract_video_id', 'args': {'url': 'https://www.youtube.com/watch?v=wpqHne-9MC0'}, 'id': 'call_gmT2pgqLY2ImUX6MAuMEd7n9', 'type': 'tool_call'}], usage_metadata={'input_tokens': 381, 'output_tokens': 30, 'total_tokens': 411, 'input_token_details': {'audio': 0, 'cache_read': 0}, 'output_token_details': {'audio': 0, 'reasoning': 0}})]\n"
     ]
    },
    {
     "data": {
      "application/json": [
       [
        [
         "content",
         "I want to summarize youtube video: https://www.youtube.com/watch?v=wpqHne-9MC0 in russian"
        ],
        [
         "additional_kwargs",
         {}
        ],
        [
         "response_metadata",
         {}
        ],
        [
         "type",
         "human"
        ],
        [
         "name",
         null
        ],
        [
         "id",
         null
        ],
        [
         "example",
         false
        ]
       ],
       [
        [
         "content",
         ""
        ],
        [
         "additional_kwargs",
         {
          "refusal": null,
          "tool_calls": [
           {
            "function": {
             "arguments": "{\"url\":\"https://www.youtube.com/watch?v=wpqHne-9MC0\"}",
             "name": "extract_video_id"
            },
            "id": "call_gmT2pgqLY2ImUX6MAuMEd7n9",
            "type": "function"
           }
          ]
         }
        ],
        [
         "response_metadata",
         {
          "finish_reason": "tool_calls",
          "id": "chatcmpl-CGxCY47pvdqsaSTfSBG8qO7aYVrnp",
          "logprobs": null,
          "model_name": "gpt-4o-mini-2024-07-18",
          "system_fingerprint": "fp_560af6e559",
          "token_usage": {
           "completion_tokens": 30,
           "completion_tokens_details": {
            "accepted_prediction_tokens": 0,
            "audio_tokens": 0,
            "reasoning_tokens": 0,
            "rejected_prediction_tokens": 0
           },
           "prompt_tokens": 381,
           "prompt_tokens_details": {
            "audio_tokens": 0,
            "cached_tokens": 0
           },
           "total_tokens": 411
          }
         }
        ],
        [
         "type",
         "ai"
        ],
        [
         "name",
         null
        ],
        [
         "id",
         "run--1fb79b66-9f0d-4791-ad9d-189e557c1270-0"
        ],
        [
         "example",
         false
        ],
        [
         "tool_calls",
         [
          {
           "args": {
            "url": "https://www.youtube.com/watch?v=wpqHne-9MC0"
           },
           "id": "call_gmT2pgqLY2ImUX6MAuMEd7n9",
           "name": "extract_video_id",
           "type": "tool_call"
          }
         ]
        ],
        [
         "invalid_tool_calls",
         []
        ],
        [
         "usage_metadata",
         {
          "input_token_details": {
           "audio": 0,
           "cache_read": 0
          },
          "input_tokens": 381,
          "output_token_details": {
           "audio": 0,
           "reasoning": 0
          },
          "output_tokens": 30,
          "total_tokens": 411
         }
        ]
       ]
      ],
      "text/plain": [
       "<IPython.core.display.JSON object>"
      ]
     },
     "metadata": {
      "application/json": {
       "expanded": false,
       "root": "root"
      }
     },
     "output_type": "display_data"
    }
   ],
   "source": [
    "messages.append(response_1)\n",
    "print(messages)\n",
    "display(JSON(messages))"
   ]
  },
  {
   "cell_type": "markdown",
   "metadata": {},
   "source": [
    "### Extracting tool call information\n",
    "After receiving the LLM's response, you need to extract the structured tool call information. The line tool_calls_1 = response_1.tool_calls gets the tool call objects that contain which tool the LLM has decided to use and what parameters to pass to it. This information will be used to execute the appropriate tool with the correct inputs.\n",
    "\n",
    "#### Creating a tool mapping dictionary\n",
    "\n",
    "Now you'll create a dictionary that maps tool names to their corresponding function objects. This mapping will be useful later when you need to programmatically invoke specific tools based on their names. It allows you to easily look up and execute a tool function when you have only the tool name as a string, which will be important when processing tool calls from the language model.\n"
   ]
  },
  {
   "cell_type": "code",
   "execution_count": 118,
   "metadata": {},
   "outputs": [],
   "source": [
    "tool_mapping = {\n",
    "    \"get_thumbnails\" : get_thumbnails,\n",
    "    \"extract_video_id\": extract_video_id,\n",
    "    \"fetch_transcript\": fetch_transcript,\n",
    "    \"search_youtube\": search_youtube,\n",
    "    \"get_full_metadata\": get_full_metadata\n",
    "}"
   ]
  },
  {
   "cell_type": "markdown",
   "metadata": {},
   "source": [
    "Extracting the tool calls from the language model's response. When the LLM determines it needs to use one of your tools, it includes structured \"tool_calls\" in its response. Here, you're accessing those tool calls to see which tools the model decided to use in order to fulfill the request about summarizing the YouTube video.\n"
   ]
  },
  {
   "cell_type": "code",
   "execution_count": 119,
   "metadata": {},
   "outputs": [
    {
     "data": {
      "application/json": [
       {
        "args": {
         "url": "https://www.youtube.com/watch?v=wpqHne-9MC0"
        },
        "id": "call_gmT2pgqLY2ImUX6MAuMEd7n9",
        "name": "extract_video_id",
        "type": "tool_call"
       }
      ],
      "text/plain": [
       "<IPython.core.display.JSON object>"
      ]
     },
     "metadata": {
      "application/json": {
       "expanded": false,
       "root": "root"
      }
     },
     "output_type": "display_data"
    }
   ],
   "source": [
    "tool_calls_1 = response_1.tool_calls\n",
    "display(JSON(tool_calls_1))"
   ]
  },
  {
   "cell_type": "markdown",
   "metadata": {},
   "source": [
    "Here you're seeing the structure of the tool call that the LLM decided to make. The tool call is formatted as a dictionary with the following key components:\n",
    "\n",
    "1. `name`: 'extract_video_id' - This identifies which tool the LLM wants to use first (the video ID extraction tool)\n",
    "2. `args`: Contains the arguments to pass to the tool - in this case, the YouTube URL from your query\n",
    "3. `id`: A unique identifier for this specific tool call, which helps track the request/response pair\n",
    "4. `type`: Indicates this is a tool call rather than other types of AI responses\n",
    "\n",
    "This shows that the LLM correctly understood it needs to first extract the video ID from the URL before it can proceed with summarizing the video content.\n"
   ]
  },
  {
   "cell_type": "markdown",
   "metadata": {},
   "source": [
    "Accessing the name of the first tool that the LLM decided to use. Here you're extracting just the name component `('extract_video_id')` from the first tool call in the list.\n"
   ]
  },
  {
   "cell_type": "code",
   "execution_count": 120,
   "metadata": {},
   "outputs": [
    {
     "name": "stdout",
     "output_type": "stream",
     "text": [
      "extract_video_id\n"
     ]
    }
   ],
   "source": [
    "tool_name=tool_calls_1[0]['name']\n",
    "print(tool_name)"
   ]
  },
  {
   "cell_type": "markdown",
   "metadata": {},
   "source": [
    "You need a tool ID to help the LLM know where the output came from:\n"
   ]
  },
  {
   "cell_type": "code",
   "execution_count": 121,
   "metadata": {},
   "outputs": [
    {
     "name": "stdout",
     "output_type": "stream",
     "text": [
      "call_gmT2pgqLY2ImUX6MAuMEd7n9\n"
     ]
    }
   ],
   "source": [
    "tool_call_id =tool_calls_1[0]['id']\n",
    "print(tool_call_id)"
   ]
  },
  {
   "cell_type": "markdown",
   "metadata": {},
   "source": [
    "Accessing the arguments that need to be passed to the chosen tool. Here, you're extracting the arguments component from the first tool call, which contains the YouTube URL that needs to be processed.\n"
   ]
  },
  {
   "cell_type": "code",
   "execution_count": 122,
   "metadata": {},
   "outputs": [
    {
     "name": "stdout",
     "output_type": "stream",
     "text": [
      "{'url': 'https://www.youtube.com/watch?v=wpqHne-9MC0'}\n"
     ]
    }
   ],
   "source": [
    "args=tool_calls_1[0]['args']\n",
    "print(args)"
   ]
  },
  {
   "cell_type": "markdown",
   "metadata": {},
   "source": [
    "Adding the LLM's response to your conversation history. After receiving the response from the language model (which contains the tool call to extract the video ID), you append it to your messages list to maintain the conversation context. This builds up the chat history that will be used for subsequent interactions with the model.\n"
   ]
  },
  {
   "cell_type": "markdown",
   "metadata": {},
   "source": [
    "Executing the tool call that the LLM requested. Here, you're using your tool mapping dictionary to:\n",
    "1. Look up the appropriate function based on the tool name ('extract_video_id')\n",
    "2. Call that function with the arguments provided by the LLM\n",
    "3. Capture the output (the extracted video ID)\n",
    "\n",
    "This shows how you can programmatically execute the tools that the LLM decided to use. First, you get the tool from ```tool_mapping```.\n"
   ]
  },
  {
   "cell_type": "code",
   "execution_count": 123,
   "metadata": {},
   "outputs": [
    {
     "name": "stdout",
     "output_type": "stream",
     "text": [
      "name='extract_video_id' description='Extracts the 11-character YouTube video ID from a URL.\\n\\nArgs:\\n    url (str): A YouTube URL containing a video ID.\\n\\nReturns:\\n    str: Extracted video ID or error message if parsing fails.' args_schema=<class 'langchain_core.utils.pydantic.extract_video_id'> func=<function extract_video_id at 0x768461a1e5c0>\n"
     ]
    }
   ],
   "source": [
    "my_tool=tool_mapping[tool_calls_1[0]['name']]\n",
    "print(my_tool)"
   ]
  },
  {
   "cell_type": "markdown",
   "metadata": {},
   "source": [
    "You'll then call the tool with the arguments:\n"
   ]
  },
  {
   "cell_type": "code",
   "execution_count": 124,
   "metadata": {},
   "outputs": [
    {
     "data": {
      "text/plain": [
       "'wpqHne-9MC0'"
      ]
     },
     "execution_count": 124,
     "metadata": {},
     "output_type": "execute_result"
    }
   ],
   "source": [
    "video_id =my_tool.invoke(tool_calls_1[0]['args'])\n",
    "video_id"
   ]
  },
  {
   "cell_type": "markdown",
   "metadata": {},
   "source": [
    "Adding the tool's output to your conversation history. You'll create a `ToolMessage` that contains:\n",
    "1. The result from executing the tool (the extracted video ID)\n",
    "2. The original tool call ID to link this response back to the specific request\n",
    "\n",
    "By appending this message to your conversation history, you're informing the LLM about the results of the tool execution, which it can use in its next response.\n"
   ]
  },
  {
   "cell_type": "code",
   "execution_count": 125,
   "metadata": {
    "scrolled": true
   },
   "outputs": [
    {
     "data": {
      "application/json": [
       [
        [
         "content",
         "I want to summarize youtube video: https://www.youtube.com/watch?v=wpqHne-9MC0 in russian"
        ],
        [
         "additional_kwargs",
         {}
        ],
        [
         "response_metadata",
         {}
        ],
        [
         "type",
         "human"
        ],
        [
         "name",
         null
        ],
        [
         "id",
         null
        ],
        [
         "example",
         false
        ]
       ],
       [
        [
         "content",
         ""
        ],
        [
         "additional_kwargs",
         {
          "refusal": null,
          "tool_calls": [
           {
            "function": {
             "arguments": "{\"url\":\"https://www.youtube.com/watch?v=wpqHne-9MC0\"}",
             "name": "extract_video_id"
            },
            "id": "call_gmT2pgqLY2ImUX6MAuMEd7n9",
            "type": "function"
           }
          ]
         }
        ],
        [
         "response_metadata",
         {
          "finish_reason": "tool_calls",
          "id": "chatcmpl-CGxCY47pvdqsaSTfSBG8qO7aYVrnp",
          "logprobs": null,
          "model_name": "gpt-4o-mini-2024-07-18",
          "system_fingerprint": "fp_560af6e559",
          "token_usage": {
           "completion_tokens": 30,
           "completion_tokens_details": {
            "accepted_prediction_tokens": 0,
            "audio_tokens": 0,
            "reasoning_tokens": 0,
            "rejected_prediction_tokens": 0
           },
           "prompt_tokens": 381,
           "prompt_tokens_details": {
            "audio_tokens": 0,
            "cached_tokens": 0
           },
           "total_tokens": 411
          }
         }
        ],
        [
         "type",
         "ai"
        ],
        [
         "name",
         null
        ],
        [
         "id",
         "run--1fb79b66-9f0d-4791-ad9d-189e557c1270-0"
        ],
        [
         "example",
         false
        ],
        [
         "tool_calls",
         [
          {
           "args": {
            "url": "https://www.youtube.com/watch?v=wpqHne-9MC0"
           },
           "id": "call_gmT2pgqLY2ImUX6MAuMEd7n9",
           "name": "extract_video_id",
           "type": "tool_call"
          }
         ]
        ],
        [
         "invalid_tool_calls",
         []
        ],
        [
         "usage_metadata",
         {
          "input_token_details": {
           "audio": 0,
           "cache_read": 0
          },
          "input_tokens": 381,
          "output_token_details": {
           "audio": 0,
           "reasoning": 0
          },
          "output_tokens": 30,
          "total_tokens": 411
         }
        ]
       ],
       [
        [
         "content",
         "wpqHne-9MC0"
        ],
        [
         "additional_kwargs",
         {}
        ],
        [
         "response_metadata",
         {}
        ],
        [
         "type",
         "tool"
        ],
        [
         "name",
         null
        ],
        [
         "id",
         null
        ],
        [
         "tool_call_id",
         "call_gmT2pgqLY2ImUX6MAuMEd7n9"
        ],
        [
         "artifact",
         null
        ],
        [
         "status",
         "success"
        ]
       ]
      ],
      "text/plain": [
       "<IPython.core.display.JSON object>"
      ]
     },
     "metadata": {
      "application/json": {
       "expanded": false,
       "root": "root"
      }
     },
     "output_type": "display_data"
    }
   ],
   "source": [
    "messages.append(ToolMessage(content = video_id, tool_call_id = tool_calls_1[0]['id']))\n",
    "display(JSON(messages))"
   ]
  },
  {
   "cell_type": "markdown",
   "metadata": {},
   "source": [
    "Send your updated conversation to the LLM and store its new response. Now that you've informed the model about the extracted video ID, invoke it again to continue the process. The model will see both the original query and the result of the video ID extraction, allowing it to determine the next step needed to summarize the YouTube video.\n"
   ]
  },
  {
   "cell_type": "code",
   "execution_count": 126,
   "metadata": {},
   "outputs": [
    {
     "name": "stdout",
     "output_type": "stream",
     "text": [
      "content='' additional_kwargs={'tool_calls': [{'id': 'call_VofzC3zKYnlKMnFhPhyCwmaX', 'function': {'arguments': '{\"video_id\":\"wpqHne-9MC0\",\"language\":\"ru\"}', 'name': 'fetch_transcript'}, 'type': 'function'}], 'refusal': None} response_metadata={'token_usage': {'completion_tokens': 27, 'prompt_tokens': 428, 'total_tokens': 455, 'completion_tokens_details': {'accepted_prediction_tokens': 0, 'audio_tokens': 0, 'reasoning_tokens': 0, 'rejected_prediction_tokens': 0}, 'prompt_tokens_details': {'audio_tokens': 0, 'cached_tokens': 0}}, 'model_name': 'gpt-4o-mini-2024-07-18', 'system_fingerprint': 'fp_560af6e559', 'id': 'chatcmpl-CGxCuZ3m0cee6WrKHPQhl5FMXYJzV', 'finish_reason': 'tool_calls', 'logprobs': None} id='run--e8e8cbae-abce-43e7-8f27-60c3e668a02c-0' tool_calls=[{'name': 'fetch_transcript', 'args': {'video_id': 'wpqHne-9MC0', 'language': 'ru'}, 'id': 'call_VofzC3zKYnlKMnFhPhyCwmaX', 'type': 'tool_call'}] usage_metadata={'input_tokens': 428, 'output_tokens': 27, 'total_tokens': 455, 'input_token_details': {'audio': 0, 'cache_read': 0}, 'output_token_details': {'audio': 0, 'reasoning': 0}}\n"
     ]
    },
    {
     "data": {
      "application/json": [
       [
        [
         "content",
         ""
        ],
        [
         "additional_kwargs",
         {
          "refusal": null,
          "tool_calls": [
           {
            "function": {
             "arguments": "{\"video_id\":\"wpqHne-9MC0\",\"language\":\"ru\"}",
             "name": "fetch_transcript"
            },
            "id": "call_VofzC3zKYnlKMnFhPhyCwmaX",
            "type": "function"
           }
          ]
         }
        ],
        [
         "response_metadata",
         {
          "finish_reason": "tool_calls",
          "id": "chatcmpl-CGxCuZ3m0cee6WrKHPQhl5FMXYJzV",
          "logprobs": null,
          "model_name": "gpt-4o-mini-2024-07-18",
          "system_fingerprint": "fp_560af6e559",
          "token_usage": {
           "completion_tokens": 27,
           "completion_tokens_details": {
            "accepted_prediction_tokens": 0,
            "audio_tokens": 0,
            "reasoning_tokens": 0,
            "rejected_prediction_tokens": 0
           },
           "prompt_tokens": 428,
           "prompt_tokens_details": {
            "audio_tokens": 0,
            "cached_tokens": 0
           },
           "total_tokens": 455
          }
         }
        ],
        [
         "type",
         "ai"
        ],
        [
         "name",
         null
        ],
        [
         "id",
         "run--e8e8cbae-abce-43e7-8f27-60c3e668a02c-0"
        ],
        [
         "example",
         false
        ],
        [
         "tool_calls",
         [
          {
           "args": {
            "language": "ru",
            "video_id": "wpqHne-9MC0"
           },
           "id": "call_VofzC3zKYnlKMnFhPhyCwmaX",
           "name": "fetch_transcript",
           "type": "tool_call"
          }
         ]
        ],
        [
         "invalid_tool_calls",
         []
        ],
        [
         "usage_metadata",
         {
          "input_token_details": {
           "audio": 0,
           "cache_read": 0
          },
          "input_tokens": 428,
          "output_token_details": {
           "audio": 0,
           "reasoning": 0
          },
          "output_tokens": 27,
          "total_tokens": 455
         }
        ]
       ]
      ],
      "text/plain": [
       "<IPython.core.display.JSON object>"
      ]
     },
     "metadata": {
      "application/json": {
       "expanded": false,
       "root": "root"
      }
     },
     "output_type": "display_data"
    }
   ],
   "source": [
    "response_2 = llm_with_tools.invoke(messages)\n",
    "print(response_2)\n",
    "display(JSON([response_2]))"
   ]
  },
  {
   "cell_type": "markdown",
   "metadata": {},
   "source": [
    "The result is a AI messege! Send your updated conversation to the LLM and store its new response. Now that you've informed the model about the extracted video ID, you'll invoke it again to continue the process. The model will see both the original query and the result of the video ID extraction, allowing it to determine the next step needed to summarize the YouTube video.\n"
   ]
  },
  {
   "cell_type": "code",
   "execution_count": 127,
   "metadata": {},
   "outputs": [
    {
     "data": {
      "application/json": [
       [
        [
         "content",
         "I want to summarize youtube video: https://www.youtube.com/watch?v=wpqHne-9MC0 in russian"
        ],
        [
         "additional_kwargs",
         {}
        ],
        [
         "response_metadata",
         {}
        ],
        [
         "type",
         "human"
        ],
        [
         "name",
         null
        ],
        [
         "id",
         null
        ],
        [
         "example",
         false
        ]
       ],
       [
        [
         "content",
         ""
        ],
        [
         "additional_kwargs",
         {
          "refusal": null,
          "tool_calls": [
           {
            "function": {
             "arguments": "{\"url\":\"https://www.youtube.com/watch?v=wpqHne-9MC0\"}",
             "name": "extract_video_id"
            },
            "id": "call_gmT2pgqLY2ImUX6MAuMEd7n9",
            "type": "function"
           }
          ]
         }
        ],
        [
         "response_metadata",
         {
          "finish_reason": "tool_calls",
          "id": "chatcmpl-CGxCY47pvdqsaSTfSBG8qO7aYVrnp",
          "logprobs": null,
          "model_name": "gpt-4o-mini-2024-07-18",
          "system_fingerprint": "fp_560af6e559",
          "token_usage": {
           "completion_tokens": 30,
           "completion_tokens_details": {
            "accepted_prediction_tokens": 0,
            "audio_tokens": 0,
            "reasoning_tokens": 0,
            "rejected_prediction_tokens": 0
           },
           "prompt_tokens": 381,
           "prompt_tokens_details": {
            "audio_tokens": 0,
            "cached_tokens": 0
           },
           "total_tokens": 411
          }
         }
        ],
        [
         "type",
         "ai"
        ],
        [
         "name",
         null
        ],
        [
         "id",
         "run--1fb79b66-9f0d-4791-ad9d-189e557c1270-0"
        ],
        [
         "example",
         false
        ],
        [
         "tool_calls",
         [
          {
           "args": {
            "url": "https://www.youtube.com/watch?v=wpqHne-9MC0"
           },
           "id": "call_gmT2pgqLY2ImUX6MAuMEd7n9",
           "name": "extract_video_id",
           "type": "tool_call"
          }
         ]
        ],
        [
         "invalid_tool_calls",
         []
        ],
        [
         "usage_metadata",
         {
          "input_token_details": {
           "audio": 0,
           "cache_read": 0
          },
          "input_tokens": 381,
          "output_token_details": {
           "audio": 0,
           "reasoning": 0
          },
          "output_tokens": 30,
          "total_tokens": 411
         }
        ]
       ],
       [
        [
         "content",
         "wpqHne-9MC0"
        ],
        [
         "additional_kwargs",
         {}
        ],
        [
         "response_metadata",
         {}
        ],
        [
         "type",
         "tool"
        ],
        [
         "name",
         null
        ],
        [
         "id",
         null
        ],
        [
         "tool_call_id",
         "call_gmT2pgqLY2ImUX6MAuMEd7n9"
        ],
        [
         "artifact",
         null
        ],
        [
         "status",
         "success"
        ]
       ],
       [
        [
         "content",
         ""
        ],
        [
         "additional_kwargs",
         {
          "refusal": null,
          "tool_calls": [
           {
            "function": {
             "arguments": "{\"video_id\":\"wpqHne-9MC0\",\"language\":\"ru\"}",
             "name": "fetch_transcript"
            },
            "id": "call_VofzC3zKYnlKMnFhPhyCwmaX",
            "type": "function"
           }
          ]
         }
        ],
        [
         "response_metadata",
         {
          "finish_reason": "tool_calls",
          "id": "chatcmpl-CGxCuZ3m0cee6WrKHPQhl5FMXYJzV",
          "logprobs": null,
          "model_name": "gpt-4o-mini-2024-07-18",
          "system_fingerprint": "fp_560af6e559",
          "token_usage": {
           "completion_tokens": 27,
           "completion_tokens_details": {
            "accepted_prediction_tokens": 0,
            "audio_tokens": 0,
            "reasoning_tokens": 0,
            "rejected_prediction_tokens": 0
           },
           "prompt_tokens": 428,
           "prompt_tokens_details": {
            "audio_tokens": 0,
            "cached_tokens": 0
           },
           "total_tokens": 455
          }
         }
        ],
        [
         "type",
         "ai"
        ],
        [
         "name",
         null
        ],
        [
         "id",
         "run--e8e8cbae-abce-43e7-8f27-60c3e668a02c-0"
        ],
        [
         "example",
         false
        ],
        [
         "tool_calls",
         [
          {
           "args": {
            "language": "ru",
            "video_id": "wpqHne-9MC0"
           },
           "id": "call_VofzC3zKYnlKMnFhPhyCwmaX",
           "name": "fetch_transcript",
           "type": "tool_call"
          }
         ]
        ],
        [
         "invalid_tool_calls",
         []
        ],
        [
         "usage_metadata",
         {
          "input_token_details": {
           "audio": 0,
           "cache_read": 0
          },
          "input_tokens": 428,
          "output_token_details": {
           "audio": 0,
           "reasoning": 0
          },
          "output_tokens": 27,
          "total_tokens": 455
         }
        ]
       ]
      ],
      "text/plain": [
       "<IPython.core.display.JSON object>"
      ]
     },
     "metadata": {
      "application/json": {
       "expanded": false,
       "root": "root"
      }
     },
     "output_type": "display_data"
    }
   ],
   "source": [
    "messages.append(response_2)\n",
    "display(JSON(messages))"
   ]
  },
  {
   "cell_type": "markdown",
   "metadata": {},
   "source": [
    "Extracting the tool calls from the language model's second response. After receiving the video ID, the LLM will likely decide to use another tool to help with the summarization task. \n"
   ]
  },
  {
   "cell_type": "code",
   "execution_count": 128,
   "metadata": {},
   "outputs": [
    {
     "data": {
      "text/plain": [
       "[{'name': 'fetch_transcript',\n",
       "  'args': {'video_id': 'wpqHne-9MC0', 'language': 'ru'},\n",
       "  'id': 'call_VofzC3zKYnlKMnFhPhyCwmaX',\n",
       "  'type': 'tool_call'}]"
      ]
     },
     "execution_count": 128,
     "metadata": {},
     "output_type": "execute_result"
    }
   ],
   "source": [
    "tool_calls_2 = response_2.tool_calls\n",
    "tool_calls_2"
   ]
  },
  {
   "cell_type": "markdown",
   "metadata": {},
   "source": [
    "Here, you can see that the LLM has decided to use the `fetch_transcript` tool as its next step. \n",
    "\n",
    "The model is passing two arguments to the transcript fetching tool:\n",
    "1. `video_id`: 'T-D1OfcDW1M' - The ID that was extracted from the original YouTube URL\n",
    "2. `language`: 'en' - Requesting the transcript in English as specified in the user's query\n"
   ]
  },
  {
   "cell_type": "markdown",
   "metadata": {},
   "source": [
    "---\n",
    "Fetching the transcript using the video ID obtained in the previous step. Here, you're executing the second tool that the LLM requested by:\n",
    "1. Looking up the appropriate function `('fetch_transcript')` from your tool mapping\n",
    "2. Invoking it with the video ID and language parameters\n",
    "3. Storing the resulting transcript content\n"
   ]
  },
  {
   "cell_type": "code",
   "execution_count": 129,
   "metadata": {},
   "outputs": [
    {
     "data": {
      "text/plain": [
       "'А, Артур, мы разошлись. Он погиб когда? Во время войны. В каком году? В сорок четвёртом. Прости, ты уверена в этом? Да. И поэтому ты все эти годы живёшь здесь. Я сварю кофе. Нет, спасибо. Мне действительно уже пора. Ты знаешь, такое чувство у меня, будто мы говорим не о себе, а о чужих. Мы были чужими. Да. Может, возьмёшь мой адрес? Так, на всякий случай. Ну зачем? Да. Действительно, зачем был очень рад повидаться. И всё-таки я хочу, чтобы ты была счастлива. Когда-то ещё в сорок шестом году в одной из наших газет я видел фото латышских рыбаков, которых спасли шведы. Я узнал Артура, а потом всё подтвердилось в Ньюр коллегии. Твой Артур жив. [музыка] Вот так. เฮ [музыка] [музыка] Кто здесь? [музыка] Кто тут есть? เฮ [музыка] Мам, смола, слёзы наших сосен. Помнишь, мы с тобой говорили и потом долго думал, почему сосны плачут. Ты тогда был ещё маленьким и не знал, что на свете есть горе и лёзы. Скажи, а сейчас ты счастлива? Да, я счастлива, потому что я опять здесь. И потому что я тебе вернула то, что когда-то отняла. Об остальном не спрашивать мог. เฮ [музыка] [музыка] [аплодисменты] [музыка] [аплодисменты] Yeah.'"
      ]
     },
     "execution_count": 129,
     "metadata": {},
     "output_type": "execute_result"
    }
   ],
   "source": [
    "fetch_transcript_tool_output = tool_mapping[tool_calls_2[0]['name']].invoke(tool_calls_2[0]['args'])\n",
    "fetch_transcript_tool_output"
   ]
  },
  {
   "cell_type": "markdown",
   "metadata": {},
   "source": [
    "---\n",
    "You're adding the transcript content to your conversation history by creating another `ToolMessage` that contains the transcript text and the ID of the tool call that requested it. This gives the LLM access to the actual video content so it can generate a summary.\n"
   ]
  },
  {
   "cell_type": "code",
   "execution_count": 130,
   "metadata": {},
   "outputs": [
    {
     "data": {
      "application/json": [
       [
        [
         "content",
         "I want to summarize youtube video: https://www.youtube.com/watch?v=wpqHne-9MC0 in russian"
        ],
        [
         "additional_kwargs",
         {}
        ],
        [
         "response_metadata",
         {}
        ],
        [
         "type",
         "human"
        ],
        [
         "name",
         null
        ],
        [
         "id",
         null
        ],
        [
         "example",
         false
        ]
       ],
       [
        [
         "content",
         ""
        ],
        [
         "additional_kwargs",
         {
          "refusal": null,
          "tool_calls": [
           {
            "function": {
             "arguments": "{\"url\":\"https://www.youtube.com/watch?v=wpqHne-9MC0\"}",
             "name": "extract_video_id"
            },
            "id": "call_gmT2pgqLY2ImUX6MAuMEd7n9",
            "type": "function"
           }
          ]
         }
        ],
        [
         "response_metadata",
         {
          "finish_reason": "tool_calls",
          "id": "chatcmpl-CGxCY47pvdqsaSTfSBG8qO7aYVrnp",
          "logprobs": null,
          "model_name": "gpt-4o-mini-2024-07-18",
          "system_fingerprint": "fp_560af6e559",
          "token_usage": {
           "completion_tokens": 30,
           "completion_tokens_details": {
            "accepted_prediction_tokens": 0,
            "audio_tokens": 0,
            "reasoning_tokens": 0,
            "rejected_prediction_tokens": 0
           },
           "prompt_tokens": 381,
           "prompt_tokens_details": {
            "audio_tokens": 0,
            "cached_tokens": 0
           },
           "total_tokens": 411
          }
         }
        ],
        [
         "type",
         "ai"
        ],
        [
         "name",
         null
        ],
        [
         "id",
         "run--1fb79b66-9f0d-4791-ad9d-189e557c1270-0"
        ],
        [
         "example",
         false
        ],
        [
         "tool_calls",
         [
          {
           "args": {
            "url": "https://www.youtube.com/watch?v=wpqHne-9MC0"
           },
           "id": "call_gmT2pgqLY2ImUX6MAuMEd7n9",
           "name": "extract_video_id",
           "type": "tool_call"
          }
         ]
        ],
        [
         "invalid_tool_calls",
         []
        ],
        [
         "usage_metadata",
         {
          "input_token_details": {
           "audio": 0,
           "cache_read": 0
          },
          "input_tokens": 381,
          "output_token_details": {
           "audio": 0,
           "reasoning": 0
          },
          "output_tokens": 30,
          "total_tokens": 411
         }
        ]
       ],
       [
        [
         "content",
         "wpqHne-9MC0"
        ],
        [
         "additional_kwargs",
         {}
        ],
        [
         "response_metadata",
         {}
        ],
        [
         "type",
         "tool"
        ],
        [
         "name",
         null
        ],
        [
         "id",
         null
        ],
        [
         "tool_call_id",
         "call_gmT2pgqLY2ImUX6MAuMEd7n9"
        ],
        [
         "artifact",
         null
        ],
        [
         "status",
         "success"
        ]
       ],
       [
        [
         "content",
         ""
        ],
        [
         "additional_kwargs",
         {
          "refusal": null,
          "tool_calls": [
           {
            "function": {
             "arguments": "{\"video_id\":\"wpqHne-9MC0\",\"language\":\"ru\"}",
             "name": "fetch_transcript"
            },
            "id": "call_VofzC3zKYnlKMnFhPhyCwmaX",
            "type": "function"
           }
          ]
         }
        ],
        [
         "response_metadata",
         {
          "finish_reason": "tool_calls",
          "id": "chatcmpl-CGxCuZ3m0cee6WrKHPQhl5FMXYJzV",
          "logprobs": null,
          "model_name": "gpt-4o-mini-2024-07-18",
          "system_fingerprint": "fp_560af6e559",
          "token_usage": {
           "completion_tokens": 27,
           "completion_tokens_details": {
            "accepted_prediction_tokens": 0,
            "audio_tokens": 0,
            "reasoning_tokens": 0,
            "rejected_prediction_tokens": 0
           },
           "prompt_tokens": 428,
           "prompt_tokens_details": {
            "audio_tokens": 0,
            "cached_tokens": 0
           },
           "total_tokens": 455
          }
         }
        ],
        [
         "type",
         "ai"
        ],
        [
         "name",
         null
        ],
        [
         "id",
         "run--e8e8cbae-abce-43e7-8f27-60c3e668a02c-0"
        ],
        [
         "example",
         false
        ],
        [
         "tool_calls",
         [
          {
           "args": {
            "language": "ru",
            "video_id": "wpqHne-9MC0"
           },
           "id": "call_VofzC3zKYnlKMnFhPhyCwmaX",
           "name": "fetch_transcript",
           "type": "tool_call"
          }
         ]
        ],
        [
         "invalid_tool_calls",
         []
        ],
        [
         "usage_metadata",
         {
          "input_token_details": {
           "audio": 0,
           "cache_read": 0
          },
          "input_tokens": 428,
          "output_token_details": {
           "audio": 0,
           "reasoning": 0
          },
          "output_tokens": 27,
          "total_tokens": 455
         }
        ]
       ],
       [
        [
         "content",
         "А, Артур, мы разошлись. Он погиб когда? Во время войны. В каком году? В сорок четвёртом. Прости, ты уверена в этом? Да. И поэтому ты все эти годы живёшь здесь. Я сварю кофе. Нет, спасибо. Мне действительно уже пора. Ты знаешь, такое чувство у меня, будто мы говорим не о себе, а о чужих. Мы были чужими. Да. Может, возьмёшь мой адрес? Так, на всякий случай. Ну зачем? Да. Действительно, зачем был очень рад повидаться. И всё-таки я хочу, чтобы ты была счастлива. Когда-то ещё в сорок шестом году в одной из наших газет я видел фото латышских рыбаков, которых спасли шведы. Я узнал Артура, а потом всё подтвердилось в Ньюр коллегии. Твой Артур жив. [музыка] Вот так. เฮ [музыка] [музыка] Кто здесь? [музыка] Кто тут есть? เฮ [музыка] Мам, смола, слёзы наших сосен. Помнишь, мы с тобой говорили и потом долго думал, почему сосны плачут. Ты тогда был ещё маленьким и не знал, что на свете есть горе и лёзы. Скажи, а сейчас ты счастлива? Да, я счастлива, потому что я опять здесь. И потому что я тебе вернула то, что когда-то отняла. Об остальном не спрашивать мог. เฮ [музыка] [музыка] [аплодисменты] [музыка] [аплодисменты] Yeah."
        ],
        [
         "additional_kwargs",
         {}
        ],
        [
         "response_metadata",
         {}
        ],
        [
         "type",
         "tool"
        ],
        [
         "name",
         null
        ],
        [
         "id",
         null
        ],
        [
         "tool_call_id",
         "call_VofzC3zKYnlKMnFhPhyCwmaX"
        ],
        [
         "artifact",
         null
        ],
        [
         "status",
         "success"
        ]
       ]
      ],
      "text/plain": [
       "<IPython.core.display.JSON object>"
      ]
     },
     "metadata": {
      "application/json": {
       "expanded": false,
       "root": "root"
      }
     },
     "output_type": "display_data"
    }
   ],
   "source": [
    "messages.append(ToolMessage(content = fetch_transcript_tool_output, tool_call_id = tool_calls_2[0]['id']))\n",
    "display(JSON(messages))"
   ]
  },
  {
   "cell_type": "markdown",
   "metadata": {},
   "source": [
    "Generating the final summary by sending your complete conversation history to the LLM. Now that the model has access to both the video ID and the full transcript, you'll invoke it one more time to generate the summary that the user requested.\n"
   ]
  },
  {
   "cell_type": "code",
   "execution_count": 131,
   "metadata": {},
   "outputs": [],
   "source": [
    "summary = llm_with_tools.invoke(messages)"
   ]
  },
  {
   "cell_type": "code",
   "execution_count": 132,
   "metadata": {},
   "outputs": [
    {
     "name": "stdout",
     "output_type": "stream",
     "text": [
      "content='Содержимое видео заключается в беседе между двумя персонажами, обсуждающими потерю и воспоминания. Один из них говорит о своем прошлом и сообщает о погибшем, Артуре, который, как оказывается, жив. Они обсуждают чувства утраты, горечи и воспоминаний о счастье. В разговоре поднимаются темы счастья, горя и связи с прошлым, где звучат ностальгические нотки.\\n\\nОсновные моменты:\\n- Один из персонажей переживает утрату Артура, который погиб во время войны в 1944 году.\\n- Уточняется, что Артур на самом деле жив.\\n- Обсуждаются воспоминания о детстве, горе и счастье.\\n- В конце разговора поднимается вопрос о счастье и возвращении к корням.\\n\\nЕсли вам нужно что-то конкретное или более детальное, дайте знать!' additional_kwargs={'refusal': None} response_metadata={'token_usage': {'completion_tokens': 192, 'prompt_tokens': 831, 'total_tokens': 1023, 'completion_tokens_details': {'accepted_prediction_tokens': 0, 'audio_tokens': 0, 'reasoning_tokens': 0, 'rejected_prediction_tokens': 0}, 'prompt_tokens_details': {'audio_tokens': 0, 'cached_tokens': 0}}, 'model_name': 'gpt-4o-mini-2024-07-18', 'system_fingerprint': 'fp_560af6e559', 'id': 'chatcmpl-CGxDK7avKEdvtp8CdVPF11n8fpmZU', 'finish_reason': 'stop', 'logprobs': None} id='run--1852a497-49fd-4829-89d7-348bc20e1e93-0' usage_metadata={'input_tokens': 831, 'output_tokens': 192, 'total_tokens': 1023, 'input_token_details': {'audio': 0, 'cache_read': 0}, 'output_token_details': {'audio': 0, 'reasoning': 0}}\n"
     ]
    },
    {
     "data": {
      "application/json": [
       [
        [
         "content",
         "Содержимое видео заключается в беседе между двумя персонажами, обсуждающими потерю и воспоминания. Один из них говорит о своем прошлом и сообщает о погибшем, Артуре, который, как оказывается, жив. Они обсуждают чувства утраты, горечи и воспоминаний о счастье. В разговоре поднимаются темы счастья, горя и связи с прошлым, где звучат ностальгические нотки.\n\nОсновные моменты:\n- Один из персонажей переживает утрату Артура, который погиб во время войны в 1944 году.\n- Уточняется, что Артур на самом деле жив.\n- Обсуждаются воспоминания о детстве, горе и счастье.\n- В конце разговора поднимается вопрос о счастье и возвращении к корням.\n\nЕсли вам нужно что-то конкретное или более детальное, дайте знать!"
        ],
        [
         "additional_kwargs",
         {
          "refusal": null
         }
        ],
        [
         "response_metadata",
         {
          "finish_reason": "stop",
          "id": "chatcmpl-CGxDK7avKEdvtp8CdVPF11n8fpmZU",
          "logprobs": null,
          "model_name": "gpt-4o-mini-2024-07-18",
          "system_fingerprint": "fp_560af6e559",
          "token_usage": {
           "completion_tokens": 192,
           "completion_tokens_details": {
            "accepted_prediction_tokens": 0,
            "audio_tokens": 0,
            "reasoning_tokens": 0,
            "rejected_prediction_tokens": 0
           },
           "prompt_tokens": 831,
           "prompt_tokens_details": {
            "audio_tokens": 0,
            "cached_tokens": 0
           },
           "total_tokens": 1023
          }
         }
        ],
        [
         "type",
         "ai"
        ],
        [
         "name",
         null
        ],
        [
         "id",
         "run--1852a497-49fd-4829-89d7-348bc20e1e93-0"
        ],
        [
         "example",
         false
        ],
        [
         "tool_calls",
         []
        ],
        [
         "invalid_tool_calls",
         []
        ],
        [
         "usage_metadata",
         {
          "input_token_details": {
           "audio": 0,
           "cache_read": 0
          },
          "input_tokens": 831,
          "output_token_details": {
           "audio": 0,
           "reasoning": 0
          },
          "output_tokens": 192,
          "total_tokens": 1023
         }
        ]
       ]
      ],
      "text/plain": [
       "<IPython.core.display.JSON object>"
      ]
     },
     "metadata": {
      "application/json": {
       "expanded": false,
       "root": "root"
      }
     },
     "output_type": "display_data"
    }
   ],
   "source": [
    "print(summary)\n",
    "display(JSON([summary]))"
   ]
  },
  {
   "cell_type": "markdown",
   "metadata": {},
   "source": [
    "### Automating the tool calling process\n",
    "\n",
    "You manually saw how you input a text request to your LLM, where the LLM recognized that a tool call was required. Then, you extracted the tool content, formatted the input, made the next tool call, and repeated these steps. While this step-by-step approach helps understand the process, it would be tedious to implement for every application. Now let's automate this entire workflow.\n",
    "\n",
    "#### Extracting tool information from LLM response\n",
    "Create a function to automate tool calling. The input is the tool call object from which you extract the name, and use the tool_mapping dictionary to find the correct function to call. You'll pass the arguments from the tool call to this function and then send the output back as a ToolMessage with the tool_call_id included.\n",
    "The tool_call_id is an essential part of this process as it links each tool response back to the specific tool request made by the language model. This ID ensures the LLM can match responses to its requests, which is crucial when multiple tools are called in sequence or simultaneously. Without this ID, the LLM would have no way to know which response corresponds to which request, making multi-step reasoning impossible.\n"
   ]
  },
  {
   "cell_type": "code",
   "execution_count": 133,
   "metadata": {},
   "outputs": [],
   "source": [
    "# Define the processing steps\n",
    "def execute_tool(tool_call):\n",
    "    \"\"\"Execute single tool call and return ToolMessage\"\"\"\n",
    "    try:\n",
    "        result = tool_mapping[tool_call[\"name\"]].invoke(tool_call[\"args\"])\n",
    "        return ToolMessage(\n",
    "            content=str(result),\n",
    "            tool_call_id=tool_call[\"id\"]\n",
    "        )\n",
    "    except Exception as e:\n",
    "        return ToolMessage(\n",
    "            content=f\"Error: {str(e)}\",\n",
    "            tool_call_id=tool_call[\"id\"]\n",
    "        )\n",
    "\n",
    "        "
   ]
  },
  {
   "cell_type": "markdown",
   "metadata": {},
   "source": [
    "You are now going to chain all your functions or tools together, but before you do so, you need to format the data properly. Not only are you required to store the output of each tool, but you also need to store state information like tool IDs. To do this effectively, you must ensure the output of each tool can be properly passed to the next step in your pipeline. The RunnablePassthrough component allows you to maintain state throughout the chain while adding or transforming data at each step, making it ideal for connecting your various tools into a cohesive workflow.\n",
    "The RunnableLambda, placed at the end of your chain, serves a different purpose - it extracts only the final result you want to present to the user. After all the tool calls and message processing, you have a rich state object with many fields, but the user typically only needs the final answer. The RunnableLambda transforms this complete state into just the information you want to return.\n"
   ]
  },
  {
   "cell_type": "code",
   "execution_count": 134,
   "metadata": {},
   "outputs": [],
   "source": [
    "from langchain_core.runnables import RunnablePassthrough, RunnableLambda\n"
   ]
  },
  {
   "cell_type": "markdown",
   "metadata": {},
   "source": [
    "## Building the summarization chain\n",
    "\n",
    "Now, you'll combine your functions into a complete `summarization_chain` using the pipe operator `|`, which applies functions sequentially (similar to function composition where `f|g(x)` is equivalent to `f(g(x))`).\n",
    "\n",
    "The workflow follows these steps:\n",
    "1. Convert the input prompt to a HumanMessage\n",
    "2. Pass the message to LLM with tools\n",
    "3. Extract tool calls from LLM response\n",
    "4. Update message history with tool results\n",
    "5. Send updated messages back to LLM\n",
    "6. Repeat steps 3-5 as needed\n",
    "7. Finally, extract just the content from the final message using RunnableLambda\n",
    "\n",
    "Each step maintains state using RunnablePassthrough until you reach the final message, at which point you'll apply RunnableLambda to extract only the summary text.\n"
   ]
  },
  {
   "cell_type": "code",
   "execution_count": 135,
   "metadata": {},
   "outputs": [],
   "source": [
    "summarization_chain = (\n",
    "    # Start with initial query\n",
    "    RunnablePassthrough.assign(\n",
    "        messages=lambda x: [HumanMessage(content=x[\"query\"])]\n",
    "    )\n",
    "    # First LLM call (extract video ID)\n",
    "    | RunnablePassthrough.assign(\n",
    "        ai_response=lambda x: llm_with_tools.invoke(x[\"messages\"])\n",
    "    )\n",
    "    # Process first tool call\n",
    "    | RunnablePassthrough.assign(\n",
    "        tool_messages=lambda x: [\n",
    "            execute_tool(tc) for tc in x[\"ai_response\"].tool_calls\n",
    "        ]\n",
    "    )\n",
    "    # Update message history\n",
    "    | RunnablePassthrough.assign(\n",
    "        messages=lambda x: x[\"messages\"] + [x[\"ai_response\"]] + x[\"tool_messages\"]\n",
    "    )\n",
    "    # Second LLM call (fetch transcript)\n",
    "    | RunnablePassthrough.assign(\n",
    "        ai_response2=lambda x: llm_with_tools.invoke(x[\"messages\"])\n",
    "    )\n",
    "    # Process second tool call\n",
    "    | RunnablePassthrough.assign(\n",
    "        tool_messages2=lambda x: [\n",
    "            execute_tool(tc) for tc in x[\"ai_response2\"].tool_calls\n",
    "        ]\n",
    "    )\n",
    "    # Final message update\n",
    "    | RunnablePassthrough.assign(\n",
    "        messages=lambda x: x[\"messages\"] + [x[\"ai_response2\"]] + x[\"tool_messages2\"]\n",
    "    )\n",
    "    # Generate final summary\n",
    "    | RunnablePassthrough.assign(\n",
    "        summary=lambda x: llm_with_tools.invoke(x[\"messages\"]).content\n",
    "    )\n",
    "    # Return just the summary text\n",
    "    | RunnableLambda(lambda x: x[\"summary\"])\n",
    ")\n"
   ]
  },
  {
   "cell_type": "markdown",
   "metadata": {},
   "source": [
    "Here's how you invoke the summarization chain with a YouTube video URL; this passes your query containing a YouTube URL to the chain, which automatically extracts the video ID, fetches the transcript, and generates a summary of the content.\n"
   ]
  },
  {
   "cell_type": "code",
   "execution_count": 137,
   "metadata": {},
   "outputs": [
    {
     "name": "stdout",
     "output_type": "stream",
     "text": [
      "Video Summary:\n",
      " В этом видео происходит диалог двух человек, в котором обсуждаются тяжелые темы потери и воспоминаний. Один из персонажей вспоминает о своем покойном муже Артуре, который погиб во время войны в 1944 году. Через разговор они осознают, что общаются как будто о чужих, хотя когда-то были близки. \n",
      "\n",
      "Один из них предлагает обменяться адресами на случай если им захочется поддерживать связь. Также звучат размышления о чувствах и счастье, когда один из персонажей говорит, что теперь она счастлива, вернувшись в это место и восстановив некоторые утраченные связи. \n",
      "\n",
      "В целом, видео содержит лирические размышления о любви, утрате и счастье, намекая на надежду и возможность восстановления отношений.\n"
     ]
    }
   ],
   "source": [
    "# Usage\n",
    "result = summarization_chain.invoke({\n",
    "    \"query\": \"Summarize this YouTube video: https://www.youtube.com/watch?v=wpqHne-9MC0 in russian\"\n",
    "})\n",
    "\n",
    "print(\"Video Summary:\\n\", result)"
   ]
  },
  {
   "cell_type": "markdown",
   "metadata": {},
   "source": [
    "---\n",
    "Up to this point, you've demonstrated how to manually orchestrate the tool calling process step by step. You first invoked the LLM with the user's query, interpreted its decision to use the `extract_video_id` tool, executed that tool, fed the result back to the LLM, processed its next decision to use the `fetch_transcript` tool, executed that tool, and finally had the LLM generate a summary based on the transcript.\n",
    "\n",
    "Now you'll see how to accomplish the same workflow more efficiently using LangChain's chain functionality, which automates this back-and-forth process of tool selection, execution, and response handling.\n"
   ]
  },
  {
   "cell_type": "markdown",
   "metadata": {},
   "source": [
    "#### Creating the initial message setup\n",
    "\n",
    "Here you're setting up the first step of your chain that will handle the initial user query. The `RunnablePassthrough.assign` creates a component that takes an input dictionary containing a \"query\" and converts it into a list containing a single `HumanMessage` object.\n"
   ]
  },
  {
   "cell_type": "code",
   "execution_count": 141,
   "metadata": {},
   "outputs": [],
   "source": [
    "initial_setup = RunnablePassthrough.assign(\n",
    "    messages=lambda x: [HumanMessage(content=x[\"query\"])]\n",
    ")"
   ]
  },
  {
   "cell_type": "markdown",
   "metadata": {},
   "source": [
    "#### Defining the first LLM interaction\n",
    "\n",
    "Here, you'll create the second step of your chain, which handles the first interaction with the language model. This component takes the formatted messages from the previous step, sends them to your tool-equipped LLM, and captures the response in a field called \"ai_response.\"\n"
   ]
  },
  {
   "cell_type": "code",
   "execution_count": 142,
   "metadata": {},
   "outputs": [],
   "source": [
    "first_llm_call = RunnablePassthrough.assign(\n",
    "    ai_response=lambda x: llm_with_tools.invoke(x[\"messages\"])\n",
    ")"
   ]
  },
  {
   "cell_type": "markdown",
   "metadata": {},
   "source": [
    "#### Processing the first tool call\n",
    "\n",
    "Here, you're defining the processing step that handles the LLM's first tool call. This component:\n",
    "1. Executes each tool call by passing it to your `execute_tool` function, which runs the appropriate tool and returns the result as a `ToolMessage`\n",
    "2. Updates the message history by combining the original messages, the LLM's response, with the tool calls, and the tool results\n",
    "3. Prepares the updated conversation state for the next interaction with the LLM\n"
   ]
  },
  {
   "cell_type": "code",
   "execution_count": 143,
   "metadata": {},
   "outputs": [],
   "source": [
    "first_tool_processing = RunnablePassthrough.assign(\n",
    "    tool_messages=lambda x: [\n",
    "        execute_tool(tc) for tc in x[\"ai_response\"].tool_calls\n",
    "    ]\n",
    ").assign(\n",
    "    messages=lambda x: x[\"messages\"] + [x[\"ai_response\"]] + x[\"tool_messages\"]\n",
    ")"
   ]
  },
  {
   "cell_type": "markdown",
   "metadata": {},
   "source": [
    "#### Defining the second LLM interaction\n",
    "\n",
    "Here, you're creating the next step in your chain that handles the second interaction with the language model. This component takes the updated message history (which now includes the results from the first tool call) and sends it to the LLM again.\n"
   ]
  },
  {
   "cell_type": "code",
   "execution_count": 144,
   "metadata": {},
   "outputs": [],
   "source": [
    "second_llm_call = RunnablePassthrough.assign(\n",
    "    ai_response2=lambda x: llm_with_tools.invoke(x[\"messages\"])\n",
    ")"
   ]
  },
  {
   "cell_type": "markdown",
   "metadata": {},
   "source": [
    "#### Processing the second tool call\n",
    "\n",
    "Here, you're defining the processing step that handles the LLM's second tool call. Similar to the first tool processing step, this component executes the tool calls (typically fetching the transcript), creates tool messages with the results, and updates the message history by combining everything for the final summarization step.\n"
   ]
  },
  {
   "cell_type": "code",
   "execution_count": 145,
   "metadata": {},
   "outputs": [],
   "source": [
    "second_tool_processing = RunnablePassthrough.assign(\n",
    "    tool_messages2=lambda x: [\n",
    "        execute_tool(tc) for tc in x[\"ai_response2\"].tool_calls\n",
    "    ]\n",
    ").assign(\n",
    "    messages=lambda x: x[\"messages\"] + [x[\"ai_response2\"]] + x[\"tool_messages2\"]\n",
    ")"
   ]
  },
  {
   "cell_type": "markdown",
   "metadata": {},
   "source": [
    "#### Generating the final summary\n",
    "\n",
    "Here, you're defining the final step that produces the summary of the YouTube video. This component:\n",
    "1. Takes the complete message history (which now contains the original query, tool calls, and tool results)\n",
    "2. Invokes the LLM one last time to generate a summary\n",
    "3. Extracts just the content field from the LLM's response\n",
    "4. Uses a RunnableLambda to return only the summary text as the final output\n"
   ]
  },
  {
   "cell_type": "code",
   "execution_count": 146,
   "metadata": {},
   "outputs": [],
   "source": [
    "final_summary = RunnablePassthrough.assign(\n",
    "    summary=lambda x: llm_with_tools.invoke(x[\"messages\"]).content\n",
    ") | RunnableLambda(lambda x: x[\"summary\"])"
   ]
  },
  {
   "cell_type": "markdown",
   "metadata": {},
   "source": [
    "#### Assembling the complete chain\n",
    "\n",
    "Now, you're combining all the individual components you've defined into a single cohesive chain. By piping each step to the next, you'll create a workflow that:\n",
    "1. Formats the initial query\n",
    "2. Gets the first LLM response (video ID extraction)\n",
    "3. Processes the first tool call\n",
    "4. Gets the second LLM response (transcript request)\n",
    "5. Processes the second tool call\n",
    "6. Generates the final summary\n"
   ]
  },
  {
   "cell_type": "code",
   "execution_count": 147,
   "metadata": {},
   "outputs": [],
   "source": [
    "chain = (\n",
    "    initial_setup\n",
    "    | first_llm_call\n",
    "    | first_tool_processing\n",
    "    | second_llm_call\n",
    "    | second_tool_processing\n",
    "    | final_summary\n",
    ")"
   ]
  },
  {
   "cell_type": "markdown",
   "metadata": {},
   "source": [
    "Now, you're testing your automated chain with the original video summarization query you handled manually before. By passing in the same query to your chain, you can confirm that it produces the same results but in a much more streamlined manner.\n"
   ]
  },
  {
   "cell_type": "code",
   "execution_count": 149,
   "metadata": {},
   "outputs": [
    {
     "name": "stdout",
     "output_type": "stream",
     "text": [
      "Video Summary:\n",
      " Вот краткий пересказ видео:\n",
      "\n",
      "В диалоге между двумя персонажами обсуждаются потери и чувства, связанные с прошлым. Один из них говорит о трагической смерти Артура во время войны в 1944 году. Другой персонаж делится своим восприятием произошедшего, вспоминая, как когда-то издалека увидел фотографию латышских рыбаков, и в конечном итоге узнал, что Артур жив. Обсуждаются темы счастья и сожаления, а также воспоминания о детских впечатлениях и горе, связанном с прожитыми событиями. \n",
      "\n",
      "Если вам нужна более подробная информация или анализ, дайте знать!\n"
     ]
    }
   ],
   "source": [
    "query = {\"query\": \"I want to summarize youtube video: https://www.youtube.com/watch?v=wpqHne-9MC0 in russian\"}\n",
    "result = chain.invoke(query)\n",
    "print(\"Video Summary:\\n\", result)"
   ]
  },
  {
   "cell_type": "markdown",
   "metadata": {},
   "source": [
    "#### Testing the Chain with a Different Query\n",
    "\n",
    "Here, you're testing your completed chain with a new query to demonstrate its flexibility. Instead of requesting a video summary, you're asking for information about trending videos in India. You'll create a dictionary with the query and invoke your chain, which will handle all the necessary tool calls automatically.\n"
   ]
  },
  {
   "cell_type": "code",
   "execution_count": 157,
   "metadata": {},
   "outputs": [
    {
     "name": "stdout",
     "output_type": "stream",
     "text": [
      "Video Summary:\n",
      " Here are the top 3 YouTube videos in the UK along with their summaries:\n",
      "\n",
      "1. **[BEST OF THE MONTH (AUGUST 2025) | UK Car Crashes Compilation | Idiots In Cars | Part 1](https://youtu.be/PJonTi1MJgo)**\n",
      "   - **Channel:** Ruby Dashcam Academy\n",
      "   - **Views:** 14,502\n",
      "   - **Duration:** 31 minutes 59 seconds\n",
      "   - **Likes:** 315\n",
      "   - **Comments:** 86\n",
      "   - **Summary:** A compilation of various car crash incidents recorded in the UK, showcasing some of the most surprising and unfortunate driving moments from the month of August 2025.\n",
      "\n",
      "2. **[Top 10 Places To Visit In The UK](https://youtu.be/0kXCPo7c63I)**\n",
      "   - **Channel:** Ryan Shirley\n",
      "   - **Views:** 3,656,333\n",
      "   - **Duration:** 9 minutes 21 seconds\n",
      "   - **Likes:** 59,881\n",
      "   - **Comments:** 4,500\n",
      "   - **Summary:** This video highlights the top 10 destinations to visit in the UK, featuring beautiful locations like London, the Jurassic Coast, and Snowdonia, aimed at tourists and locals looking for travel inspiration.\n",
      "\n",
      "3. **[Charlie Kirk's widow Erika pays emotional tribute to husband | In full](https://youtu.be/kOKg3GYsFUs)**\n",
      "   - **Channel:** The Independent\n",
      "   - **Views:** 1,516,951\n",
      "   - **Duration:** 1 minute 26 seconds\n",
      "   - **Likes:** 17,593\n",
      "   - **Comments:** 4,100\n",
      "   - **Summary:** In this heartfelt tribute, Erika, the widow of public figure Charlie Kirk, shares her emotions and reflections on her husband's life and legacy, capturing a touching moment that resonates with many viewers.\n",
      "\n",
      "These videos cover a range of topics, from travel and adventure to personal tributes.\n"
     ]
    }
   ],
   "source": [
    "query = {\"query\": \"Get 3 top youtube videos in UK with their summaries\"}\n",
    "result = chain.invoke(query)\n",
    "print(\"Video Summary:\\n\", result)"
   ]
  },
  {
   "cell_type": "code",
   "execution_count": 158,
   "metadata": {},
   "outputs": [
    {
     "data": {
      "text/plain": [
       "\"Here are the top 3 YouTube videos in the UK along with their summaries:\\n\\n1. **[BEST OF THE MONTH (AUGUST 2025) | UK Car Crashes Compilation | Idiots In Cars | Part 1](https://youtu.be/PJonTi1MJgo)**\\n   - **Channel:** Ruby Dashcam Academy\\n   - **Views:** 14,502\\n   - **Duration:** 31 minutes 59 seconds\\n   - **Likes:** 315\\n   - **Comments:** 86\\n   - **Summary:** A compilation of various car crash incidents recorded in the UK, showcasing some of the most surprising and unfortunate driving moments from the month of August 2025.\\n\\n2. **[Top 10 Places To Visit In The UK](https://youtu.be/0kXCPo7c63I)**\\n   - **Channel:** Ryan Shirley\\n   - **Views:** 3,656,333\\n   - **Duration:** 9 minutes 21 seconds\\n   - **Likes:** 59,881\\n   - **Comments:** 4,500\\n   - **Summary:** This video highlights the top 10 destinations to visit in the UK, featuring beautiful locations like London, the Jurassic Coast, and Snowdonia, aimed at tourists and locals looking for travel inspiration.\\n\\n3. **[Charlie Kirk's widow Erika pays emotional tribute to husband | In full](https://youtu.be/kOKg3GYsFUs)**\\n   - **Channel:** The Independent\\n   - **Views:** 1,516,951\\n   - **Duration:** 1 minute 26 seconds\\n   - **Likes:** 17,593\\n   - **Comments:** 4,100\\n   - **Summary:** In this heartfelt tribute, Erika, the widow of public figure Charlie Kirk, shares her emotions and reflections on her husband's life and legacy, capturing a touching moment that resonates with many viewers.\\n\\nThese videos cover a range of topics, from travel and adventure to personal tributes.\""
      ]
     },
     "execution_count": 158,
     "metadata": {},
     "output_type": "execute_result"
    }
   ],
   "source": [
    "result"
   ]
  },
  {
   "cell_type": "markdown",
   "metadata": {},
   "source": [
    "## Recursive chain flow\n"
   ]
  },
  {
   "cell_type": "markdown",
   "metadata": {},
   "source": [
    "Now that you've created a chain that works well for your specific two-step tool calling process, you need to consider more complex scenarios. Your current chain is limited to exactly two tool calls in a fixed sequence. In real-world applications, you might need a variable number of tool calls depending on the user's query - for example searching for videos on a topic and then getting transcripts for multiple results.\n",
    "\n",
    "To handle these more complex scenarios, you'll build a recursive chain that can dynamically decide how many tool calls are needed and continue processing until all necessary information has been gathered.\n"
   ]
  },
  {
   "cell_type": "code",
   "execution_count": 202,
   "metadata": {},
   "outputs": [],
   "source": [
    "from langchain_core.runnables import RunnableBranch, RunnableLambda\n",
    "from langchain_core.messages import HumanMessage, ToolMessage\n",
    "import json\n",
    "\n",
    "def execute_tool(tool_call):\n",
    "    \"\"\"Execute single tool call and return ToolMessage\"\"\"\n",
    "    print(\"-- execute_tool --\")\n",
    "    print(\"> tool_call:\")\n",
    "    #print(tool_call)\n",
    "    display(JSON([tool_call]))\n",
    "    try:\n",
    "        result = tool_mapping[tool_call[\"name\"]].invoke(tool_call[\"args\"])\n",
    "        content = json.dumps(result) if isinstance(result, (dict, list)) else str(result)\n",
    "    except Exception as e:\n",
    "        content = f\"Error: {str(e)}\"\n",
    "    \n",
    "    print(\"content:\")\n",
    "    #print(tool_call)\n",
    "    display(JSON([content]))\n",
    "\n",
    "    print(\"-- end execute_tool --\")\n",
    "    return ToolMessage(\n",
    "        content=content,\n",
    "        tool_call_id=tool_call[\"id\"]\n",
    "    )"
   ]
  },
  {
   "cell_type": "markdown",
   "metadata": {},
   "source": [
    "#### Defining the core processing logic\n",
    "\n",
    "This function handles the core processing logic of your recursive chain. It takes the current conversation history and:\n",
    "\n",
    "1. Identifies the most recent message in the conversation\n",
    "2. Extracts all tool calls from that message and executes them in parallel using your `execute_tool` helper\n",
    "3. Updates the message history by adding the tool response messages\n",
    "4. Gets the next response from the language model based on the updated conversation\n",
    "5. Returns the complete updated message history with both tool responses and the new LLM response\n"
   ]
  },
  {
   "cell_type": "code",
   "execution_count": 203,
   "metadata": {},
   "outputs": [],
   "source": [
    "def process_tool_calls(messages):\n",
    "    \"\"\"Recursive tool call processor\"\"\"\n",
    "    last_message = messages[-1]\n",
    "\n",
    "    print(\"-- process_tool_calls --\")\n",
    "    \n",
    "    print(\"> messages:\")\n",
    "    #print(messages)\n",
    "    display(JSON(messages))\n",
    "    \n",
    "    # Execute all tool calls in parallel\n",
    "    tool_messages = [\n",
    "        execute_tool(tc) \n",
    "        for tc in getattr(last_message, 'tool_calls', [])\n",
    "    ]\n",
    "\n",
    "    print(\"> tool_messages:\")\n",
    "    #print(tool_messages)\n",
    "    display(JSON(tool_messages))\n",
    "\n",
    "    \n",
    "    # Add tool responses to message history\n",
    "    updated_messages = messages + tool_messages\n",
    "\n",
    "    print(\"> updated_messages:\")\n",
    "    #print(updated_messages)\n",
    "    display(JSON(updated_messages))\n",
    "    \n",
    "    # Get next LLM response\n",
    "    next_ai_response = llm_with_tools.invoke(updated_messages)\n",
    "\n",
    "    print(\"> next_ai_response:\")\n",
    "    #print(next_ai_response)\n",
    "    display(JSON([next_ai_response]))\n",
    "\n",
    "    print(\"-- end process_tool_calls --\")\n",
    "    \n",
    "    return updated_messages + [next_ai_response]"
   ]
  },
  {
   "cell_type": "markdown",
   "metadata": {},
   "source": [
    "#### Creating the recursive stopping condition\n",
    "\n",
    "This function determines whether your recursive process should continue or terminate. It:\n",
    "\n",
    "1. Takes the current message history and examines the last message\n",
    "2. Checks if that message contains any tool calls using the `getattr` function (which safely handles cases where the attribute might not exist)\n",
    "3. Returns a boolean value - `True` if there are more tool calls to process, and `False` when you reach a point where the LLM has provided a final answer without requesting additional tools\n"
   ]
  },
  {
   "cell_type": "code",
   "execution_count": 204,
   "metadata": {},
   "outputs": [],
   "source": [
    "def should_continue(messages):\n",
    "    \"\"\"Check if you need another iteration\"\"\"\n",
    "\n",
    "    print(\"-- should_continue --\")\n",
    "    \n",
    "    print(\"> messages:\")\n",
    "    #print(messages)\n",
    "    display(JSON(messages))\n",
    "    \n",
    "    last_message = messages[-1]\n",
    "    print(\"> last message has tool_calls ?\")\n",
    "    #print(last_message)\n",
    "\n",
    "    print (bool(getattr(last_message, 'tool_calls', None)))\n",
    "\n",
    "    print(\"-- end should_continue --\")\n",
    "    \n",
    "    return bool(getattr(last_message, 'tool_calls', None))"
   ]
  },
  {
   "cell_type": "markdown",
   "metadata": {},
   "source": [
    "\n",
    "#### Implementing the recursive function\n",
    "\n",
    "This function implements the actual recursion that powers your dynamic tool calling process:\n",
    "\n",
    "1. It first checks the stopping condition using the `should_continue` function to determine if more tools need to be called\n",
    "2. If more tool calls are needed, it processes those calls using your `process_tool_calls` function and then recursively calls itself with the updated messages\n",
    "3. If no more tool calls are needed, it returns the final message history, which contains the complete conversation, including the LLM's final response\n",
    "\n",
    "After defining this recursive function, you'll wrap it in a `RunnableLambda` to make it compatible with LangChain's chain architecture.\n"
   ]
  },
  {
   "cell_type": "code",
   "execution_count": 205,
   "metadata": {},
   "outputs": [],
   "source": [
    "def _recursive_chain(messages):\n",
    "    \"\"\"Recursively process tool calls until completion\"\"\"\n",
    "\n",
    "    print(\"-- _recursive_chain --\")\n",
    "    \n",
    "    print(\"> messages:\")\n",
    "    #print(messages)\n",
    "    display(JSON(messages))\n",
    "\n",
    "    \n",
    "    if should_continue(messages):\n",
    "        new_messages = process_tool_calls(messages)\n",
    "\n",
    "        print(\"> new_messages in _recursive_chain:\")\n",
    "        #print(new_messages)\n",
    "        display(JSON(new_messages))\n",
    "                \n",
    "        return _recursive_chain(new_messages)\n",
    "        \n",
    "    print(\"> messages to return by _recursive_chain:\")\n",
    "    #print(messages)\n",
    "    display(JSON(messages))\n",
    "    print(\"-- end _recursive_chain --\")\n",
    "        \n",
    "    return messages\n",
    "\n",
    "recursive_chain = RunnableLambda(_recursive_chain)"
   ]
  },
  {
   "cell_type": "markdown",
   "metadata": {},
   "source": [
    "#### Building the complete universal chain\n",
    "\n",
    "Now, you're assembling your final universal chain that can handle any type of query requiring any number of tool calls. This chain consists of three main steps:\n",
    "\n",
    "1. The first step converts the user query into a properly formatted `HumanMessage` object\n",
    "2. The second step sends this initial message to your tool-equipped LLM and adds the LLM's first response to the message history\n",
    "3. The final step passes the conversation to your recursive chain, which will handle all subsequent tool calls until the LLM provides a final answer\n",
    "\n",
    "This universal chain is much more flexible than your earlier fixed-step chain, as it can dynamically adapt to queries that require different numbers and types of tool calls.\n"
   ]
  },
  {
   "cell_type": "code",
   "execution_count": 206,
   "metadata": {},
   "outputs": [],
   "source": [
    "universal_chain = (\n",
    "    RunnableLambda(lambda x: [HumanMessage(content=x[\"query\"])])\n",
    "    | RunnableLambda(lambda messages: messages + [llm_with_tools.invoke(messages)])\n",
    "    | recursive_chain\n",
    ")"
   ]
  },
  {
   "cell_type": "markdown",
   "metadata": {},
   "source": [
    "**Note: If you find any issues with the given video link below, try any Youtube video link of your choosing.**\n"
   ]
  },
  {
   "cell_type": "code",
   "execution_count": 212,
   "metadata": {},
   "outputs": [
    {
     "name": "stdout",
     "output_type": "stream",
     "text": [
      "-- _recursive_chain --\n",
      "> messages:\n"
     ]
    },
    {
     "data": {
      "application/json": [
       [
        [
         "content",
         "Please provide up to 3 top movies of all the times that can be found on Youtube with their content and number of views. Please do not include metadata in answer"
        ],
        [
         "additional_kwargs",
         {}
        ],
        [
         "response_metadata",
         {}
        ],
        [
         "type",
         "human"
        ],
        [
         "name",
         null
        ],
        [
         "id",
         null
        ],
        [
         "example",
         false
        ]
       ],
       [
        [
         "content",
         ""
        ],
        [
         "additional_kwargs",
         {
          "refusal": null,
          "tool_calls": [
           {
            "function": {
             "arguments": "{\"query\":\"top movies of all time\"}",
             "name": "search_youtube"
            },
            "id": "call_i9WZvZrTkp1xEsTfycq1EJO2",
            "type": "function"
           }
          ]
         }
        ],
        [
         "response_metadata",
         {
          "finish_reason": "tool_calls",
          "id": "chatcmpl-CGzn3rgVrGClsVQ2N9VYgxYSNZ04u",
          "logprobs": null,
          "model_name": "gpt-4o-mini-2024-07-18",
          "system_fingerprint": "fp_560af6e559",
          "token_usage": {
           "completion_tokens": 19,
           "completion_tokens_details": {
            "accepted_prediction_tokens": 0,
            "audio_tokens": 0,
            "reasoning_tokens": 0,
            "rejected_prediction_tokens": 0
           },
           "prompt_tokens": 389,
           "prompt_tokens_details": {
            "audio_tokens": 0,
            "cached_tokens": 0
           },
           "total_tokens": 408
          }
         }
        ],
        [
         "type",
         "ai"
        ],
        [
         "name",
         null
        ],
        [
         "id",
         "run--248e21be-e9ee-463f-886c-7772dd34ab75-0"
        ],
        [
         "example",
         false
        ],
        [
         "tool_calls",
         [
          {
           "args": {
            "query": "top movies of all time"
           },
           "id": "call_i9WZvZrTkp1xEsTfycq1EJO2",
           "name": "search_youtube",
           "type": "tool_call"
          }
         ]
        ],
        [
         "invalid_tool_calls",
         []
        ],
        [
         "usage_metadata",
         {
          "input_token_details": {
           "audio": 0,
           "cache_read": 0
          },
          "input_tokens": 389,
          "output_token_details": {
           "audio": 0,
           "reasoning": 0
          },
          "output_tokens": 19,
          "total_tokens": 408
         }
        ]
       ]
      ],
      "text/plain": [
       "<IPython.core.display.JSON object>"
      ]
     },
     "metadata": {
      "application/json": {
       "expanded": false,
       "root": "root"
      }
     },
     "output_type": "display_data"
    },
    {
     "name": "stdout",
     "output_type": "stream",
     "text": [
      "-- should_continue --\n",
      "> messages:\n"
     ]
    },
    {
     "data": {
      "application/json": [
       [
        [
         "content",
         "Please provide up to 3 top movies of all the times that can be found on Youtube with their content and number of views. Please do not include metadata in answer"
        ],
        [
         "additional_kwargs",
         {}
        ],
        [
         "response_metadata",
         {}
        ],
        [
         "type",
         "human"
        ],
        [
         "name",
         null
        ],
        [
         "id",
         null
        ],
        [
         "example",
         false
        ]
       ],
       [
        [
         "content",
         ""
        ],
        [
         "additional_kwargs",
         {
          "refusal": null,
          "tool_calls": [
           {
            "function": {
             "arguments": "{\"query\":\"top movies of all time\"}",
             "name": "search_youtube"
            },
            "id": "call_i9WZvZrTkp1xEsTfycq1EJO2",
            "type": "function"
           }
          ]
         }
        ],
        [
         "response_metadata",
         {
          "finish_reason": "tool_calls",
          "id": "chatcmpl-CGzn3rgVrGClsVQ2N9VYgxYSNZ04u",
          "logprobs": null,
          "model_name": "gpt-4o-mini-2024-07-18",
          "system_fingerprint": "fp_560af6e559",
          "token_usage": {
           "completion_tokens": 19,
           "completion_tokens_details": {
            "accepted_prediction_tokens": 0,
            "audio_tokens": 0,
            "reasoning_tokens": 0,
            "rejected_prediction_tokens": 0
           },
           "prompt_tokens": 389,
           "prompt_tokens_details": {
            "audio_tokens": 0,
            "cached_tokens": 0
           },
           "total_tokens": 408
          }
         }
        ],
        [
         "type",
         "ai"
        ],
        [
         "name",
         null
        ],
        [
         "id",
         "run--248e21be-e9ee-463f-886c-7772dd34ab75-0"
        ],
        [
         "example",
         false
        ],
        [
         "tool_calls",
         [
          {
           "args": {
            "query": "top movies of all time"
           },
           "id": "call_i9WZvZrTkp1xEsTfycq1EJO2",
           "name": "search_youtube",
           "type": "tool_call"
          }
         ]
        ],
        [
         "invalid_tool_calls",
         []
        ],
        [
         "usage_metadata",
         {
          "input_token_details": {
           "audio": 0,
           "cache_read": 0
          },
          "input_tokens": 389,
          "output_token_details": {
           "audio": 0,
           "reasoning": 0
          },
          "output_tokens": 19,
          "total_tokens": 408
         }
        ]
       ]
      ],
      "text/plain": [
       "<IPython.core.display.JSON object>"
      ]
     },
     "metadata": {
      "application/json": {
       "expanded": false,
       "root": "root"
      }
     },
     "output_type": "display_data"
    },
    {
     "name": "stdout",
     "output_type": "stream",
     "text": [
      "> last message has tool_calls ?\n",
      "True\n",
      "-- end should_continue --\n",
      "-- process_tool_calls --\n",
      "> messages:\n"
     ]
    },
    {
     "data": {
      "application/json": [
       [
        [
         "content",
         "Please provide up to 3 top movies of all the times that can be found on Youtube with their content and number of views. Please do not include metadata in answer"
        ],
        [
         "additional_kwargs",
         {}
        ],
        [
         "response_metadata",
         {}
        ],
        [
         "type",
         "human"
        ],
        [
         "name",
         null
        ],
        [
         "id",
         null
        ],
        [
         "example",
         false
        ]
       ],
       [
        [
         "content",
         ""
        ],
        [
         "additional_kwargs",
         {
          "refusal": null,
          "tool_calls": [
           {
            "function": {
             "arguments": "{\"query\":\"top movies of all time\"}",
             "name": "search_youtube"
            },
            "id": "call_i9WZvZrTkp1xEsTfycq1EJO2",
            "type": "function"
           }
          ]
         }
        ],
        [
         "response_metadata",
         {
          "finish_reason": "tool_calls",
          "id": "chatcmpl-CGzn3rgVrGClsVQ2N9VYgxYSNZ04u",
          "logprobs": null,
          "model_name": "gpt-4o-mini-2024-07-18",
          "system_fingerprint": "fp_560af6e559",
          "token_usage": {
           "completion_tokens": 19,
           "completion_tokens_details": {
            "accepted_prediction_tokens": 0,
            "audio_tokens": 0,
            "reasoning_tokens": 0,
            "rejected_prediction_tokens": 0
           },
           "prompt_tokens": 389,
           "prompt_tokens_details": {
            "audio_tokens": 0,
            "cached_tokens": 0
           },
           "total_tokens": 408
          }
         }
        ],
        [
         "type",
         "ai"
        ],
        [
         "name",
         null
        ],
        [
         "id",
         "run--248e21be-e9ee-463f-886c-7772dd34ab75-0"
        ],
        [
         "example",
         false
        ],
        [
         "tool_calls",
         [
          {
           "args": {
            "query": "top movies of all time"
           },
           "id": "call_i9WZvZrTkp1xEsTfycq1EJO2",
           "name": "search_youtube",
           "type": "tool_call"
          }
         ]
        ],
        [
         "invalid_tool_calls",
         []
        ],
        [
         "usage_metadata",
         {
          "input_token_details": {
           "audio": 0,
           "cache_read": 0
          },
          "input_tokens": 389,
          "output_token_details": {
           "audio": 0,
           "reasoning": 0
          },
          "output_tokens": 19,
          "total_tokens": 408
         }
        ]
       ]
      ],
      "text/plain": [
       "<IPython.core.display.JSON object>"
      ]
     },
     "metadata": {
      "application/json": {
       "expanded": false,
       "root": "root"
      }
     },
     "output_type": "display_data"
    },
    {
     "name": "stdout",
     "output_type": "stream",
     "text": [
      "-- execute_tool --\n",
      "> tool_call:\n"
     ]
    },
    {
     "data": {
      "application/json": [
       {
        "args": {
         "query": "top movies of all time"
        },
        "id": "call_i9WZvZrTkp1xEsTfycq1EJO2",
        "name": "search_youtube",
        "type": "tool_call"
       }
      ],
      "text/plain": [
       "<IPython.core.display.JSON object>"
      ]
     },
     "metadata": {
      "application/json": {
       "expanded": false,
       "root": "root"
      }
     },
     "output_type": "display_data"
    },
    {
     "name": "stdout",
     "output_type": "stream",
     "text": [
      "content:\n"
     ]
    },
    {
     "data": {
      "application/json": [
       "[{\"title\": \"Our 50 Favorite Movies of All Time\", \"video_id\": \"gm1Hsgop9Bg\", \"url\": \"https://youtu.be/gm1Hsgop9Bg\"}, {\"title\": \"Top 20 Greatest Movies Of All Time\", \"video_id\": \"6VO9wAfHvC0\", \"url\": \"https://youtu.be/6VO9wAfHvC0\"}, {\"title\": \"top 10 movies worth watching\", \"video_id\": \"lIi7Jj32XUc\", \"url\": \"https://youtu.be/lIi7Jj32XUc\"}, {\"title\": \"Best Adventure Movie You\\u2019ll Never Forget / Temple of the Sun / Full Action in English\", \"video_id\": \"bVAS5afUTUk\", \"url\": \"https://youtu.be/bVAS5afUTUk\"}, {\"title\": \"TOP 50 Best Movies Of All Time | Greatest Movies Ever Made | Must Watch Movies\", \"video_id\": \"2fR2qy_EFr4\", \"url\": \"https://youtu.be/2fR2qy_EFr4\"}, {\"title\": \"My Top 200 Favorite Films of All Time\", \"video_id\": \"mb_kp50VY2c\", \"url\": \"https://youtu.be/mb_kp50VY2c\"}, {\"title\": \"Top 50 Best Movies of All Time - IMDB\", \"video_id\": \"gul5c2CYGQ4\", \"url\": \"https://youtu.be/gul5c2CYGQ4\"}, {\"title\": \"50 Movies to Watch Before You Die\", \"video_id\": \"uY5oF0tZiWI\", \"url\": \"https://youtu.be/uY5oF0tZiWI\"}, {\"title\": \"Top 10 Movies of All Time According to Roger Ebert\", \"video_id\": \"uUSLUPEe7R0\", \"url\": \"https://youtu.be/uUSLUPEe7R0\"}, {\"title\": \"My Top 25 Movies Of All Time\\u2026It\\u2019s NOT What You\\u2019d Expect\", \"video_id\": \"bGO0dzFgw-I\", \"url\": \"https://youtu.be/bGO0dzFgw-I\"}, {\"title\": \"top 5 revenge love story movies in bollywood | best revenge love story movies\", \"video_id\": \"dwhNPQDm_7Q\", \"url\": \"https://youtu.be/dwhNPQDm_7Q\"}, {\"title\": \"The President\\u2019s Sniper | Action Thriller Movie | Hollywood English Movie 2025 | English Full Movie\", \"video_id\": \"E6plGb1qfUM\", \"url\": \"https://youtu.be/E6plGb1qfUM\"}, {\"title\": \"Top 50 Greatest Films of All Time (The Best Movies Ever Made)\", \"video_id\": \"kHZ2h3FbR5k\", \"url\": \"https://youtu.be/kHZ2h3FbR5k\"}, {\"title\": \"Top 10 Movies of All Time\", \"video_id\": \"cYROqsUAw0o\", \"url\": \"https://youtu.be/cYROqsUAw0o\"}, {\"title\": \"Top 50 Greatest Movies of All Time\", \"video_id\": \"F_LOBAeOvXI\", \"url\": \"https://youtu.be/F_LOBAeOvXI\"}, {\"title\": \"Top 20 best movies of all time | Best films | Greatest movies IMDB\", \"video_id\": \"z_wYwyMI2fY\", \"url\": \"https://youtu.be/z_wYwyMI2fY\"}, {\"title\": \"Top 100 Movies of All Time\", \"video_id\": \"Fdg1RedOBO0\", \"url\": \"https://youtu.be/Fdg1RedOBO0\"}, {\"title\": \"The Soldier\\u2019s Trap | Action Thriller Movie | Hollywood English Movie 2025 | English Full Movie\", \"video_id\": \"6pDznXpFNvI\", \"url\": \"https://youtu.be/6pDznXpFNvI\"}, {\"title\": \"Top 10 Greatest Movies of All Time! (Chosen by the Experts)\", \"video_id\": \"idqaREfS1sk\", \"url\": \"https://youtu.be/idqaREfS1sk\"}, {\"title\": \"Top 20 Movies Everyone Needs To See At Least Once\", \"video_id\": \"4V1la2abC68\", \"url\": \"https://youtu.be/4V1la2abC68\"}]"
      ],
      "text/plain": [
       "<IPython.core.display.JSON object>"
      ]
     },
     "metadata": {
      "application/json": {
       "expanded": false,
       "root": "root"
      }
     },
     "output_type": "display_data"
    },
    {
     "name": "stdout",
     "output_type": "stream",
     "text": [
      "-- end execute_tool --\n",
      "> tool_messages:\n"
     ]
    },
    {
     "data": {
      "application/json": [
       [
        [
         "content",
         "[{\"title\": \"Our 50 Favorite Movies of All Time\", \"video_id\": \"gm1Hsgop9Bg\", \"url\": \"https://youtu.be/gm1Hsgop9Bg\"}, {\"title\": \"Top 20 Greatest Movies Of All Time\", \"video_id\": \"6VO9wAfHvC0\", \"url\": \"https://youtu.be/6VO9wAfHvC0\"}, {\"title\": \"top 10 movies worth watching\", \"video_id\": \"lIi7Jj32XUc\", \"url\": \"https://youtu.be/lIi7Jj32XUc\"}, {\"title\": \"Best Adventure Movie You\\u2019ll Never Forget / Temple of the Sun / Full Action in English\", \"video_id\": \"bVAS5afUTUk\", \"url\": \"https://youtu.be/bVAS5afUTUk\"}, {\"title\": \"TOP 50 Best Movies Of All Time | Greatest Movies Ever Made | Must Watch Movies\", \"video_id\": \"2fR2qy_EFr4\", \"url\": \"https://youtu.be/2fR2qy_EFr4\"}, {\"title\": \"My Top 200 Favorite Films of All Time\", \"video_id\": \"mb_kp50VY2c\", \"url\": \"https://youtu.be/mb_kp50VY2c\"}, {\"title\": \"Top 50 Best Movies of All Time - IMDB\", \"video_id\": \"gul5c2CYGQ4\", \"url\": \"https://youtu.be/gul5c2CYGQ4\"}, {\"title\": \"50 Movies to Watch Before You Die\", \"video_id\": \"uY5oF0tZiWI\", \"url\": \"https://youtu.be/uY5oF0tZiWI\"}, {\"title\": \"Top 10 Movies of All Time According to Roger Ebert\", \"video_id\": \"uUSLUPEe7R0\", \"url\": \"https://youtu.be/uUSLUPEe7R0\"}, {\"title\": \"My Top 25 Movies Of All Time\\u2026It\\u2019s NOT What You\\u2019d Expect\", \"video_id\": \"bGO0dzFgw-I\", \"url\": \"https://youtu.be/bGO0dzFgw-I\"}, {\"title\": \"top 5 revenge love story movies in bollywood | best revenge love story movies\", \"video_id\": \"dwhNPQDm_7Q\", \"url\": \"https://youtu.be/dwhNPQDm_7Q\"}, {\"title\": \"The President\\u2019s Sniper | Action Thriller Movie | Hollywood English Movie 2025 | English Full Movie\", \"video_id\": \"E6plGb1qfUM\", \"url\": \"https://youtu.be/E6plGb1qfUM\"}, {\"title\": \"Top 50 Greatest Films of All Time (The Best Movies Ever Made)\", \"video_id\": \"kHZ2h3FbR5k\", \"url\": \"https://youtu.be/kHZ2h3FbR5k\"}, {\"title\": \"Top 10 Movies of All Time\", \"video_id\": \"cYROqsUAw0o\", \"url\": \"https://youtu.be/cYROqsUAw0o\"}, {\"title\": \"Top 50 Greatest Movies of All Time\", \"video_id\": \"F_LOBAeOvXI\", \"url\": \"https://youtu.be/F_LOBAeOvXI\"}, {\"title\": \"Top 20 best movies of all time | Best films | Greatest movies IMDB\", \"video_id\": \"z_wYwyMI2fY\", \"url\": \"https://youtu.be/z_wYwyMI2fY\"}, {\"title\": \"Top 100 Movies of All Time\", \"video_id\": \"Fdg1RedOBO0\", \"url\": \"https://youtu.be/Fdg1RedOBO0\"}, {\"title\": \"The Soldier\\u2019s Trap | Action Thriller Movie | Hollywood English Movie 2025 | English Full Movie\", \"video_id\": \"6pDznXpFNvI\", \"url\": \"https://youtu.be/6pDznXpFNvI\"}, {\"title\": \"Top 10 Greatest Movies of All Time! (Chosen by the Experts)\", \"video_id\": \"idqaREfS1sk\", \"url\": \"https://youtu.be/idqaREfS1sk\"}, {\"title\": \"Top 20 Movies Everyone Needs To See At Least Once\", \"video_id\": \"4V1la2abC68\", \"url\": \"https://youtu.be/4V1la2abC68\"}]"
        ],
        [
         "additional_kwargs",
         {}
        ],
        [
         "response_metadata",
         {}
        ],
        [
         "type",
         "tool"
        ],
        [
         "name",
         null
        ],
        [
         "id",
         null
        ],
        [
         "tool_call_id",
         "call_i9WZvZrTkp1xEsTfycq1EJO2"
        ],
        [
         "artifact",
         null
        ],
        [
         "status",
         "success"
        ]
       ]
      ],
      "text/plain": [
       "<IPython.core.display.JSON object>"
      ]
     },
     "metadata": {
      "application/json": {
       "expanded": false,
       "root": "root"
      }
     },
     "output_type": "display_data"
    },
    {
     "name": "stdout",
     "output_type": "stream",
     "text": [
      "> updated_messages:\n"
     ]
    },
    {
     "data": {
      "application/json": [
       [
        [
         "content",
         "Please provide up to 3 top movies of all the times that can be found on Youtube with their content and number of views. Please do not include metadata in answer"
        ],
        [
         "additional_kwargs",
         {}
        ],
        [
         "response_metadata",
         {}
        ],
        [
         "type",
         "human"
        ],
        [
         "name",
         null
        ],
        [
         "id",
         null
        ],
        [
         "example",
         false
        ]
       ],
       [
        [
         "content",
         ""
        ],
        [
         "additional_kwargs",
         {
          "refusal": null,
          "tool_calls": [
           {
            "function": {
             "arguments": "{\"query\":\"top movies of all time\"}",
             "name": "search_youtube"
            },
            "id": "call_i9WZvZrTkp1xEsTfycq1EJO2",
            "type": "function"
           }
          ]
         }
        ],
        [
         "response_metadata",
         {
          "finish_reason": "tool_calls",
          "id": "chatcmpl-CGzn3rgVrGClsVQ2N9VYgxYSNZ04u",
          "logprobs": null,
          "model_name": "gpt-4o-mini-2024-07-18",
          "system_fingerprint": "fp_560af6e559",
          "token_usage": {
           "completion_tokens": 19,
           "completion_tokens_details": {
            "accepted_prediction_tokens": 0,
            "audio_tokens": 0,
            "reasoning_tokens": 0,
            "rejected_prediction_tokens": 0
           },
           "prompt_tokens": 389,
           "prompt_tokens_details": {
            "audio_tokens": 0,
            "cached_tokens": 0
           },
           "total_tokens": 408
          }
         }
        ],
        [
         "type",
         "ai"
        ],
        [
         "name",
         null
        ],
        [
         "id",
         "run--248e21be-e9ee-463f-886c-7772dd34ab75-0"
        ],
        [
         "example",
         false
        ],
        [
         "tool_calls",
         [
          {
           "args": {
            "query": "top movies of all time"
           },
           "id": "call_i9WZvZrTkp1xEsTfycq1EJO2",
           "name": "search_youtube",
           "type": "tool_call"
          }
         ]
        ],
        [
         "invalid_tool_calls",
         []
        ],
        [
         "usage_metadata",
         {
          "input_token_details": {
           "audio": 0,
           "cache_read": 0
          },
          "input_tokens": 389,
          "output_token_details": {
           "audio": 0,
           "reasoning": 0
          },
          "output_tokens": 19,
          "total_tokens": 408
         }
        ]
       ],
       [
        [
         "content",
         "[{\"title\": \"Our 50 Favorite Movies of All Time\", \"video_id\": \"gm1Hsgop9Bg\", \"url\": \"https://youtu.be/gm1Hsgop9Bg\"}, {\"title\": \"Top 20 Greatest Movies Of All Time\", \"video_id\": \"6VO9wAfHvC0\", \"url\": \"https://youtu.be/6VO9wAfHvC0\"}, {\"title\": \"top 10 movies worth watching\", \"video_id\": \"lIi7Jj32XUc\", \"url\": \"https://youtu.be/lIi7Jj32XUc\"}, {\"title\": \"Best Adventure Movie You\\u2019ll Never Forget / Temple of the Sun / Full Action in English\", \"video_id\": \"bVAS5afUTUk\", \"url\": \"https://youtu.be/bVAS5afUTUk\"}, {\"title\": \"TOP 50 Best Movies Of All Time | Greatest Movies Ever Made | Must Watch Movies\", \"video_id\": \"2fR2qy_EFr4\", \"url\": \"https://youtu.be/2fR2qy_EFr4\"}, {\"title\": \"My Top 200 Favorite Films of All Time\", \"video_id\": \"mb_kp50VY2c\", \"url\": \"https://youtu.be/mb_kp50VY2c\"}, {\"title\": \"Top 50 Best Movies of All Time - IMDB\", \"video_id\": \"gul5c2CYGQ4\", \"url\": \"https://youtu.be/gul5c2CYGQ4\"}, {\"title\": \"50 Movies to Watch Before You Die\", \"video_id\": \"uY5oF0tZiWI\", \"url\": \"https://youtu.be/uY5oF0tZiWI\"}, {\"title\": \"Top 10 Movies of All Time According to Roger Ebert\", \"video_id\": \"uUSLUPEe7R0\", \"url\": \"https://youtu.be/uUSLUPEe7R0\"}, {\"title\": \"My Top 25 Movies Of All Time\\u2026It\\u2019s NOT What You\\u2019d Expect\", \"video_id\": \"bGO0dzFgw-I\", \"url\": \"https://youtu.be/bGO0dzFgw-I\"}, {\"title\": \"top 5 revenge love story movies in bollywood | best revenge love story movies\", \"video_id\": \"dwhNPQDm_7Q\", \"url\": \"https://youtu.be/dwhNPQDm_7Q\"}, {\"title\": \"The President\\u2019s Sniper | Action Thriller Movie | Hollywood English Movie 2025 | English Full Movie\", \"video_id\": \"E6plGb1qfUM\", \"url\": \"https://youtu.be/E6plGb1qfUM\"}, {\"title\": \"Top 50 Greatest Films of All Time (The Best Movies Ever Made)\", \"video_id\": \"kHZ2h3FbR5k\", \"url\": \"https://youtu.be/kHZ2h3FbR5k\"}, {\"title\": \"Top 10 Movies of All Time\", \"video_id\": \"cYROqsUAw0o\", \"url\": \"https://youtu.be/cYROqsUAw0o\"}, {\"title\": \"Top 50 Greatest Movies of All Time\", \"video_id\": \"F_LOBAeOvXI\", \"url\": \"https://youtu.be/F_LOBAeOvXI\"}, {\"title\": \"Top 20 best movies of all time | Best films | Greatest movies IMDB\", \"video_id\": \"z_wYwyMI2fY\", \"url\": \"https://youtu.be/z_wYwyMI2fY\"}, {\"title\": \"Top 100 Movies of All Time\", \"video_id\": \"Fdg1RedOBO0\", \"url\": \"https://youtu.be/Fdg1RedOBO0\"}, {\"title\": \"The Soldier\\u2019s Trap | Action Thriller Movie | Hollywood English Movie 2025 | English Full Movie\", \"video_id\": \"6pDznXpFNvI\", \"url\": \"https://youtu.be/6pDznXpFNvI\"}, {\"title\": \"Top 10 Greatest Movies of All Time! (Chosen by the Experts)\", \"video_id\": \"idqaREfS1sk\", \"url\": \"https://youtu.be/idqaREfS1sk\"}, {\"title\": \"Top 20 Movies Everyone Needs To See At Least Once\", \"video_id\": \"4V1la2abC68\", \"url\": \"https://youtu.be/4V1la2abC68\"}]"
        ],
        [
         "additional_kwargs",
         {}
        ],
        [
         "response_metadata",
         {}
        ],
        [
         "type",
         "tool"
        ],
        [
         "name",
         null
        ],
        [
         "id",
         null
        ],
        [
         "tool_call_id",
         "call_i9WZvZrTkp1xEsTfycq1EJO2"
        ],
        [
         "artifact",
         null
        ],
        [
         "status",
         "success"
        ]
       ]
      ],
      "text/plain": [
       "<IPython.core.display.JSON object>"
      ]
     },
     "metadata": {
      "application/json": {
       "expanded": false,
       "root": "root"
      }
     },
     "output_type": "display_data"
    },
    {
     "name": "stdout",
     "output_type": "stream",
     "text": [
      "> next_ai_response:\n"
     ]
    },
    {
     "data": {
      "application/json": [
       [
        [
         "content",
         ""
        ],
        [
         "additional_kwargs",
         {
          "refusal": null,
          "tool_calls": [
           {
            "function": {
             "arguments": "{\"url\": \"https://youtu.be/gm1Hsgop9Bg\"}",
             "name": "get_full_metadata"
            },
            "id": "call_9LzU2mmuHJvfCC8Sgc9QpBmK",
            "type": "function"
           },
           {
            "function": {
             "arguments": "{\"url\": \"https://youtu.be/6VO9wAfHvC0\"}",
             "name": "get_full_metadata"
            },
            "id": "call_ANE56SPMyMD0fK4XntkznfGx",
            "type": "function"
           },
           {
            "function": {
             "arguments": "{\"url\": \"https://youtu.be/2fR2qy_EFr4\"}",
             "name": "get_full_metadata"
            },
            "id": "call_hVYZmbVFStbGmSgOPEv9g0FN",
            "type": "function"
           }
          ]
         }
        ],
        [
         "response_metadata",
         {
          "finish_reason": "tool_calls",
          "id": "chatcmpl-CGzn4gCjCkT9hDBrWAy6168lTS6iR",
          "logprobs": null,
          "model_name": "gpt-4o-mini-2024-07-18",
          "system_fingerprint": "fp_560af6e559",
          "token_usage": {
           "completion_tokens": 96,
           "completion_tokens_details": {
            "accepted_prediction_tokens": 0,
            "audio_tokens": 0,
            "reasoning_tokens": 0,
            "rejected_prediction_tokens": 0
           },
           "prompt_tokens": 1394,
           "prompt_tokens_details": {
            "audio_tokens": 0,
            "cached_tokens": 0
           },
           "total_tokens": 1490
          }
         }
        ],
        [
         "type",
         "ai"
        ],
        [
         "name",
         null
        ],
        [
         "id",
         "run--45479bd5-699a-4155-9fc1-c5158d8f5d42-0"
        ],
        [
         "example",
         false
        ],
        [
         "tool_calls",
         [
          {
           "args": {
            "url": "https://youtu.be/gm1Hsgop9Bg"
           },
           "id": "call_9LzU2mmuHJvfCC8Sgc9QpBmK",
           "name": "get_full_metadata",
           "type": "tool_call"
          },
          {
           "args": {
            "url": "https://youtu.be/6VO9wAfHvC0"
           },
           "id": "call_ANE56SPMyMD0fK4XntkznfGx",
           "name": "get_full_metadata",
           "type": "tool_call"
          },
          {
           "args": {
            "url": "https://youtu.be/2fR2qy_EFr4"
           },
           "id": "call_hVYZmbVFStbGmSgOPEv9g0FN",
           "name": "get_full_metadata",
           "type": "tool_call"
          }
         ]
        ],
        [
         "invalid_tool_calls",
         []
        ],
        [
         "usage_metadata",
         {
          "input_token_details": {
           "audio": 0,
           "cache_read": 0
          },
          "input_tokens": 1394,
          "output_token_details": {
           "audio": 0,
           "reasoning": 0
          },
          "output_tokens": 96,
          "total_tokens": 1490
         }
        ]
       ]
      ],
      "text/plain": [
       "<IPython.core.display.JSON object>"
      ]
     },
     "metadata": {
      "application/json": {
       "expanded": false,
       "root": "root"
      }
     },
     "output_type": "display_data"
    },
    {
     "name": "stdout",
     "output_type": "stream",
     "text": [
      "-- end process_tool_calls --\n",
      "> new_messages in _recursive_chain:\n"
     ]
    },
    {
     "data": {
      "application/json": [
       [
        [
         "content",
         "Please provide up to 3 top movies of all the times that can be found on Youtube with their content and number of views. Please do not include metadata in answer"
        ],
        [
         "additional_kwargs",
         {}
        ],
        [
         "response_metadata",
         {}
        ],
        [
         "type",
         "human"
        ],
        [
         "name",
         null
        ],
        [
         "id",
         null
        ],
        [
         "example",
         false
        ]
       ],
       [
        [
         "content",
         ""
        ],
        [
         "additional_kwargs",
         {
          "refusal": null,
          "tool_calls": [
           {
            "function": {
             "arguments": "{\"query\":\"top movies of all time\"}",
             "name": "search_youtube"
            },
            "id": "call_i9WZvZrTkp1xEsTfycq1EJO2",
            "type": "function"
           }
          ]
         }
        ],
        [
         "response_metadata",
         {
          "finish_reason": "tool_calls",
          "id": "chatcmpl-CGzn3rgVrGClsVQ2N9VYgxYSNZ04u",
          "logprobs": null,
          "model_name": "gpt-4o-mini-2024-07-18",
          "system_fingerprint": "fp_560af6e559",
          "token_usage": {
           "completion_tokens": 19,
           "completion_tokens_details": {
            "accepted_prediction_tokens": 0,
            "audio_tokens": 0,
            "reasoning_tokens": 0,
            "rejected_prediction_tokens": 0
           },
           "prompt_tokens": 389,
           "prompt_tokens_details": {
            "audio_tokens": 0,
            "cached_tokens": 0
           },
           "total_tokens": 408
          }
         }
        ],
        [
         "type",
         "ai"
        ],
        [
         "name",
         null
        ],
        [
         "id",
         "run--248e21be-e9ee-463f-886c-7772dd34ab75-0"
        ],
        [
         "example",
         false
        ],
        [
         "tool_calls",
         [
          {
           "args": {
            "query": "top movies of all time"
           },
           "id": "call_i9WZvZrTkp1xEsTfycq1EJO2",
           "name": "search_youtube",
           "type": "tool_call"
          }
         ]
        ],
        [
         "invalid_tool_calls",
         []
        ],
        [
         "usage_metadata",
         {
          "input_token_details": {
           "audio": 0,
           "cache_read": 0
          },
          "input_tokens": 389,
          "output_token_details": {
           "audio": 0,
           "reasoning": 0
          },
          "output_tokens": 19,
          "total_tokens": 408
         }
        ]
       ],
       [
        [
         "content",
         "[{\"title\": \"Our 50 Favorite Movies of All Time\", \"video_id\": \"gm1Hsgop9Bg\", \"url\": \"https://youtu.be/gm1Hsgop9Bg\"}, {\"title\": \"Top 20 Greatest Movies Of All Time\", \"video_id\": \"6VO9wAfHvC0\", \"url\": \"https://youtu.be/6VO9wAfHvC0\"}, {\"title\": \"top 10 movies worth watching\", \"video_id\": \"lIi7Jj32XUc\", \"url\": \"https://youtu.be/lIi7Jj32XUc\"}, {\"title\": \"Best Adventure Movie You\\u2019ll Never Forget / Temple of the Sun / Full Action in English\", \"video_id\": \"bVAS5afUTUk\", \"url\": \"https://youtu.be/bVAS5afUTUk\"}, {\"title\": \"TOP 50 Best Movies Of All Time | Greatest Movies Ever Made | Must Watch Movies\", \"video_id\": \"2fR2qy_EFr4\", \"url\": \"https://youtu.be/2fR2qy_EFr4\"}, {\"title\": \"My Top 200 Favorite Films of All Time\", \"video_id\": \"mb_kp50VY2c\", \"url\": \"https://youtu.be/mb_kp50VY2c\"}, {\"title\": \"Top 50 Best Movies of All Time - IMDB\", \"video_id\": \"gul5c2CYGQ4\", \"url\": \"https://youtu.be/gul5c2CYGQ4\"}, {\"title\": \"50 Movies to Watch Before You Die\", \"video_id\": \"uY5oF0tZiWI\", \"url\": \"https://youtu.be/uY5oF0tZiWI\"}, {\"title\": \"Top 10 Movies of All Time According to Roger Ebert\", \"video_id\": \"uUSLUPEe7R0\", \"url\": \"https://youtu.be/uUSLUPEe7R0\"}, {\"title\": \"My Top 25 Movies Of All Time\\u2026It\\u2019s NOT What You\\u2019d Expect\", \"video_id\": \"bGO0dzFgw-I\", \"url\": \"https://youtu.be/bGO0dzFgw-I\"}, {\"title\": \"top 5 revenge love story movies in bollywood | best revenge love story movies\", \"video_id\": \"dwhNPQDm_7Q\", \"url\": \"https://youtu.be/dwhNPQDm_7Q\"}, {\"title\": \"The President\\u2019s Sniper | Action Thriller Movie | Hollywood English Movie 2025 | English Full Movie\", \"video_id\": \"E6plGb1qfUM\", \"url\": \"https://youtu.be/E6plGb1qfUM\"}, {\"title\": \"Top 50 Greatest Films of All Time (The Best Movies Ever Made)\", \"video_id\": \"kHZ2h3FbR5k\", \"url\": \"https://youtu.be/kHZ2h3FbR5k\"}, {\"title\": \"Top 10 Movies of All Time\", \"video_id\": \"cYROqsUAw0o\", \"url\": \"https://youtu.be/cYROqsUAw0o\"}, {\"title\": \"Top 50 Greatest Movies of All Time\", \"video_id\": \"F_LOBAeOvXI\", \"url\": \"https://youtu.be/F_LOBAeOvXI\"}, {\"title\": \"Top 20 best movies of all time | Best films | Greatest movies IMDB\", \"video_id\": \"z_wYwyMI2fY\", \"url\": \"https://youtu.be/z_wYwyMI2fY\"}, {\"title\": \"Top 100 Movies of All Time\", \"video_id\": \"Fdg1RedOBO0\", \"url\": \"https://youtu.be/Fdg1RedOBO0\"}, {\"title\": \"The Soldier\\u2019s Trap | Action Thriller Movie | Hollywood English Movie 2025 | English Full Movie\", \"video_id\": \"6pDznXpFNvI\", \"url\": \"https://youtu.be/6pDznXpFNvI\"}, {\"title\": \"Top 10 Greatest Movies of All Time! (Chosen by the Experts)\", \"video_id\": \"idqaREfS1sk\", \"url\": \"https://youtu.be/idqaREfS1sk\"}, {\"title\": \"Top 20 Movies Everyone Needs To See At Least Once\", \"video_id\": \"4V1la2abC68\", \"url\": \"https://youtu.be/4V1la2abC68\"}]"
        ],
        [
         "additional_kwargs",
         {}
        ],
        [
         "response_metadata",
         {}
        ],
        [
         "type",
         "tool"
        ],
        [
         "name",
         null
        ],
        [
         "id",
         null
        ],
        [
         "tool_call_id",
         "call_i9WZvZrTkp1xEsTfycq1EJO2"
        ],
        [
         "artifact",
         null
        ],
        [
         "status",
         "success"
        ]
       ],
       [
        [
         "content",
         ""
        ],
        [
         "additional_kwargs",
         {
          "refusal": null,
          "tool_calls": [
           {
            "function": {
             "arguments": "{\"url\": \"https://youtu.be/gm1Hsgop9Bg\"}",
             "name": "get_full_metadata"
            },
            "id": "call_9LzU2mmuHJvfCC8Sgc9QpBmK",
            "type": "function"
           },
           {
            "function": {
             "arguments": "{\"url\": \"https://youtu.be/6VO9wAfHvC0\"}",
             "name": "get_full_metadata"
            },
            "id": "call_ANE56SPMyMD0fK4XntkznfGx",
            "type": "function"
           },
           {
            "function": {
             "arguments": "{\"url\": \"https://youtu.be/2fR2qy_EFr4\"}",
             "name": "get_full_metadata"
            },
            "id": "call_hVYZmbVFStbGmSgOPEv9g0FN",
            "type": "function"
           }
          ]
         }
        ],
        [
         "response_metadata",
         {
          "finish_reason": "tool_calls",
          "id": "chatcmpl-CGzn4gCjCkT9hDBrWAy6168lTS6iR",
          "logprobs": null,
          "model_name": "gpt-4o-mini-2024-07-18",
          "system_fingerprint": "fp_560af6e559",
          "token_usage": {
           "completion_tokens": 96,
           "completion_tokens_details": {
            "accepted_prediction_tokens": 0,
            "audio_tokens": 0,
            "reasoning_tokens": 0,
            "rejected_prediction_tokens": 0
           },
           "prompt_tokens": 1394,
           "prompt_tokens_details": {
            "audio_tokens": 0,
            "cached_tokens": 0
           },
           "total_tokens": 1490
          }
         }
        ],
        [
         "type",
         "ai"
        ],
        [
         "name",
         null
        ],
        [
         "id",
         "run--45479bd5-699a-4155-9fc1-c5158d8f5d42-0"
        ],
        [
         "example",
         false
        ],
        [
         "tool_calls",
         [
          {
           "args": {
            "url": "https://youtu.be/gm1Hsgop9Bg"
           },
           "id": "call_9LzU2mmuHJvfCC8Sgc9QpBmK",
           "name": "get_full_metadata",
           "type": "tool_call"
          },
          {
           "args": {
            "url": "https://youtu.be/6VO9wAfHvC0"
           },
           "id": "call_ANE56SPMyMD0fK4XntkznfGx",
           "name": "get_full_metadata",
           "type": "tool_call"
          },
          {
           "args": {
            "url": "https://youtu.be/2fR2qy_EFr4"
           },
           "id": "call_hVYZmbVFStbGmSgOPEv9g0FN",
           "name": "get_full_metadata",
           "type": "tool_call"
          }
         ]
        ],
        [
         "invalid_tool_calls",
         []
        ],
        [
         "usage_metadata",
         {
          "input_token_details": {
           "audio": 0,
           "cache_read": 0
          },
          "input_tokens": 1394,
          "output_token_details": {
           "audio": 0,
           "reasoning": 0
          },
          "output_tokens": 96,
          "total_tokens": 1490
         }
        ]
       ]
      ],
      "text/plain": [
       "<IPython.core.display.JSON object>"
      ]
     },
     "metadata": {
      "application/json": {
       "expanded": false,
       "root": "root"
      }
     },
     "output_type": "display_data"
    },
    {
     "name": "stdout",
     "output_type": "stream",
     "text": [
      "-- _recursive_chain --\n",
      "> messages:\n"
     ]
    },
    {
     "data": {
      "application/json": [
       [
        [
         "content",
         "Please provide up to 3 top movies of all the times that can be found on Youtube with their content and number of views. Please do not include metadata in answer"
        ],
        [
         "additional_kwargs",
         {}
        ],
        [
         "response_metadata",
         {}
        ],
        [
         "type",
         "human"
        ],
        [
         "name",
         null
        ],
        [
         "id",
         null
        ],
        [
         "example",
         false
        ]
       ],
       [
        [
         "content",
         ""
        ],
        [
         "additional_kwargs",
         {
          "refusal": null,
          "tool_calls": [
           {
            "function": {
             "arguments": "{\"query\":\"top movies of all time\"}",
             "name": "search_youtube"
            },
            "id": "call_i9WZvZrTkp1xEsTfycq1EJO2",
            "type": "function"
           }
          ]
         }
        ],
        [
         "response_metadata",
         {
          "finish_reason": "tool_calls",
          "id": "chatcmpl-CGzn3rgVrGClsVQ2N9VYgxYSNZ04u",
          "logprobs": null,
          "model_name": "gpt-4o-mini-2024-07-18",
          "system_fingerprint": "fp_560af6e559",
          "token_usage": {
           "completion_tokens": 19,
           "completion_tokens_details": {
            "accepted_prediction_tokens": 0,
            "audio_tokens": 0,
            "reasoning_tokens": 0,
            "rejected_prediction_tokens": 0
           },
           "prompt_tokens": 389,
           "prompt_tokens_details": {
            "audio_tokens": 0,
            "cached_tokens": 0
           },
           "total_tokens": 408
          }
         }
        ],
        [
         "type",
         "ai"
        ],
        [
         "name",
         null
        ],
        [
         "id",
         "run--248e21be-e9ee-463f-886c-7772dd34ab75-0"
        ],
        [
         "example",
         false
        ],
        [
         "tool_calls",
         [
          {
           "args": {
            "query": "top movies of all time"
           },
           "id": "call_i9WZvZrTkp1xEsTfycq1EJO2",
           "name": "search_youtube",
           "type": "tool_call"
          }
         ]
        ],
        [
         "invalid_tool_calls",
         []
        ],
        [
         "usage_metadata",
         {
          "input_token_details": {
           "audio": 0,
           "cache_read": 0
          },
          "input_tokens": 389,
          "output_token_details": {
           "audio": 0,
           "reasoning": 0
          },
          "output_tokens": 19,
          "total_tokens": 408
         }
        ]
       ],
       [
        [
         "content",
         "[{\"title\": \"Our 50 Favorite Movies of All Time\", \"video_id\": \"gm1Hsgop9Bg\", \"url\": \"https://youtu.be/gm1Hsgop9Bg\"}, {\"title\": \"Top 20 Greatest Movies Of All Time\", \"video_id\": \"6VO9wAfHvC0\", \"url\": \"https://youtu.be/6VO9wAfHvC0\"}, {\"title\": \"top 10 movies worth watching\", \"video_id\": \"lIi7Jj32XUc\", \"url\": \"https://youtu.be/lIi7Jj32XUc\"}, {\"title\": \"Best Adventure Movie You\\u2019ll Never Forget / Temple of the Sun / Full Action in English\", \"video_id\": \"bVAS5afUTUk\", \"url\": \"https://youtu.be/bVAS5afUTUk\"}, {\"title\": \"TOP 50 Best Movies Of All Time | Greatest Movies Ever Made | Must Watch Movies\", \"video_id\": \"2fR2qy_EFr4\", \"url\": \"https://youtu.be/2fR2qy_EFr4\"}, {\"title\": \"My Top 200 Favorite Films of All Time\", \"video_id\": \"mb_kp50VY2c\", \"url\": \"https://youtu.be/mb_kp50VY2c\"}, {\"title\": \"Top 50 Best Movies of All Time - IMDB\", \"video_id\": \"gul5c2CYGQ4\", \"url\": \"https://youtu.be/gul5c2CYGQ4\"}, {\"title\": \"50 Movies to Watch Before You Die\", \"video_id\": \"uY5oF0tZiWI\", \"url\": \"https://youtu.be/uY5oF0tZiWI\"}, {\"title\": \"Top 10 Movies of All Time According to Roger Ebert\", \"video_id\": \"uUSLUPEe7R0\", \"url\": \"https://youtu.be/uUSLUPEe7R0\"}, {\"title\": \"My Top 25 Movies Of All Time\\u2026It\\u2019s NOT What You\\u2019d Expect\", \"video_id\": \"bGO0dzFgw-I\", \"url\": \"https://youtu.be/bGO0dzFgw-I\"}, {\"title\": \"top 5 revenge love story movies in bollywood | best revenge love story movies\", \"video_id\": \"dwhNPQDm_7Q\", \"url\": \"https://youtu.be/dwhNPQDm_7Q\"}, {\"title\": \"The President\\u2019s Sniper | Action Thriller Movie | Hollywood English Movie 2025 | English Full Movie\", \"video_id\": \"E6plGb1qfUM\", \"url\": \"https://youtu.be/E6plGb1qfUM\"}, {\"title\": \"Top 50 Greatest Films of All Time (The Best Movies Ever Made)\", \"video_id\": \"kHZ2h3FbR5k\", \"url\": \"https://youtu.be/kHZ2h3FbR5k\"}, {\"title\": \"Top 10 Movies of All Time\", \"video_id\": \"cYROqsUAw0o\", \"url\": \"https://youtu.be/cYROqsUAw0o\"}, {\"title\": \"Top 50 Greatest Movies of All Time\", \"video_id\": \"F_LOBAeOvXI\", \"url\": \"https://youtu.be/F_LOBAeOvXI\"}, {\"title\": \"Top 20 best movies of all time | Best films | Greatest movies IMDB\", \"video_id\": \"z_wYwyMI2fY\", \"url\": \"https://youtu.be/z_wYwyMI2fY\"}, {\"title\": \"Top 100 Movies of All Time\", \"video_id\": \"Fdg1RedOBO0\", \"url\": \"https://youtu.be/Fdg1RedOBO0\"}, {\"title\": \"The Soldier\\u2019s Trap | Action Thriller Movie | Hollywood English Movie 2025 | English Full Movie\", \"video_id\": \"6pDznXpFNvI\", \"url\": \"https://youtu.be/6pDznXpFNvI\"}, {\"title\": \"Top 10 Greatest Movies of All Time! (Chosen by the Experts)\", \"video_id\": \"idqaREfS1sk\", \"url\": \"https://youtu.be/idqaREfS1sk\"}, {\"title\": \"Top 20 Movies Everyone Needs To See At Least Once\", \"video_id\": \"4V1la2abC68\", \"url\": \"https://youtu.be/4V1la2abC68\"}]"
        ],
        [
         "additional_kwargs",
         {}
        ],
        [
         "response_metadata",
         {}
        ],
        [
         "type",
         "tool"
        ],
        [
         "name",
         null
        ],
        [
         "id",
         null
        ],
        [
         "tool_call_id",
         "call_i9WZvZrTkp1xEsTfycq1EJO2"
        ],
        [
         "artifact",
         null
        ],
        [
         "status",
         "success"
        ]
       ],
       [
        [
         "content",
         ""
        ],
        [
         "additional_kwargs",
         {
          "refusal": null,
          "tool_calls": [
           {
            "function": {
             "arguments": "{\"url\": \"https://youtu.be/gm1Hsgop9Bg\"}",
             "name": "get_full_metadata"
            },
            "id": "call_9LzU2mmuHJvfCC8Sgc9QpBmK",
            "type": "function"
           },
           {
            "function": {
             "arguments": "{\"url\": \"https://youtu.be/6VO9wAfHvC0\"}",
             "name": "get_full_metadata"
            },
            "id": "call_ANE56SPMyMD0fK4XntkznfGx",
            "type": "function"
           },
           {
            "function": {
             "arguments": "{\"url\": \"https://youtu.be/2fR2qy_EFr4\"}",
             "name": "get_full_metadata"
            },
            "id": "call_hVYZmbVFStbGmSgOPEv9g0FN",
            "type": "function"
           }
          ]
         }
        ],
        [
         "response_metadata",
         {
          "finish_reason": "tool_calls",
          "id": "chatcmpl-CGzn4gCjCkT9hDBrWAy6168lTS6iR",
          "logprobs": null,
          "model_name": "gpt-4o-mini-2024-07-18",
          "system_fingerprint": "fp_560af6e559",
          "token_usage": {
           "completion_tokens": 96,
           "completion_tokens_details": {
            "accepted_prediction_tokens": 0,
            "audio_tokens": 0,
            "reasoning_tokens": 0,
            "rejected_prediction_tokens": 0
           },
           "prompt_tokens": 1394,
           "prompt_tokens_details": {
            "audio_tokens": 0,
            "cached_tokens": 0
           },
           "total_tokens": 1490
          }
         }
        ],
        [
         "type",
         "ai"
        ],
        [
         "name",
         null
        ],
        [
         "id",
         "run--45479bd5-699a-4155-9fc1-c5158d8f5d42-0"
        ],
        [
         "example",
         false
        ],
        [
         "tool_calls",
         [
          {
           "args": {
            "url": "https://youtu.be/gm1Hsgop9Bg"
           },
           "id": "call_9LzU2mmuHJvfCC8Sgc9QpBmK",
           "name": "get_full_metadata",
           "type": "tool_call"
          },
          {
           "args": {
            "url": "https://youtu.be/6VO9wAfHvC0"
           },
           "id": "call_ANE56SPMyMD0fK4XntkznfGx",
           "name": "get_full_metadata",
           "type": "tool_call"
          },
          {
           "args": {
            "url": "https://youtu.be/2fR2qy_EFr4"
           },
           "id": "call_hVYZmbVFStbGmSgOPEv9g0FN",
           "name": "get_full_metadata",
           "type": "tool_call"
          }
         ]
        ],
        [
         "invalid_tool_calls",
         []
        ],
        [
         "usage_metadata",
         {
          "input_token_details": {
           "audio": 0,
           "cache_read": 0
          },
          "input_tokens": 1394,
          "output_token_details": {
           "audio": 0,
           "reasoning": 0
          },
          "output_tokens": 96,
          "total_tokens": 1490
         }
        ]
       ]
      ],
      "text/plain": [
       "<IPython.core.display.JSON object>"
      ]
     },
     "metadata": {
      "application/json": {
       "expanded": false,
       "root": "root"
      }
     },
     "output_type": "display_data"
    },
    {
     "name": "stdout",
     "output_type": "stream",
     "text": [
      "-- should_continue --\n",
      "> messages:\n"
     ]
    },
    {
     "data": {
      "application/json": [
       [
        [
         "content",
         "Please provide up to 3 top movies of all the times that can be found on Youtube with their content and number of views. Please do not include metadata in answer"
        ],
        [
         "additional_kwargs",
         {}
        ],
        [
         "response_metadata",
         {}
        ],
        [
         "type",
         "human"
        ],
        [
         "name",
         null
        ],
        [
         "id",
         null
        ],
        [
         "example",
         false
        ]
       ],
       [
        [
         "content",
         ""
        ],
        [
         "additional_kwargs",
         {
          "refusal": null,
          "tool_calls": [
           {
            "function": {
             "arguments": "{\"query\":\"top movies of all time\"}",
             "name": "search_youtube"
            },
            "id": "call_i9WZvZrTkp1xEsTfycq1EJO2",
            "type": "function"
           }
          ]
         }
        ],
        [
         "response_metadata",
         {
          "finish_reason": "tool_calls",
          "id": "chatcmpl-CGzn3rgVrGClsVQ2N9VYgxYSNZ04u",
          "logprobs": null,
          "model_name": "gpt-4o-mini-2024-07-18",
          "system_fingerprint": "fp_560af6e559",
          "token_usage": {
           "completion_tokens": 19,
           "completion_tokens_details": {
            "accepted_prediction_tokens": 0,
            "audio_tokens": 0,
            "reasoning_tokens": 0,
            "rejected_prediction_tokens": 0
           },
           "prompt_tokens": 389,
           "prompt_tokens_details": {
            "audio_tokens": 0,
            "cached_tokens": 0
           },
           "total_tokens": 408
          }
         }
        ],
        [
         "type",
         "ai"
        ],
        [
         "name",
         null
        ],
        [
         "id",
         "run--248e21be-e9ee-463f-886c-7772dd34ab75-0"
        ],
        [
         "example",
         false
        ],
        [
         "tool_calls",
         [
          {
           "args": {
            "query": "top movies of all time"
           },
           "id": "call_i9WZvZrTkp1xEsTfycq1EJO2",
           "name": "search_youtube",
           "type": "tool_call"
          }
         ]
        ],
        [
         "invalid_tool_calls",
         []
        ],
        [
         "usage_metadata",
         {
          "input_token_details": {
           "audio": 0,
           "cache_read": 0
          },
          "input_tokens": 389,
          "output_token_details": {
           "audio": 0,
           "reasoning": 0
          },
          "output_tokens": 19,
          "total_tokens": 408
         }
        ]
       ],
       [
        [
         "content",
         "[{\"title\": \"Our 50 Favorite Movies of All Time\", \"video_id\": \"gm1Hsgop9Bg\", \"url\": \"https://youtu.be/gm1Hsgop9Bg\"}, {\"title\": \"Top 20 Greatest Movies Of All Time\", \"video_id\": \"6VO9wAfHvC0\", \"url\": \"https://youtu.be/6VO9wAfHvC0\"}, {\"title\": \"top 10 movies worth watching\", \"video_id\": \"lIi7Jj32XUc\", \"url\": \"https://youtu.be/lIi7Jj32XUc\"}, {\"title\": \"Best Adventure Movie You\\u2019ll Never Forget / Temple of the Sun / Full Action in English\", \"video_id\": \"bVAS5afUTUk\", \"url\": \"https://youtu.be/bVAS5afUTUk\"}, {\"title\": \"TOP 50 Best Movies Of All Time | Greatest Movies Ever Made | Must Watch Movies\", \"video_id\": \"2fR2qy_EFr4\", \"url\": \"https://youtu.be/2fR2qy_EFr4\"}, {\"title\": \"My Top 200 Favorite Films of All Time\", \"video_id\": \"mb_kp50VY2c\", \"url\": \"https://youtu.be/mb_kp50VY2c\"}, {\"title\": \"Top 50 Best Movies of All Time - IMDB\", \"video_id\": \"gul5c2CYGQ4\", \"url\": \"https://youtu.be/gul5c2CYGQ4\"}, {\"title\": \"50 Movies to Watch Before You Die\", \"video_id\": \"uY5oF0tZiWI\", \"url\": \"https://youtu.be/uY5oF0tZiWI\"}, {\"title\": \"Top 10 Movies of All Time According to Roger Ebert\", \"video_id\": \"uUSLUPEe7R0\", \"url\": \"https://youtu.be/uUSLUPEe7R0\"}, {\"title\": \"My Top 25 Movies Of All Time\\u2026It\\u2019s NOT What You\\u2019d Expect\", \"video_id\": \"bGO0dzFgw-I\", \"url\": \"https://youtu.be/bGO0dzFgw-I\"}, {\"title\": \"top 5 revenge love story movies in bollywood | best revenge love story movies\", \"video_id\": \"dwhNPQDm_7Q\", \"url\": \"https://youtu.be/dwhNPQDm_7Q\"}, {\"title\": \"The President\\u2019s Sniper | Action Thriller Movie | Hollywood English Movie 2025 | English Full Movie\", \"video_id\": \"E6plGb1qfUM\", \"url\": \"https://youtu.be/E6plGb1qfUM\"}, {\"title\": \"Top 50 Greatest Films of All Time (The Best Movies Ever Made)\", \"video_id\": \"kHZ2h3FbR5k\", \"url\": \"https://youtu.be/kHZ2h3FbR5k\"}, {\"title\": \"Top 10 Movies of All Time\", \"video_id\": \"cYROqsUAw0o\", \"url\": \"https://youtu.be/cYROqsUAw0o\"}, {\"title\": \"Top 50 Greatest Movies of All Time\", \"video_id\": \"F_LOBAeOvXI\", \"url\": \"https://youtu.be/F_LOBAeOvXI\"}, {\"title\": \"Top 20 best movies of all time | Best films | Greatest movies IMDB\", \"video_id\": \"z_wYwyMI2fY\", \"url\": \"https://youtu.be/z_wYwyMI2fY\"}, {\"title\": \"Top 100 Movies of All Time\", \"video_id\": \"Fdg1RedOBO0\", \"url\": \"https://youtu.be/Fdg1RedOBO0\"}, {\"title\": \"The Soldier\\u2019s Trap | Action Thriller Movie | Hollywood English Movie 2025 | English Full Movie\", \"video_id\": \"6pDznXpFNvI\", \"url\": \"https://youtu.be/6pDznXpFNvI\"}, {\"title\": \"Top 10 Greatest Movies of All Time! (Chosen by the Experts)\", \"video_id\": \"idqaREfS1sk\", \"url\": \"https://youtu.be/idqaREfS1sk\"}, {\"title\": \"Top 20 Movies Everyone Needs To See At Least Once\", \"video_id\": \"4V1la2abC68\", \"url\": \"https://youtu.be/4V1la2abC68\"}]"
        ],
        [
         "additional_kwargs",
         {}
        ],
        [
         "response_metadata",
         {}
        ],
        [
         "type",
         "tool"
        ],
        [
         "name",
         null
        ],
        [
         "id",
         null
        ],
        [
         "tool_call_id",
         "call_i9WZvZrTkp1xEsTfycq1EJO2"
        ],
        [
         "artifact",
         null
        ],
        [
         "status",
         "success"
        ]
       ],
       [
        [
         "content",
         ""
        ],
        [
         "additional_kwargs",
         {
          "refusal": null,
          "tool_calls": [
           {
            "function": {
             "arguments": "{\"url\": \"https://youtu.be/gm1Hsgop9Bg\"}",
             "name": "get_full_metadata"
            },
            "id": "call_9LzU2mmuHJvfCC8Sgc9QpBmK",
            "type": "function"
           },
           {
            "function": {
             "arguments": "{\"url\": \"https://youtu.be/6VO9wAfHvC0\"}",
             "name": "get_full_metadata"
            },
            "id": "call_ANE56SPMyMD0fK4XntkznfGx",
            "type": "function"
           },
           {
            "function": {
             "arguments": "{\"url\": \"https://youtu.be/2fR2qy_EFr4\"}",
             "name": "get_full_metadata"
            },
            "id": "call_hVYZmbVFStbGmSgOPEv9g0FN",
            "type": "function"
           }
          ]
         }
        ],
        [
         "response_metadata",
         {
          "finish_reason": "tool_calls",
          "id": "chatcmpl-CGzn4gCjCkT9hDBrWAy6168lTS6iR",
          "logprobs": null,
          "model_name": "gpt-4o-mini-2024-07-18",
          "system_fingerprint": "fp_560af6e559",
          "token_usage": {
           "completion_tokens": 96,
           "completion_tokens_details": {
            "accepted_prediction_tokens": 0,
            "audio_tokens": 0,
            "reasoning_tokens": 0,
            "rejected_prediction_tokens": 0
           },
           "prompt_tokens": 1394,
           "prompt_tokens_details": {
            "audio_tokens": 0,
            "cached_tokens": 0
           },
           "total_tokens": 1490
          }
         }
        ],
        [
         "type",
         "ai"
        ],
        [
         "name",
         null
        ],
        [
         "id",
         "run--45479bd5-699a-4155-9fc1-c5158d8f5d42-0"
        ],
        [
         "example",
         false
        ],
        [
         "tool_calls",
         [
          {
           "args": {
            "url": "https://youtu.be/gm1Hsgop9Bg"
           },
           "id": "call_9LzU2mmuHJvfCC8Sgc9QpBmK",
           "name": "get_full_metadata",
           "type": "tool_call"
          },
          {
           "args": {
            "url": "https://youtu.be/6VO9wAfHvC0"
           },
           "id": "call_ANE56SPMyMD0fK4XntkznfGx",
           "name": "get_full_metadata",
           "type": "tool_call"
          },
          {
           "args": {
            "url": "https://youtu.be/2fR2qy_EFr4"
           },
           "id": "call_hVYZmbVFStbGmSgOPEv9g0FN",
           "name": "get_full_metadata",
           "type": "tool_call"
          }
         ]
        ],
        [
         "invalid_tool_calls",
         []
        ],
        [
         "usage_metadata",
         {
          "input_token_details": {
           "audio": 0,
           "cache_read": 0
          },
          "input_tokens": 1394,
          "output_token_details": {
           "audio": 0,
           "reasoning": 0
          },
          "output_tokens": 96,
          "total_tokens": 1490
         }
        ]
       ]
      ],
      "text/plain": [
       "<IPython.core.display.JSON object>"
      ]
     },
     "metadata": {
      "application/json": {
       "expanded": false,
       "root": "root"
      }
     },
     "output_type": "display_data"
    },
    {
     "name": "stdout",
     "output_type": "stream",
     "text": [
      "> last message has tool_calls ?\n",
      "True\n",
      "-- end should_continue --\n",
      "-- process_tool_calls --\n",
      "> messages:\n"
     ]
    },
    {
     "data": {
      "application/json": [
       [
        [
         "content",
         "Please provide up to 3 top movies of all the times that can be found on Youtube with their content and number of views. Please do not include metadata in answer"
        ],
        [
         "additional_kwargs",
         {}
        ],
        [
         "response_metadata",
         {}
        ],
        [
         "type",
         "human"
        ],
        [
         "name",
         null
        ],
        [
         "id",
         null
        ],
        [
         "example",
         false
        ]
       ],
       [
        [
         "content",
         ""
        ],
        [
         "additional_kwargs",
         {
          "refusal": null,
          "tool_calls": [
           {
            "function": {
             "arguments": "{\"query\":\"top movies of all time\"}",
             "name": "search_youtube"
            },
            "id": "call_i9WZvZrTkp1xEsTfycq1EJO2",
            "type": "function"
           }
          ]
         }
        ],
        [
         "response_metadata",
         {
          "finish_reason": "tool_calls",
          "id": "chatcmpl-CGzn3rgVrGClsVQ2N9VYgxYSNZ04u",
          "logprobs": null,
          "model_name": "gpt-4o-mini-2024-07-18",
          "system_fingerprint": "fp_560af6e559",
          "token_usage": {
           "completion_tokens": 19,
           "completion_tokens_details": {
            "accepted_prediction_tokens": 0,
            "audio_tokens": 0,
            "reasoning_tokens": 0,
            "rejected_prediction_tokens": 0
           },
           "prompt_tokens": 389,
           "prompt_tokens_details": {
            "audio_tokens": 0,
            "cached_tokens": 0
           },
           "total_tokens": 408
          }
         }
        ],
        [
         "type",
         "ai"
        ],
        [
         "name",
         null
        ],
        [
         "id",
         "run--248e21be-e9ee-463f-886c-7772dd34ab75-0"
        ],
        [
         "example",
         false
        ],
        [
         "tool_calls",
         [
          {
           "args": {
            "query": "top movies of all time"
           },
           "id": "call_i9WZvZrTkp1xEsTfycq1EJO2",
           "name": "search_youtube",
           "type": "tool_call"
          }
         ]
        ],
        [
         "invalid_tool_calls",
         []
        ],
        [
         "usage_metadata",
         {
          "input_token_details": {
           "audio": 0,
           "cache_read": 0
          },
          "input_tokens": 389,
          "output_token_details": {
           "audio": 0,
           "reasoning": 0
          },
          "output_tokens": 19,
          "total_tokens": 408
         }
        ]
       ],
       [
        [
         "content",
         "[{\"title\": \"Our 50 Favorite Movies of All Time\", \"video_id\": \"gm1Hsgop9Bg\", \"url\": \"https://youtu.be/gm1Hsgop9Bg\"}, {\"title\": \"Top 20 Greatest Movies Of All Time\", \"video_id\": \"6VO9wAfHvC0\", \"url\": \"https://youtu.be/6VO9wAfHvC0\"}, {\"title\": \"top 10 movies worth watching\", \"video_id\": \"lIi7Jj32XUc\", \"url\": \"https://youtu.be/lIi7Jj32XUc\"}, {\"title\": \"Best Adventure Movie You\\u2019ll Never Forget / Temple of the Sun / Full Action in English\", \"video_id\": \"bVAS5afUTUk\", \"url\": \"https://youtu.be/bVAS5afUTUk\"}, {\"title\": \"TOP 50 Best Movies Of All Time | Greatest Movies Ever Made | Must Watch Movies\", \"video_id\": \"2fR2qy_EFr4\", \"url\": \"https://youtu.be/2fR2qy_EFr4\"}, {\"title\": \"My Top 200 Favorite Films of All Time\", \"video_id\": \"mb_kp50VY2c\", \"url\": \"https://youtu.be/mb_kp50VY2c\"}, {\"title\": \"Top 50 Best Movies of All Time - IMDB\", \"video_id\": \"gul5c2CYGQ4\", \"url\": \"https://youtu.be/gul5c2CYGQ4\"}, {\"title\": \"50 Movies to Watch Before You Die\", \"video_id\": \"uY5oF0tZiWI\", \"url\": \"https://youtu.be/uY5oF0tZiWI\"}, {\"title\": \"Top 10 Movies of All Time According to Roger Ebert\", \"video_id\": \"uUSLUPEe7R0\", \"url\": \"https://youtu.be/uUSLUPEe7R0\"}, {\"title\": \"My Top 25 Movies Of All Time\\u2026It\\u2019s NOT What You\\u2019d Expect\", \"video_id\": \"bGO0dzFgw-I\", \"url\": \"https://youtu.be/bGO0dzFgw-I\"}, {\"title\": \"top 5 revenge love story movies in bollywood | best revenge love story movies\", \"video_id\": \"dwhNPQDm_7Q\", \"url\": \"https://youtu.be/dwhNPQDm_7Q\"}, {\"title\": \"The President\\u2019s Sniper | Action Thriller Movie | Hollywood English Movie 2025 | English Full Movie\", \"video_id\": \"E6plGb1qfUM\", \"url\": \"https://youtu.be/E6plGb1qfUM\"}, {\"title\": \"Top 50 Greatest Films of All Time (The Best Movies Ever Made)\", \"video_id\": \"kHZ2h3FbR5k\", \"url\": \"https://youtu.be/kHZ2h3FbR5k\"}, {\"title\": \"Top 10 Movies of All Time\", \"video_id\": \"cYROqsUAw0o\", \"url\": \"https://youtu.be/cYROqsUAw0o\"}, {\"title\": \"Top 50 Greatest Movies of All Time\", \"video_id\": \"F_LOBAeOvXI\", \"url\": \"https://youtu.be/F_LOBAeOvXI\"}, {\"title\": \"Top 20 best movies of all time | Best films | Greatest movies IMDB\", \"video_id\": \"z_wYwyMI2fY\", \"url\": \"https://youtu.be/z_wYwyMI2fY\"}, {\"title\": \"Top 100 Movies of All Time\", \"video_id\": \"Fdg1RedOBO0\", \"url\": \"https://youtu.be/Fdg1RedOBO0\"}, {\"title\": \"The Soldier\\u2019s Trap | Action Thriller Movie | Hollywood English Movie 2025 | English Full Movie\", \"video_id\": \"6pDznXpFNvI\", \"url\": \"https://youtu.be/6pDznXpFNvI\"}, {\"title\": \"Top 10 Greatest Movies of All Time! (Chosen by the Experts)\", \"video_id\": \"idqaREfS1sk\", \"url\": \"https://youtu.be/idqaREfS1sk\"}, {\"title\": \"Top 20 Movies Everyone Needs To See At Least Once\", \"video_id\": \"4V1la2abC68\", \"url\": \"https://youtu.be/4V1la2abC68\"}]"
        ],
        [
         "additional_kwargs",
         {}
        ],
        [
         "response_metadata",
         {}
        ],
        [
         "type",
         "tool"
        ],
        [
         "name",
         null
        ],
        [
         "id",
         null
        ],
        [
         "tool_call_id",
         "call_i9WZvZrTkp1xEsTfycq1EJO2"
        ],
        [
         "artifact",
         null
        ],
        [
         "status",
         "success"
        ]
       ],
       [
        [
         "content",
         ""
        ],
        [
         "additional_kwargs",
         {
          "refusal": null,
          "tool_calls": [
           {
            "function": {
             "arguments": "{\"url\": \"https://youtu.be/gm1Hsgop9Bg\"}",
             "name": "get_full_metadata"
            },
            "id": "call_9LzU2mmuHJvfCC8Sgc9QpBmK",
            "type": "function"
           },
           {
            "function": {
             "arguments": "{\"url\": \"https://youtu.be/6VO9wAfHvC0\"}",
             "name": "get_full_metadata"
            },
            "id": "call_ANE56SPMyMD0fK4XntkznfGx",
            "type": "function"
           },
           {
            "function": {
             "arguments": "{\"url\": \"https://youtu.be/2fR2qy_EFr4\"}",
             "name": "get_full_metadata"
            },
            "id": "call_hVYZmbVFStbGmSgOPEv9g0FN",
            "type": "function"
           }
          ]
         }
        ],
        [
         "response_metadata",
         {
          "finish_reason": "tool_calls",
          "id": "chatcmpl-CGzn4gCjCkT9hDBrWAy6168lTS6iR",
          "logprobs": null,
          "model_name": "gpt-4o-mini-2024-07-18",
          "system_fingerprint": "fp_560af6e559",
          "token_usage": {
           "completion_tokens": 96,
           "completion_tokens_details": {
            "accepted_prediction_tokens": 0,
            "audio_tokens": 0,
            "reasoning_tokens": 0,
            "rejected_prediction_tokens": 0
           },
           "prompt_tokens": 1394,
           "prompt_tokens_details": {
            "audio_tokens": 0,
            "cached_tokens": 0
           },
           "total_tokens": 1490
          }
         }
        ],
        [
         "type",
         "ai"
        ],
        [
         "name",
         null
        ],
        [
         "id",
         "run--45479bd5-699a-4155-9fc1-c5158d8f5d42-0"
        ],
        [
         "example",
         false
        ],
        [
         "tool_calls",
         [
          {
           "args": {
            "url": "https://youtu.be/gm1Hsgop9Bg"
           },
           "id": "call_9LzU2mmuHJvfCC8Sgc9QpBmK",
           "name": "get_full_metadata",
           "type": "tool_call"
          },
          {
           "args": {
            "url": "https://youtu.be/6VO9wAfHvC0"
           },
           "id": "call_ANE56SPMyMD0fK4XntkznfGx",
           "name": "get_full_metadata",
           "type": "tool_call"
          },
          {
           "args": {
            "url": "https://youtu.be/2fR2qy_EFr4"
           },
           "id": "call_hVYZmbVFStbGmSgOPEv9g0FN",
           "name": "get_full_metadata",
           "type": "tool_call"
          }
         ]
        ],
        [
         "invalid_tool_calls",
         []
        ],
        [
         "usage_metadata",
         {
          "input_token_details": {
           "audio": 0,
           "cache_read": 0
          },
          "input_tokens": 1394,
          "output_token_details": {
           "audio": 0,
           "reasoning": 0
          },
          "output_tokens": 96,
          "total_tokens": 1490
         }
        ]
       ]
      ],
      "text/plain": [
       "<IPython.core.display.JSON object>"
      ]
     },
     "metadata": {
      "application/json": {
       "expanded": false,
       "root": "root"
      }
     },
     "output_type": "display_data"
    },
    {
     "name": "stdout",
     "output_type": "stream",
     "text": [
      "-- execute_tool --\n",
      "> tool_call:\n"
     ]
    },
    {
     "data": {
      "application/json": [
       {
        "args": {
         "url": "https://youtu.be/gm1Hsgop9Bg"
        },
        "id": "call_9LzU2mmuHJvfCC8Sgc9QpBmK",
        "name": "get_full_metadata",
        "type": "tool_call"
       }
      ],
      "text/plain": [
       "<IPython.core.display.JSON object>"
      ]
     },
     "metadata": {
      "application/json": {
       "expanded": false,
       "root": "root"
      }
     },
     "output_type": "display_data"
    },
    {
     "name": "stdout",
     "output_type": "stream",
     "text": [
      "content:\n"
     ]
    },
    {
     "data": {
      "application/json": [
       "{\"title\": \"Our 50 Favorite Movies of All Time\", \"views\": 1067389, \"duration\": 232, \"channel\": \"CineFix - IGN Movies and TV\", \"likes\": 23994, \"comments\": 7200, \"chapters\": [{\"start_time\": 0, \"end_time\": 25.0, \"title\": \"<Untitled Chapter 1>\"}, {\"start_time\": 25.0, \"title\": \"THE TREE OF LIFE TERRENCE MALICK 2011\", \"end_time\": 30.0}, {\"start_time\": 30.0, \"title\": \"THE MIRROR ANDREI TARKOVSKY 1975\", \"end_time\": 39.0}, {\"start_time\": 39.0, \"title\": \"THE THIRD MAN CAROL REED 1949\", \"end_time\": 43.0}, {\"start_time\": 43.0, \"title\": \"BLADE RUNNER RIDLEY SCOTT 1982\", \"end_time\": 48.0}, {\"start_time\": 48.0, \"title\": \"THE MASTER\", \"end_time\": 53.0}, {\"start_time\": 53.0, \"title\": \"MISHIMA: A LIFE IN FOUR CHAPTERS\", \"end_time\": 60.0}, {\"start_time\": 60.0, \"title\": \"SEVEN SAMURAI AKIRA KUROSAWA 1954\", \"end_time\": 64.0}, {\"start_time\": 64.0, \"title\": \"DO THE RIGHT THING\", \"end_time\": 69.0}, {\"start_time\": 69.0, \"title\": \"APOCALYPSE NOW FRANCIS FORD COPPOLA 1979\", \"end_time\": 74.0}, {\"start_time\": 74.0, \"title\": \"FIGHT CLUB DAVID FINCHER 1999\", \"end_time\": 78.0}, {\"start_time\": 78.0, \"title\": \"SILENCE OF THE LAMBS\", \"end_time\": 81.0}, {\"start_time\": 81.0, \"title\": \"PULP FICTION QUENTIN TARANTINO 1994\", \"end_time\": 84.0}, {\"start_time\": 84.0, \"title\": \"STAGECOACH JOHN FORD 1939\", \"end_time\": 91.0}, {\"start_time\": 91.0, \"title\": \"NO COUNTRY FOR OLD MEN\", \"end_time\": 100.0}, {\"start_time\": 100.0, \"title\": \"PSYCHO\", \"end_time\": 106.0}, {\"start_time\": 106.0, \"title\": \"SCHINDLER'S LIST STEVEN SPIELBERG 1993\", \"end_time\": 110.0}, {\"start_time\": 110.0, \"title\": \"BEGINNERS MIKE MILLS 2010\", \"end_time\": 114.0}, {\"start_time\": 114.0, \"title\": \"IN THE MOOD FOR LOVE\", \"end_time\": 118.0}, {\"start_time\": 118.0, \"title\": \"SYNECDOCHE, NEW YORK\", \"end_time\": 122.0}, {\"start_time\": 122.0, \"title\": \"BEFORE MIDNIGHT RICHARD LINKLATER 2013\", \"end_time\": 131.0}, {\"start_time\": 131.0, \"title\": \"CROUCHING TIGER, HIDDEN DRAGON\", \"end_time\": 137.0}, {\"start_time\": 137.0, \"title\": \"ADAPTATION SPIKE JONZE 2002\", \"end_time\": 141.0}, {\"start_time\": 141.0, \"title\": \"THE LEGEND OF THE DRUNKEN MASTER\", \"end_time\": 145.0}, {\"start_time\": 145.0, \"title\": \"ETERNAL SUNSHINE OF THE SPOTLESS MIND\", \"end_time\": 149.0}, {\"start_time\": 149.0, \"title\": \"SPIRITED AWAY HAYAO MIYAZAKI 2001\", \"end_time\": 152.0}, {\"start_time\": 152.0, \"title\": \"MONTY PYTHON AND THE HOLY GRAIL\", \"end_time\": 156.0}, {\"start_time\": 156.0, \"title\": \"PARIS, TEXAS WIM WENDERS 1984\", \"end_time\": 160.0}, {\"start_time\": 160.0, \"title\": \"ADVENTURES OF ROBIN HOOD MICHAEL CURTIZ & WILLIAM KEIGHLEY 1938\", \"end_time\": 164.0}, {\"start_time\": 164.0, \"title\": \"CITY OF GOD\", \"end_time\": 167.0}, {\"start_time\": 167.0, \"title\": \"BOYHOOD\", \"end_time\": 171.0}, {\"start_time\": 171.0, \"title\": \"THE FALL TARSEM SINGH 2008\", \"end_time\": 175.0}, {\"start_time\": 175.0, \"title\": \"ANNIE HALL WOODY ALLEN 1977\", \"end_time\": 185.0}, {\"start_time\": 185.0, \"title\": \"THE CONFORMIST BERNARDO BERTOLUCCI 1970\", \"end_time\": 190.0}, {\"start_time\": 190.0, \"title\": \"CITY LIGHTS CHARLIE CHAPLIN 1931\", \"end_time\": 194.0}, {\"start_time\": 194.0, \"title\": \"2001: A SPACE ODYSSEY STANLEY KUBRICK 1968\", \"end_time\": 199.0}, {\"start_time\": 199.0, \"title\": \"CITIZEN KANE ORSON WELLES 1941\", \"end_time\": 203.0}, {\"start_time\": 203.0, \"title\": \"THE GODFATHER FRANCIS FORD COPPOLA 1972\", \"end_time\": 206.0}, {\"start_time\": 206.0, \"title\": \"THE GODFATHER PART II\", \"end_time\": 212.0}, {\"start_time\": 212.0, \"title\": \"CHINATOWN ROMAN POLANSKI 1974\", \"end_time\": 232}]}"
      ],
      "text/plain": [
       "<IPython.core.display.JSON object>"
      ]
     },
     "metadata": {
      "application/json": {
       "expanded": false,
       "root": "root"
      }
     },
     "output_type": "display_data"
    },
    {
     "name": "stdout",
     "output_type": "stream",
     "text": [
      "-- end execute_tool --\n",
      "-- execute_tool --\n",
      "> tool_call:\n"
     ]
    },
    {
     "data": {
      "application/json": [
       {
        "args": {
         "url": "https://youtu.be/6VO9wAfHvC0"
        },
        "id": "call_ANE56SPMyMD0fK4XntkznfGx",
        "name": "get_full_metadata",
        "type": "tool_call"
       }
      ],
      "text/plain": [
       "<IPython.core.display.JSON object>"
      ]
     },
     "metadata": {
      "application/json": {
       "expanded": false,
       "root": "root"
      }
     },
     "output_type": "display_data"
    },
    {
     "name": "stdout",
     "output_type": "stream",
     "text": [
      "content:\n"
     ]
    },
    {
     "data": {
      "application/json": [
       "{\"title\": \"Top 20 Greatest Movies Of All Time\", \"views\": 2367397, \"duration\": 1395, \"channel\": \"WatchMojo.com\", \"likes\": 34285, \"comments\": 29000, \"chapters\": [{\"start_time\": 0.0, \"title\": \"Intro\", \"end_time\": 27.0}, {\"start_time\": 27.0, \"title\": \"20 \\\"Mad Max: Fury Road\\\" (2015)\", \"end_time\": 94.0}, {\"start_time\": 94.0, \"title\": \"\\\"No Country for Old Men\\\" (2007)\", \"end_time\": 189.0}, {\"start_time\": 189.0, \"title\": \"\\\"The Good, the Bad and the Ugly\\\" (1966)\", \"end_time\": 266.0}, {\"start_time\": 266.0, \"title\": \"\\\" 12 Angry Men\\\" (1957)\", \"end_time\": 325.0}, {\"start_time\": 325.0, \"title\": \"\\\"There Will Be Blood\\\" (2007)\", \"end_time\": 378.0}, {\"start_time\": 378.0, \"title\": \"\\\"The Wizard of Oz\\\" (1939)\", \"end_time\": 491.0}, {\"start_time\": 491.0, \"title\": \"\\\"Casablanca\\\" (1942)\", \"end_time\": 544.0}, {\"start_time\": 544.0, \"title\": \"\\\"Singin' in the Rain\\\" (1952)\", \"end_time\": 752.0}, {\"start_time\": 752.0, \"title\": \"2001: A Space Odyssey (1968)\", \"end_time\": 858.0}, {\"start_time\": 858.0, \"title\": \"\\\"Pulp Fiction\\\" (1994)\", \"end_time\": 919.0}, {\"start_time\": 919.0, \"title\": \"\\\"Schindler's List\\\" (1993)\", \"end_time\": 995.0}, {\"start_time\": 995.0, \"title\": \"\\\"Star Wars: Episode V - The Empire Strikes Back\\\" (1980)\", \"end_time\": 1186.0}, {\"start_time\": 1186.0, \"title\": \"Honorable Mentions\", \"end_time\": 1190.0}, {\"start_time\": 1190.0, \"title\": \"\\\"Back to the Future\\\" (1985)\", \"end_time\": 1218.0}, {\"start_time\": 1218.0, \"title\": \"\\\"On the Waterfront\\\" (1954)\", \"end_time\": 1230.0}, {\"start_time\": 1230.0, \"title\": \"\\\"12 Years a Slave\\\" (2013)\", \"end_time\": 1253.0}, {\"start_time\": 1253.0, \"title\": \"\\\"Eternal Sunshine of the Spotless Mind\\\" (2004)\", \"end_time\": 1315.0}, {\"start_time\": 1315.0, \"title\": \"\\\"The Godfather\\\" (1972)\", \"end_time\": 1395}]}"
      ],
      "text/plain": [
       "<IPython.core.display.JSON object>"
      ]
     },
     "metadata": {
      "application/json": {
       "expanded": false,
       "root": "root"
      }
     },
     "output_type": "display_data"
    },
    {
     "name": "stdout",
     "output_type": "stream",
     "text": [
      "-- end execute_tool --\n",
      "-- execute_tool --\n",
      "> tool_call:\n"
     ]
    },
    {
     "data": {
      "application/json": [
       {
        "args": {
         "url": "https://youtu.be/2fR2qy_EFr4"
        },
        "id": "call_hVYZmbVFStbGmSgOPEv9g0FN",
        "name": "get_full_metadata",
        "type": "tool_call"
       }
      ],
      "text/plain": [
       "<IPython.core.display.JSON object>"
      ]
     },
     "metadata": {
      "application/json": {
       "expanded": false,
       "root": "root"
      }
     },
     "output_type": "display_data"
    },
    {
     "name": "stdout",
     "output_type": "stream",
     "text": [
      "content:\n"
     ]
    },
    {
     "data": {
      "application/json": [
       "{\"title\": \"TOP 50 Best Movies Of All Time | Greatest Movies Ever Made | Must Watch Movies\", \"views\": 579167, \"duration\": 2755, \"channel\": \"TOP LIST\", \"likes\": 10247, \"comments\": 1000, \"chapters\": null}"
      ],
      "text/plain": [
       "<IPython.core.display.JSON object>"
      ]
     },
     "metadata": {
      "application/json": {
       "expanded": false,
       "root": "root"
      }
     },
     "output_type": "display_data"
    },
    {
     "name": "stdout",
     "output_type": "stream",
     "text": [
      "-- end execute_tool --\n",
      "> tool_messages:\n"
     ]
    },
    {
     "data": {
      "application/json": [
       [
        [
         "content",
         "{\"title\": \"Our 50 Favorite Movies of All Time\", \"views\": 1067389, \"duration\": 232, \"channel\": \"CineFix - IGN Movies and TV\", \"likes\": 23994, \"comments\": 7200, \"chapters\": [{\"start_time\": 0, \"end_time\": 25.0, \"title\": \"<Untitled Chapter 1>\"}, {\"start_time\": 25.0, \"title\": \"THE TREE OF LIFE TERRENCE MALICK 2011\", \"end_time\": 30.0}, {\"start_time\": 30.0, \"title\": \"THE MIRROR ANDREI TARKOVSKY 1975\", \"end_time\": 39.0}, {\"start_time\": 39.0, \"title\": \"THE THIRD MAN CAROL REED 1949\", \"end_time\": 43.0}, {\"start_time\": 43.0, \"title\": \"BLADE RUNNER RIDLEY SCOTT 1982\", \"end_time\": 48.0}, {\"start_time\": 48.0, \"title\": \"THE MASTER\", \"end_time\": 53.0}, {\"start_time\": 53.0, \"title\": \"MISHIMA: A LIFE IN FOUR CHAPTERS\", \"end_time\": 60.0}, {\"start_time\": 60.0, \"title\": \"SEVEN SAMURAI AKIRA KUROSAWA 1954\", \"end_time\": 64.0}, {\"start_time\": 64.0, \"title\": \"DO THE RIGHT THING\", \"end_time\": 69.0}, {\"start_time\": 69.0, \"title\": \"APOCALYPSE NOW FRANCIS FORD COPPOLA 1979\", \"end_time\": 74.0}, {\"start_time\": 74.0, \"title\": \"FIGHT CLUB DAVID FINCHER 1999\", \"end_time\": 78.0}, {\"start_time\": 78.0, \"title\": \"SILENCE OF THE LAMBS\", \"end_time\": 81.0}, {\"start_time\": 81.0, \"title\": \"PULP FICTION QUENTIN TARANTINO 1994\", \"end_time\": 84.0}, {\"start_time\": 84.0, \"title\": \"STAGECOACH JOHN FORD 1939\", \"end_time\": 91.0}, {\"start_time\": 91.0, \"title\": \"NO COUNTRY FOR OLD MEN\", \"end_time\": 100.0}, {\"start_time\": 100.0, \"title\": \"PSYCHO\", \"end_time\": 106.0}, {\"start_time\": 106.0, \"title\": \"SCHINDLER'S LIST STEVEN SPIELBERG 1993\", \"end_time\": 110.0}, {\"start_time\": 110.0, \"title\": \"BEGINNERS MIKE MILLS 2010\", \"end_time\": 114.0}, {\"start_time\": 114.0, \"title\": \"IN THE MOOD FOR LOVE\", \"end_time\": 118.0}, {\"start_time\": 118.0, \"title\": \"SYNECDOCHE, NEW YORK\", \"end_time\": 122.0}, {\"start_time\": 122.0, \"title\": \"BEFORE MIDNIGHT RICHARD LINKLATER 2013\", \"end_time\": 131.0}, {\"start_time\": 131.0, \"title\": \"CROUCHING TIGER, HIDDEN DRAGON\", \"end_time\": 137.0}, {\"start_time\": 137.0, \"title\": \"ADAPTATION SPIKE JONZE 2002\", \"end_time\": 141.0}, {\"start_time\": 141.0, \"title\": \"THE LEGEND OF THE DRUNKEN MASTER\", \"end_time\": 145.0}, {\"start_time\": 145.0, \"title\": \"ETERNAL SUNSHINE OF THE SPOTLESS MIND\", \"end_time\": 149.0}, {\"start_time\": 149.0, \"title\": \"SPIRITED AWAY HAYAO MIYAZAKI 2001\", \"end_time\": 152.0}, {\"start_time\": 152.0, \"title\": \"MONTY PYTHON AND THE HOLY GRAIL\", \"end_time\": 156.0}, {\"start_time\": 156.0, \"title\": \"PARIS, TEXAS WIM WENDERS 1984\", \"end_time\": 160.0}, {\"start_time\": 160.0, \"title\": \"ADVENTURES OF ROBIN HOOD MICHAEL CURTIZ & WILLIAM KEIGHLEY 1938\", \"end_time\": 164.0}, {\"start_time\": 164.0, \"title\": \"CITY OF GOD\", \"end_time\": 167.0}, {\"start_time\": 167.0, \"title\": \"BOYHOOD\", \"end_time\": 171.0}, {\"start_time\": 171.0, \"title\": \"THE FALL TARSEM SINGH 2008\", \"end_time\": 175.0}, {\"start_time\": 175.0, \"title\": \"ANNIE HALL WOODY ALLEN 1977\", \"end_time\": 185.0}, {\"start_time\": 185.0, \"title\": \"THE CONFORMIST BERNARDO BERTOLUCCI 1970\", \"end_time\": 190.0}, {\"start_time\": 190.0, \"title\": \"CITY LIGHTS CHARLIE CHAPLIN 1931\", \"end_time\": 194.0}, {\"start_time\": 194.0, \"title\": \"2001: A SPACE ODYSSEY STANLEY KUBRICK 1968\", \"end_time\": 199.0}, {\"start_time\": 199.0, \"title\": \"CITIZEN KANE ORSON WELLES 1941\", \"end_time\": 203.0}, {\"start_time\": 203.0, \"title\": \"THE GODFATHER FRANCIS FORD COPPOLA 1972\", \"end_time\": 206.0}, {\"start_time\": 206.0, \"title\": \"THE GODFATHER PART II\", \"end_time\": 212.0}, {\"start_time\": 212.0, \"title\": \"CHINATOWN ROMAN POLANSKI 1974\", \"end_time\": 232}]}"
        ],
        [
         "additional_kwargs",
         {}
        ],
        [
         "response_metadata",
         {}
        ],
        [
         "type",
         "tool"
        ],
        [
         "name",
         null
        ],
        [
         "id",
         null
        ],
        [
         "tool_call_id",
         "call_9LzU2mmuHJvfCC8Sgc9QpBmK"
        ],
        [
         "artifact",
         null
        ],
        [
         "status",
         "success"
        ]
       ],
       [
        [
         "content",
         "{\"title\": \"Top 20 Greatest Movies Of All Time\", \"views\": 2367397, \"duration\": 1395, \"channel\": \"WatchMojo.com\", \"likes\": 34285, \"comments\": 29000, \"chapters\": [{\"start_time\": 0.0, \"title\": \"Intro\", \"end_time\": 27.0}, {\"start_time\": 27.0, \"title\": \"20 \\\"Mad Max: Fury Road\\\" (2015)\", \"end_time\": 94.0}, {\"start_time\": 94.0, \"title\": \"\\\"No Country for Old Men\\\" (2007)\", \"end_time\": 189.0}, {\"start_time\": 189.0, \"title\": \"\\\"The Good, the Bad and the Ugly\\\" (1966)\", \"end_time\": 266.0}, {\"start_time\": 266.0, \"title\": \"\\\" 12 Angry Men\\\" (1957)\", \"end_time\": 325.0}, {\"start_time\": 325.0, \"title\": \"\\\"There Will Be Blood\\\" (2007)\", \"end_time\": 378.0}, {\"start_time\": 378.0, \"title\": \"\\\"The Wizard of Oz\\\" (1939)\", \"end_time\": 491.0}, {\"start_time\": 491.0, \"title\": \"\\\"Casablanca\\\" (1942)\", \"end_time\": 544.0}, {\"start_time\": 544.0, \"title\": \"\\\"Singin' in the Rain\\\" (1952)\", \"end_time\": 752.0}, {\"start_time\": 752.0, \"title\": \"2001: A Space Odyssey (1968)\", \"end_time\": 858.0}, {\"start_time\": 858.0, \"title\": \"\\\"Pulp Fiction\\\" (1994)\", \"end_time\": 919.0}, {\"start_time\": 919.0, \"title\": \"\\\"Schindler's List\\\" (1993)\", \"end_time\": 995.0}, {\"start_time\": 995.0, \"title\": \"\\\"Star Wars: Episode V - The Empire Strikes Back\\\" (1980)\", \"end_time\": 1186.0}, {\"start_time\": 1186.0, \"title\": \"Honorable Mentions\", \"end_time\": 1190.0}, {\"start_time\": 1190.0, \"title\": \"\\\"Back to the Future\\\" (1985)\", \"end_time\": 1218.0}, {\"start_time\": 1218.0, \"title\": \"\\\"On the Waterfront\\\" (1954)\", \"end_time\": 1230.0}, {\"start_time\": 1230.0, \"title\": \"\\\"12 Years a Slave\\\" (2013)\", \"end_time\": 1253.0}, {\"start_time\": 1253.0, \"title\": \"\\\"Eternal Sunshine of the Spotless Mind\\\" (2004)\", \"end_time\": 1315.0}, {\"start_time\": 1315.0, \"title\": \"\\\"The Godfather\\\" (1972)\", \"end_time\": 1395}]}"
        ],
        [
         "additional_kwargs",
         {}
        ],
        [
         "response_metadata",
         {}
        ],
        [
         "type",
         "tool"
        ],
        [
         "name",
         null
        ],
        [
         "id",
         null
        ],
        [
         "tool_call_id",
         "call_ANE56SPMyMD0fK4XntkznfGx"
        ],
        [
         "artifact",
         null
        ],
        [
         "status",
         "success"
        ]
       ],
       [
        [
         "content",
         "{\"title\": \"TOP 50 Best Movies Of All Time | Greatest Movies Ever Made | Must Watch Movies\", \"views\": 579167, \"duration\": 2755, \"channel\": \"TOP LIST\", \"likes\": 10247, \"comments\": 1000, \"chapters\": null}"
        ],
        [
         "additional_kwargs",
         {}
        ],
        [
         "response_metadata",
         {}
        ],
        [
         "type",
         "tool"
        ],
        [
         "name",
         null
        ],
        [
         "id",
         null
        ],
        [
         "tool_call_id",
         "call_hVYZmbVFStbGmSgOPEv9g0FN"
        ],
        [
         "artifact",
         null
        ],
        [
         "status",
         "success"
        ]
       ]
      ],
      "text/plain": [
       "<IPython.core.display.JSON object>"
      ]
     },
     "metadata": {
      "application/json": {
       "expanded": false,
       "root": "root"
      }
     },
     "output_type": "display_data"
    },
    {
     "name": "stdout",
     "output_type": "stream",
     "text": [
      "> updated_messages:\n"
     ]
    },
    {
     "data": {
      "application/json": [
       [
        [
         "content",
         "Please provide up to 3 top movies of all the times that can be found on Youtube with their content and number of views. Please do not include metadata in answer"
        ],
        [
         "additional_kwargs",
         {}
        ],
        [
         "response_metadata",
         {}
        ],
        [
         "type",
         "human"
        ],
        [
         "name",
         null
        ],
        [
         "id",
         null
        ],
        [
         "example",
         false
        ]
       ],
       [
        [
         "content",
         ""
        ],
        [
         "additional_kwargs",
         {
          "refusal": null,
          "tool_calls": [
           {
            "function": {
             "arguments": "{\"query\":\"top movies of all time\"}",
             "name": "search_youtube"
            },
            "id": "call_i9WZvZrTkp1xEsTfycq1EJO2",
            "type": "function"
           }
          ]
         }
        ],
        [
         "response_metadata",
         {
          "finish_reason": "tool_calls",
          "id": "chatcmpl-CGzn3rgVrGClsVQ2N9VYgxYSNZ04u",
          "logprobs": null,
          "model_name": "gpt-4o-mini-2024-07-18",
          "system_fingerprint": "fp_560af6e559",
          "token_usage": {
           "completion_tokens": 19,
           "completion_tokens_details": {
            "accepted_prediction_tokens": 0,
            "audio_tokens": 0,
            "reasoning_tokens": 0,
            "rejected_prediction_tokens": 0
           },
           "prompt_tokens": 389,
           "prompt_tokens_details": {
            "audio_tokens": 0,
            "cached_tokens": 0
           },
           "total_tokens": 408
          }
         }
        ],
        [
         "type",
         "ai"
        ],
        [
         "name",
         null
        ],
        [
         "id",
         "run--248e21be-e9ee-463f-886c-7772dd34ab75-0"
        ],
        [
         "example",
         false
        ],
        [
         "tool_calls",
         [
          {
           "args": {
            "query": "top movies of all time"
           },
           "id": "call_i9WZvZrTkp1xEsTfycq1EJO2",
           "name": "search_youtube",
           "type": "tool_call"
          }
         ]
        ],
        [
         "invalid_tool_calls",
         []
        ],
        [
         "usage_metadata",
         {
          "input_token_details": {
           "audio": 0,
           "cache_read": 0
          },
          "input_tokens": 389,
          "output_token_details": {
           "audio": 0,
           "reasoning": 0
          },
          "output_tokens": 19,
          "total_tokens": 408
         }
        ]
       ],
       [
        [
         "content",
         "[{\"title\": \"Our 50 Favorite Movies of All Time\", \"video_id\": \"gm1Hsgop9Bg\", \"url\": \"https://youtu.be/gm1Hsgop9Bg\"}, {\"title\": \"Top 20 Greatest Movies Of All Time\", \"video_id\": \"6VO9wAfHvC0\", \"url\": \"https://youtu.be/6VO9wAfHvC0\"}, {\"title\": \"top 10 movies worth watching\", \"video_id\": \"lIi7Jj32XUc\", \"url\": \"https://youtu.be/lIi7Jj32XUc\"}, {\"title\": \"Best Adventure Movie You\\u2019ll Never Forget / Temple of the Sun / Full Action in English\", \"video_id\": \"bVAS5afUTUk\", \"url\": \"https://youtu.be/bVAS5afUTUk\"}, {\"title\": \"TOP 50 Best Movies Of All Time | Greatest Movies Ever Made | Must Watch Movies\", \"video_id\": \"2fR2qy_EFr4\", \"url\": \"https://youtu.be/2fR2qy_EFr4\"}, {\"title\": \"My Top 200 Favorite Films of All Time\", \"video_id\": \"mb_kp50VY2c\", \"url\": \"https://youtu.be/mb_kp50VY2c\"}, {\"title\": \"Top 50 Best Movies of All Time - IMDB\", \"video_id\": \"gul5c2CYGQ4\", \"url\": \"https://youtu.be/gul5c2CYGQ4\"}, {\"title\": \"50 Movies to Watch Before You Die\", \"video_id\": \"uY5oF0tZiWI\", \"url\": \"https://youtu.be/uY5oF0tZiWI\"}, {\"title\": \"Top 10 Movies of All Time According to Roger Ebert\", \"video_id\": \"uUSLUPEe7R0\", \"url\": \"https://youtu.be/uUSLUPEe7R0\"}, {\"title\": \"My Top 25 Movies Of All Time\\u2026It\\u2019s NOT What You\\u2019d Expect\", \"video_id\": \"bGO0dzFgw-I\", \"url\": \"https://youtu.be/bGO0dzFgw-I\"}, {\"title\": \"top 5 revenge love story movies in bollywood | best revenge love story movies\", \"video_id\": \"dwhNPQDm_7Q\", \"url\": \"https://youtu.be/dwhNPQDm_7Q\"}, {\"title\": \"The President\\u2019s Sniper | Action Thriller Movie | Hollywood English Movie 2025 | English Full Movie\", \"video_id\": \"E6plGb1qfUM\", \"url\": \"https://youtu.be/E6plGb1qfUM\"}, {\"title\": \"Top 50 Greatest Films of All Time (The Best Movies Ever Made)\", \"video_id\": \"kHZ2h3FbR5k\", \"url\": \"https://youtu.be/kHZ2h3FbR5k\"}, {\"title\": \"Top 10 Movies of All Time\", \"video_id\": \"cYROqsUAw0o\", \"url\": \"https://youtu.be/cYROqsUAw0o\"}, {\"title\": \"Top 50 Greatest Movies of All Time\", \"video_id\": \"F_LOBAeOvXI\", \"url\": \"https://youtu.be/F_LOBAeOvXI\"}, {\"title\": \"Top 20 best movies of all time | Best films | Greatest movies IMDB\", \"video_id\": \"z_wYwyMI2fY\", \"url\": \"https://youtu.be/z_wYwyMI2fY\"}, {\"title\": \"Top 100 Movies of All Time\", \"video_id\": \"Fdg1RedOBO0\", \"url\": \"https://youtu.be/Fdg1RedOBO0\"}, {\"title\": \"The Soldier\\u2019s Trap | Action Thriller Movie | Hollywood English Movie 2025 | English Full Movie\", \"video_id\": \"6pDznXpFNvI\", \"url\": \"https://youtu.be/6pDznXpFNvI\"}, {\"title\": \"Top 10 Greatest Movies of All Time! (Chosen by the Experts)\", \"video_id\": \"idqaREfS1sk\", \"url\": \"https://youtu.be/idqaREfS1sk\"}, {\"title\": \"Top 20 Movies Everyone Needs To See At Least Once\", \"video_id\": \"4V1la2abC68\", \"url\": \"https://youtu.be/4V1la2abC68\"}]"
        ],
        [
         "additional_kwargs",
         {}
        ],
        [
         "response_metadata",
         {}
        ],
        [
         "type",
         "tool"
        ],
        [
         "name",
         null
        ],
        [
         "id",
         null
        ],
        [
         "tool_call_id",
         "call_i9WZvZrTkp1xEsTfycq1EJO2"
        ],
        [
         "artifact",
         null
        ],
        [
         "status",
         "success"
        ]
       ],
       [
        [
         "content",
         ""
        ],
        [
         "additional_kwargs",
         {
          "refusal": null,
          "tool_calls": [
           {
            "function": {
             "arguments": "{\"url\": \"https://youtu.be/gm1Hsgop9Bg\"}",
             "name": "get_full_metadata"
            },
            "id": "call_9LzU2mmuHJvfCC8Sgc9QpBmK",
            "type": "function"
           },
           {
            "function": {
             "arguments": "{\"url\": \"https://youtu.be/6VO9wAfHvC0\"}",
             "name": "get_full_metadata"
            },
            "id": "call_ANE56SPMyMD0fK4XntkznfGx",
            "type": "function"
           },
           {
            "function": {
             "arguments": "{\"url\": \"https://youtu.be/2fR2qy_EFr4\"}",
             "name": "get_full_metadata"
            },
            "id": "call_hVYZmbVFStbGmSgOPEv9g0FN",
            "type": "function"
           }
          ]
         }
        ],
        [
         "response_metadata",
         {
          "finish_reason": "tool_calls",
          "id": "chatcmpl-CGzn4gCjCkT9hDBrWAy6168lTS6iR",
          "logprobs": null,
          "model_name": "gpt-4o-mini-2024-07-18",
          "system_fingerprint": "fp_560af6e559",
          "token_usage": {
           "completion_tokens": 96,
           "completion_tokens_details": {
            "accepted_prediction_tokens": 0,
            "audio_tokens": 0,
            "reasoning_tokens": 0,
            "rejected_prediction_tokens": 0
           },
           "prompt_tokens": 1394,
           "prompt_tokens_details": {
            "audio_tokens": 0,
            "cached_tokens": 0
           },
           "total_tokens": 1490
          }
         }
        ],
        [
         "type",
         "ai"
        ],
        [
         "name",
         null
        ],
        [
         "id",
         "run--45479bd5-699a-4155-9fc1-c5158d8f5d42-0"
        ],
        [
         "example",
         false
        ],
        [
         "tool_calls",
         [
          {
           "args": {
            "url": "https://youtu.be/gm1Hsgop9Bg"
           },
           "id": "call_9LzU2mmuHJvfCC8Sgc9QpBmK",
           "name": "get_full_metadata",
           "type": "tool_call"
          },
          {
           "args": {
            "url": "https://youtu.be/6VO9wAfHvC0"
           },
           "id": "call_ANE56SPMyMD0fK4XntkznfGx",
           "name": "get_full_metadata",
           "type": "tool_call"
          },
          {
           "args": {
            "url": "https://youtu.be/2fR2qy_EFr4"
           },
           "id": "call_hVYZmbVFStbGmSgOPEv9g0FN",
           "name": "get_full_metadata",
           "type": "tool_call"
          }
         ]
        ],
        [
         "invalid_tool_calls",
         []
        ],
        [
         "usage_metadata",
         {
          "input_token_details": {
           "audio": 0,
           "cache_read": 0
          },
          "input_tokens": 1394,
          "output_token_details": {
           "audio": 0,
           "reasoning": 0
          },
          "output_tokens": 96,
          "total_tokens": 1490
         }
        ]
       ],
       [
        [
         "content",
         "{\"title\": \"Our 50 Favorite Movies of All Time\", \"views\": 1067389, \"duration\": 232, \"channel\": \"CineFix - IGN Movies and TV\", \"likes\": 23994, \"comments\": 7200, \"chapters\": [{\"start_time\": 0, \"end_time\": 25.0, \"title\": \"<Untitled Chapter 1>\"}, {\"start_time\": 25.0, \"title\": \"THE TREE OF LIFE TERRENCE MALICK 2011\", \"end_time\": 30.0}, {\"start_time\": 30.0, \"title\": \"THE MIRROR ANDREI TARKOVSKY 1975\", \"end_time\": 39.0}, {\"start_time\": 39.0, \"title\": \"THE THIRD MAN CAROL REED 1949\", \"end_time\": 43.0}, {\"start_time\": 43.0, \"title\": \"BLADE RUNNER RIDLEY SCOTT 1982\", \"end_time\": 48.0}, {\"start_time\": 48.0, \"title\": \"THE MASTER\", \"end_time\": 53.0}, {\"start_time\": 53.0, \"title\": \"MISHIMA: A LIFE IN FOUR CHAPTERS\", \"end_time\": 60.0}, {\"start_time\": 60.0, \"title\": \"SEVEN SAMURAI AKIRA KUROSAWA 1954\", \"end_time\": 64.0}, {\"start_time\": 64.0, \"title\": \"DO THE RIGHT THING\", \"end_time\": 69.0}, {\"start_time\": 69.0, \"title\": \"APOCALYPSE NOW FRANCIS FORD COPPOLA 1979\", \"end_time\": 74.0}, {\"start_time\": 74.0, \"title\": \"FIGHT CLUB DAVID FINCHER 1999\", \"end_time\": 78.0}, {\"start_time\": 78.0, \"title\": \"SILENCE OF THE LAMBS\", \"end_time\": 81.0}, {\"start_time\": 81.0, \"title\": \"PULP FICTION QUENTIN TARANTINO 1994\", \"end_time\": 84.0}, {\"start_time\": 84.0, \"title\": \"STAGECOACH JOHN FORD 1939\", \"end_time\": 91.0}, {\"start_time\": 91.0, \"title\": \"NO COUNTRY FOR OLD MEN\", \"end_time\": 100.0}, {\"start_time\": 100.0, \"title\": \"PSYCHO\", \"end_time\": 106.0}, {\"start_time\": 106.0, \"title\": \"SCHINDLER'S LIST STEVEN SPIELBERG 1993\", \"end_time\": 110.0}, {\"start_time\": 110.0, \"title\": \"BEGINNERS MIKE MILLS 2010\", \"end_time\": 114.0}, {\"start_time\": 114.0, \"title\": \"IN THE MOOD FOR LOVE\", \"end_time\": 118.0}, {\"start_time\": 118.0, \"title\": \"SYNECDOCHE, NEW YORK\", \"end_time\": 122.0}, {\"start_time\": 122.0, \"title\": \"BEFORE MIDNIGHT RICHARD LINKLATER 2013\", \"end_time\": 131.0}, {\"start_time\": 131.0, \"title\": \"CROUCHING TIGER, HIDDEN DRAGON\", \"end_time\": 137.0}, {\"start_time\": 137.0, \"title\": \"ADAPTATION SPIKE JONZE 2002\", \"end_time\": 141.0}, {\"start_time\": 141.0, \"title\": \"THE LEGEND OF THE DRUNKEN MASTER\", \"end_time\": 145.0}, {\"start_time\": 145.0, \"title\": \"ETERNAL SUNSHINE OF THE SPOTLESS MIND\", \"end_time\": 149.0}, {\"start_time\": 149.0, \"title\": \"SPIRITED AWAY HAYAO MIYAZAKI 2001\", \"end_time\": 152.0}, {\"start_time\": 152.0, \"title\": \"MONTY PYTHON AND THE HOLY GRAIL\", \"end_time\": 156.0}, {\"start_time\": 156.0, \"title\": \"PARIS, TEXAS WIM WENDERS 1984\", \"end_time\": 160.0}, {\"start_time\": 160.0, \"title\": \"ADVENTURES OF ROBIN HOOD MICHAEL CURTIZ & WILLIAM KEIGHLEY 1938\", \"end_time\": 164.0}, {\"start_time\": 164.0, \"title\": \"CITY OF GOD\", \"end_time\": 167.0}, {\"start_time\": 167.0, \"title\": \"BOYHOOD\", \"end_time\": 171.0}, {\"start_time\": 171.0, \"title\": \"THE FALL TARSEM SINGH 2008\", \"end_time\": 175.0}, {\"start_time\": 175.0, \"title\": \"ANNIE HALL WOODY ALLEN 1977\", \"end_time\": 185.0}, {\"start_time\": 185.0, \"title\": \"THE CONFORMIST BERNARDO BERTOLUCCI 1970\", \"end_time\": 190.0}, {\"start_time\": 190.0, \"title\": \"CITY LIGHTS CHARLIE CHAPLIN 1931\", \"end_time\": 194.0}, {\"start_time\": 194.0, \"title\": \"2001: A SPACE ODYSSEY STANLEY KUBRICK 1968\", \"end_time\": 199.0}, {\"start_time\": 199.0, \"title\": \"CITIZEN KANE ORSON WELLES 1941\", \"end_time\": 203.0}, {\"start_time\": 203.0, \"title\": \"THE GODFATHER FRANCIS FORD COPPOLA 1972\", \"end_time\": 206.0}, {\"start_time\": 206.0, \"title\": \"THE GODFATHER PART II\", \"end_time\": 212.0}, {\"start_time\": 212.0, \"title\": \"CHINATOWN ROMAN POLANSKI 1974\", \"end_time\": 232}]}"
        ],
        [
         "additional_kwargs",
         {}
        ],
        [
         "response_metadata",
         {}
        ],
        [
         "type",
         "tool"
        ],
        [
         "name",
         null
        ],
        [
         "id",
         null
        ],
        [
         "tool_call_id",
         "call_9LzU2mmuHJvfCC8Sgc9QpBmK"
        ],
        [
         "artifact",
         null
        ],
        [
         "status",
         "success"
        ]
       ],
       [
        [
         "content",
         "{\"title\": \"Top 20 Greatest Movies Of All Time\", \"views\": 2367397, \"duration\": 1395, \"channel\": \"WatchMojo.com\", \"likes\": 34285, \"comments\": 29000, \"chapters\": [{\"start_time\": 0.0, \"title\": \"Intro\", \"end_time\": 27.0}, {\"start_time\": 27.0, \"title\": \"20 \\\"Mad Max: Fury Road\\\" (2015)\", \"end_time\": 94.0}, {\"start_time\": 94.0, \"title\": \"\\\"No Country for Old Men\\\" (2007)\", \"end_time\": 189.0}, {\"start_time\": 189.0, \"title\": \"\\\"The Good, the Bad and the Ugly\\\" (1966)\", \"end_time\": 266.0}, {\"start_time\": 266.0, \"title\": \"\\\" 12 Angry Men\\\" (1957)\", \"end_time\": 325.0}, {\"start_time\": 325.0, \"title\": \"\\\"There Will Be Blood\\\" (2007)\", \"end_time\": 378.0}, {\"start_time\": 378.0, \"title\": \"\\\"The Wizard of Oz\\\" (1939)\", \"end_time\": 491.0}, {\"start_time\": 491.0, \"title\": \"\\\"Casablanca\\\" (1942)\", \"end_time\": 544.0}, {\"start_time\": 544.0, \"title\": \"\\\"Singin' in the Rain\\\" (1952)\", \"end_time\": 752.0}, {\"start_time\": 752.0, \"title\": \"2001: A Space Odyssey (1968)\", \"end_time\": 858.0}, {\"start_time\": 858.0, \"title\": \"\\\"Pulp Fiction\\\" (1994)\", \"end_time\": 919.0}, {\"start_time\": 919.0, \"title\": \"\\\"Schindler's List\\\" (1993)\", \"end_time\": 995.0}, {\"start_time\": 995.0, \"title\": \"\\\"Star Wars: Episode V - The Empire Strikes Back\\\" (1980)\", \"end_time\": 1186.0}, {\"start_time\": 1186.0, \"title\": \"Honorable Mentions\", \"end_time\": 1190.0}, {\"start_time\": 1190.0, \"title\": \"\\\"Back to the Future\\\" (1985)\", \"end_time\": 1218.0}, {\"start_time\": 1218.0, \"title\": \"\\\"On the Waterfront\\\" (1954)\", \"end_time\": 1230.0}, {\"start_time\": 1230.0, \"title\": \"\\\"12 Years a Slave\\\" (2013)\", \"end_time\": 1253.0}, {\"start_time\": 1253.0, \"title\": \"\\\"Eternal Sunshine of the Spotless Mind\\\" (2004)\", \"end_time\": 1315.0}, {\"start_time\": 1315.0, \"title\": \"\\\"The Godfather\\\" (1972)\", \"end_time\": 1395}]}"
        ],
        [
         "additional_kwargs",
         {}
        ],
        [
         "response_metadata",
         {}
        ],
        [
         "type",
         "tool"
        ],
        [
         "name",
         null
        ],
        [
         "id",
         null
        ],
        [
         "tool_call_id",
         "call_ANE56SPMyMD0fK4XntkznfGx"
        ],
        [
         "artifact",
         null
        ],
        [
         "status",
         "success"
        ]
       ],
       [
        [
         "content",
         "{\"title\": \"TOP 50 Best Movies Of All Time | Greatest Movies Ever Made | Must Watch Movies\", \"views\": 579167, \"duration\": 2755, \"channel\": \"TOP LIST\", \"likes\": 10247, \"comments\": 1000, \"chapters\": null}"
        ],
        [
         "additional_kwargs",
         {}
        ],
        [
         "response_metadata",
         {}
        ],
        [
         "type",
         "tool"
        ],
        [
         "name",
         null
        ],
        [
         "id",
         null
        ],
        [
         "tool_call_id",
         "call_hVYZmbVFStbGmSgOPEv9g0FN"
        ],
        [
         "artifact",
         null
        ],
        [
         "status",
         "success"
        ]
       ]
      ],
      "text/plain": [
       "<IPython.core.display.JSON object>"
      ]
     },
     "metadata": {
      "application/json": {
       "expanded": false,
       "root": "root"
      }
     },
     "output_type": "display_data"
    },
    {
     "name": "stdout",
     "output_type": "stream",
     "text": [
      "> next_ai_response:\n"
     ]
    },
    {
     "data": {
      "application/json": [
       [
        [
         "content",
         "Here are three top movies of all time that can be found on YouTube, along with their content and number of views:\n\n1. **Our 50 Favorite Movies of All Time**\n   - **Views:** 1,067,389\n   - [Watch here](https://youtu.be/gm1Hsgop9Bg)\n\n2. **Top 20 Greatest Movies Of All Time**\n   - **Views:** 2,367,397\n   - [Watch here](https://youtu.be/6VO9wAfHvC0)\n\n3. **TOP 50 Best Movies Of All Time | Greatest Movies Ever Made | Must Watch Movies**\n   - **Views:** 579,167\n   - [Watch here](https://youtu.be/2fR2qy_EFr4)"
        ],
        [
         "additional_kwargs",
         {
          "refusal": null
         }
        ],
        [
         "response_metadata",
         {
          "finish_reason": "stop",
          "id": "chatcmpl-CGznIxGKoy6PkhUk4yAz60UevraXi",
          "logprobs": null,
          "model_name": "gpt-4o-mini-2024-07-18",
          "system_fingerprint": "fp_560af6e559",
          "token_usage": {
           "completion_tokens": 164,
           "completion_tokens_details": {
            "accepted_prediction_tokens": 0,
            "audio_tokens": 0,
            "reasoning_tokens": 0,
            "rejected_prediction_tokens": 0
           },
           "prompt_tokens": 3636,
           "prompt_tokens_details": {
            "audio_tokens": 0,
            "cached_tokens": 1408
           },
           "total_tokens": 3800
          }
         }
        ],
        [
         "type",
         "ai"
        ],
        [
         "name",
         null
        ],
        [
         "id",
         "run--a548df32-07b8-42a1-b080-1bec2f4ff44f-0"
        ],
        [
         "example",
         false
        ],
        [
         "tool_calls",
         []
        ],
        [
         "invalid_tool_calls",
         []
        ],
        [
         "usage_metadata",
         {
          "input_token_details": {
           "audio": 0,
           "cache_read": 1408
          },
          "input_tokens": 3636,
          "output_token_details": {
           "audio": 0,
           "reasoning": 0
          },
          "output_tokens": 164,
          "total_tokens": 3800
         }
        ]
       ]
      ],
      "text/plain": [
       "<IPython.core.display.JSON object>"
      ]
     },
     "metadata": {
      "application/json": {
       "expanded": false,
       "root": "root"
      }
     },
     "output_type": "display_data"
    },
    {
     "name": "stdout",
     "output_type": "stream",
     "text": [
      "-- end process_tool_calls --\n",
      "> new_messages in _recursive_chain:\n"
     ]
    },
    {
     "data": {
      "application/json": [
       [
        [
         "content",
         "Please provide up to 3 top movies of all the times that can be found on Youtube with their content and number of views. Please do not include metadata in answer"
        ],
        [
         "additional_kwargs",
         {}
        ],
        [
         "response_metadata",
         {}
        ],
        [
         "type",
         "human"
        ],
        [
         "name",
         null
        ],
        [
         "id",
         null
        ],
        [
         "example",
         false
        ]
       ],
       [
        [
         "content",
         ""
        ],
        [
         "additional_kwargs",
         {
          "refusal": null,
          "tool_calls": [
           {
            "function": {
             "arguments": "{\"query\":\"top movies of all time\"}",
             "name": "search_youtube"
            },
            "id": "call_i9WZvZrTkp1xEsTfycq1EJO2",
            "type": "function"
           }
          ]
         }
        ],
        [
         "response_metadata",
         {
          "finish_reason": "tool_calls",
          "id": "chatcmpl-CGzn3rgVrGClsVQ2N9VYgxYSNZ04u",
          "logprobs": null,
          "model_name": "gpt-4o-mini-2024-07-18",
          "system_fingerprint": "fp_560af6e559",
          "token_usage": {
           "completion_tokens": 19,
           "completion_tokens_details": {
            "accepted_prediction_tokens": 0,
            "audio_tokens": 0,
            "reasoning_tokens": 0,
            "rejected_prediction_tokens": 0
           },
           "prompt_tokens": 389,
           "prompt_tokens_details": {
            "audio_tokens": 0,
            "cached_tokens": 0
           },
           "total_tokens": 408
          }
         }
        ],
        [
         "type",
         "ai"
        ],
        [
         "name",
         null
        ],
        [
         "id",
         "run--248e21be-e9ee-463f-886c-7772dd34ab75-0"
        ],
        [
         "example",
         false
        ],
        [
         "tool_calls",
         [
          {
           "args": {
            "query": "top movies of all time"
           },
           "id": "call_i9WZvZrTkp1xEsTfycq1EJO2",
           "name": "search_youtube",
           "type": "tool_call"
          }
         ]
        ],
        [
         "invalid_tool_calls",
         []
        ],
        [
         "usage_metadata",
         {
          "input_token_details": {
           "audio": 0,
           "cache_read": 0
          },
          "input_tokens": 389,
          "output_token_details": {
           "audio": 0,
           "reasoning": 0
          },
          "output_tokens": 19,
          "total_tokens": 408
         }
        ]
       ],
       [
        [
         "content",
         "[{\"title\": \"Our 50 Favorite Movies of All Time\", \"video_id\": \"gm1Hsgop9Bg\", \"url\": \"https://youtu.be/gm1Hsgop9Bg\"}, {\"title\": \"Top 20 Greatest Movies Of All Time\", \"video_id\": \"6VO9wAfHvC0\", \"url\": \"https://youtu.be/6VO9wAfHvC0\"}, {\"title\": \"top 10 movies worth watching\", \"video_id\": \"lIi7Jj32XUc\", \"url\": \"https://youtu.be/lIi7Jj32XUc\"}, {\"title\": \"Best Adventure Movie You\\u2019ll Never Forget / Temple of the Sun / Full Action in English\", \"video_id\": \"bVAS5afUTUk\", \"url\": \"https://youtu.be/bVAS5afUTUk\"}, {\"title\": \"TOP 50 Best Movies Of All Time | Greatest Movies Ever Made | Must Watch Movies\", \"video_id\": \"2fR2qy_EFr4\", \"url\": \"https://youtu.be/2fR2qy_EFr4\"}, {\"title\": \"My Top 200 Favorite Films of All Time\", \"video_id\": \"mb_kp50VY2c\", \"url\": \"https://youtu.be/mb_kp50VY2c\"}, {\"title\": \"Top 50 Best Movies of All Time - IMDB\", \"video_id\": \"gul5c2CYGQ4\", \"url\": \"https://youtu.be/gul5c2CYGQ4\"}, {\"title\": \"50 Movies to Watch Before You Die\", \"video_id\": \"uY5oF0tZiWI\", \"url\": \"https://youtu.be/uY5oF0tZiWI\"}, {\"title\": \"Top 10 Movies of All Time According to Roger Ebert\", \"video_id\": \"uUSLUPEe7R0\", \"url\": \"https://youtu.be/uUSLUPEe7R0\"}, {\"title\": \"My Top 25 Movies Of All Time\\u2026It\\u2019s NOT What You\\u2019d Expect\", \"video_id\": \"bGO0dzFgw-I\", \"url\": \"https://youtu.be/bGO0dzFgw-I\"}, {\"title\": \"top 5 revenge love story movies in bollywood | best revenge love story movies\", \"video_id\": \"dwhNPQDm_7Q\", \"url\": \"https://youtu.be/dwhNPQDm_7Q\"}, {\"title\": \"The President\\u2019s Sniper | Action Thriller Movie | Hollywood English Movie 2025 | English Full Movie\", \"video_id\": \"E6plGb1qfUM\", \"url\": \"https://youtu.be/E6plGb1qfUM\"}, {\"title\": \"Top 50 Greatest Films of All Time (The Best Movies Ever Made)\", \"video_id\": \"kHZ2h3FbR5k\", \"url\": \"https://youtu.be/kHZ2h3FbR5k\"}, {\"title\": \"Top 10 Movies of All Time\", \"video_id\": \"cYROqsUAw0o\", \"url\": \"https://youtu.be/cYROqsUAw0o\"}, {\"title\": \"Top 50 Greatest Movies of All Time\", \"video_id\": \"F_LOBAeOvXI\", \"url\": \"https://youtu.be/F_LOBAeOvXI\"}, {\"title\": \"Top 20 best movies of all time | Best films | Greatest movies IMDB\", \"video_id\": \"z_wYwyMI2fY\", \"url\": \"https://youtu.be/z_wYwyMI2fY\"}, {\"title\": \"Top 100 Movies of All Time\", \"video_id\": \"Fdg1RedOBO0\", \"url\": \"https://youtu.be/Fdg1RedOBO0\"}, {\"title\": \"The Soldier\\u2019s Trap | Action Thriller Movie | Hollywood English Movie 2025 | English Full Movie\", \"video_id\": \"6pDznXpFNvI\", \"url\": \"https://youtu.be/6pDznXpFNvI\"}, {\"title\": \"Top 10 Greatest Movies of All Time! (Chosen by the Experts)\", \"video_id\": \"idqaREfS1sk\", \"url\": \"https://youtu.be/idqaREfS1sk\"}, {\"title\": \"Top 20 Movies Everyone Needs To See At Least Once\", \"video_id\": \"4V1la2abC68\", \"url\": \"https://youtu.be/4V1la2abC68\"}]"
        ],
        [
         "additional_kwargs",
         {}
        ],
        [
         "response_metadata",
         {}
        ],
        [
         "type",
         "tool"
        ],
        [
         "name",
         null
        ],
        [
         "id",
         null
        ],
        [
         "tool_call_id",
         "call_i9WZvZrTkp1xEsTfycq1EJO2"
        ],
        [
         "artifact",
         null
        ],
        [
         "status",
         "success"
        ]
       ],
       [
        [
         "content",
         ""
        ],
        [
         "additional_kwargs",
         {
          "refusal": null,
          "tool_calls": [
           {
            "function": {
             "arguments": "{\"url\": \"https://youtu.be/gm1Hsgop9Bg\"}",
             "name": "get_full_metadata"
            },
            "id": "call_9LzU2mmuHJvfCC8Sgc9QpBmK",
            "type": "function"
           },
           {
            "function": {
             "arguments": "{\"url\": \"https://youtu.be/6VO9wAfHvC0\"}",
             "name": "get_full_metadata"
            },
            "id": "call_ANE56SPMyMD0fK4XntkznfGx",
            "type": "function"
           },
           {
            "function": {
             "arguments": "{\"url\": \"https://youtu.be/2fR2qy_EFr4\"}",
             "name": "get_full_metadata"
            },
            "id": "call_hVYZmbVFStbGmSgOPEv9g0FN",
            "type": "function"
           }
          ]
         }
        ],
        [
         "response_metadata",
         {
          "finish_reason": "tool_calls",
          "id": "chatcmpl-CGzn4gCjCkT9hDBrWAy6168lTS6iR",
          "logprobs": null,
          "model_name": "gpt-4o-mini-2024-07-18",
          "system_fingerprint": "fp_560af6e559",
          "token_usage": {
           "completion_tokens": 96,
           "completion_tokens_details": {
            "accepted_prediction_tokens": 0,
            "audio_tokens": 0,
            "reasoning_tokens": 0,
            "rejected_prediction_tokens": 0
           },
           "prompt_tokens": 1394,
           "prompt_tokens_details": {
            "audio_tokens": 0,
            "cached_tokens": 0
           },
           "total_tokens": 1490
          }
         }
        ],
        [
         "type",
         "ai"
        ],
        [
         "name",
         null
        ],
        [
         "id",
         "run--45479bd5-699a-4155-9fc1-c5158d8f5d42-0"
        ],
        [
         "example",
         false
        ],
        [
         "tool_calls",
         [
          {
           "args": {
            "url": "https://youtu.be/gm1Hsgop9Bg"
           },
           "id": "call_9LzU2mmuHJvfCC8Sgc9QpBmK",
           "name": "get_full_metadata",
           "type": "tool_call"
          },
          {
           "args": {
            "url": "https://youtu.be/6VO9wAfHvC0"
           },
           "id": "call_ANE56SPMyMD0fK4XntkznfGx",
           "name": "get_full_metadata",
           "type": "tool_call"
          },
          {
           "args": {
            "url": "https://youtu.be/2fR2qy_EFr4"
           },
           "id": "call_hVYZmbVFStbGmSgOPEv9g0FN",
           "name": "get_full_metadata",
           "type": "tool_call"
          }
         ]
        ],
        [
         "invalid_tool_calls",
         []
        ],
        [
         "usage_metadata",
         {
          "input_token_details": {
           "audio": 0,
           "cache_read": 0
          },
          "input_tokens": 1394,
          "output_token_details": {
           "audio": 0,
           "reasoning": 0
          },
          "output_tokens": 96,
          "total_tokens": 1490
         }
        ]
       ],
       [
        [
         "content",
         "{\"title\": \"Our 50 Favorite Movies of All Time\", \"views\": 1067389, \"duration\": 232, \"channel\": \"CineFix - IGN Movies and TV\", \"likes\": 23994, \"comments\": 7200, \"chapters\": [{\"start_time\": 0, \"end_time\": 25.0, \"title\": \"<Untitled Chapter 1>\"}, {\"start_time\": 25.0, \"title\": \"THE TREE OF LIFE TERRENCE MALICK 2011\", \"end_time\": 30.0}, {\"start_time\": 30.0, \"title\": \"THE MIRROR ANDREI TARKOVSKY 1975\", \"end_time\": 39.0}, {\"start_time\": 39.0, \"title\": \"THE THIRD MAN CAROL REED 1949\", \"end_time\": 43.0}, {\"start_time\": 43.0, \"title\": \"BLADE RUNNER RIDLEY SCOTT 1982\", \"end_time\": 48.0}, {\"start_time\": 48.0, \"title\": \"THE MASTER\", \"end_time\": 53.0}, {\"start_time\": 53.0, \"title\": \"MISHIMA: A LIFE IN FOUR CHAPTERS\", \"end_time\": 60.0}, {\"start_time\": 60.0, \"title\": \"SEVEN SAMURAI AKIRA KUROSAWA 1954\", \"end_time\": 64.0}, {\"start_time\": 64.0, \"title\": \"DO THE RIGHT THING\", \"end_time\": 69.0}, {\"start_time\": 69.0, \"title\": \"APOCALYPSE NOW FRANCIS FORD COPPOLA 1979\", \"end_time\": 74.0}, {\"start_time\": 74.0, \"title\": \"FIGHT CLUB DAVID FINCHER 1999\", \"end_time\": 78.0}, {\"start_time\": 78.0, \"title\": \"SILENCE OF THE LAMBS\", \"end_time\": 81.0}, {\"start_time\": 81.0, \"title\": \"PULP FICTION QUENTIN TARANTINO 1994\", \"end_time\": 84.0}, {\"start_time\": 84.0, \"title\": \"STAGECOACH JOHN FORD 1939\", \"end_time\": 91.0}, {\"start_time\": 91.0, \"title\": \"NO COUNTRY FOR OLD MEN\", \"end_time\": 100.0}, {\"start_time\": 100.0, \"title\": \"PSYCHO\", \"end_time\": 106.0}, {\"start_time\": 106.0, \"title\": \"SCHINDLER'S LIST STEVEN SPIELBERG 1993\", \"end_time\": 110.0}, {\"start_time\": 110.0, \"title\": \"BEGINNERS MIKE MILLS 2010\", \"end_time\": 114.0}, {\"start_time\": 114.0, \"title\": \"IN THE MOOD FOR LOVE\", \"end_time\": 118.0}, {\"start_time\": 118.0, \"title\": \"SYNECDOCHE, NEW YORK\", \"end_time\": 122.0}, {\"start_time\": 122.0, \"title\": \"BEFORE MIDNIGHT RICHARD LINKLATER 2013\", \"end_time\": 131.0}, {\"start_time\": 131.0, \"title\": \"CROUCHING TIGER, HIDDEN DRAGON\", \"end_time\": 137.0}, {\"start_time\": 137.0, \"title\": \"ADAPTATION SPIKE JONZE 2002\", \"end_time\": 141.0}, {\"start_time\": 141.0, \"title\": \"THE LEGEND OF THE DRUNKEN MASTER\", \"end_time\": 145.0}, {\"start_time\": 145.0, \"title\": \"ETERNAL SUNSHINE OF THE SPOTLESS MIND\", \"end_time\": 149.0}, {\"start_time\": 149.0, \"title\": \"SPIRITED AWAY HAYAO MIYAZAKI 2001\", \"end_time\": 152.0}, {\"start_time\": 152.0, \"title\": \"MONTY PYTHON AND THE HOLY GRAIL\", \"end_time\": 156.0}, {\"start_time\": 156.0, \"title\": \"PARIS, TEXAS WIM WENDERS 1984\", \"end_time\": 160.0}, {\"start_time\": 160.0, \"title\": \"ADVENTURES OF ROBIN HOOD MICHAEL CURTIZ & WILLIAM KEIGHLEY 1938\", \"end_time\": 164.0}, {\"start_time\": 164.0, \"title\": \"CITY OF GOD\", \"end_time\": 167.0}, {\"start_time\": 167.0, \"title\": \"BOYHOOD\", \"end_time\": 171.0}, {\"start_time\": 171.0, \"title\": \"THE FALL TARSEM SINGH 2008\", \"end_time\": 175.0}, {\"start_time\": 175.0, \"title\": \"ANNIE HALL WOODY ALLEN 1977\", \"end_time\": 185.0}, {\"start_time\": 185.0, \"title\": \"THE CONFORMIST BERNARDO BERTOLUCCI 1970\", \"end_time\": 190.0}, {\"start_time\": 190.0, \"title\": \"CITY LIGHTS CHARLIE CHAPLIN 1931\", \"end_time\": 194.0}, {\"start_time\": 194.0, \"title\": \"2001: A SPACE ODYSSEY STANLEY KUBRICK 1968\", \"end_time\": 199.0}, {\"start_time\": 199.0, \"title\": \"CITIZEN KANE ORSON WELLES 1941\", \"end_time\": 203.0}, {\"start_time\": 203.0, \"title\": \"THE GODFATHER FRANCIS FORD COPPOLA 1972\", \"end_time\": 206.0}, {\"start_time\": 206.0, \"title\": \"THE GODFATHER PART II\", \"end_time\": 212.0}, {\"start_time\": 212.0, \"title\": \"CHINATOWN ROMAN POLANSKI 1974\", \"end_time\": 232}]}"
        ],
        [
         "additional_kwargs",
         {}
        ],
        [
         "response_metadata",
         {}
        ],
        [
         "type",
         "tool"
        ],
        [
         "name",
         null
        ],
        [
         "id",
         null
        ],
        [
         "tool_call_id",
         "call_9LzU2mmuHJvfCC8Sgc9QpBmK"
        ],
        [
         "artifact",
         null
        ],
        [
         "status",
         "success"
        ]
       ],
       [
        [
         "content",
         "{\"title\": \"Top 20 Greatest Movies Of All Time\", \"views\": 2367397, \"duration\": 1395, \"channel\": \"WatchMojo.com\", \"likes\": 34285, \"comments\": 29000, \"chapters\": [{\"start_time\": 0.0, \"title\": \"Intro\", \"end_time\": 27.0}, {\"start_time\": 27.0, \"title\": \"20 \\\"Mad Max: Fury Road\\\" (2015)\", \"end_time\": 94.0}, {\"start_time\": 94.0, \"title\": \"\\\"No Country for Old Men\\\" (2007)\", \"end_time\": 189.0}, {\"start_time\": 189.0, \"title\": \"\\\"The Good, the Bad and the Ugly\\\" (1966)\", \"end_time\": 266.0}, {\"start_time\": 266.0, \"title\": \"\\\" 12 Angry Men\\\" (1957)\", \"end_time\": 325.0}, {\"start_time\": 325.0, \"title\": \"\\\"There Will Be Blood\\\" (2007)\", \"end_time\": 378.0}, {\"start_time\": 378.0, \"title\": \"\\\"The Wizard of Oz\\\" (1939)\", \"end_time\": 491.0}, {\"start_time\": 491.0, \"title\": \"\\\"Casablanca\\\" (1942)\", \"end_time\": 544.0}, {\"start_time\": 544.0, \"title\": \"\\\"Singin' in the Rain\\\" (1952)\", \"end_time\": 752.0}, {\"start_time\": 752.0, \"title\": \"2001: A Space Odyssey (1968)\", \"end_time\": 858.0}, {\"start_time\": 858.0, \"title\": \"\\\"Pulp Fiction\\\" (1994)\", \"end_time\": 919.0}, {\"start_time\": 919.0, \"title\": \"\\\"Schindler's List\\\" (1993)\", \"end_time\": 995.0}, {\"start_time\": 995.0, \"title\": \"\\\"Star Wars: Episode V - The Empire Strikes Back\\\" (1980)\", \"end_time\": 1186.0}, {\"start_time\": 1186.0, \"title\": \"Honorable Mentions\", \"end_time\": 1190.0}, {\"start_time\": 1190.0, \"title\": \"\\\"Back to the Future\\\" (1985)\", \"end_time\": 1218.0}, {\"start_time\": 1218.0, \"title\": \"\\\"On the Waterfront\\\" (1954)\", \"end_time\": 1230.0}, {\"start_time\": 1230.0, \"title\": \"\\\"12 Years a Slave\\\" (2013)\", \"end_time\": 1253.0}, {\"start_time\": 1253.0, \"title\": \"\\\"Eternal Sunshine of the Spotless Mind\\\" (2004)\", \"end_time\": 1315.0}, {\"start_time\": 1315.0, \"title\": \"\\\"The Godfather\\\" (1972)\", \"end_time\": 1395}]}"
        ],
        [
         "additional_kwargs",
         {}
        ],
        [
         "response_metadata",
         {}
        ],
        [
         "type",
         "tool"
        ],
        [
         "name",
         null
        ],
        [
         "id",
         null
        ],
        [
         "tool_call_id",
         "call_ANE56SPMyMD0fK4XntkznfGx"
        ],
        [
         "artifact",
         null
        ],
        [
         "status",
         "success"
        ]
       ],
       [
        [
         "content",
         "{\"title\": \"TOP 50 Best Movies Of All Time | Greatest Movies Ever Made | Must Watch Movies\", \"views\": 579167, \"duration\": 2755, \"channel\": \"TOP LIST\", \"likes\": 10247, \"comments\": 1000, \"chapters\": null}"
        ],
        [
         "additional_kwargs",
         {}
        ],
        [
         "response_metadata",
         {}
        ],
        [
         "type",
         "tool"
        ],
        [
         "name",
         null
        ],
        [
         "id",
         null
        ],
        [
         "tool_call_id",
         "call_hVYZmbVFStbGmSgOPEv9g0FN"
        ],
        [
         "artifact",
         null
        ],
        [
         "status",
         "success"
        ]
       ],
       [
        [
         "content",
         "Here are three top movies of all time that can be found on YouTube, along with their content and number of views:\n\n1. **Our 50 Favorite Movies of All Time**\n   - **Views:** 1,067,389\n   - [Watch here](https://youtu.be/gm1Hsgop9Bg)\n\n2. **Top 20 Greatest Movies Of All Time**\n   - **Views:** 2,367,397\n   - [Watch here](https://youtu.be/6VO9wAfHvC0)\n\n3. **TOP 50 Best Movies Of All Time | Greatest Movies Ever Made | Must Watch Movies**\n   - **Views:** 579,167\n   - [Watch here](https://youtu.be/2fR2qy_EFr4)"
        ],
        [
         "additional_kwargs",
         {
          "refusal": null
         }
        ],
        [
         "response_metadata",
         {
          "finish_reason": "stop",
          "id": "chatcmpl-CGznIxGKoy6PkhUk4yAz60UevraXi",
          "logprobs": null,
          "model_name": "gpt-4o-mini-2024-07-18",
          "system_fingerprint": "fp_560af6e559",
          "token_usage": {
           "completion_tokens": 164,
           "completion_tokens_details": {
            "accepted_prediction_tokens": 0,
            "audio_tokens": 0,
            "reasoning_tokens": 0,
            "rejected_prediction_tokens": 0
           },
           "prompt_tokens": 3636,
           "prompt_tokens_details": {
            "audio_tokens": 0,
            "cached_tokens": 1408
           },
           "total_tokens": 3800
          }
         }
        ],
        [
         "type",
         "ai"
        ],
        [
         "name",
         null
        ],
        [
         "id",
         "run--a548df32-07b8-42a1-b080-1bec2f4ff44f-0"
        ],
        [
         "example",
         false
        ],
        [
         "tool_calls",
         []
        ],
        [
         "invalid_tool_calls",
         []
        ],
        [
         "usage_metadata",
         {
          "input_token_details": {
           "audio": 0,
           "cache_read": 1408
          },
          "input_tokens": 3636,
          "output_token_details": {
           "audio": 0,
           "reasoning": 0
          },
          "output_tokens": 164,
          "total_tokens": 3800
         }
        ]
       ]
      ],
      "text/plain": [
       "<IPython.core.display.JSON object>"
      ]
     },
     "metadata": {
      "application/json": {
       "expanded": false,
       "root": "root"
      }
     },
     "output_type": "display_data"
    },
    {
     "name": "stdout",
     "output_type": "stream",
     "text": [
      "-- _recursive_chain --\n",
      "> messages:\n"
     ]
    },
    {
     "data": {
      "application/json": [
       [
        [
         "content",
         "Please provide up to 3 top movies of all the times that can be found on Youtube with their content and number of views. Please do not include metadata in answer"
        ],
        [
         "additional_kwargs",
         {}
        ],
        [
         "response_metadata",
         {}
        ],
        [
         "type",
         "human"
        ],
        [
         "name",
         null
        ],
        [
         "id",
         null
        ],
        [
         "example",
         false
        ]
       ],
       [
        [
         "content",
         ""
        ],
        [
         "additional_kwargs",
         {
          "refusal": null,
          "tool_calls": [
           {
            "function": {
             "arguments": "{\"query\":\"top movies of all time\"}",
             "name": "search_youtube"
            },
            "id": "call_i9WZvZrTkp1xEsTfycq1EJO2",
            "type": "function"
           }
          ]
         }
        ],
        [
         "response_metadata",
         {
          "finish_reason": "tool_calls",
          "id": "chatcmpl-CGzn3rgVrGClsVQ2N9VYgxYSNZ04u",
          "logprobs": null,
          "model_name": "gpt-4o-mini-2024-07-18",
          "system_fingerprint": "fp_560af6e559",
          "token_usage": {
           "completion_tokens": 19,
           "completion_tokens_details": {
            "accepted_prediction_tokens": 0,
            "audio_tokens": 0,
            "reasoning_tokens": 0,
            "rejected_prediction_tokens": 0
           },
           "prompt_tokens": 389,
           "prompt_tokens_details": {
            "audio_tokens": 0,
            "cached_tokens": 0
           },
           "total_tokens": 408
          }
         }
        ],
        [
         "type",
         "ai"
        ],
        [
         "name",
         null
        ],
        [
         "id",
         "run--248e21be-e9ee-463f-886c-7772dd34ab75-0"
        ],
        [
         "example",
         false
        ],
        [
         "tool_calls",
         [
          {
           "args": {
            "query": "top movies of all time"
           },
           "id": "call_i9WZvZrTkp1xEsTfycq1EJO2",
           "name": "search_youtube",
           "type": "tool_call"
          }
         ]
        ],
        [
         "invalid_tool_calls",
         []
        ],
        [
         "usage_metadata",
         {
          "input_token_details": {
           "audio": 0,
           "cache_read": 0
          },
          "input_tokens": 389,
          "output_token_details": {
           "audio": 0,
           "reasoning": 0
          },
          "output_tokens": 19,
          "total_tokens": 408
         }
        ]
       ],
       [
        [
         "content",
         "[{\"title\": \"Our 50 Favorite Movies of All Time\", \"video_id\": \"gm1Hsgop9Bg\", \"url\": \"https://youtu.be/gm1Hsgop9Bg\"}, {\"title\": \"Top 20 Greatest Movies Of All Time\", \"video_id\": \"6VO9wAfHvC0\", \"url\": \"https://youtu.be/6VO9wAfHvC0\"}, {\"title\": \"top 10 movies worth watching\", \"video_id\": \"lIi7Jj32XUc\", \"url\": \"https://youtu.be/lIi7Jj32XUc\"}, {\"title\": \"Best Adventure Movie You\\u2019ll Never Forget / Temple of the Sun / Full Action in English\", \"video_id\": \"bVAS5afUTUk\", \"url\": \"https://youtu.be/bVAS5afUTUk\"}, {\"title\": \"TOP 50 Best Movies Of All Time | Greatest Movies Ever Made | Must Watch Movies\", \"video_id\": \"2fR2qy_EFr4\", \"url\": \"https://youtu.be/2fR2qy_EFr4\"}, {\"title\": \"My Top 200 Favorite Films of All Time\", \"video_id\": \"mb_kp50VY2c\", \"url\": \"https://youtu.be/mb_kp50VY2c\"}, {\"title\": \"Top 50 Best Movies of All Time - IMDB\", \"video_id\": \"gul5c2CYGQ4\", \"url\": \"https://youtu.be/gul5c2CYGQ4\"}, {\"title\": \"50 Movies to Watch Before You Die\", \"video_id\": \"uY5oF0tZiWI\", \"url\": \"https://youtu.be/uY5oF0tZiWI\"}, {\"title\": \"Top 10 Movies of All Time According to Roger Ebert\", \"video_id\": \"uUSLUPEe7R0\", \"url\": \"https://youtu.be/uUSLUPEe7R0\"}, {\"title\": \"My Top 25 Movies Of All Time\\u2026It\\u2019s NOT What You\\u2019d Expect\", \"video_id\": \"bGO0dzFgw-I\", \"url\": \"https://youtu.be/bGO0dzFgw-I\"}, {\"title\": \"top 5 revenge love story movies in bollywood | best revenge love story movies\", \"video_id\": \"dwhNPQDm_7Q\", \"url\": \"https://youtu.be/dwhNPQDm_7Q\"}, {\"title\": \"The President\\u2019s Sniper | Action Thriller Movie | Hollywood English Movie 2025 | English Full Movie\", \"video_id\": \"E6plGb1qfUM\", \"url\": \"https://youtu.be/E6plGb1qfUM\"}, {\"title\": \"Top 50 Greatest Films of All Time (The Best Movies Ever Made)\", \"video_id\": \"kHZ2h3FbR5k\", \"url\": \"https://youtu.be/kHZ2h3FbR5k\"}, {\"title\": \"Top 10 Movies of All Time\", \"video_id\": \"cYROqsUAw0o\", \"url\": \"https://youtu.be/cYROqsUAw0o\"}, {\"title\": \"Top 50 Greatest Movies of All Time\", \"video_id\": \"F_LOBAeOvXI\", \"url\": \"https://youtu.be/F_LOBAeOvXI\"}, {\"title\": \"Top 20 best movies of all time | Best films | Greatest movies IMDB\", \"video_id\": \"z_wYwyMI2fY\", \"url\": \"https://youtu.be/z_wYwyMI2fY\"}, {\"title\": \"Top 100 Movies of All Time\", \"video_id\": \"Fdg1RedOBO0\", \"url\": \"https://youtu.be/Fdg1RedOBO0\"}, {\"title\": \"The Soldier\\u2019s Trap | Action Thriller Movie | Hollywood English Movie 2025 | English Full Movie\", \"video_id\": \"6pDznXpFNvI\", \"url\": \"https://youtu.be/6pDznXpFNvI\"}, {\"title\": \"Top 10 Greatest Movies of All Time! (Chosen by the Experts)\", \"video_id\": \"idqaREfS1sk\", \"url\": \"https://youtu.be/idqaREfS1sk\"}, {\"title\": \"Top 20 Movies Everyone Needs To See At Least Once\", \"video_id\": \"4V1la2abC68\", \"url\": \"https://youtu.be/4V1la2abC68\"}]"
        ],
        [
         "additional_kwargs",
         {}
        ],
        [
         "response_metadata",
         {}
        ],
        [
         "type",
         "tool"
        ],
        [
         "name",
         null
        ],
        [
         "id",
         null
        ],
        [
         "tool_call_id",
         "call_i9WZvZrTkp1xEsTfycq1EJO2"
        ],
        [
         "artifact",
         null
        ],
        [
         "status",
         "success"
        ]
       ],
       [
        [
         "content",
         ""
        ],
        [
         "additional_kwargs",
         {
          "refusal": null,
          "tool_calls": [
           {
            "function": {
             "arguments": "{\"url\": \"https://youtu.be/gm1Hsgop9Bg\"}",
             "name": "get_full_metadata"
            },
            "id": "call_9LzU2mmuHJvfCC8Sgc9QpBmK",
            "type": "function"
           },
           {
            "function": {
             "arguments": "{\"url\": \"https://youtu.be/6VO9wAfHvC0\"}",
             "name": "get_full_metadata"
            },
            "id": "call_ANE56SPMyMD0fK4XntkznfGx",
            "type": "function"
           },
           {
            "function": {
             "arguments": "{\"url\": \"https://youtu.be/2fR2qy_EFr4\"}",
             "name": "get_full_metadata"
            },
            "id": "call_hVYZmbVFStbGmSgOPEv9g0FN",
            "type": "function"
           }
          ]
         }
        ],
        [
         "response_metadata",
         {
          "finish_reason": "tool_calls",
          "id": "chatcmpl-CGzn4gCjCkT9hDBrWAy6168lTS6iR",
          "logprobs": null,
          "model_name": "gpt-4o-mini-2024-07-18",
          "system_fingerprint": "fp_560af6e559",
          "token_usage": {
           "completion_tokens": 96,
           "completion_tokens_details": {
            "accepted_prediction_tokens": 0,
            "audio_tokens": 0,
            "reasoning_tokens": 0,
            "rejected_prediction_tokens": 0
           },
           "prompt_tokens": 1394,
           "prompt_tokens_details": {
            "audio_tokens": 0,
            "cached_tokens": 0
           },
           "total_tokens": 1490
          }
         }
        ],
        [
         "type",
         "ai"
        ],
        [
         "name",
         null
        ],
        [
         "id",
         "run--45479bd5-699a-4155-9fc1-c5158d8f5d42-0"
        ],
        [
         "example",
         false
        ],
        [
         "tool_calls",
         [
          {
           "args": {
            "url": "https://youtu.be/gm1Hsgop9Bg"
           },
           "id": "call_9LzU2mmuHJvfCC8Sgc9QpBmK",
           "name": "get_full_metadata",
           "type": "tool_call"
          },
          {
           "args": {
            "url": "https://youtu.be/6VO9wAfHvC0"
           },
           "id": "call_ANE56SPMyMD0fK4XntkznfGx",
           "name": "get_full_metadata",
           "type": "tool_call"
          },
          {
           "args": {
            "url": "https://youtu.be/2fR2qy_EFr4"
           },
           "id": "call_hVYZmbVFStbGmSgOPEv9g0FN",
           "name": "get_full_metadata",
           "type": "tool_call"
          }
         ]
        ],
        [
         "invalid_tool_calls",
         []
        ],
        [
         "usage_metadata",
         {
          "input_token_details": {
           "audio": 0,
           "cache_read": 0
          },
          "input_tokens": 1394,
          "output_token_details": {
           "audio": 0,
           "reasoning": 0
          },
          "output_tokens": 96,
          "total_tokens": 1490
         }
        ]
       ],
       [
        [
         "content",
         "{\"title\": \"Our 50 Favorite Movies of All Time\", \"views\": 1067389, \"duration\": 232, \"channel\": \"CineFix - IGN Movies and TV\", \"likes\": 23994, \"comments\": 7200, \"chapters\": [{\"start_time\": 0, \"end_time\": 25.0, \"title\": \"<Untitled Chapter 1>\"}, {\"start_time\": 25.0, \"title\": \"THE TREE OF LIFE TERRENCE MALICK 2011\", \"end_time\": 30.0}, {\"start_time\": 30.0, \"title\": \"THE MIRROR ANDREI TARKOVSKY 1975\", \"end_time\": 39.0}, {\"start_time\": 39.0, \"title\": \"THE THIRD MAN CAROL REED 1949\", \"end_time\": 43.0}, {\"start_time\": 43.0, \"title\": \"BLADE RUNNER RIDLEY SCOTT 1982\", \"end_time\": 48.0}, {\"start_time\": 48.0, \"title\": \"THE MASTER\", \"end_time\": 53.0}, {\"start_time\": 53.0, \"title\": \"MISHIMA: A LIFE IN FOUR CHAPTERS\", \"end_time\": 60.0}, {\"start_time\": 60.0, \"title\": \"SEVEN SAMURAI AKIRA KUROSAWA 1954\", \"end_time\": 64.0}, {\"start_time\": 64.0, \"title\": \"DO THE RIGHT THING\", \"end_time\": 69.0}, {\"start_time\": 69.0, \"title\": \"APOCALYPSE NOW FRANCIS FORD COPPOLA 1979\", \"end_time\": 74.0}, {\"start_time\": 74.0, \"title\": \"FIGHT CLUB DAVID FINCHER 1999\", \"end_time\": 78.0}, {\"start_time\": 78.0, \"title\": \"SILENCE OF THE LAMBS\", \"end_time\": 81.0}, {\"start_time\": 81.0, \"title\": \"PULP FICTION QUENTIN TARANTINO 1994\", \"end_time\": 84.0}, {\"start_time\": 84.0, \"title\": \"STAGECOACH JOHN FORD 1939\", \"end_time\": 91.0}, {\"start_time\": 91.0, \"title\": \"NO COUNTRY FOR OLD MEN\", \"end_time\": 100.0}, {\"start_time\": 100.0, \"title\": \"PSYCHO\", \"end_time\": 106.0}, {\"start_time\": 106.0, \"title\": \"SCHINDLER'S LIST STEVEN SPIELBERG 1993\", \"end_time\": 110.0}, {\"start_time\": 110.0, \"title\": \"BEGINNERS MIKE MILLS 2010\", \"end_time\": 114.0}, {\"start_time\": 114.0, \"title\": \"IN THE MOOD FOR LOVE\", \"end_time\": 118.0}, {\"start_time\": 118.0, \"title\": \"SYNECDOCHE, NEW YORK\", \"end_time\": 122.0}, {\"start_time\": 122.0, \"title\": \"BEFORE MIDNIGHT RICHARD LINKLATER 2013\", \"end_time\": 131.0}, {\"start_time\": 131.0, \"title\": \"CROUCHING TIGER, HIDDEN DRAGON\", \"end_time\": 137.0}, {\"start_time\": 137.0, \"title\": \"ADAPTATION SPIKE JONZE 2002\", \"end_time\": 141.0}, {\"start_time\": 141.0, \"title\": \"THE LEGEND OF THE DRUNKEN MASTER\", \"end_time\": 145.0}, {\"start_time\": 145.0, \"title\": \"ETERNAL SUNSHINE OF THE SPOTLESS MIND\", \"end_time\": 149.0}, {\"start_time\": 149.0, \"title\": \"SPIRITED AWAY HAYAO MIYAZAKI 2001\", \"end_time\": 152.0}, {\"start_time\": 152.0, \"title\": \"MONTY PYTHON AND THE HOLY GRAIL\", \"end_time\": 156.0}, {\"start_time\": 156.0, \"title\": \"PARIS, TEXAS WIM WENDERS 1984\", \"end_time\": 160.0}, {\"start_time\": 160.0, \"title\": \"ADVENTURES OF ROBIN HOOD MICHAEL CURTIZ & WILLIAM KEIGHLEY 1938\", \"end_time\": 164.0}, {\"start_time\": 164.0, \"title\": \"CITY OF GOD\", \"end_time\": 167.0}, {\"start_time\": 167.0, \"title\": \"BOYHOOD\", \"end_time\": 171.0}, {\"start_time\": 171.0, \"title\": \"THE FALL TARSEM SINGH 2008\", \"end_time\": 175.0}, {\"start_time\": 175.0, \"title\": \"ANNIE HALL WOODY ALLEN 1977\", \"end_time\": 185.0}, {\"start_time\": 185.0, \"title\": \"THE CONFORMIST BERNARDO BERTOLUCCI 1970\", \"end_time\": 190.0}, {\"start_time\": 190.0, \"title\": \"CITY LIGHTS CHARLIE CHAPLIN 1931\", \"end_time\": 194.0}, {\"start_time\": 194.0, \"title\": \"2001: A SPACE ODYSSEY STANLEY KUBRICK 1968\", \"end_time\": 199.0}, {\"start_time\": 199.0, \"title\": \"CITIZEN KANE ORSON WELLES 1941\", \"end_time\": 203.0}, {\"start_time\": 203.0, \"title\": \"THE GODFATHER FRANCIS FORD COPPOLA 1972\", \"end_time\": 206.0}, {\"start_time\": 206.0, \"title\": \"THE GODFATHER PART II\", \"end_time\": 212.0}, {\"start_time\": 212.0, \"title\": \"CHINATOWN ROMAN POLANSKI 1974\", \"end_time\": 232}]}"
        ],
        [
         "additional_kwargs",
         {}
        ],
        [
         "response_metadata",
         {}
        ],
        [
         "type",
         "tool"
        ],
        [
         "name",
         null
        ],
        [
         "id",
         null
        ],
        [
         "tool_call_id",
         "call_9LzU2mmuHJvfCC8Sgc9QpBmK"
        ],
        [
         "artifact",
         null
        ],
        [
         "status",
         "success"
        ]
       ],
       [
        [
         "content",
         "{\"title\": \"Top 20 Greatest Movies Of All Time\", \"views\": 2367397, \"duration\": 1395, \"channel\": \"WatchMojo.com\", \"likes\": 34285, \"comments\": 29000, \"chapters\": [{\"start_time\": 0.0, \"title\": \"Intro\", \"end_time\": 27.0}, {\"start_time\": 27.0, \"title\": \"20 \\\"Mad Max: Fury Road\\\" (2015)\", \"end_time\": 94.0}, {\"start_time\": 94.0, \"title\": \"\\\"No Country for Old Men\\\" (2007)\", \"end_time\": 189.0}, {\"start_time\": 189.0, \"title\": \"\\\"The Good, the Bad and the Ugly\\\" (1966)\", \"end_time\": 266.0}, {\"start_time\": 266.0, \"title\": \"\\\" 12 Angry Men\\\" (1957)\", \"end_time\": 325.0}, {\"start_time\": 325.0, \"title\": \"\\\"There Will Be Blood\\\" (2007)\", \"end_time\": 378.0}, {\"start_time\": 378.0, \"title\": \"\\\"The Wizard of Oz\\\" (1939)\", \"end_time\": 491.0}, {\"start_time\": 491.0, \"title\": \"\\\"Casablanca\\\" (1942)\", \"end_time\": 544.0}, {\"start_time\": 544.0, \"title\": \"\\\"Singin' in the Rain\\\" (1952)\", \"end_time\": 752.0}, {\"start_time\": 752.0, \"title\": \"2001: A Space Odyssey (1968)\", \"end_time\": 858.0}, {\"start_time\": 858.0, \"title\": \"\\\"Pulp Fiction\\\" (1994)\", \"end_time\": 919.0}, {\"start_time\": 919.0, \"title\": \"\\\"Schindler's List\\\" (1993)\", \"end_time\": 995.0}, {\"start_time\": 995.0, \"title\": \"\\\"Star Wars: Episode V - The Empire Strikes Back\\\" (1980)\", \"end_time\": 1186.0}, {\"start_time\": 1186.0, \"title\": \"Honorable Mentions\", \"end_time\": 1190.0}, {\"start_time\": 1190.0, \"title\": \"\\\"Back to the Future\\\" (1985)\", \"end_time\": 1218.0}, {\"start_time\": 1218.0, \"title\": \"\\\"On the Waterfront\\\" (1954)\", \"end_time\": 1230.0}, {\"start_time\": 1230.0, \"title\": \"\\\"12 Years a Slave\\\" (2013)\", \"end_time\": 1253.0}, {\"start_time\": 1253.0, \"title\": \"\\\"Eternal Sunshine of the Spotless Mind\\\" (2004)\", \"end_time\": 1315.0}, {\"start_time\": 1315.0, \"title\": \"\\\"The Godfather\\\" (1972)\", \"end_time\": 1395}]}"
        ],
        [
         "additional_kwargs",
         {}
        ],
        [
         "response_metadata",
         {}
        ],
        [
         "type",
         "tool"
        ],
        [
         "name",
         null
        ],
        [
         "id",
         null
        ],
        [
         "tool_call_id",
         "call_ANE56SPMyMD0fK4XntkznfGx"
        ],
        [
         "artifact",
         null
        ],
        [
         "status",
         "success"
        ]
       ],
       [
        [
         "content",
         "{\"title\": \"TOP 50 Best Movies Of All Time | Greatest Movies Ever Made | Must Watch Movies\", \"views\": 579167, \"duration\": 2755, \"channel\": \"TOP LIST\", \"likes\": 10247, \"comments\": 1000, \"chapters\": null}"
        ],
        [
         "additional_kwargs",
         {}
        ],
        [
         "response_metadata",
         {}
        ],
        [
         "type",
         "tool"
        ],
        [
         "name",
         null
        ],
        [
         "id",
         null
        ],
        [
         "tool_call_id",
         "call_hVYZmbVFStbGmSgOPEv9g0FN"
        ],
        [
         "artifact",
         null
        ],
        [
         "status",
         "success"
        ]
       ],
       [
        [
         "content",
         "Here are three top movies of all time that can be found on YouTube, along with their content and number of views:\n\n1. **Our 50 Favorite Movies of All Time**\n   - **Views:** 1,067,389\n   - [Watch here](https://youtu.be/gm1Hsgop9Bg)\n\n2. **Top 20 Greatest Movies Of All Time**\n   - **Views:** 2,367,397\n   - [Watch here](https://youtu.be/6VO9wAfHvC0)\n\n3. **TOP 50 Best Movies Of All Time | Greatest Movies Ever Made | Must Watch Movies**\n   - **Views:** 579,167\n   - [Watch here](https://youtu.be/2fR2qy_EFr4)"
        ],
        [
         "additional_kwargs",
         {
          "refusal": null
         }
        ],
        [
         "response_metadata",
         {
          "finish_reason": "stop",
          "id": "chatcmpl-CGznIxGKoy6PkhUk4yAz60UevraXi",
          "logprobs": null,
          "model_name": "gpt-4o-mini-2024-07-18",
          "system_fingerprint": "fp_560af6e559",
          "token_usage": {
           "completion_tokens": 164,
           "completion_tokens_details": {
            "accepted_prediction_tokens": 0,
            "audio_tokens": 0,
            "reasoning_tokens": 0,
            "rejected_prediction_tokens": 0
           },
           "prompt_tokens": 3636,
           "prompt_tokens_details": {
            "audio_tokens": 0,
            "cached_tokens": 1408
           },
           "total_tokens": 3800
          }
         }
        ],
        [
         "type",
         "ai"
        ],
        [
         "name",
         null
        ],
        [
         "id",
         "run--a548df32-07b8-42a1-b080-1bec2f4ff44f-0"
        ],
        [
         "example",
         false
        ],
        [
         "tool_calls",
         []
        ],
        [
         "invalid_tool_calls",
         []
        ],
        [
         "usage_metadata",
         {
          "input_token_details": {
           "audio": 0,
           "cache_read": 1408
          },
          "input_tokens": 3636,
          "output_token_details": {
           "audio": 0,
           "reasoning": 0
          },
          "output_tokens": 164,
          "total_tokens": 3800
         }
        ]
       ]
      ],
      "text/plain": [
       "<IPython.core.display.JSON object>"
      ]
     },
     "metadata": {
      "application/json": {
       "expanded": false,
       "root": "root"
      }
     },
     "output_type": "display_data"
    },
    {
     "name": "stdout",
     "output_type": "stream",
     "text": [
      "-- should_continue --\n",
      "> messages:\n"
     ]
    },
    {
     "data": {
      "application/json": [
       [
        [
         "content",
         "Please provide up to 3 top movies of all the times that can be found on Youtube with their content and number of views. Please do not include metadata in answer"
        ],
        [
         "additional_kwargs",
         {}
        ],
        [
         "response_metadata",
         {}
        ],
        [
         "type",
         "human"
        ],
        [
         "name",
         null
        ],
        [
         "id",
         null
        ],
        [
         "example",
         false
        ]
       ],
       [
        [
         "content",
         ""
        ],
        [
         "additional_kwargs",
         {
          "refusal": null,
          "tool_calls": [
           {
            "function": {
             "arguments": "{\"query\":\"top movies of all time\"}",
             "name": "search_youtube"
            },
            "id": "call_i9WZvZrTkp1xEsTfycq1EJO2",
            "type": "function"
           }
          ]
         }
        ],
        [
         "response_metadata",
         {
          "finish_reason": "tool_calls",
          "id": "chatcmpl-CGzn3rgVrGClsVQ2N9VYgxYSNZ04u",
          "logprobs": null,
          "model_name": "gpt-4o-mini-2024-07-18",
          "system_fingerprint": "fp_560af6e559",
          "token_usage": {
           "completion_tokens": 19,
           "completion_tokens_details": {
            "accepted_prediction_tokens": 0,
            "audio_tokens": 0,
            "reasoning_tokens": 0,
            "rejected_prediction_tokens": 0
           },
           "prompt_tokens": 389,
           "prompt_tokens_details": {
            "audio_tokens": 0,
            "cached_tokens": 0
           },
           "total_tokens": 408
          }
         }
        ],
        [
         "type",
         "ai"
        ],
        [
         "name",
         null
        ],
        [
         "id",
         "run--248e21be-e9ee-463f-886c-7772dd34ab75-0"
        ],
        [
         "example",
         false
        ],
        [
         "tool_calls",
         [
          {
           "args": {
            "query": "top movies of all time"
           },
           "id": "call_i9WZvZrTkp1xEsTfycq1EJO2",
           "name": "search_youtube",
           "type": "tool_call"
          }
         ]
        ],
        [
         "invalid_tool_calls",
         []
        ],
        [
         "usage_metadata",
         {
          "input_token_details": {
           "audio": 0,
           "cache_read": 0
          },
          "input_tokens": 389,
          "output_token_details": {
           "audio": 0,
           "reasoning": 0
          },
          "output_tokens": 19,
          "total_tokens": 408
         }
        ]
       ],
       [
        [
         "content",
         "[{\"title\": \"Our 50 Favorite Movies of All Time\", \"video_id\": \"gm1Hsgop9Bg\", \"url\": \"https://youtu.be/gm1Hsgop9Bg\"}, {\"title\": \"Top 20 Greatest Movies Of All Time\", \"video_id\": \"6VO9wAfHvC0\", \"url\": \"https://youtu.be/6VO9wAfHvC0\"}, {\"title\": \"top 10 movies worth watching\", \"video_id\": \"lIi7Jj32XUc\", \"url\": \"https://youtu.be/lIi7Jj32XUc\"}, {\"title\": \"Best Adventure Movie You\\u2019ll Never Forget / Temple of the Sun / Full Action in English\", \"video_id\": \"bVAS5afUTUk\", \"url\": \"https://youtu.be/bVAS5afUTUk\"}, {\"title\": \"TOP 50 Best Movies Of All Time | Greatest Movies Ever Made | Must Watch Movies\", \"video_id\": \"2fR2qy_EFr4\", \"url\": \"https://youtu.be/2fR2qy_EFr4\"}, {\"title\": \"My Top 200 Favorite Films of All Time\", \"video_id\": \"mb_kp50VY2c\", \"url\": \"https://youtu.be/mb_kp50VY2c\"}, {\"title\": \"Top 50 Best Movies of All Time - IMDB\", \"video_id\": \"gul5c2CYGQ4\", \"url\": \"https://youtu.be/gul5c2CYGQ4\"}, {\"title\": \"50 Movies to Watch Before You Die\", \"video_id\": \"uY5oF0tZiWI\", \"url\": \"https://youtu.be/uY5oF0tZiWI\"}, {\"title\": \"Top 10 Movies of All Time According to Roger Ebert\", \"video_id\": \"uUSLUPEe7R0\", \"url\": \"https://youtu.be/uUSLUPEe7R0\"}, {\"title\": \"My Top 25 Movies Of All Time\\u2026It\\u2019s NOT What You\\u2019d Expect\", \"video_id\": \"bGO0dzFgw-I\", \"url\": \"https://youtu.be/bGO0dzFgw-I\"}, {\"title\": \"top 5 revenge love story movies in bollywood | best revenge love story movies\", \"video_id\": \"dwhNPQDm_7Q\", \"url\": \"https://youtu.be/dwhNPQDm_7Q\"}, {\"title\": \"The President\\u2019s Sniper | Action Thriller Movie | Hollywood English Movie 2025 | English Full Movie\", \"video_id\": \"E6plGb1qfUM\", \"url\": \"https://youtu.be/E6plGb1qfUM\"}, {\"title\": \"Top 50 Greatest Films of All Time (The Best Movies Ever Made)\", \"video_id\": \"kHZ2h3FbR5k\", \"url\": \"https://youtu.be/kHZ2h3FbR5k\"}, {\"title\": \"Top 10 Movies of All Time\", \"video_id\": \"cYROqsUAw0o\", \"url\": \"https://youtu.be/cYROqsUAw0o\"}, {\"title\": \"Top 50 Greatest Movies of All Time\", \"video_id\": \"F_LOBAeOvXI\", \"url\": \"https://youtu.be/F_LOBAeOvXI\"}, {\"title\": \"Top 20 best movies of all time | Best films | Greatest movies IMDB\", \"video_id\": \"z_wYwyMI2fY\", \"url\": \"https://youtu.be/z_wYwyMI2fY\"}, {\"title\": \"Top 100 Movies of All Time\", \"video_id\": \"Fdg1RedOBO0\", \"url\": \"https://youtu.be/Fdg1RedOBO0\"}, {\"title\": \"The Soldier\\u2019s Trap | Action Thriller Movie | Hollywood English Movie 2025 | English Full Movie\", \"video_id\": \"6pDznXpFNvI\", \"url\": \"https://youtu.be/6pDznXpFNvI\"}, {\"title\": \"Top 10 Greatest Movies of All Time! (Chosen by the Experts)\", \"video_id\": \"idqaREfS1sk\", \"url\": \"https://youtu.be/idqaREfS1sk\"}, {\"title\": \"Top 20 Movies Everyone Needs To See At Least Once\", \"video_id\": \"4V1la2abC68\", \"url\": \"https://youtu.be/4V1la2abC68\"}]"
        ],
        [
         "additional_kwargs",
         {}
        ],
        [
         "response_metadata",
         {}
        ],
        [
         "type",
         "tool"
        ],
        [
         "name",
         null
        ],
        [
         "id",
         null
        ],
        [
         "tool_call_id",
         "call_i9WZvZrTkp1xEsTfycq1EJO2"
        ],
        [
         "artifact",
         null
        ],
        [
         "status",
         "success"
        ]
       ],
       [
        [
         "content",
         ""
        ],
        [
         "additional_kwargs",
         {
          "refusal": null,
          "tool_calls": [
           {
            "function": {
             "arguments": "{\"url\": \"https://youtu.be/gm1Hsgop9Bg\"}",
             "name": "get_full_metadata"
            },
            "id": "call_9LzU2mmuHJvfCC8Sgc9QpBmK",
            "type": "function"
           },
           {
            "function": {
             "arguments": "{\"url\": \"https://youtu.be/6VO9wAfHvC0\"}",
             "name": "get_full_metadata"
            },
            "id": "call_ANE56SPMyMD0fK4XntkznfGx",
            "type": "function"
           },
           {
            "function": {
             "arguments": "{\"url\": \"https://youtu.be/2fR2qy_EFr4\"}",
             "name": "get_full_metadata"
            },
            "id": "call_hVYZmbVFStbGmSgOPEv9g0FN",
            "type": "function"
           }
          ]
         }
        ],
        [
         "response_metadata",
         {
          "finish_reason": "tool_calls",
          "id": "chatcmpl-CGzn4gCjCkT9hDBrWAy6168lTS6iR",
          "logprobs": null,
          "model_name": "gpt-4o-mini-2024-07-18",
          "system_fingerprint": "fp_560af6e559",
          "token_usage": {
           "completion_tokens": 96,
           "completion_tokens_details": {
            "accepted_prediction_tokens": 0,
            "audio_tokens": 0,
            "reasoning_tokens": 0,
            "rejected_prediction_tokens": 0
           },
           "prompt_tokens": 1394,
           "prompt_tokens_details": {
            "audio_tokens": 0,
            "cached_tokens": 0
           },
           "total_tokens": 1490
          }
         }
        ],
        [
         "type",
         "ai"
        ],
        [
         "name",
         null
        ],
        [
         "id",
         "run--45479bd5-699a-4155-9fc1-c5158d8f5d42-0"
        ],
        [
         "example",
         false
        ],
        [
         "tool_calls",
         [
          {
           "args": {
            "url": "https://youtu.be/gm1Hsgop9Bg"
           },
           "id": "call_9LzU2mmuHJvfCC8Sgc9QpBmK",
           "name": "get_full_metadata",
           "type": "tool_call"
          },
          {
           "args": {
            "url": "https://youtu.be/6VO9wAfHvC0"
           },
           "id": "call_ANE56SPMyMD0fK4XntkznfGx",
           "name": "get_full_metadata",
           "type": "tool_call"
          },
          {
           "args": {
            "url": "https://youtu.be/2fR2qy_EFr4"
           },
           "id": "call_hVYZmbVFStbGmSgOPEv9g0FN",
           "name": "get_full_metadata",
           "type": "tool_call"
          }
         ]
        ],
        [
         "invalid_tool_calls",
         []
        ],
        [
         "usage_metadata",
         {
          "input_token_details": {
           "audio": 0,
           "cache_read": 0
          },
          "input_tokens": 1394,
          "output_token_details": {
           "audio": 0,
           "reasoning": 0
          },
          "output_tokens": 96,
          "total_tokens": 1490
         }
        ]
       ],
       [
        [
         "content",
         "{\"title\": \"Our 50 Favorite Movies of All Time\", \"views\": 1067389, \"duration\": 232, \"channel\": \"CineFix - IGN Movies and TV\", \"likes\": 23994, \"comments\": 7200, \"chapters\": [{\"start_time\": 0, \"end_time\": 25.0, \"title\": \"<Untitled Chapter 1>\"}, {\"start_time\": 25.0, \"title\": \"THE TREE OF LIFE TERRENCE MALICK 2011\", \"end_time\": 30.0}, {\"start_time\": 30.0, \"title\": \"THE MIRROR ANDREI TARKOVSKY 1975\", \"end_time\": 39.0}, {\"start_time\": 39.0, \"title\": \"THE THIRD MAN CAROL REED 1949\", \"end_time\": 43.0}, {\"start_time\": 43.0, \"title\": \"BLADE RUNNER RIDLEY SCOTT 1982\", \"end_time\": 48.0}, {\"start_time\": 48.0, \"title\": \"THE MASTER\", \"end_time\": 53.0}, {\"start_time\": 53.0, \"title\": \"MISHIMA: A LIFE IN FOUR CHAPTERS\", \"end_time\": 60.0}, {\"start_time\": 60.0, \"title\": \"SEVEN SAMURAI AKIRA KUROSAWA 1954\", \"end_time\": 64.0}, {\"start_time\": 64.0, \"title\": \"DO THE RIGHT THING\", \"end_time\": 69.0}, {\"start_time\": 69.0, \"title\": \"APOCALYPSE NOW FRANCIS FORD COPPOLA 1979\", \"end_time\": 74.0}, {\"start_time\": 74.0, \"title\": \"FIGHT CLUB DAVID FINCHER 1999\", \"end_time\": 78.0}, {\"start_time\": 78.0, \"title\": \"SILENCE OF THE LAMBS\", \"end_time\": 81.0}, {\"start_time\": 81.0, \"title\": \"PULP FICTION QUENTIN TARANTINO 1994\", \"end_time\": 84.0}, {\"start_time\": 84.0, \"title\": \"STAGECOACH JOHN FORD 1939\", \"end_time\": 91.0}, {\"start_time\": 91.0, \"title\": \"NO COUNTRY FOR OLD MEN\", \"end_time\": 100.0}, {\"start_time\": 100.0, \"title\": \"PSYCHO\", \"end_time\": 106.0}, {\"start_time\": 106.0, \"title\": \"SCHINDLER'S LIST STEVEN SPIELBERG 1993\", \"end_time\": 110.0}, {\"start_time\": 110.0, \"title\": \"BEGINNERS MIKE MILLS 2010\", \"end_time\": 114.0}, {\"start_time\": 114.0, \"title\": \"IN THE MOOD FOR LOVE\", \"end_time\": 118.0}, {\"start_time\": 118.0, \"title\": \"SYNECDOCHE, NEW YORK\", \"end_time\": 122.0}, {\"start_time\": 122.0, \"title\": \"BEFORE MIDNIGHT RICHARD LINKLATER 2013\", \"end_time\": 131.0}, {\"start_time\": 131.0, \"title\": \"CROUCHING TIGER, HIDDEN DRAGON\", \"end_time\": 137.0}, {\"start_time\": 137.0, \"title\": \"ADAPTATION SPIKE JONZE 2002\", \"end_time\": 141.0}, {\"start_time\": 141.0, \"title\": \"THE LEGEND OF THE DRUNKEN MASTER\", \"end_time\": 145.0}, {\"start_time\": 145.0, \"title\": \"ETERNAL SUNSHINE OF THE SPOTLESS MIND\", \"end_time\": 149.0}, {\"start_time\": 149.0, \"title\": \"SPIRITED AWAY HAYAO MIYAZAKI 2001\", \"end_time\": 152.0}, {\"start_time\": 152.0, \"title\": \"MONTY PYTHON AND THE HOLY GRAIL\", \"end_time\": 156.0}, {\"start_time\": 156.0, \"title\": \"PARIS, TEXAS WIM WENDERS 1984\", \"end_time\": 160.0}, {\"start_time\": 160.0, \"title\": \"ADVENTURES OF ROBIN HOOD MICHAEL CURTIZ & WILLIAM KEIGHLEY 1938\", \"end_time\": 164.0}, {\"start_time\": 164.0, \"title\": \"CITY OF GOD\", \"end_time\": 167.0}, {\"start_time\": 167.0, \"title\": \"BOYHOOD\", \"end_time\": 171.0}, {\"start_time\": 171.0, \"title\": \"THE FALL TARSEM SINGH 2008\", \"end_time\": 175.0}, {\"start_time\": 175.0, \"title\": \"ANNIE HALL WOODY ALLEN 1977\", \"end_time\": 185.0}, {\"start_time\": 185.0, \"title\": \"THE CONFORMIST BERNARDO BERTOLUCCI 1970\", \"end_time\": 190.0}, {\"start_time\": 190.0, \"title\": \"CITY LIGHTS CHARLIE CHAPLIN 1931\", \"end_time\": 194.0}, {\"start_time\": 194.0, \"title\": \"2001: A SPACE ODYSSEY STANLEY KUBRICK 1968\", \"end_time\": 199.0}, {\"start_time\": 199.0, \"title\": \"CITIZEN KANE ORSON WELLES 1941\", \"end_time\": 203.0}, {\"start_time\": 203.0, \"title\": \"THE GODFATHER FRANCIS FORD COPPOLA 1972\", \"end_time\": 206.0}, {\"start_time\": 206.0, \"title\": \"THE GODFATHER PART II\", \"end_time\": 212.0}, {\"start_time\": 212.0, \"title\": \"CHINATOWN ROMAN POLANSKI 1974\", \"end_time\": 232}]}"
        ],
        [
         "additional_kwargs",
         {}
        ],
        [
         "response_metadata",
         {}
        ],
        [
         "type",
         "tool"
        ],
        [
         "name",
         null
        ],
        [
         "id",
         null
        ],
        [
         "tool_call_id",
         "call_9LzU2mmuHJvfCC8Sgc9QpBmK"
        ],
        [
         "artifact",
         null
        ],
        [
         "status",
         "success"
        ]
       ],
       [
        [
         "content",
         "{\"title\": \"Top 20 Greatest Movies Of All Time\", \"views\": 2367397, \"duration\": 1395, \"channel\": \"WatchMojo.com\", \"likes\": 34285, \"comments\": 29000, \"chapters\": [{\"start_time\": 0.0, \"title\": \"Intro\", \"end_time\": 27.0}, {\"start_time\": 27.0, \"title\": \"20 \\\"Mad Max: Fury Road\\\" (2015)\", \"end_time\": 94.0}, {\"start_time\": 94.0, \"title\": \"\\\"No Country for Old Men\\\" (2007)\", \"end_time\": 189.0}, {\"start_time\": 189.0, \"title\": \"\\\"The Good, the Bad and the Ugly\\\" (1966)\", \"end_time\": 266.0}, {\"start_time\": 266.0, \"title\": \"\\\" 12 Angry Men\\\" (1957)\", \"end_time\": 325.0}, {\"start_time\": 325.0, \"title\": \"\\\"There Will Be Blood\\\" (2007)\", \"end_time\": 378.0}, {\"start_time\": 378.0, \"title\": \"\\\"The Wizard of Oz\\\" (1939)\", \"end_time\": 491.0}, {\"start_time\": 491.0, \"title\": \"\\\"Casablanca\\\" (1942)\", \"end_time\": 544.0}, {\"start_time\": 544.0, \"title\": \"\\\"Singin' in the Rain\\\" (1952)\", \"end_time\": 752.0}, {\"start_time\": 752.0, \"title\": \"2001: A Space Odyssey (1968)\", \"end_time\": 858.0}, {\"start_time\": 858.0, \"title\": \"\\\"Pulp Fiction\\\" (1994)\", \"end_time\": 919.0}, {\"start_time\": 919.0, \"title\": \"\\\"Schindler's List\\\" (1993)\", \"end_time\": 995.0}, {\"start_time\": 995.0, \"title\": \"\\\"Star Wars: Episode V - The Empire Strikes Back\\\" (1980)\", \"end_time\": 1186.0}, {\"start_time\": 1186.0, \"title\": \"Honorable Mentions\", \"end_time\": 1190.0}, {\"start_time\": 1190.0, \"title\": \"\\\"Back to the Future\\\" (1985)\", \"end_time\": 1218.0}, {\"start_time\": 1218.0, \"title\": \"\\\"On the Waterfront\\\" (1954)\", \"end_time\": 1230.0}, {\"start_time\": 1230.0, \"title\": \"\\\"12 Years a Slave\\\" (2013)\", \"end_time\": 1253.0}, {\"start_time\": 1253.0, \"title\": \"\\\"Eternal Sunshine of the Spotless Mind\\\" (2004)\", \"end_time\": 1315.0}, {\"start_time\": 1315.0, \"title\": \"\\\"The Godfather\\\" (1972)\", \"end_time\": 1395}]}"
        ],
        [
         "additional_kwargs",
         {}
        ],
        [
         "response_metadata",
         {}
        ],
        [
         "type",
         "tool"
        ],
        [
         "name",
         null
        ],
        [
         "id",
         null
        ],
        [
         "tool_call_id",
         "call_ANE56SPMyMD0fK4XntkznfGx"
        ],
        [
         "artifact",
         null
        ],
        [
         "status",
         "success"
        ]
       ],
       [
        [
         "content",
         "{\"title\": \"TOP 50 Best Movies Of All Time | Greatest Movies Ever Made | Must Watch Movies\", \"views\": 579167, \"duration\": 2755, \"channel\": \"TOP LIST\", \"likes\": 10247, \"comments\": 1000, \"chapters\": null}"
        ],
        [
         "additional_kwargs",
         {}
        ],
        [
         "response_metadata",
         {}
        ],
        [
         "type",
         "tool"
        ],
        [
         "name",
         null
        ],
        [
         "id",
         null
        ],
        [
         "tool_call_id",
         "call_hVYZmbVFStbGmSgOPEv9g0FN"
        ],
        [
         "artifact",
         null
        ],
        [
         "status",
         "success"
        ]
       ],
       [
        [
         "content",
         "Here are three top movies of all time that can be found on YouTube, along with their content and number of views:\n\n1. **Our 50 Favorite Movies of All Time**\n   - **Views:** 1,067,389\n   - [Watch here](https://youtu.be/gm1Hsgop9Bg)\n\n2. **Top 20 Greatest Movies Of All Time**\n   - **Views:** 2,367,397\n   - [Watch here](https://youtu.be/6VO9wAfHvC0)\n\n3. **TOP 50 Best Movies Of All Time | Greatest Movies Ever Made | Must Watch Movies**\n   - **Views:** 579,167\n   - [Watch here](https://youtu.be/2fR2qy_EFr4)"
        ],
        [
         "additional_kwargs",
         {
          "refusal": null
         }
        ],
        [
         "response_metadata",
         {
          "finish_reason": "stop",
          "id": "chatcmpl-CGznIxGKoy6PkhUk4yAz60UevraXi",
          "logprobs": null,
          "model_name": "gpt-4o-mini-2024-07-18",
          "system_fingerprint": "fp_560af6e559",
          "token_usage": {
           "completion_tokens": 164,
           "completion_tokens_details": {
            "accepted_prediction_tokens": 0,
            "audio_tokens": 0,
            "reasoning_tokens": 0,
            "rejected_prediction_tokens": 0
           },
           "prompt_tokens": 3636,
           "prompt_tokens_details": {
            "audio_tokens": 0,
            "cached_tokens": 1408
           },
           "total_tokens": 3800
          }
         }
        ],
        [
         "type",
         "ai"
        ],
        [
         "name",
         null
        ],
        [
         "id",
         "run--a548df32-07b8-42a1-b080-1bec2f4ff44f-0"
        ],
        [
         "example",
         false
        ],
        [
         "tool_calls",
         []
        ],
        [
         "invalid_tool_calls",
         []
        ],
        [
         "usage_metadata",
         {
          "input_token_details": {
           "audio": 0,
           "cache_read": 1408
          },
          "input_tokens": 3636,
          "output_token_details": {
           "audio": 0,
           "reasoning": 0
          },
          "output_tokens": 164,
          "total_tokens": 3800
         }
        ]
       ]
      ],
      "text/plain": [
       "<IPython.core.display.JSON object>"
      ]
     },
     "metadata": {
      "application/json": {
       "expanded": false,
       "root": "root"
      }
     },
     "output_type": "display_data"
    },
    {
     "name": "stdout",
     "output_type": "stream",
     "text": [
      "> last message has tool_calls ?\n",
      "False\n",
      "-- end should_continue --\n",
      "> messages to return by _recursive_chain:\n"
     ]
    },
    {
     "data": {
      "application/json": [
       [
        [
         "content",
         "Please provide up to 3 top movies of all the times that can be found on Youtube with their content and number of views. Please do not include metadata in answer"
        ],
        [
         "additional_kwargs",
         {}
        ],
        [
         "response_metadata",
         {}
        ],
        [
         "type",
         "human"
        ],
        [
         "name",
         null
        ],
        [
         "id",
         null
        ],
        [
         "example",
         false
        ]
       ],
       [
        [
         "content",
         ""
        ],
        [
         "additional_kwargs",
         {
          "refusal": null,
          "tool_calls": [
           {
            "function": {
             "arguments": "{\"query\":\"top movies of all time\"}",
             "name": "search_youtube"
            },
            "id": "call_i9WZvZrTkp1xEsTfycq1EJO2",
            "type": "function"
           }
          ]
         }
        ],
        [
         "response_metadata",
         {
          "finish_reason": "tool_calls",
          "id": "chatcmpl-CGzn3rgVrGClsVQ2N9VYgxYSNZ04u",
          "logprobs": null,
          "model_name": "gpt-4o-mini-2024-07-18",
          "system_fingerprint": "fp_560af6e559",
          "token_usage": {
           "completion_tokens": 19,
           "completion_tokens_details": {
            "accepted_prediction_tokens": 0,
            "audio_tokens": 0,
            "reasoning_tokens": 0,
            "rejected_prediction_tokens": 0
           },
           "prompt_tokens": 389,
           "prompt_tokens_details": {
            "audio_tokens": 0,
            "cached_tokens": 0
           },
           "total_tokens": 408
          }
         }
        ],
        [
         "type",
         "ai"
        ],
        [
         "name",
         null
        ],
        [
         "id",
         "run--248e21be-e9ee-463f-886c-7772dd34ab75-0"
        ],
        [
         "example",
         false
        ],
        [
         "tool_calls",
         [
          {
           "args": {
            "query": "top movies of all time"
           },
           "id": "call_i9WZvZrTkp1xEsTfycq1EJO2",
           "name": "search_youtube",
           "type": "tool_call"
          }
         ]
        ],
        [
         "invalid_tool_calls",
         []
        ],
        [
         "usage_metadata",
         {
          "input_token_details": {
           "audio": 0,
           "cache_read": 0
          },
          "input_tokens": 389,
          "output_token_details": {
           "audio": 0,
           "reasoning": 0
          },
          "output_tokens": 19,
          "total_tokens": 408
         }
        ]
       ],
       [
        [
         "content",
         "[{\"title\": \"Our 50 Favorite Movies of All Time\", \"video_id\": \"gm1Hsgop9Bg\", \"url\": \"https://youtu.be/gm1Hsgop9Bg\"}, {\"title\": \"Top 20 Greatest Movies Of All Time\", \"video_id\": \"6VO9wAfHvC0\", \"url\": \"https://youtu.be/6VO9wAfHvC0\"}, {\"title\": \"top 10 movies worth watching\", \"video_id\": \"lIi7Jj32XUc\", \"url\": \"https://youtu.be/lIi7Jj32XUc\"}, {\"title\": \"Best Adventure Movie You\\u2019ll Never Forget / Temple of the Sun / Full Action in English\", \"video_id\": \"bVAS5afUTUk\", \"url\": \"https://youtu.be/bVAS5afUTUk\"}, {\"title\": \"TOP 50 Best Movies Of All Time | Greatest Movies Ever Made | Must Watch Movies\", \"video_id\": \"2fR2qy_EFr4\", \"url\": \"https://youtu.be/2fR2qy_EFr4\"}, {\"title\": \"My Top 200 Favorite Films of All Time\", \"video_id\": \"mb_kp50VY2c\", \"url\": \"https://youtu.be/mb_kp50VY2c\"}, {\"title\": \"Top 50 Best Movies of All Time - IMDB\", \"video_id\": \"gul5c2CYGQ4\", \"url\": \"https://youtu.be/gul5c2CYGQ4\"}, {\"title\": \"50 Movies to Watch Before You Die\", \"video_id\": \"uY5oF0tZiWI\", \"url\": \"https://youtu.be/uY5oF0tZiWI\"}, {\"title\": \"Top 10 Movies of All Time According to Roger Ebert\", \"video_id\": \"uUSLUPEe7R0\", \"url\": \"https://youtu.be/uUSLUPEe7R0\"}, {\"title\": \"My Top 25 Movies Of All Time\\u2026It\\u2019s NOT What You\\u2019d Expect\", \"video_id\": \"bGO0dzFgw-I\", \"url\": \"https://youtu.be/bGO0dzFgw-I\"}, {\"title\": \"top 5 revenge love story movies in bollywood | best revenge love story movies\", \"video_id\": \"dwhNPQDm_7Q\", \"url\": \"https://youtu.be/dwhNPQDm_7Q\"}, {\"title\": \"The President\\u2019s Sniper | Action Thriller Movie | Hollywood English Movie 2025 | English Full Movie\", \"video_id\": \"E6plGb1qfUM\", \"url\": \"https://youtu.be/E6plGb1qfUM\"}, {\"title\": \"Top 50 Greatest Films of All Time (The Best Movies Ever Made)\", \"video_id\": \"kHZ2h3FbR5k\", \"url\": \"https://youtu.be/kHZ2h3FbR5k\"}, {\"title\": \"Top 10 Movies of All Time\", \"video_id\": \"cYROqsUAw0o\", \"url\": \"https://youtu.be/cYROqsUAw0o\"}, {\"title\": \"Top 50 Greatest Movies of All Time\", \"video_id\": \"F_LOBAeOvXI\", \"url\": \"https://youtu.be/F_LOBAeOvXI\"}, {\"title\": \"Top 20 best movies of all time | Best films | Greatest movies IMDB\", \"video_id\": \"z_wYwyMI2fY\", \"url\": \"https://youtu.be/z_wYwyMI2fY\"}, {\"title\": \"Top 100 Movies of All Time\", \"video_id\": \"Fdg1RedOBO0\", \"url\": \"https://youtu.be/Fdg1RedOBO0\"}, {\"title\": \"The Soldier\\u2019s Trap | Action Thriller Movie | Hollywood English Movie 2025 | English Full Movie\", \"video_id\": \"6pDznXpFNvI\", \"url\": \"https://youtu.be/6pDznXpFNvI\"}, {\"title\": \"Top 10 Greatest Movies of All Time! (Chosen by the Experts)\", \"video_id\": \"idqaREfS1sk\", \"url\": \"https://youtu.be/idqaREfS1sk\"}, {\"title\": \"Top 20 Movies Everyone Needs To See At Least Once\", \"video_id\": \"4V1la2abC68\", \"url\": \"https://youtu.be/4V1la2abC68\"}]"
        ],
        [
         "additional_kwargs",
         {}
        ],
        [
         "response_metadata",
         {}
        ],
        [
         "type",
         "tool"
        ],
        [
         "name",
         null
        ],
        [
         "id",
         null
        ],
        [
         "tool_call_id",
         "call_i9WZvZrTkp1xEsTfycq1EJO2"
        ],
        [
         "artifact",
         null
        ],
        [
         "status",
         "success"
        ]
       ],
       [
        [
         "content",
         ""
        ],
        [
         "additional_kwargs",
         {
          "refusal": null,
          "tool_calls": [
           {
            "function": {
             "arguments": "{\"url\": \"https://youtu.be/gm1Hsgop9Bg\"}",
             "name": "get_full_metadata"
            },
            "id": "call_9LzU2mmuHJvfCC8Sgc9QpBmK",
            "type": "function"
           },
           {
            "function": {
             "arguments": "{\"url\": \"https://youtu.be/6VO9wAfHvC0\"}",
             "name": "get_full_metadata"
            },
            "id": "call_ANE56SPMyMD0fK4XntkznfGx",
            "type": "function"
           },
           {
            "function": {
             "arguments": "{\"url\": \"https://youtu.be/2fR2qy_EFr4\"}",
             "name": "get_full_metadata"
            },
            "id": "call_hVYZmbVFStbGmSgOPEv9g0FN",
            "type": "function"
           }
          ]
         }
        ],
        [
         "response_metadata",
         {
          "finish_reason": "tool_calls",
          "id": "chatcmpl-CGzn4gCjCkT9hDBrWAy6168lTS6iR",
          "logprobs": null,
          "model_name": "gpt-4o-mini-2024-07-18",
          "system_fingerprint": "fp_560af6e559",
          "token_usage": {
           "completion_tokens": 96,
           "completion_tokens_details": {
            "accepted_prediction_tokens": 0,
            "audio_tokens": 0,
            "reasoning_tokens": 0,
            "rejected_prediction_tokens": 0
           },
           "prompt_tokens": 1394,
           "prompt_tokens_details": {
            "audio_tokens": 0,
            "cached_tokens": 0
           },
           "total_tokens": 1490
          }
         }
        ],
        [
         "type",
         "ai"
        ],
        [
         "name",
         null
        ],
        [
         "id",
         "run--45479bd5-699a-4155-9fc1-c5158d8f5d42-0"
        ],
        [
         "example",
         false
        ],
        [
         "tool_calls",
         [
          {
           "args": {
            "url": "https://youtu.be/gm1Hsgop9Bg"
           },
           "id": "call_9LzU2mmuHJvfCC8Sgc9QpBmK",
           "name": "get_full_metadata",
           "type": "tool_call"
          },
          {
           "args": {
            "url": "https://youtu.be/6VO9wAfHvC0"
           },
           "id": "call_ANE56SPMyMD0fK4XntkznfGx",
           "name": "get_full_metadata",
           "type": "tool_call"
          },
          {
           "args": {
            "url": "https://youtu.be/2fR2qy_EFr4"
           },
           "id": "call_hVYZmbVFStbGmSgOPEv9g0FN",
           "name": "get_full_metadata",
           "type": "tool_call"
          }
         ]
        ],
        [
         "invalid_tool_calls",
         []
        ],
        [
         "usage_metadata",
         {
          "input_token_details": {
           "audio": 0,
           "cache_read": 0
          },
          "input_tokens": 1394,
          "output_token_details": {
           "audio": 0,
           "reasoning": 0
          },
          "output_tokens": 96,
          "total_tokens": 1490
         }
        ]
       ],
       [
        [
         "content",
         "{\"title\": \"Our 50 Favorite Movies of All Time\", \"views\": 1067389, \"duration\": 232, \"channel\": \"CineFix - IGN Movies and TV\", \"likes\": 23994, \"comments\": 7200, \"chapters\": [{\"start_time\": 0, \"end_time\": 25.0, \"title\": \"<Untitled Chapter 1>\"}, {\"start_time\": 25.0, \"title\": \"THE TREE OF LIFE TERRENCE MALICK 2011\", \"end_time\": 30.0}, {\"start_time\": 30.0, \"title\": \"THE MIRROR ANDREI TARKOVSKY 1975\", \"end_time\": 39.0}, {\"start_time\": 39.0, \"title\": \"THE THIRD MAN CAROL REED 1949\", \"end_time\": 43.0}, {\"start_time\": 43.0, \"title\": \"BLADE RUNNER RIDLEY SCOTT 1982\", \"end_time\": 48.0}, {\"start_time\": 48.0, \"title\": \"THE MASTER\", \"end_time\": 53.0}, {\"start_time\": 53.0, \"title\": \"MISHIMA: A LIFE IN FOUR CHAPTERS\", \"end_time\": 60.0}, {\"start_time\": 60.0, \"title\": \"SEVEN SAMURAI AKIRA KUROSAWA 1954\", \"end_time\": 64.0}, {\"start_time\": 64.0, \"title\": \"DO THE RIGHT THING\", \"end_time\": 69.0}, {\"start_time\": 69.0, \"title\": \"APOCALYPSE NOW FRANCIS FORD COPPOLA 1979\", \"end_time\": 74.0}, {\"start_time\": 74.0, \"title\": \"FIGHT CLUB DAVID FINCHER 1999\", \"end_time\": 78.0}, {\"start_time\": 78.0, \"title\": \"SILENCE OF THE LAMBS\", \"end_time\": 81.0}, {\"start_time\": 81.0, \"title\": \"PULP FICTION QUENTIN TARANTINO 1994\", \"end_time\": 84.0}, {\"start_time\": 84.0, \"title\": \"STAGECOACH JOHN FORD 1939\", \"end_time\": 91.0}, {\"start_time\": 91.0, \"title\": \"NO COUNTRY FOR OLD MEN\", \"end_time\": 100.0}, {\"start_time\": 100.0, \"title\": \"PSYCHO\", \"end_time\": 106.0}, {\"start_time\": 106.0, \"title\": \"SCHINDLER'S LIST STEVEN SPIELBERG 1993\", \"end_time\": 110.0}, {\"start_time\": 110.0, \"title\": \"BEGINNERS MIKE MILLS 2010\", \"end_time\": 114.0}, {\"start_time\": 114.0, \"title\": \"IN THE MOOD FOR LOVE\", \"end_time\": 118.0}, {\"start_time\": 118.0, \"title\": \"SYNECDOCHE, NEW YORK\", \"end_time\": 122.0}, {\"start_time\": 122.0, \"title\": \"BEFORE MIDNIGHT RICHARD LINKLATER 2013\", \"end_time\": 131.0}, {\"start_time\": 131.0, \"title\": \"CROUCHING TIGER, HIDDEN DRAGON\", \"end_time\": 137.0}, {\"start_time\": 137.0, \"title\": \"ADAPTATION SPIKE JONZE 2002\", \"end_time\": 141.0}, {\"start_time\": 141.0, \"title\": \"THE LEGEND OF THE DRUNKEN MASTER\", \"end_time\": 145.0}, {\"start_time\": 145.0, \"title\": \"ETERNAL SUNSHINE OF THE SPOTLESS MIND\", \"end_time\": 149.0}, {\"start_time\": 149.0, \"title\": \"SPIRITED AWAY HAYAO MIYAZAKI 2001\", \"end_time\": 152.0}, {\"start_time\": 152.0, \"title\": \"MONTY PYTHON AND THE HOLY GRAIL\", \"end_time\": 156.0}, {\"start_time\": 156.0, \"title\": \"PARIS, TEXAS WIM WENDERS 1984\", \"end_time\": 160.0}, {\"start_time\": 160.0, \"title\": \"ADVENTURES OF ROBIN HOOD MICHAEL CURTIZ & WILLIAM KEIGHLEY 1938\", \"end_time\": 164.0}, {\"start_time\": 164.0, \"title\": \"CITY OF GOD\", \"end_time\": 167.0}, {\"start_time\": 167.0, \"title\": \"BOYHOOD\", \"end_time\": 171.0}, {\"start_time\": 171.0, \"title\": \"THE FALL TARSEM SINGH 2008\", \"end_time\": 175.0}, {\"start_time\": 175.0, \"title\": \"ANNIE HALL WOODY ALLEN 1977\", \"end_time\": 185.0}, {\"start_time\": 185.0, \"title\": \"THE CONFORMIST BERNARDO BERTOLUCCI 1970\", \"end_time\": 190.0}, {\"start_time\": 190.0, \"title\": \"CITY LIGHTS CHARLIE CHAPLIN 1931\", \"end_time\": 194.0}, {\"start_time\": 194.0, \"title\": \"2001: A SPACE ODYSSEY STANLEY KUBRICK 1968\", \"end_time\": 199.0}, {\"start_time\": 199.0, \"title\": \"CITIZEN KANE ORSON WELLES 1941\", \"end_time\": 203.0}, {\"start_time\": 203.0, \"title\": \"THE GODFATHER FRANCIS FORD COPPOLA 1972\", \"end_time\": 206.0}, {\"start_time\": 206.0, \"title\": \"THE GODFATHER PART II\", \"end_time\": 212.0}, {\"start_time\": 212.0, \"title\": \"CHINATOWN ROMAN POLANSKI 1974\", \"end_time\": 232}]}"
        ],
        [
         "additional_kwargs",
         {}
        ],
        [
         "response_metadata",
         {}
        ],
        [
         "type",
         "tool"
        ],
        [
         "name",
         null
        ],
        [
         "id",
         null
        ],
        [
         "tool_call_id",
         "call_9LzU2mmuHJvfCC8Sgc9QpBmK"
        ],
        [
         "artifact",
         null
        ],
        [
         "status",
         "success"
        ]
       ],
       [
        [
         "content",
         "{\"title\": \"Top 20 Greatest Movies Of All Time\", \"views\": 2367397, \"duration\": 1395, \"channel\": \"WatchMojo.com\", \"likes\": 34285, \"comments\": 29000, \"chapters\": [{\"start_time\": 0.0, \"title\": \"Intro\", \"end_time\": 27.0}, {\"start_time\": 27.0, \"title\": \"20 \\\"Mad Max: Fury Road\\\" (2015)\", \"end_time\": 94.0}, {\"start_time\": 94.0, \"title\": \"\\\"No Country for Old Men\\\" (2007)\", \"end_time\": 189.0}, {\"start_time\": 189.0, \"title\": \"\\\"The Good, the Bad and the Ugly\\\" (1966)\", \"end_time\": 266.0}, {\"start_time\": 266.0, \"title\": \"\\\" 12 Angry Men\\\" (1957)\", \"end_time\": 325.0}, {\"start_time\": 325.0, \"title\": \"\\\"There Will Be Blood\\\" (2007)\", \"end_time\": 378.0}, {\"start_time\": 378.0, \"title\": \"\\\"The Wizard of Oz\\\" (1939)\", \"end_time\": 491.0}, {\"start_time\": 491.0, \"title\": \"\\\"Casablanca\\\" (1942)\", \"end_time\": 544.0}, {\"start_time\": 544.0, \"title\": \"\\\"Singin' in the Rain\\\" (1952)\", \"end_time\": 752.0}, {\"start_time\": 752.0, \"title\": \"2001: A Space Odyssey (1968)\", \"end_time\": 858.0}, {\"start_time\": 858.0, \"title\": \"\\\"Pulp Fiction\\\" (1994)\", \"end_time\": 919.0}, {\"start_time\": 919.0, \"title\": \"\\\"Schindler's List\\\" (1993)\", \"end_time\": 995.0}, {\"start_time\": 995.0, \"title\": \"\\\"Star Wars: Episode V - The Empire Strikes Back\\\" (1980)\", \"end_time\": 1186.0}, {\"start_time\": 1186.0, \"title\": \"Honorable Mentions\", \"end_time\": 1190.0}, {\"start_time\": 1190.0, \"title\": \"\\\"Back to the Future\\\" (1985)\", \"end_time\": 1218.0}, {\"start_time\": 1218.0, \"title\": \"\\\"On the Waterfront\\\" (1954)\", \"end_time\": 1230.0}, {\"start_time\": 1230.0, \"title\": \"\\\"12 Years a Slave\\\" (2013)\", \"end_time\": 1253.0}, {\"start_time\": 1253.0, \"title\": \"\\\"Eternal Sunshine of the Spotless Mind\\\" (2004)\", \"end_time\": 1315.0}, {\"start_time\": 1315.0, \"title\": \"\\\"The Godfather\\\" (1972)\", \"end_time\": 1395}]}"
        ],
        [
         "additional_kwargs",
         {}
        ],
        [
         "response_metadata",
         {}
        ],
        [
         "type",
         "tool"
        ],
        [
         "name",
         null
        ],
        [
         "id",
         null
        ],
        [
         "tool_call_id",
         "call_ANE56SPMyMD0fK4XntkznfGx"
        ],
        [
         "artifact",
         null
        ],
        [
         "status",
         "success"
        ]
       ],
       [
        [
         "content",
         "{\"title\": \"TOP 50 Best Movies Of All Time | Greatest Movies Ever Made | Must Watch Movies\", \"views\": 579167, \"duration\": 2755, \"channel\": \"TOP LIST\", \"likes\": 10247, \"comments\": 1000, \"chapters\": null}"
        ],
        [
         "additional_kwargs",
         {}
        ],
        [
         "response_metadata",
         {}
        ],
        [
         "type",
         "tool"
        ],
        [
         "name",
         null
        ],
        [
         "id",
         null
        ],
        [
         "tool_call_id",
         "call_hVYZmbVFStbGmSgOPEv9g0FN"
        ],
        [
         "artifact",
         null
        ],
        [
         "status",
         "success"
        ]
       ],
       [
        [
         "content",
         "Here are three top movies of all time that can be found on YouTube, along with their content and number of views:\n\n1. **Our 50 Favorite Movies of All Time**\n   - **Views:** 1,067,389\n   - [Watch here](https://youtu.be/gm1Hsgop9Bg)\n\n2. **Top 20 Greatest Movies Of All Time**\n   - **Views:** 2,367,397\n   - [Watch here](https://youtu.be/6VO9wAfHvC0)\n\n3. **TOP 50 Best Movies Of All Time | Greatest Movies Ever Made | Must Watch Movies**\n   - **Views:** 579,167\n   - [Watch here](https://youtu.be/2fR2qy_EFr4)"
        ],
        [
         "additional_kwargs",
         {
          "refusal": null
         }
        ],
        [
         "response_metadata",
         {
          "finish_reason": "stop",
          "id": "chatcmpl-CGznIxGKoy6PkhUk4yAz60UevraXi",
          "logprobs": null,
          "model_name": "gpt-4o-mini-2024-07-18",
          "system_fingerprint": "fp_560af6e559",
          "token_usage": {
           "completion_tokens": 164,
           "completion_tokens_details": {
            "accepted_prediction_tokens": 0,
            "audio_tokens": 0,
            "reasoning_tokens": 0,
            "rejected_prediction_tokens": 0
           },
           "prompt_tokens": 3636,
           "prompt_tokens_details": {
            "audio_tokens": 0,
            "cached_tokens": 1408
           },
           "total_tokens": 3800
          }
         }
        ],
        [
         "type",
         "ai"
        ],
        [
         "name",
         null
        ],
        [
         "id",
         "run--a548df32-07b8-42a1-b080-1bec2f4ff44f-0"
        ],
        [
         "example",
         false
        ],
        [
         "tool_calls",
         []
        ],
        [
         "invalid_tool_calls",
         []
        ],
        [
         "usage_metadata",
         {
          "input_token_details": {
           "audio": 0,
           "cache_read": 1408
          },
          "input_tokens": 3636,
          "output_token_details": {
           "audio": 0,
           "reasoning": 0
          },
          "output_tokens": 164,
          "total_tokens": 3800
         }
        ]
       ]
      ],
      "text/plain": [
       "<IPython.core.display.JSON object>"
      ]
     },
     "metadata": {
      "application/json": {
       "expanded": false,
       "root": "root"
      }
     },
     "output_type": "display_data"
    },
    {
     "name": "stdout",
     "output_type": "stream",
     "text": [
      "-- end _recursive_chain --\n",
      "---- my_result -----\n"
     ]
    },
    {
     "data": {
      "application/json": [
       [
        [
         "content",
         "Here are three top movies of all time that can be found on YouTube, along with their content and number of views:\n\n1. **Our 50 Favorite Movies of All Time**\n   - **Views:** 1,067,389\n   - [Watch here](https://youtu.be/gm1Hsgop9Bg)\n\n2. **Top 20 Greatest Movies Of All Time**\n   - **Views:** 2,367,397\n   - [Watch here](https://youtu.be/6VO9wAfHvC0)\n\n3. **TOP 50 Best Movies Of All Time | Greatest Movies Ever Made | Must Watch Movies**\n   - **Views:** 579,167\n   - [Watch here](https://youtu.be/2fR2qy_EFr4)"
        ],
        [
         "additional_kwargs",
         {
          "refusal": null
         }
        ],
        [
         "response_metadata",
         {
          "finish_reason": "stop",
          "id": "chatcmpl-CGznIxGKoy6PkhUk4yAz60UevraXi",
          "logprobs": null,
          "model_name": "gpt-4o-mini-2024-07-18",
          "system_fingerprint": "fp_560af6e559",
          "token_usage": {
           "completion_tokens": 164,
           "completion_tokens_details": {
            "accepted_prediction_tokens": 0,
            "audio_tokens": 0,
            "reasoning_tokens": 0,
            "rejected_prediction_tokens": 0
           },
           "prompt_tokens": 3636,
           "prompt_tokens_details": {
            "audio_tokens": 0,
            "cached_tokens": 1408
           },
           "total_tokens": 3800
          }
         }
        ],
        [
         "type",
         "ai"
        ],
        [
         "name",
         null
        ],
        [
         "id",
         "run--a548df32-07b8-42a1-b080-1bec2f4ff44f-0"
        ],
        [
         "example",
         false
        ],
        [
         "tool_calls",
         []
        ],
        [
         "invalid_tool_calls",
         []
        ],
        [
         "usage_metadata",
         {
          "input_token_details": {
           "audio": 0,
           "cache_read": 1408
          },
          "input_tokens": 3636,
          "output_token_details": {
           "audio": 0,
           "reasoning": 0
          },
          "output_tokens": 164,
          "total_tokens": 3800
         }
        ]
       ]
      ],
      "text/plain": [
       "<IPython.core.display.JSON object>"
      ]
     },
     "metadata": {
      "application/json": {
       "expanded": false,
       "root": "root"
      }
     },
     "output_type": "display_data"
    }
   ],
   "source": [
    "my_result=universal_chain.invoke({\n",
    "    \"query\": \"Please provide up to 3 top movies of all the times that can be found on Youtube with their content and number of views. Please do not include metadata in answer\"\n",
    "})[-1]\n",
    "\n",
    "print(\"---- my_result -----\")\n",
    "#print(my_result)\n",
    "display(JSON([my_result]))\n"
   ]
  },
  {
   "cell_type": "markdown",
   "metadata": {},
   "source": [
    "# Exercise\n"
   ]
  },
  {
   "cell_type": "markdown",
   "metadata": {},
   "source": [
    "### Exercise 1: Try a different video with a Youtube link\n"
   ]
  },
  {
   "cell_type": "code",
   "execution_count": null,
   "metadata": {},
   "outputs": [],
   "source": [
    "# TODO"
   ]
  },
  {
   "cell_type": "markdown",
   "metadata": {},
   "source": [
    "<details>\n",
    "    <summary>Click here for hint</summary>\n",
    "\n",
    "```python\n",
    "video_id = \"INSERT_VIDEO_ID_HERE\"  # Replace with the actual video ID\n",
    "```\n",
    "\n",
    "</details>\n"
   ]
  },
  {
   "cell_type": "markdown",
   "metadata": {},
   "source": [
    "### Exercise 2: Extract the video ID\n"
   ]
  },
  {
   "cell_type": "code",
   "execution_count": null,
   "metadata": {},
   "outputs": [],
   "source": [
    "# TODO"
   ]
  },
  {
   "cell_type": "markdown",
   "metadata": {},
   "source": [
    "<details>\n",
    "    <summary>Click here for hint</summary>\n",
    "\n",
    "```python\n",
    "video_id = extract_video_id.run(youtube_url)\n",
    "print(f\"Extracted video ID: {video_id}\")\n",
    "```\n",
    "\n",
    "</details>\n"
   ]
  },
  {
   "cell_type": "markdown",
   "metadata": {},
   "source": [
    "### Exercise 3: Collect all necessary data about the video in one go\n"
   ]
  },
  {
   "cell_type": "code",
   "execution_count": null,
   "metadata": {},
   "outputs": [],
   "source": [
    "# TODO"
   ]
  },
  {
   "cell_type": "markdown",
   "metadata": {},
   "source": [
    "<details>\n",
    "    <summary>Click here for hint</summary>\n",
    "\n",
    "```python\n",
    "video_metadata = get_full_metadata.run(youtube_url)\n",
    "print(f\"Retrieved metadata for: {video_metadata['title']}\")\n",
    "```\n",
    "\n",
    "</details>\n"
   ]
  },
  {
   "cell_type": "markdown",
   "metadata": {},
   "source": [
    "### Exercise 4: Get video transcript\n"
   ]
  },
  {
   "cell_type": "code",
   "execution_count": null,
   "metadata": {},
   "outputs": [],
   "source": [
    "# TODO"
   ]
  },
  {
   "cell_type": "markdown",
   "metadata": {},
   "source": [
    "<details>\n",
    "    <summary>Click here for hint</summary>\n",
    "\n",
    "```python\n",
    "# Get video transcript\n",
    "transcript = fetch_transcript.run(video_id)\n",
    "print(f\"Retrieved transcript with {len(transcript)} characters\")\n",
    "```\n",
    "\n",
    "</details>\n"
   ]
  },
  {
   "cell_type": "markdown",
   "metadata": {},
   "source": [
    "### Exercise 5: Get video thumbnails\n"
   ]
  },
  {
   "cell_type": "code",
   "execution_count": null,
   "metadata": {},
   "outputs": [],
   "source": [
    "# TODO"
   ]
  },
  {
   "cell_type": "markdown",
   "metadata": {},
   "source": [
    "<details>\n",
    "    <summary>Click here for hint</summary>\n",
    "\n",
    "```python\n",
    "# Get video thumbnails\n",
    "thumbnails = get_thumbnails.run(youtube_url)\n",
    "print(f\"Retrieved {len(thumbnails)} thumbnails\")\n",
    "```\n",
    "\n",
    "</details>\n"
   ]
  },
  {
   "cell_type": "markdown",
   "metadata": {},
   "source": [
    "### Let's have a comprehensive prompt to be passed to LLM to generate a summary\n"
   ]
  },
  {
   "cell_type": "code",
   "execution_count": null,
   "metadata": {},
   "outputs": [],
   "source": [
    "# TODO"
   ]
  },
  {
   "cell_type": "markdown",
   "metadata": {},
   "source": [
    "<details>\n",
    "    <summary>Click here for prompt</summary>\n",
    "\n",
    "```python\n",
    "prompt = f\"\"\"\n",
    "Please analyze this YouTube video and provide a comprehensive summary.\n",
    "\n",
    "VIDEO TITLE: {video_metadata['title']}\n",
    "CHANNEL: {video_metadata['channel']}\n",
    "VIEWS: {video_metadata['views']}\n",
    "DURATION: {video_metadata['duration']} seconds\n",
    "LIKES: {video_metadata['likes']}\n",
    "\n",
    "TRANSCRIPT EXCERPT:\n",
    "{transcript[:3000]}... (transcript truncated for brevity)\n",
    "\n",
    "Based on this information, please provide:\n",
    "1. A concise summary of the video content (3-5 bullet points)\n",
    "2. The main topics or themes discussed\n",
    "3. The intended audience for this content\n",
    "4. A brief analysis of why this video might be performing well (or not)\n",
    "\"\"\"\n",
    "```\n",
    "\n",
    "</details>\n"
   ]
  },
  {
   "cell_type": "markdown",
   "metadata": {},
   "source": [
    "### Exercise 6: Single LLM invocation with all the data\n"
   ]
  },
  {
   "cell_type": "code",
   "execution_count": null,
   "metadata": {},
   "outputs": [],
   "source": [
    "# TODO"
   ]
  },
  {
   "cell_type": "markdown",
   "metadata": {},
   "source": [
    "<details>\n",
    "    <summary>Click here for hint</summary>\n",
    "\n",
    "```python\n",
    "# Get video transcript\n",
    "messages = [HumanMessage(content=prompt)]\n",
    "response = llm.invoke(messages)\n",
    "```\n",
    "\n",
    "</details>\n"
   ]
  },
  {
   "cell_type": "markdown",
   "metadata": {},
   "source": [
    "### Exercise 7: Display the comprehensive analysis\n"
   ]
  },
  {
   "cell_type": "code",
   "execution_count": null,
   "metadata": {},
   "outputs": [],
   "source": [
    "# TODO"
   ]
  },
  {
   "cell_type": "markdown",
   "metadata": {},
   "source": [
    "<details>\n",
    "    <summary>Click here for hint</summary>\n",
    "\n",
    "```python\n",
    "# Get video transcript\n",
    "print(\"\\n===== VIDEO ANALYSIS =====\\n\")\n",
    "print(response.content)\n",
    "```\n",
    "\n",
    "</details>\n"
   ]
  },
  {
   "cell_type": "markdown",
   "metadata": {},
   "source": [
    "## Authors\n"
   ]
  },
  {
   "cell_type": "markdown",
   "metadata": {},
   "source": [
    "[Kunal Makwana](https://author.skills.network/instructors/kunal_makwana) is a Data Scientist at IBM and is currently pursuing his Master's in Computer Science at Dalhousie University.\n"
   ]
  },
  {
   "cell_type": "markdown",
   "metadata": {},
   "source": [
    "### Other Contributors\n"
   ]
  },
  {
   "cell_type": "markdown",
   "metadata": {},
   "source": [
    "[Joseph Santarcangelo](https://author.skills.network/instructors/joseph_santarcangelo)\n"
   ]
  },
  {
   "cell_type": "markdown",
   "metadata": {},
   "source": [
    "Copyright © IBM Corporation. All rights reserved.\n"
   ]
  }
 ],
 "metadata": {
  "kernelspec": {
   "display_name": "Python 3 (ipykernel)",
   "language": "python",
   "name": "python3"
  },
  "language_info": {
   "codemirror_mode": {
    "name": "ipython",
    "version": 3
   },
   "file_extension": ".py",
   "mimetype": "text/x-python",
   "name": "python",
   "nbconvert_exporter": "python",
   "pygments_lexer": "ipython3",
   "version": "3.12.8"
  },
  "prev_pub_hash": "3c88c88eb2905b7ab3441c920cdac3a340c41c9558429b187ff3c04e376013b7"
 },
 "nbformat": 4,
 "nbformat_minor": 4
}
