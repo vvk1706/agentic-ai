{
 "cells": [
  {
   "cell_type": "markdown",
   "metadata": {},
   "source": [
    "<p style=\"text-align:center\">\n",
    "    <a href=\"https://skills.network\" target=\"_blank\">\n",
    "    <img src=\"https://cf-courses-data.s3.us.cloud-object-storage.appdomain.cloud/assets/logos/SN_web_lightmode.png\" width=\"200\" alt=\"Skills Network Logo\"  />\n",
    "    </a>\n",
    "</p>\n"
   ]
  },
  {
   "cell_type": "markdown",
   "metadata": {},
   "source": [
    "# **Build an AI Math Assistant with LangChain Tool Calling**\n",
    "\n",
    "Estimated time needed: **45** minutes\n",
    "\n",
    "In this lab, you will learn how to build a simple agent with LangChain, enabling AI agents to perform specific tasks. You'll create a mathematical toolkit that allows an AI agent to perform basic arithmetic operations through natural language interaction. \n",
    "\n",
    "Through this lab, you'll build an agent that can understand and solve mathematical queries like \"add 25 and 15, then multiply by 2\" by breaking down complex operations into simple steps.\n",
    "\n"
   ]
  },
  {
   "cell_type": "markdown",
   "metadata": {},
   "source": [
    "# Table of Contents\n",
    "\n",
    "1. [Objectives](#Objectives)\n",
    "2. [Setup](#Setup)\n",
    "3. [Installing required libraries](#Installing-required-libraries)\n",
    "4. [Loading the LLM: Choosing the right language model](#Loading-the-LLM:-Choosing-the-right-language-model)\n",
    "5. [Function](#Function)\n",
    "   - 5.1 [Tool](#Tool)\n",
    "   - 5.2 [initialize_agent](#initialize_agent)\n",
    "6. [Relationship between agent and LLM](#Relationship-between-agent-and-LLM)\n",
    "7. [Key parameters of initialize_agent](#Key-parameters-of-initialize_agent)\n",
    "8. [Orchestrating multiple tools with an agent: Mathematical toolkit](#Orchestrating-multiple-tools-with-an-agent:-Mathematical-toolkit)\n",
    "   - 8.1 [Subtraction tool](#Subtraction-tool)\n",
    "9. [Building the agent](#Building-the-agent)\n",
    "   - 9.1 [Exploring LangChain's built-in tools](#Exploring-LangChain's-built-in-tools)\n",
    "   - 9.2 [Popular built-in tools](#Popular-built-in-tools)\n",
    "   - 9.3 [Example: Using the Wikipedia tool](#Example:-Using-the-Wikipedia-tool)\n",
    "10. [Exercise: Create a power tool to calculate exponents](#Exercise:-Create-a-power-tool-to-calculate-exponents)\n",
    "    - 10.1 [Objective](#Objective)\n",
    "    - 10.2 [Step 1: Create the power tool](#Step-1:-Create-the-power-tool)\n",
    "    - 10.3 [Step 2: Create an agent with the power tool](#Step-2:-Create-an-agent-with-the-power-tool)\n",
    "    - 10.4 [Step 3: Test the agent](#Step-3:-Test-the-agent)\n",
    "11. [Authors](#authors)\n"
   ]
  },
  {
   "cell_type": "markdown",
   "metadata": {},
   "source": [
    "## Objectives\n",
    "\n",
    "After completing this lab, you will be able to:\n",
    "\n",
    "- Explain the concept of tools in LangChain\n",
    "- Create custom tools for specific tasks\n",
    "- Build an AI agent that can use multiple tools\n",
    "- Debug and improve tool functionality\n",
    "- Test tool implementations with various inputs\n"
   ]
  },
  {
   "cell_type": "markdown",
   "metadata": {},
   "source": [
    "----\n"
   ]
  },
  {
   "cell_type": "markdown",
   "metadata": {},
   "source": [
    "## Setup\n"
   ]
  },
  {
   "cell_type": "markdown",
   "metadata": {},
   "source": [
    "\n",
    "For this lab, you will use the following libraries:\n",
    "\n",
    "- **`langchain`**: For creating AI agents and tools\n",
    "- **`langchain.chat_models`**: For accessing language models\n",
    "- **`langchain.agents`**: For creating and managing AI agents\n",
    "\n",
    "---\n"
   ]
  },
  {
   "cell_type": "markdown",
   "metadata": {},
   "source": [
    "## Installing required libraries\n",
    "\n",
    "The following required libraries are __not__ pre-installed in the Skills Network Labs environment. __You will need to run the following cell__ to install them:\n"
   ]
  },
  {
   "cell_type": "code",
   "execution_count": 1,
   "metadata": {},
   "outputs": [
    {
     "name": "stdout",
     "output_type": "stream",
     "text": [
      "Successfully installed langchain-0.3.23 langchain-core-0.3.76 langchain-text-splitters-0.3.11 langsmith-0.3.45 orjson-3.11.3 requests-toolbelt-1.0.0\n",
      "Note: you may need to restart the kernel to use updated packages.\n",
      "Successfully installed cachetools-6.2.0 ibm-cos-sdk-2.14.3 ibm-cos-sdk-core-2.14.3 ibm-cos-sdk-s3transfer-2.14.3 ibm-watsonx-ai-1.3.38 jmespath-1.0.1 langchain-ibm-0.3.10 lomond-0.3.3 numpy-2.3.3 pandas-2.2.3 requests-2.32.5 tabulate-0.9.0 tzdata-2025.2 urllib3-2.5.0\n",
      "Note: you may need to restart the kernel to use updated packages.\n",
      "Successfully installed dataclasses-json-0.6.7 httpx-sse-0.4.1 langchain-community-0.3.16 marshmallow-3.26.1 mypy-extensions-1.1.0 pydantic-settings-2.10.1 python-dotenv-1.1.1 typing-inspect-0.9.0 typing-inspection-0.4.1\n",
      "Note: you may need to restart the kernel to use updated packages.\n",
      "Successfully installed wikipedia-1.4.0\n",
      "Note: you may need to restart the kernel to use updated packages.\n",
      "Successfully installed jiter-0.11.0 openai-1.77.0\n",
      "Note: you may need to restart the kernel to use updated packages.\n",
      "Successfully installed langchain-openai-0.3.16 regex-2025.9.1 tiktoken-0.11.0\n",
      "Note: you may need to restart the kernel to use updated packages.\n"
     ]
    }
   ],
   "source": [
    "%pip install langchain==0.3.23 | tail -n 1 \n",
    "%pip install langchain-ibm==0.3.10 | tail -n 1 \n",
    "%pip install langchain-community==0.3.16 | tail -n 1 \n",
    "%pip install wikipedia==1.4.0 | tail -n 1\n",
    "%pip install openai==1.77.0 | tail -n 1\n",
    "%pip install langchain-openai==0.3.16 | tail -n 1"
   ]
  },
  {
   "cell_type": "markdown",
   "metadata": {},
   "source": [
    "## Import the required libraries\n"
   ]
  },
  {
   "cell_type": "code",
   "execution_count": 2,
   "metadata": {},
   "outputs": [],
   "source": [
    "from langchain_ibm import ChatWatsonx\n",
    "from langchain.agents import AgentType\n",
    "import re"
   ]
  },
  {
   "cell_type": "markdown",
   "metadata": {},
   "source": [
    "## Loading the LLM: Choosing the right language model\n",
    "\n",
    "In this example, IBM’s `ChatWatsonx`will be used to load a language model (LLM) for interacting with tools. IBM’s models, like Granite 3.2 and Granite 3.3, are highly versatile and excel at advanced reasoning tasks.\n",
    "\n",
    "That said, other providers offer LLMs with different strengths:\n",
    "\n",
    "- **OpenAI (GPT-4/GPT-3.5)**: Best for versatility and advanced reasoning.\n",
    "- **Facebook (Meta, LLaMA)**: Open-access, highly customizable for specialized use cases.\n",
    "- **IBM watsonx Granite**: Ideal for enterprise applications with seamless integration.\n",
    "- **Anthropic (Claude)**: Focused on safety, reliability, and ethical AI.\n",
    "- **Cohere**: Affordable and efficient for lightweight, task-specific models.\n",
    "\n",
    "---\n",
    "\n",
    "For this project, you'll use `ChatWatsonx` because:\n",
    "- It offers a simple API for quick setup.\n",
    "- It supports advanced configurations like:\n",
    "  - **`temperature`**: Adjusting randomness of responses.\n",
    "  - **`max_tokens`**: Limiting the length of responses.\n",
    "- IBM’s models are widely regarded as state-of-the-art for general-purpose reasoning and conversation.\n"
   ]
  },
  {
   "cell_type": "code",
   "execution_count": 3,
   "metadata": {},
   "outputs": [],
   "source": [
    "llm = ChatWatsonx(\n",
    "    model_id=\"ibm/granite-3-2-8b-instruct\",\n",
    "    url=\"https://us-south.ml.cloud.ibm.com\",\n",
    "    project_id=\"skills-network\",\n",
    ")"
   ]
  },
  {
   "cell_type": "markdown",
   "metadata": {},
   "source": [
    "Let's generate a simple response:\n"
   ]
  },
  {
   "cell_type": "code",
   "execution_count": 5,
   "metadata": {},
   "outputs": [
    {
     "name": "stdout",
     "output_type": "stream",
     "text": [
      "content='In the context of Langchain, a framework for developing applications with language models, \"tool calling\" generally refers to the process of leveraging external tools or services to enhance the capabilities of the language models.\\n\\nThese tools can be anything from simple web APIs (like OpenAI\\'s API for GPT engines) to more complex systems. The aim is to extend the language model\\'s functionality beyond what it can do natively.\\n\\nFor example, while a language model itself might not naturally know how to fetch real-time stock market data or translate text into multiple languages, it could be programmed to call an external API that does these tasks.\\n\\nThis concept is crucial in building practical AI applications that require interaction with the real world or other specialized services. It involves writing code that communicates with these external tools, retrieves the required information, and then integrates it back into the language model\\'s output.\\n\\nHowever, keep in mind that the specifics of how to perform tool calling might differ depending on the exact setup and tools you\\'re working with. Always refer to the official documentation or guides for the precise instructions related to the particular environment or framework you\\'re using.' additional_kwargs={} response_metadata={'token_usage': {'completion_tokens': 243, 'prompt_tokens': 68, 'total_tokens': 311}, 'model_name': 'ibm/granite-3-2-8b-instruct', 'system_fingerprint': '', 'finish_reason': 'stop'} id='chatcmpl-cc3cf587-edd2-4458-8f8a-4cd60fd08048---b897e715ab89066edb519126aa2548d5---caf95e5f-84b2-4aa4-ac0e-a46697d0cc51' usage_metadata={'input_tokens': 68, 'output_tokens': 243, 'total_tokens': 311}\n",
      "\n",
      "Response Content:  In the context of Langchain, a framework for developing applications with language models, \"tool calling\" generally refers to the process of leveraging external tools or services to enhance the capabilities of the language models.\n",
      "\n",
      "These tools can be anything from simple web APIs (like OpenAI's API for GPT engines) to more complex systems. The aim is to extend the language model's functionality beyond what it can do natively.\n",
      "\n",
      "For example, while a language model itself might not naturally know how to fetch real-time stock market data or translate text into multiple languages, it could be programmed to call an external API that does these tasks.\n",
      "\n",
      "This concept is crucial in building practical AI applications that require interaction with the real world or other specialized services. It involves writing code that communicates with these external tools, retrieves the required information, and then integrates it back into the language model's output.\n",
      "\n",
      "However, keep in mind that the specifics of how to perform tool calling might differ depending on the exact setup and tools you're working with. Always refer to the official documentation or guides for the precise instructions related to the particular environment or framework you're using.\n"
     ]
    }
   ],
   "source": [
    "response = llm.invoke(\"What is tool calling in langchain?\")\n",
    "print(response)\n",
    "print(\"\\nResponse Content: \", response.content)"
   ]
  },
  {
   "cell_type": "markdown",
   "metadata": {},
   "source": [
    "## API Disclaimer\n",
    "This lab uses LLMs provided by **IBM watsonx.ai** and **OpenAI**. This environment has been configured to allow LLM use without API keys so you can prompt them for **free (with limitations)**. With that in mind, if you wish to run this notebook **locally outside** of Skills Network's JupyterLab environment, you will have to **configure your own API keys**. Please note that using your own API keys means that you will incur personal charges. \n"
   ]
  },
  {
   "cell_type": "markdown",
   "metadata": {},
   "source": [
    "### Running Locally\n",
    "\n",
    "If you are running this lab locally, you will need to configure your own API keys. This lab uses `ChatOpenAI` and `ChatWatsonx` modules from `langchain`. Both configurations are shown below with instructions. **Replace all instances** of both modules with the completed modules below throughout the lab. **DO NOT** run the cell below if you aren't running locally, it will causes errors.\n"
   ]
  },
  {
   "cell_type": "raw",
   "metadata": {},
   "source": [
    "# IGNORE IF YOU ARE NOT RUNNING LOCALLY\n",
    "\n",
    "from langchain_openai import ChatOpenAI\n",
    "from langchain_ibm import ChatWatsonx\n",
    "\n",
    "openai_llm = ChatOpenAI(\n",
    "    model=\"gpt-4.1-nano\",\n",
    "    api_key = \"your openai api key here\",\n",
    ")\n",
    "\n",
    "watsonx_llm = ChatWatsonx(\n",
    "    model_id=\"ibm/granite-3-2-8b-instruct\",\n",
    "    url=\"https://us-south.ml.cloud.ibm.com\",\n",
    "    project_id=\"your project id associated with the API key\",\n",
    "    api_key=\"your watsonx.ai api key here\",\n",
    ")"
   ]
  },
  {
   "cell_type": "markdown",
   "metadata": {},
   "source": [
    "\n"
   ]
  },
  {
   "cell_type": "markdown",
   "metadata": {},
   "source": [
    "\n",
    "\n",
    "## Function\n",
    "\n",
    "In AI, a **tool** will call a basic **function** or capability that can be called on to perform a specific task. Think of it like a single item in a toolbox: just like a hammer, screwdriver, or wrench, an AI toolbox is full of specific functions designed to solve problems or get things done.\n",
    "\n",
    "When building tools for tool calling, there are a few key principles to keep in mind:\n",
    "\n",
    "1. **Clear purpose**: Make sure the tool has a well-defined job.\n",
    "2. **Standardized input**: The tool should accept input in a predictable, structured format so it’s easy to use.\n",
    "3. **Consistent output**: Always return results in a format that’s easy to process or integrate with other systems.\n",
    "4. **Comprehensive documentation**: Your tool should include clear, simple documentation that explains what it does, how to use it, and any quirks or limitations.\n",
    "\n",
    "Remember, documentation isn’t just for other developers—it’s also for the language model (LLM) to understand the tool’s purpose and how to use it effectively.\n",
    "\n",
    "For this example, you’ll start with a simple tool to add numbers. It’ll check off most of the basic requirements, but one key limitation is that it doesn’t handle **basic error cases**, like ignoring non-numeric input. Improving error handling will make the tool much more robust and ready for real-world use.\n"
   ]
  },
  {
   "cell_type": "code",
   "execution_count": 6,
   "metadata": {},
   "outputs": [],
   "source": [
    "def add_numbers(inputs:str) -> dict:\n",
    "    \"\"\"\n",
    "    Adds a list of numbers provided in the input dictionary or extracts numbers from a string.\n",
    "\n",
    "    Parameters:\n",
    "    - inputs (str): \n",
    "    string, it should contain numbers that can be extracted and summed.\n",
    "\n",
    "    Returns:\n",
    "    - dict: A dictionary with a single key \"result\" containing the sum of the numbers.\n",
    "\n",
    "    Example Input (Dictionary):\n",
    "    {\"numbers\": [10, 20, 30]}\n",
    "\n",
    "    Example Input (String):\n",
    "    \"Add the numbers 10, 20, and 30.\"\n",
    "\n",
    "    Example Output:\n",
    "    {\"result\": 60}\n",
    "    \"\"\"\n",
    "    numbers = [int(x) for x in inputs.replace(\",\", \"\").split() if x.isdigit()]\n",
    "\n",
    "    \n",
    "    result = sum(numbers)\n",
    "    return {\"result\": result}\n",
    "\n",
    "def mult_numbers(inputs:str) -> dict:\n",
    "    \"\"\"\n",
    "    Multiplies a list of numbers provided in the input dictionary or extracts numbers from a string.\n",
    "\n",
    "    Parameters:\n",
    "    - inputs (str): \n",
    "    string, it should contain numbers that can be extracted and summed.\n",
    "\n",
    "    Returns:\n",
    "    - dict: A dictionary with a single key \"result\" containing the sum of the numbers.\n",
    "\n",
    "    Example Input (Dictionary):\n",
    "    {\"numbers\": [10, 20, 30]}\n",
    "\n",
    "    Example Input (String):\n",
    "    \"Add the numbers 10, 20, and 30.\"\n",
    "\n",
    "    Example Output:\n",
    "    {\"result\": 6000}\n",
    "    \"\"\"\n",
    "    numbers = [int(x) for x in inputs.replace(\",\",\"\").split() if x.isdigit()]\n",
    "    result = 1\n",
    "    for x in numbers:\n",
    "        result *= x\n",
    "    return {\"result\": result}\n",
    "    "
   ]
  },
  {
   "cell_type": "markdown",
   "metadata": {},
   "source": [
    "Directly testing a tool allows you to pinpoint where the problem lies—whether it’s in the tool’s logic, input parsing, or output formatting.\n",
    "Here, you'll input the string `1 2` and get the sum.\n"
   ]
  },
  {
   "cell_type": "code",
   "execution_count": 9,
   "metadata": {},
   "outputs": [
    {
     "name": "stdout",
     "output_type": "stream",
     "text": [
      "{'result': 3}\n",
      "{'result': 16}\n"
     ]
    }
   ],
   "source": [
    "print(add_numbers(\"1 2\"))\n",
    "print(mult_numbers(\"1 2 8\"))"
   ]
  },
  {
   "cell_type": "markdown",
   "metadata": {},
   "source": [
    "\n",
    "## Tool\n",
    "The `Tool` class in LangChain serves as a structured wrapper that converts regular Python functions into agent-compatible tools. Each tool needs three key components:\n",
    "1. A name that identifies the tool\n",
    "2. The function that performs the actual operation\n",
    "3. A description that helps the agent understand when to use the tool\n",
    "\n",
    "Testing section improvement:\n",
    "\n",
    "\n"
   ]
  },
  {
   "cell_type": "code",
   "execution_count": null,
   "metadata": {},
   "outputs": [],
   "source": [
    "from langchain.agents import Tool\n",
    "add_tool=Tool(\n",
    "        name=\"AddTool\",\n",
    "        func=add_numbers,\n",
    "        description=\"Adds a list of numbers and returns the result.\")\n",
    "\n",
    "print(\"tool object\",add_tool)"
   ]
  },
  {
   "cell_type": "markdown",
   "metadata": {},
   "source": [
    "Let's see the parameters of the object:\n",
    "\n",
    "- **`name`** (*str*):\n",
    "  - A unique identifier for the tool.\n",
    "\n",
    "  - **Example**: `\"AddTool\"`\n",
    "\n",
    "- **`.invoke`** (*Callable*):\n",
    "  - The function that the tool wraps.\n",
    "  - **Example**: `add_numbers`\n",
    "\n",
    "- **`description`** (*str*):\n",
    "  - A concise explanation of what the tool does.\n",
    "  - **Example**: `\"Adds a list of numbers and returns the result.\"`\n",
    "\n"
   ]
  },
  {
   "cell_type": "markdown",
   "metadata": {},
   "source": [
    "\n",
    "These attributes allow you to inspect the tool object\n"
   ]
  },
  {
   "cell_type": "code",
   "execution_count": null,
   "metadata": {},
   "outputs": [],
   "source": [
    "# Tool name\n",
    "print(\"Tool Name:\")\n",
    "print(add_tool.name)\n",
    "\n",
    "# Tool description\n",
    "print(\"Tool Description:\")\n",
    "print(add_tool.description)\n",
    "\n",
    "# Tool function\n",
    "print(\"Tool Function:\")\n",
    "print(add_tool.invoke)\n"
   ]
  },
  {
   "cell_type": "markdown",
   "metadata": {},
   "source": [
    "You can call the tool's function via the ```add_tool``` object:\n"
   ]
  },
  {
   "cell_type": "code",
   "execution_count": null,
   "metadata": {},
   "outputs": [],
   "source": [
    "print(\"Calling Tool Function:\")\n",
    "test_input = \"10 20 30 a b\" \n",
    "print(add_tool.invoke(test_input))  # Example"
   ]
  },
  {
   "cell_type": "markdown",
   "metadata": {},
   "source": [
    "Testing the tool object ensures:\n",
    "\n",
    "1. **The tool is correctly set up**:\n",
    "   - Metadata (`name`, `description`, etc.) is properly defined and aligns with its purpose.\n",
    "   - The function and schema (if applicable) are correctly configured.\n",
    "\n",
    "2. **The wrapped function behaves as expected**:\n",
    "   - The function performs the intended task correctly.\n",
    "   - It handles edge cases and invalid inputs gracefully.\n",
    "\n",
    "3. **The tool integrates smoothly with agents**:\n",
    "   - The tool's output aligns with what the agent expects.\n",
    "   - There are no compatibility issues when the agent calls the tool.\n"
   ]
  },
  {
   "cell_type": "markdown",
   "metadata": {},
   "source": [
    "### `@tool` operator\n",
    "\n",
    "Now you know how to create a tool with a `Tool` class (using Tool Interface), there's actually another way that you can create a tool using `@tool` decorator. The recommended way to create tools is using the `@tool` decorator. This decorator is designed to simplify the process of tool creation and should be used in most cases. After defining a function, you can decorate it with `@tool` to create a tool that implements the Tool Interface.\n",
    "\n",
    "`@tool` opertor makes tools out of functions. See below:\n"
   ]
  },
  {
   "cell_type": "code",
   "execution_count": null,
   "metadata": {},
   "outputs": [],
   "source": [
    "from langchain_core.tools import tool\n",
    "import re\n",
    "\n",
    "@tool\n",
    "def add_numbers(inputs:str) -> dict:\n",
    "    \"\"\"\n",
    "    Adds a list of numbers provided in the input string.\n",
    "    Parameters:\n",
    "    - inputs (str): \n",
    "    string, it should contain numbers that can be extracted and summed.\n",
    "    Returns:\n",
    "    - dict: A dictionary with a single key \"result\" containing the sum of the numbers.\n",
    "    Example Input:\n",
    "    \"Add the numbers 10, 20, and 30.\"\n",
    "    Example Output:\n",
    "    {\"result\": 60}\n",
    "    \"\"\"\n",
    "    # Use regular expressions to extract all numbers from the input\n",
    "    numbers = [int(num) for num in re.findall(r'\\d+', inputs)]\n",
    "    # numbers = [int(x) for x in inputs.replace(\",\", \"\").split() if x.isdigit()]\n",
    "    \n",
    "    result = sum(numbers)\n",
    "    return {\"result\": result}"
   ]
  },
  {
   "cell_type": "markdown",
   "metadata": {},
   "source": [
    "The above function will now act as a tool. You can inspect the tool's schema and other properties using:\n"
   ]
  },
  {
   "cell_type": "code",
   "execution_count": null,
   "metadata": {},
   "outputs": [],
   "source": [
    "print(\"Name: \\n\", add_numbers.name)\n",
    "print(\"Description: \\n\", add_numbers.description) \n",
    "print(\"Args: \\n\", add_numbers.args) \n"
   ]
  },
  {
   "cell_type": "markdown",
   "metadata": {},
   "source": [
    "You can call the tool using the ```invoke``` method.\n"
   ]
  },
  {
   "cell_type": "code",
   "execution_count": null,
   "metadata": {},
   "outputs": [],
   "source": [
    "test_input = \"what is the sum between 10, 20 and 30 \" \n",
    "print(add_numbers.invoke(test_input))  # Example"
   ]
  },
  {
   "cell_type": "markdown",
   "metadata": {},
   "source": [
    "\n",
    "### Use @tool-StructuredTool\n",
    "\n",
    "The @tool decorator creates a StructuredTool with schema information extracted from function signatures and docstrings as show here. This helps LLMs better understand what inputs the tool expects and how to use it properly. While both approaches work, @tool is generally preferred for modern LangChain applications, especially with LangGraph and function-calling models.\n"
   ]
  },
  {
   "cell_type": "code",
   "execution_count": null,
   "metadata": {},
   "outputs": [],
   "source": [
    "# Comparing the two approaches\n",
    "print(\"Tool Constructor Approach:\")\n",
    "\n",
    "print(f\"Has Schema: {hasattr(add_tool, 'args_schema')}\")\n",
    "print(\"\\n\")\n",
    "\n",
    "print(\"@tool Decorator Approach:\")\n",
    "\n",
    "\n",
    "print(f\"Has Schema: {hasattr(add_numbers, 'args_schema')}\")\n",
    "print(f\"Args Schema Info: {add_numbers.args}\")"
   ]
  },
  {
   "cell_type": "markdown",
   "metadata": {},
   "source": [
    "In this example, the tool has two inputs: a string containing the numbers to add, and a second boolean input that determines whether to sum the absolute values of those numbers.\n"
   ]
  },
  {
   "cell_type": "code",
   "execution_count": null,
   "metadata": {},
   "outputs": [],
   "source": [
    "from typing import List\n",
    "\n",
    "@tool\n",
    "def add_numbers_with_options(numbers: List[float], absolute: bool = False) -> float:\n",
    "    \"\"\"\n",
    "    Adds a list of numbers provided as input.\n",
    "\n",
    "    Parameters:\n",
    "    - numbers (List[float]): A list of numbers to be summed.\n",
    "    - absolute (bool): If True, use the absolute values of the numbers before summing.\n",
    "\n",
    "    Returns:\n",
    "    - float: The total sum of the numbers.\n",
    "    \"\"\"\n",
    "    if absolute:\n",
    "        numbers = [abs(n) for n in numbers]\n",
    "    return sum(numbers)"
   ]
  },
  {
   "cell_type": "markdown",
   "metadata": {},
   "source": [
    "Let's compare the arguments for add_numbers_with_options and add_numbers. Both are structured tools. They both include the inputs field, which is a string input. However, add_numbers_with_options has an additional key-value pair: absolute, a boolean field with a default value of False. This means add_numbers_with_options supports optional behavior—taking the absolute value of the numbers—while add_numbers only handles basic numeric extraction and summation\n"
   ]
  },
  {
   "cell_type": "code",
   "execution_count": null,
   "metadata": {},
   "outputs": [],
   "source": [
    "print(f\"Args Schema Info: {add_numbers_with_options.args}\")\n",
    "print(f\"Args Schema Info: {add_numbers.args}\")"
   ]
  },
  {
   "cell_type": "markdown",
   "metadata": {},
   "source": [
    "You can call the tool using a dictionary as input, where each key corresponds to a parameter name and the value is the input for that parameter. For example, to control whether the numbers are summed normally or with absolute values, set the absolute flag to False or True: You get -6 and 6, respectively \n"
   ]
  },
  {
   "cell_type": "code",
   "execution_count": null,
   "metadata": {},
   "outputs": [],
   "source": [
    "print(add_numbers_with_options.invoke({\"numbers\":[-1.1,-2.1,-3.0],\"absolute\":False}))\n",
    "print(add_numbers_with_options.invoke({\"numbers\":[-1.1,-2.1,-3.0],\"absolute\":True}))"
   ]
  },
  {
   "cell_type": "markdown",
   "metadata": {},
   "source": [
    "## Improved tool return types with Python typing\n",
    "\n",
    "When creating tools, you must accurately specify their return values. This helps the agent understand and handle different possible outputs.\n",
    "\n"
   ]
  },
  {
   "cell_type": "markdown",
   "metadata": {},
   "source": [
    "The function `sum_numbers_with_complex_output` returns a more flexible output format. It returns a dictionary containing a float value when numbers are successfully summed, or a descriptive error message as a string if no numbers are found or an issue occurs during processing.\n"
   ]
  },
  {
   "cell_type": "code",
   "execution_count": null,
   "metadata": {},
   "outputs": [],
   "source": [
    "from typing import Dict, Union\n",
    "\n",
    "@tool\n",
    "def sum_numbers_with_complex_output(inputs: str) -> Dict[str, Union[float, str]]:\n",
    "    \"\"\"\n",
    "    Extracts and sums all integers and decimal numbers from the input string.\n",
    "\n",
    "    Parameters:\n",
    "    - inputs (str): A string that may contain numeric values.\n",
    "\n",
    "    Returns:\n",
    "    - dict: A dictionary with the key \"result\". If numbers are found, the value is their sum (float). \n",
    "            If no numbers are found or an error occurs, the value is a corresponding message (str).\n",
    "\n",
    "    Example Input:\n",
    "    \"Add 10, 20.5, and -3.\"\n",
    "\n",
    "    Example Output:\n",
    "    {\"result\": 27.5}\n",
    "    \"\"\"\n",
    "    matches = re.findall(r'-?\\d+(?:\\.\\d+)?', inputs)\n",
    "    if not matches:\n",
    "        return {\"result\": \"No numbers found in input.\"}\n",
    "    try:\n",
    "        numbers = [float(num) for num in matches]\n",
    "        total = sum(numbers)\n",
    "        return {\"result\": total}\n",
    "    except Exception as e:\n",
    "        return {\"result\": f\"Error during summation: {str(e)}\"}"
   ]
  },
  {
   "cell_type": "markdown",
   "metadata": {},
   "source": [
    "The function `sum_numbers_from_text` returns a straightforward output format. It extracts all integer values from the input string, sums them, and returns the total as a float. This function assumes that at least one valid number is present in the input and does not handle cases where no numbers are found or where an error might occur.\n"
   ]
  },
  {
   "cell_type": "code",
   "execution_count": null,
   "metadata": {},
   "outputs": [],
   "source": [
    "@tool\n",
    "def sum_numbers_from_text(inputs: str) -> float:\n",
    "    \"\"\"\n",
    "    Adds a list of numbers provided in the input string.\n",
    "    \n",
    "    Args:\n",
    "        text: A string containing numbers that should be extracted and summed.\n",
    "        \n",
    "    Returns:\n",
    "        The sum of all numbers found in the input.\n",
    "    \"\"\"\n",
    "    # Use regular expressions to extract all numbers from the input\n",
    "    numbers = [int(num) for num in re.findall(r'\\d+', inputs)]\n",
    "    result = sum(numbers)\n",
    "    return result"
   ]
  },
  {
   "cell_type": "markdown",
   "metadata": {},
   "source": [
    "### `initialize_agent`\n",
    "\n",
    "When you set up an agent, you're connecting tools and an LLM to work together seamlessly. The agent uses the LLM to understand what needs to be done and decides which tool to use based on the task. Here's a simple overview of the key parts:\n",
    "\n",
    "\n",
    "#### **Relationship between agent and LLM**\n",
    "- The **agent** acts as the decision-maker, figuring out which tools to use and when.\n",
    "- The **LLM** is the reasoning engine. It:\n",
    "  - Interprets the user's input.\n",
    "  - Helps the agent make decisions.\n",
    "  - Generates a response based on the output of the tools.\n",
    "\n",
    "Think of the agent as the manager assigning tasks and the LLM as the brain solving problems or delegating work.\n",
    "\n",
    "---\n",
    "\n",
    "#### **Key parameters of `initialize_agent`**\n",
    "\n",
    "1. **`tools`**- see above \n",
    "\n",
    "2.  **`llm`** see above \n",
    "\n",
    "3. **`agent`**:\n",
    "   - Specifies the reasoning framework for the agent.\n",
    "   - `\"zero-shot-react-description\"` enables:\n",
    "     - **Zero-shot reasoning**: The agent can solve tasks it hasn't seen before by thinking through the problem step by step.\n",
    "     - **React framework**: A logical loop of:\n",
    "       - **Reason** → Think about the task.\n",
    "       - **Act** → Use a tool to perform an action.\n",
    "       - **Observe** → Check the tool's output.\n",
    "       - **Plan** → Decide what to do next.\n",
    "\n",
    "4. **`verbose`**:\n",
    "   - If `True`, it prints detailed logs of the agent’s thought process.\n",
    "   - Useful for debugging or understanding how the agent makes decisions.\n",
    "\n",
    "\n"
   ]
  },
  {
   "cell_type": "markdown",
   "metadata": {},
   "source": [
    "You can now create an agent object using initialize_agent.\n"
   ]
  },
  {
   "cell_type": "code",
   "execution_count": null,
   "metadata": {},
   "outputs": [],
   "source": [
    "from langchain.agents import initialize_agent\n",
    "\n",
    "agent = initialize_agent([add_tool], llm, agent=\"zero-shot-react-description\", verbose=True, handle_parsing_errors=True)"
   ]
  },
  {
   "cell_type": "markdown",
   "metadata": {},
   "source": [
    "Now, you can run the agent by asking a question.\n"
   ]
  },
  {
   "cell_type": "markdown",
   "metadata": {},
   "source": [
    "> When running an agent using .run() or .invoke(), you may occasionally encounter a situation where the code keeps executing indefinitely, even if the LLM has already produced a valid answer. This typically happens when the system encounters an OUTPUT_PARSING_ERROR — often due to formatting issues in the LLM's response.\n",
    ">\n",
    "> In such cases, the agent can get stuck in a loop and won’t terminate on its own. If you see this happening, simply click the stop button (■) in the top toolbar to interrupt execution.\n"
   ]
  },
  {
   "cell_type": "code",
   "execution_count": null,
   "metadata": {},
   "outputs": [],
   "source": [
    "# Use the agent\n",
    "response =agent.run(\"In 2023, the US GDP was approximately $27.72 trillion, while Canada's was around $2.14 trillion and Mexico's was about $1.79 trillion what is the total.\")"
   ]
  },
  {
   "cell_type": "code",
   "execution_count": null,
   "metadata": {},
   "outputs": [],
   "source": [
    "response"
   ]
  },
  {
   "cell_type": "code",
   "execution_count": null,
   "metadata": {},
   "outputs": [],
   "source": [
    "agent.invoke({\"input\": \"Add 10, 20, two and 30\"})"
   ]
  },
  {
   "cell_type": "markdown",
   "metadata": {},
   "source": [
    "The agent was asked to add the numbers 10, 20, \"two,\" and 30. The agent first noticed that one of the inputs was the word \"two\" instead of a number, so it converted \"two\" to its numeric form, which is 2. After preparing the list of numbers (10, 20, 2, and 30), the agent decided to use the `AddTool` to perform the addition. It passed the numbers to the tool, which calculated the sum and returned the result as 62. Finally, the agent provided the answer: **62**.\n"
   ]
  },
  {
   "cell_type": "markdown",
   "metadata": {},
   "source": [
    "#### **Structured chat zero shot react-description**\n",
    "\n",
    "When selecting an agent in LangChain, two factors matter: the agent type and the tool format, especially the tool’s return type. Agents like zero-shot-react-description expect tools to take and return plain strings, which works well with manually defined Tool(...) wrappers. \n",
    "\n",
    "In contrast, structured agents like `structured-chat-zero-shot-react-description` or `openai-functions` are built to handle structured inputs and outputs via the @tool decorator. If a tool returns a dictionary but the agent expects a string, it can cause key errors or parsing failures. \n"
   ]
  },
  {
   "cell_type": "markdown",
   "metadata": {},
   "source": [
    "In the agent example below, use `sum_numbers_from_text` as a tool and `structured-chat-zero-shot-react-description` as the agent type. For the LLM, you'll use `Granite`.\n"
   ]
  },
  {
   "cell_type": "code",
   "execution_count": null,
   "metadata": {},
   "outputs": [],
   "source": [
    "agent_2 = initialize_agent([sum_numbers_from_text], llm, agent=\"structured-chat-zero-shot-react-description\", verbose=True, handle_parsing_errors=True)\n",
    "response = agent_2.invoke({\"input\": \"Add 10, 20 and 30\"})\n",
    "print(response)"
   ]
  },
  {
   "cell_type": "markdown",
   "metadata": {},
   "source": [
    "Now, for the below agent, you will be using `sum_numbers_with_complex_output` as the tool. As for the LLM, you are going to use `gpt-4.1-nano` and the agent type `openai-functions`. \n",
    "\n",
    "One thing to note here is Some LLMs, like `Granite`, cannot unpack dictionary outputs because they lack native support for structured output parsing. As a result, when you use `sum_numbers_with_complex_output` with the `structured-chat-zero-shot-react-description` agent type, the agent fails to interpret the returned dictionary and throws an input validation or parsing error.\n"
   ]
  },
  {
   "cell_type": "code",
   "execution_count": null,
   "metadata": {},
   "outputs": [],
   "source": [
    "from langchain_openai import ChatOpenAI\n",
    "\n",
    "llm_ai = ChatOpenAI(model=\"gpt-4.1-nano\")"
   ]
  },
  {
   "cell_type": "code",
   "execution_count": null,
   "metadata": {},
   "outputs": [],
   "source": [
    "agent_3 = initialize_agent([sum_numbers_with_complex_output], llm_ai, agent=\"openai-functions\", verbose=True, handle_parsing_errors=True)\n",
    "response = agent_3.invoke({\"input\": \"Add 10, 20 and 30\"})\n",
    "print(response)"
   ]
  },
  {
   "cell_type": "markdown",
   "metadata": {},
   "source": [
    "Now, let's move on to tools with multiple inputs. The agent below uses `Granite` as the LLM and `add_numbers_with_options` as the tool, which accepts multiple input parameters. However, if the tool returns a complex output—such as a dictionary like in `sum_numbers_with_complex_output`—you’ll need to switch to a model like GPT and use an agent type that supports both multi-input tools and structured outputs. Granite and similar models may not handle complex output parsing reliably, especially when used with agents like `structured-chat-zero-shot-react-description`.\n"
   ]
  },
  {
   "cell_type": "code",
   "execution_count": null,
   "metadata": {},
   "outputs": [],
   "source": [
    "agent_2 = initialize_agent(\n",
    "    [add_numbers_with_options],\n",
    "    llm,\n",
    "    agent=\"structured-chat-zero-shot-react-description\",\n",
    "    verbose=True\n",
    ")"
   ]
  },
  {
   "cell_type": "code",
   "execution_count": null,
   "metadata": {},
   "outputs": [],
   "source": [
    "response = agent_2.invoke({\n",
    "    \"input\": \"Add -10, -20, and -30 using absolute values.\"\n",
    "})\n",
    "print(response)"
   ]
  },
  {
   "cell_type": "markdown",
   "metadata": {},
   "source": [
    "Let's try with OpenAI to see if it runs with multiple inputs.\n"
   ]
  },
  {
   "cell_type": "code",
   "execution_count": null,
   "metadata": {},
   "outputs": [],
   "source": [
    "agent_openai = initialize_agent(\n",
    "    [add_numbers_with_options],\n",
    "    llm_ai,\n",
    "    agent=\"openai-functions\",\n",
    "    verbose=True\n",
    ")"
   ]
  },
  {
   "cell_type": "code",
   "execution_count": null,
   "metadata": {},
   "outputs": [],
   "source": [
    "response = agent_openai.invoke({\n",
    "    \"input\": \"Add -10, -20, and -30 using absolute values.\"\n",
    "})\n",
    "print(response)"
   ]
  },
  {
   "cell_type": "markdown",
   "metadata": {},
   "source": [
    "### **`create_react_agent`**\n",
    "\n",
    "As LangChain's `AgentExecutor` is being deprecated, create_react_agent from LangGraph provides a more flexible and powerful alternative for building AI agents. This function creates a graph-based agent that works with chat models and supports tool-calling functionality.\n",
    "\n",
    "---\n",
    "\n",
    "#### **Key parameters of `create_react_agent`**\n",
    "\n",
    "1. **`model`**\n",
    "    - The language model that powers the agent's reasoning.\n",
    "    - Must support tool calling for full functionality.\n",
    "\n",
    "2.  **`tools`**\n",
    "    - A list of tools the agent can use to perform actions.\n",
    "    - Can be LangChain tools, Python functions with @tool decorator, or a ToolNode instance\n",
    "    - Each tool should have a name, description, and implementation\n",
    "\n",
    "3. **`prompt (optional)`**:\n",
    "   - Customizes the instructions given to the LLM\n",
    "   - Can be:\n",
    "        - A string (converted to a SystemMessage)\n",
    "        - A SystemMessage object\n",
    "        - A function that transforms the state\n",
    "        - A Runnable that processes the state\n",
    "\n",
    "and other parameters. To see more parameters, see [docs](https://langchain-ai.github.io/langgraph/reference/prebuilt/).\n",
    "\n",
    "#### How it works\n",
    "\n",
    "Unlike the legacy `AgentExecutor`, which used a fixed loop structure, `create_react_agent` creates a graph with these key nodes:\n",
    "\n",
    "1. **Agent Node:** Calls the LLM with the message history\n",
    "2. **Tools Node:** Executes any tool calls from the LLM's response\n",
    "3. **Continue/End Nodes:** Manage the workflow based on whether tool calls are present\n",
    "\n",
    "The graph follows this process:\n",
    "\n",
    "1. User message enters the graph\n",
    "2. LLM generates a response, potentially with tool calls\n",
    "3. If tool calls exist, they're executed and their results are added to the message history\n",
    "4. The updated messages are sent back to the LLM\n",
    "5. This loop continues until the LLM responds without tool calls\n",
    "6. The final state with all messages is returned\n"
   ]
  },
  {
   "cell_type": "code",
   "execution_count": null,
   "metadata": {},
   "outputs": [],
   "source": [
    "%pip install langgraph==0.6.1 | tail -n 1"
   ]
  },
  {
   "cell_type": "code",
   "execution_count": null,
   "metadata": {},
   "outputs": [],
   "source": [
    "from langgraph.prebuilt import create_react_agent\n",
    "\n",
    "agent_exec = create_react_agent(model=llm, tools=[sum_numbers_from_text])\n",
    "msgs = agent_exec.invoke({\"messages\": [(\"human\", \"Add the numbers -10, -20, -30\")]})"
   ]
  },
  {
   "cell_type": "code",
   "execution_count": null,
   "metadata": {},
   "outputs": [],
   "source": [
    "print(msgs[\"messages\"][-1].content)"
   ]
  },
  {
   "cell_type": "markdown",
   "metadata": {},
   "source": [
    "## Orchestrating multiple tools with an agent: Mathematical toolkit\n",
    "In real-world applications, a single tool is often insufficient to address the complexity and diversity of user requests. Tasks such as data analysis, performing calculations, or retrieving specific information require specialized capabilities that cannot be fulfilled by a single function. By equipping an agent with multiple tools, each tailored to a distinct purpose, you'll create a system that can dynamically select and utilize the appropriate tool based on the user’s query. This approach enhances the flexibility and scalability of the AI, allowing it to handle a broad spectrum of tasks with precision and efficiency. The orchestration of multiple tools ensures that the agent can seamlessly manage complex workflows, making it an essential framework for building robust and versatile AI systems.\n",
    "\n",
    "To demonstrate this concept, let’s create additional tools, i.e, a mathematical toolkit. In addition to the addition tool, you will now create tools for subtraction, multiplication, and division. These tools will be integrated into an agent capable of handling various mathematical queries, showcasing how multiple tools can work together within a single AI system.\n",
    "\n",
    "### Subtraction tool\n",
    "The subtraction tool is designed to take a list of numbers and return the result of subtracting all subsequent numbers from the first number. This tool is particularly useful for handling queries involving differences, such as \"What is 100 minus 20 and then minus 10?\". \n"
   ]
  },
  {
   "cell_type": "code",
   "execution_count": null,
   "metadata": {},
   "outputs": [],
   "source": [
    "@tool\n",
    "def subtract_numbers(inputs: str) -> dict:\n",
    "    \"\"\"\n",
    "    Extracts numbers from a string, negates the first number, and successively subtracts \n",
    "    the remaining numbers in the list.\n",
    "\n",
    "    This function is designed to handle input in string format, where numbers are separated \n",
    "    by spaces, commas, or other delimiters. It parses the string, extracts valid numeric values, \n",
    "    and performs a step-by-step subtraction operation starting with the first number negated.\n",
    "\n",
    "    Parameters:\n",
    "    - inputs (str): \n",
    "      A string containing numbers to subtract. The string may include spaces, commas, or \n",
    "      other delimiters between the numbers.\n",
    "\n",
    "    Returns:\n",
    "    - dict: \n",
    "      A dictionary containing the key \"result\" with the calculated difference as its value. \n",
    "      If no valid numbers are found in the input string, the result defaults to 0.\n",
    "\n",
    "    Example Input:\n",
    "    \"100, 20, 10\"\n",
    "\n",
    "    Example Output:\n",
    "    {\"result\": -130}\n",
    "\n",
    "    Notes:\n",
    "    - Non-numeric characters in the input are ignored.\n",
    "    - If the input string contains only one valid number, the result will be that number negated.\n",
    "    - Handles a variety of delimiters (e.g., spaces, commas) but does not validate input formats \n",
    "      beyond extracting numeric values.\n",
    "    \"\"\"\n",
    "    # Extract numbers from the string\n",
    "    numbers = [int(num) for num in inputs.replace(\",\", \"\").split() if num.isdigit()]\n",
    "\n",
    "    # If no numbers are found, return 0\n",
    "    if not numbers:\n",
    "        return {\"result\": 0}\n",
    "\n",
    "    # Start with the first number negated\n",
    "    result = -1 * numbers[0]\n",
    "\n",
    "    # Subtract all subsequent numbers\n",
    "    for num in numbers[1:]:\n",
    "        result -= num\n",
    "\n",
    "    return {\"result\": result}"
   ]
  },
  {
   "cell_type": "markdown",
   "metadata": {},
   "source": [
    "You can inspect the tool's schema and other properties using:\n"
   ]
  },
  {
   "cell_type": "code",
   "execution_count": null,
   "metadata": {},
   "outputs": [],
   "source": [
    "print(\"Name: \\n\", subtract_numbers.name)\n",
    "print(\"Description: \\n\", subtract_numbers.description) \n",
    "print(\"Args: \\n\", subtract_numbers.args) "
   ]
  },
  {
   "cell_type": "markdown",
   "metadata": {},
   "source": [
    "Let's use it directly by calling the function:\n"
   ]
  },
  {
   "cell_type": "code",
   "execution_count": null,
   "metadata": {},
   "outputs": [],
   "source": [
    "print(\"Calling Tool Function:\")\n",
    "test_input = \"10 20 30 and four a b\" \n",
    "print(subtract_numbers.invoke(test_input))  # Example"
   ]
  },
  {
   "cell_type": "markdown",
   "metadata": {},
   "source": [
    "Let's now build multiple tools, starting with `MultiplyTool` and `DivideTool`, by defining two functions: `multiply_numbers` and `divide_numbers`. These functions are simple - `multiply_numbers` takes a list of numbers in string format and returns their product, while `divide_numbers` takes the first number and divides it by each subsequent number in sequence. Instead of manually wrapping these functions in the Tool class, you'll use the `@tool` decorator to automatically convert them into LangChain tools, using their docstrings as descriptions. These decorated tools can then be added directly to the agent alongside other operations like addition or subtraction, allowing the agent to intelligently select the appropriate operation based on the user's query, making it versatile for handling various math problems.\n"
   ]
  },
  {
   "cell_type": "code",
   "execution_count": null,
   "metadata": {},
   "outputs": [],
   "source": [
    "# Multiplication Tool\n",
    "@tool\n",
    "def multiply_numbers(inputs: str) -> dict:\n",
    "    \"\"\"\n",
    "    Extracts numbers from a string and calculates their product.\n",
    "\n",
    "    Parameters:\n",
    "    - inputs (str): A string containing numbers separated by spaces, commas, or other delimiters.\n",
    "\n",
    "    Returns:\n",
    "    - dict: A dictionary with the key \"result\" containing the product of the numbers.\n",
    "\n",
    "    Example Input:\n",
    "    \"2, 3, 4\"\n",
    "\n",
    "    Example Output:\n",
    "    {\"result\": 24}\n",
    "\n",
    "    Notes:\n",
    "    - If no numbers are found, the result defaults to 1 (neutral element for multiplication).\n",
    "    \"\"\"\n",
    "    # Extract numbers from the string\n",
    "    numbers = [int(num) for num in inputs.replace(\",\", \"\").split() if num.isdigit()]\n",
    "    print(numbers)\n",
    "\n",
    "    # If no numbers are found, return 1\n",
    "    if not numbers:\n",
    "        return {\"result\": 1}\n",
    "\n",
    "    # Calculate the product of the numbers\n",
    "    result = 1\n",
    "    for num in numbers:\n",
    "        result *= num\n",
    "        print(num)\n",
    "\n",
    "    return {\"result\": result}"
   ]
  },
  {
   "cell_type": "code",
   "execution_count": null,
   "metadata": {},
   "outputs": [],
   "source": [
    "# Division Tool\n",
    "@tool\n",
    "def divide_numbers(inputs: str) -> dict:\n",
    "    \"\"\"\n",
    "    Extracts numbers from a string and calculates the result of dividing the first number \n",
    "    by the subsequent numbers in sequence.\n",
    "\n",
    "    Parameters:\n",
    "    - inputs (str): A string containing numbers separated by spaces, commas, or other delimiters.\n",
    "\n",
    "    Returns:\n",
    "    - dict: A dictionary with the key \"result\" containing the quotient.\n",
    "\n",
    "    Example Input:\n",
    "    \"100, 5, 2\"\n",
    "\n",
    "    Example Output:\n",
    "    {\"result\": 10.0}\n",
    "\n",
    "    Notes:\n",
    "    - If no numbers are found, the result defaults to 0.\n",
    "    - Division by zero will raise an error.\n",
    "    \"\"\"\n",
    "    # Extract numbers from the string\n",
    "    numbers = [int(num) for num in inputs.replace(\",\", \"\").split() if num.isdigit()]\n",
    "\n",
    "\n",
    "    # If no numbers are found, return 0\n",
    "    if not numbers:\n",
    "        return {\"result\": 0}\n",
    "\n",
    "    # Calculate the result of dividing the first number by subsequent numbers\n",
    "    result = numbers[0]\n",
    "    for num in numbers[1:]:\n",
    "        result /= num\n",
    "\n",
    "    return {\"result\": result}"
   ]
  },
  {
   "cell_type": "markdown",
   "metadata": {},
   "source": [
    "When testing these mathematical tools directly, notice that using raw string inputs like \"2, 3, and four\" or \"100, 5, two\" will fail. The tools are designed to work with numeric inputs only - they don't have the natural language understanding that comes with the LLM agent layer. To test properly, you need to use a numeric value:\n"
   ]
  },
  {
   "cell_type": "code",
   "execution_count": null,
   "metadata": {},
   "outputs": [],
   "source": [
    "# Testing multiply_tool\n",
    "multiply_test_input = \"2, 3, and four \"\n",
    "multiply_result = multiply_numbers.invoke(multiply_test_input)\n",
    "print(\"--- Testing MultiplyTool ---\")\n",
    "print(f\"Input: {multiply_test_input}\")\n",
    "print(f\"Output: {multiply_result}\")"
   ]
  },
  {
   "cell_type": "code",
   "execution_count": null,
   "metadata": {},
   "outputs": [],
   "source": [
    "# Testing divide_tool\n",
    "divide_test_input = \"100, 5, two\"\n",
    "divide_result = divide_numbers.invoke(divide_test_input)\n",
    "print(\"--- Testing DivideTool ---\")\n",
    "print(f\"Input: {divide_test_input}\")\n",
    "print(f\"Output: {divide_result}\")"
   ]
  },
  {
   "cell_type": "markdown",
   "metadata": {},
   "source": [
    "## Building the agent\n",
    "\n",
    "With the implementation of mathematical operators—addition, subtraction, multiplication, and division — you have established a simple yet functional mathematical toolkit. Unlike before, the agent must now not only select the appropriate tool and process the input but also determine the correct mathematical operation based on the user's query.\n",
    "\n",
    "Let's create the agent object. first, combine all tools into a single list:\n"
   ]
  },
  {
   "cell_type": "code",
   "execution_count": null,
   "metadata": {},
   "outputs": [],
   "source": [
    "tools = [add_numbers,subtract_numbers, multiply_numbers, divide_numbers]\n",
    "tools"
   ]
  },
  {
   "cell_type": "markdown",
   "metadata": {},
   "source": [
    "Like before, you will create the agent with the tools and the language model as input.\n"
   ]
  },
  {
   "cell_type": "code",
   "execution_count": null,
   "metadata": {},
   "outputs": [],
   "source": [
    "from langgraph.prebuilt import create_react_agent\n",
    "\n",
    "# Create the agent with all tools\n",
    "math_agent = create_react_agent(\n",
    "    model=llm,\n",
    "    tools=tools,\n",
    "    # Optional: Add a system message to guide the agent's behavior\n",
    "    prompt=\"You are a helpful mathematical assistant that can perform various operations. Use the tools precisely and explain your reasoning clearly.\"\n",
    ")"
   ]
  },
  {
   "cell_type": "code",
   "execution_count": null,
   "metadata": {},
   "outputs": [],
   "source": [
    "response = math_agent.invoke({\n",
    "    \"messages\": [(\"human\", \"What is 25 divided by 4?\")]\n",
    "})\n",
    "\n",
    "# Get the final answer\n",
    "final_answer = response[\"messages\"][-1].content\n",
    "print(final_answer)"
   ]
  },
  {
   "cell_type": "code",
   "execution_count": null,
   "metadata": {},
   "outputs": [],
   "source": [
    "response_2 = math_agent.invoke({\n",
    "    \"messages\": [(\"human\", \"Subtract 100, 20, and 10.\")]\n",
    "})\n",
    "\n",
    "# Get the final answer\n",
    "final_answer_2 = response_2[\"messages\"][-2].content\n",
    "print(final_answer_2)"
   ]
  },
  {
   "cell_type": "markdown",
   "metadata": {},
   "source": [
    "When the agent tries to subtract 20 and 10 from 100, something unexpected happens. The tool called `SubtractTool` works differently than the agent expected. When you type in \"100, 20, 10\", instead of giving you 70 like you'd expect, it gives you -130. This happens because your special calculator first turns 100 into -100, then subtracts the other numbers.\n",
    "\n",
    "```The Confusion``` \n",
    "\n",
    "The agent expects the function to work like normal math 100 - 20 - 10 = 70). When the agent tries to fix this by breaking the problem into smaller steps, it still gets unexpected answers because the calculator keeps using its special rules.\n",
    "\n",
    "\n",
    "```Getting Stuck```\n",
    "\n",
    " The agent keeps trying the same approach repeatedly, not realizing why it isn't working. Eventually, it runs out of time without solving the problem.\n",
    " \n",
    " Before you fix the problem, let's test the other tools.\n"
   ]
  },
  {
   "cell_type": "code",
   "execution_count": null,
   "metadata": {},
   "outputs": [],
   "source": [
    "print(\"\\n--- Testing MultiplyTool ---\")\n",
    "response = math_agent.invoke({\n",
    "    \"messages\": [(\"human\", \"Multiply 2, 3, and four.\")]\n",
    "})\n",
    "print(\"Agent Response:\", response[\"messages\"][-1].content)\n",
    "\n",
    "print(\"\\n--- Testing DivideTool ---\")\n",
    "response = math_agent.invoke({\n",
    "    \"messages\": [(\"human\", \"Divide 100 by 5 and then by 2.\")]\n",
    "})\n",
    "print(\"Agent Response:\", response[\"messages\"][-1].content)"
   ]
  },
  {
   "cell_type": "markdown",
   "metadata": {},
   "source": [
    "Now lets change the `SubtractTool` so it subtracts the numbers directly (without negating the first number). This aligns the tool’s behavior with standard arithmetic and the agent’s expectations.\n"
   ]
  },
  {
   "cell_type": "code",
   "execution_count": null,
   "metadata": {},
   "outputs": [],
   "source": [
    "@tool\n",
    "def new_subtract_numbers(inputs: str) -> dict:\n",
    "    \"\"\"\n",
    "    Extracts numbers from a string and performs subtraction sequentially, starting with the first number.\n",
    "\n",
    "    This function is designed to handle input in string format, where numbers may be separated by spaces, \n",
    "    commas, or other delimiters. It parses the input string, extracts numeric values, and calculates \n",
    "    the result by subtracting each subsequent number from the first. inputs[0]-inputs[1]-inputs[2]\n",
    "\n",
    "    Parameters:\n",
    "    - inputs (str): \n",
    "      A string containing numbers to subtract. The string can include spaces, commas, or other \n",
    "      delimiters between the numbers.\n",
    "\n",
    "    Returns:\n",
    "    - dict: \n",
    "      A dictionary containing the key \"result\" with the calculated difference as its value. \n",
    "      If no valid numbers are found in the input string, the result defaults to 0.\n",
    "\n",
    "    Example Usage:\n",
    "    - Input: \"100, 20, 10\"\n",
    "    - Output: {\"result\": 70}\n",
    "\n",
    "    Limitations:\n",
    "    - The function does not handle cases where numbers are formatted with decimals or other non-integer representations.\n",
    "    \"\"\"\n",
    "    # Extract numbers from the string\n",
    "    numbers = [int(num) for num in inputs.replace(\",\", \"\").split() if num.isdigit()]\n",
    "\n",
    "    # If no numbers are found, return 0\n",
    "    if not numbers:\n",
    "        return {\"result\": 0}\n",
    "\n",
    "    # Start with the first number\n",
    "    result = numbers[0]\n",
    "\n",
    "    # Subtract all subsequent numbers\n",
    "    for num in numbers[1:]:\n",
    "        result -= num\n",
    "\n",
    "    return {\"result\": result}"
   ]
  },
  {
   "cell_type": "markdown",
   "metadata": {},
   "source": [
    "\n",
    "## Note: Tool naming when demonstrating different approaches\n",
    "\n",
    "In this lab, two different ways to create the same mathematical tool (addition) are intentionally shown:\n",
    "\n",
    "1. Using the `Tool()` constructor approach (`add_tool`)\n",
    "2. Using the `@tool` decorator approach (`add_numbers`)\n",
    "\n",
    "This is to compare different LangChain tool creation methods for educational purposes. In a production application, you would typically choose one consistent approach rather than having duplicate tools for the same functionality.\n",
    "\n",
    "When building real agents, duplicate tools with similar functions will confuse the LLM, as it won't know which one to choose. Always use unique tools with clearly differentiated purposes in production code.\n"
   ]
  },
  {
   "cell_type": "markdown",
   "metadata": {},
   "source": [
    "Next, create a new agent, ensuring it incorporates the updated subtraction tool.\n"
   ]
  },
  {
   "cell_type": "code",
   "execution_count": null,
   "metadata": {},
   "outputs": [],
   "source": [
    "tools_updated = [add_numbers, new_subtract_numbers, multiply_numbers, divide_numbers]\n",
    "# Create the agent with all tools\n",
    "math_agent_new = create_react_agent(\n",
    "    model=llm,\n",
    "    tools=tools_updated,\n",
    "    # Optional: Add a system message to guide the agent's behavior\n",
    "    prompt=\"You are a helpful mathematical assistant that can perform various operations. Use the tools precisely and explain your reasoning clearly.\"\n",
    ")\n",
    "print(\"agent\",math_agent_new)"
   ]
  },
  {
   "cell_type": "markdown",
   "metadata": {},
   "source": [
    "Now, you are going to create a Python dictionary to test multiple use cases for your agent. Testing your agent is important on its own because it helps ensure that it works correctly in different situations. Automating test cases makes this process easier and helps catch errors before they become a problem. A good test suite checks how the agent handles different inputs, including tricky cases like dividing by zero, working with large numbers, and handling decimals. You can also test how the agent deals with mixed operations, like combining addition and multiplication.\n"
   ]
  },
  {
   "cell_type": "code",
   "execution_count": null,
   "metadata": {},
   "outputs": [],
   "source": [
    "# Test Cases\n",
    "test_cases = [\n",
    "    {\n",
    "        \"query\": \"Subtract 100, 20, and 10.\",\n",
    "        \"expected\": {\"result\": 70},\n",
    "        \"description\": \"Testing subtraction tool with sequential subtraction.\"\n",
    "    },\n",
    "    {\n",
    "        \"query\": \"Multiply 2, 3, and 4.\",\n",
    "        \"expected\": {\"result\": 24},\n",
    "        \"description\": \"Testing multiplication tool for a list of numbers.\"\n",
    "    },\n",
    "    {\n",
    "        \"query\": \"Divide 100 by 5 and then by 2.\",\n",
    "        \"expected\": {\"result\": 10.0},\n",
    "        \"description\": \"Testing division tool with sequential division.\"\n",
    "    },\n",
    "    {\n",
    "        \"query\": \"Subtract 50 from 20.\",\n",
    "        \"expected\": {\"result\": -30},\n",
    "        \"description\": \"Testing subtraction tool with negative results.\"\n",
    "    }\n",
    "\n",
    "]"
   ]
  },
  {
   "cell_type": "markdown",
   "metadata": {},
   "source": [
    "This code extracts the actual computation result from the agent's response structure. Unlike a direct tool invocation that returns a simple dictionary, LangGraph agents return a complex structure containing the entire conversation history as a list of messages. To find the computation result, you must locate the specific ToolMessage in this list (identified by its name matching one of the math tools), then parse its content, which contains the actual result as a JSON string. This approach is necessary because the result isn't accessible directly from the response object but is instead nested within the message history, requiring you to navigate through the messages to find and extract the relevant data for comparison with your expected values.\n"
   ]
  },
  {
   "cell_type": "code",
   "execution_count": null,
   "metadata": {},
   "outputs": [],
   "source": [
    "correct_tasks = []\n",
    "# Corrected test execution\n",
    "for index, test in enumerate(test_cases, start=1):\n",
    "    query = test[\"query\"]\n",
    "    expected_result = test[\"expected\"][\"result\"]  # Extract just the value\n",
    "    \n",
    "    print(f\"\\n--- Test Case {index}: {test['description']} ---\")\n",
    "    print(f\"Query: {query}\")\n",
    "    \n",
    "    # Properly format the input\n",
    "    response = math_agent_new.invoke({\"messages\": [(\"human\", query)]})\n",
    "    \n",
    "    # Find the tool message in the response\n",
    "    tool_message = None\n",
    "    for msg in response[\"messages\"]:\n",
    "        if hasattr(msg, 'name') and msg.name in ['add_numbers', 'new_subtract_numbers', 'multiply_numbers', 'divide_numbers']:\n",
    "            tool_message = msg\n",
    "            break\n",
    "    \n",
    "    if tool_message:\n",
    "        # Parse the tool result from its content\n",
    "        import json\n",
    "        tool_result = json.loads(tool_message.content)[\"result\"]\n",
    "        print(f\"Tool Result: {tool_result}\")\n",
    "        print(f\"Expected Result: {expected_result}\")\n",
    "        \n",
    "        if tool_result == expected_result:\n",
    "            print(f\"✅ Test Passed: {test['description']}\")\n",
    "            correct_tasks.append(test[\"description\"])\n",
    "        else:\n",
    "            print(f\"❌ Test Failed: {test['description']}\")\n",
    "    else:\n",
    "        print(\"❌ No tool was called by the agent\")\n",
    "\n",
    "print(\"\\nCorrectly passed tests:\", correct_tasks)"
   ]
  },
  {
   "cell_type": "markdown",
   "metadata": {},
   "source": [
    "The current functions would benefit from enhanced error handling and input validation. The add_numbers, subtract_numbers, multiply_numbers, and divide_numbers functions should be updated to handle decimal numbers using float conversion, validate inputs more strictly, and provide clear error messages for edge cases. For example, divide_numbers should explicitly check for division by zero, and all functions should gracefully handle non-numeric inputs like \"two\" or \"hundred\". The test cases should be expanded beyond basic operations to include edge cases like divided by zero, empty inputs, and mixed numeric/text inputs (e.g., \"divide one hundred by 5\"). Also consider adding tests for decimal numbers (e.g., \"multiply 3.5 by 2\") and sequential operations (e.g., \"multiply 10 by 2 then add 5\"). This comprehensive testing approach ensures the agent can handle a wide range of real-world mathematical queries.\n"
   ]
  },
  {
   "cell_type": "markdown",
   "metadata": {},
   "source": [
    "## **Exploring LangChain's built-in tools**\n",
    "\n",
    "While creating custom tools is powerful, LangChain provides a rich ecosystem of **pre-built tools** that solve common tasks out of the box. These tools abstract away complex implementation details (API calls, input parsing, error handling) and let you focus on building robust agents quickly.\n"
   ]
  },
  {
   "cell_type": "markdown",
   "metadata": {},
   "source": [
    "---\n",
    "\n",
    "#### **Why use built-in tools?**\n",
    "- **Reliability**: Tested and maintained by the LangChain community.\n",
    "- **Time-saving**: No need to reinvent the wheel for common tasks.\n",
    "- **Integration**: Designed to work seamlessly with LangChain agents.\n",
    "\n",
    "---\n"
   ]
  },
  {
   "cell_type": "markdown",
   "metadata": {},
   "source": [
    "#### **Popular built-in tools**\n",
    "Here are some widely used tools from `langchain_community.tools`:\n",
    "\n",
    "| Tool Name               | Description                                                                 |\n",
    "|-------------------------|-----------------------------------------------------------------------------|\n",
    "| `WikipediaQueryRun`     | Search Wikipedia for factual information.                                   |\n",
    "| `GoogleSearchRun`       | Perform web searches using Google’s API.                                    |\n",
    "| `PythonREPLTool`        | Execute Python code in a safe environment.                                  |\n",
    "| `OpenWeatherMapQueryRun`| Fetch real-time weather data.                                               |\n",
    "| `YouTubeSearchTool`     | Search for YouTube videos.                                                  |\n",
    "\n",
    "---\n"
   ]
  },
  {
   "cell_type": "markdown",
   "metadata": {},
   "source": [
    "\n",
    "#### **Example: Using the Wikipedia tool**\n",
    "Let’s enhance the math agent with Wikipedia access to answer questions requiring factual context.\n"
   ]
  },
  {
   "cell_type": "markdown",
   "metadata": {},
   "source": [
    "Now, you'll start by creating a Wikipedia search tool using `@tool` operator. This tool will allow the agent to fetch factual information from Wikipedia when needed.\n"
   ]
  },
  {
   "cell_type": "code",
   "execution_count": null,
   "metadata": {},
   "outputs": [],
   "source": [
    "from langchain_community.utilities import WikipediaAPIWrapper\n",
    "\n",
    "# Create a Wikipedia tool using the @tool decorator\n",
    "@tool\n",
    "def search_wikipedia(query: str) -> str:\n",
    "    \"\"\"Search Wikipedia for factual information about a topic.\n",
    "    \n",
    "    Parameters:\n",
    "    - query (str): The topic or question to search for on Wikipedia\n",
    "    \n",
    "    Returns:\n",
    "    - str: A summary of relevant information from Wikipedia\n",
    "    \"\"\"\n",
    "    wiki = WikipediaAPIWrapper()\n",
    "    return wiki.run(query)"
   ]
  },
  {
   "cell_type": "code",
   "execution_count": null,
   "metadata": {},
   "outputs": [],
   "source": [
    "search_wikipedia.invoke(\"What is tool calling?\")"
   ]
  },
  {
   "cell_type": "markdown",
   "metadata": {},
   "source": [
    "Now, you will **create a list of available tools** (both custom math tools and a using wikipedia tool `search_wikipedia`) and then **initialize an agent** that can use these tools to solve problems. This agent will combine:  \n",
    "- Custom math tools (`add_numbers`, `new_subtract_numbers`, etc.) for arithmetic operations.  \n",
    "- A built-in tool (`wiki_tool`, e.g., for Wikipedia searches) for additional functionality.  \n",
    "\n",
    "By combining these tools, the agent can handle **both mathematical calculations** (e.g., addition, subtraction) and **informational queries** (e.g., fetching facts from Wikipedia), depending on the user’s request.\n"
   ]
  },
  {
   "cell_type": "code",
   "execution_count": null,
   "metadata": {},
   "outputs": [],
   "source": [
    "# Update your tools list to include the Wikipedia tool\n",
    "tools_updated = [add_numbers, new_subtract_numbers, multiply_numbers, divide_numbers, search_wikipedia]\n",
    "\n",
    "# Create the agent with all tools including Wikipedia\n",
    "math_agent_updated = create_react_agent(\n",
    "    model=llm,\n",
    "    tools=tools_updated,\n",
    "    prompt=\"You are a helpful assistant that can perform various mathematical operations and look up information. Use the tools precisely and explain your reasoning clearly.\"\n",
    ")"
   ]
  },
  {
   "cell_type": "markdown",
   "metadata": {},
   "source": [
    "Now, you will **ask the agent a multi-step question** that requires:  \n",
    "1. **Online searching** (using `search_wikipedia` or another built-in tool) to fetch real-world data.  \n",
    "2. **Mathematical computation** (using `multiply_numbers`) to process the retrieved data.  \n",
    "\n",
    "\n"
   ]
  },
  {
   "cell_type": "code",
   "execution_count": null,
   "metadata": {},
   "outputs": [],
   "source": [
    "query = \"What is the population of Canada? Multiply it by 0.75\"\n",
    "\n",
    "response = math_agent_updated.invoke({\"messages\": [(\"human\", query)]})\n",
    "\n",
    "print(\"\\nMessage sequence:\")\n",
    "for i, msg in enumerate(response[\"messages\"]):\n",
    "    print(f\"\\n--- Message {i+1} ---\")\n",
    "    print(f\"Type: {type(msg).__name__}\")\n",
    "    if hasattr(msg, 'content'):\n",
    "        print(f\"Content: {msg.content}\")\n",
    "    if hasattr(msg, 'name'):\n",
    "        print(f\"Name: {msg.name}\")\n",
    "    if hasattr(msg, 'tool_calls') and msg.tool_calls:\n",
    "        print(f\"Tool calls: {msg.tool_calls}\")"
   ]
  },
  {
   "cell_type": "markdown",
   "metadata": {},
   "source": [
    "**How it works**:\n",
    "1. The agent first uses `search_wikipedia` to find Canada's population.\n",
    "2. Extracts the numeric value from Wikipedia’s response.\n",
    "3. Uses `multiply_numbers` to calculate 75% of the population.\n",
    "4. Returns the final result with context.\n"
   ]
  },
  {
   "cell_type": "markdown",
   "metadata": {},
   "source": [
    "For a full list of available tools, see the [LangChain Tools Documentation](https://python.langchain.com/docs/integrations/tools/).\n"
   ]
  },
  {
   "cell_type": "markdown",
   "metadata": {},
   "source": [
    "## **Exercise: Create a power tool to calculate exponents**\n",
    "\n",
    "#### **Objective**\n",
    "In this exercise, you will create a custom tool that calculates the power of a number (e.g., \\( x^y \\)). You will then integrate this tool into an agent and test its functionality.\n",
    "\n",
    "---\n",
    "\n",
    "#### **Step 1: Create the power tool**\n",
    "\n",
    "1. **Define the Tool Function**:\n",
    "   - Create a Python function named `calculate_power` that takes a string as input. The string will contain two numbers: the base (\\( x \\)) and the exponent (\\( y \\)).\n",
    "   - The function should extract the numbers, calculate \\( x^y \\), and return the result as a dictionary with the key `\"result\"`.\n"
   ]
  },
  {
   "cell_type": "code",
   "execution_count": null,
   "metadata": {},
   "outputs": [],
   "source": [
    "#TODO\n"
   ]
  },
  {
   "cell_type": "markdown",
   "metadata": {},
   "source": [
    "<details>\n",
    "    <summary>Click here for Solution</summary>\n",
    "\n",
    "```python\n",
    "def calculate_power(input_text: str) -> dict:\n",
    "    \"\"\"\n",
    "    Calculates the power of a number (x^y).\n",
    "\n",
    "    Parameters:\n",
    "    - input_text (str): A string like \"2, 3\", \"2 3\", \"5^2\", or \"2 to the power of 3\".\n",
    "\n",
    "    Returns:\n",
    "    - dict: {\"result\": <calculated value>} or an error message.\n",
    "    \"\"\"\n",
    "    # Try to extract expressions like \"5^2\"\n",
    "    match = re.search(r\"(\\d+(?:\\.\\d+)?)\\s*\\^+\\s*(\\d+(?:\\.\\d+)?)\", input_text)\n",
    "    if match:\n",
    "        base = float(match.group(1))\n",
    "        exponent = float(match.group(2))\n",
    "        return {\"result\": base ** exponent}\n",
    "\n",
    "    # Try to extract expressions like \"2 to the power of 3\"\n",
    "    match = re.search(r\"(\\d+(?:\\.\\d+)?)\\s*(?:to\\s+the\\s+power\\s+of)\\s*(\\d+(?:\\.\\d+)?)\", input_text, re.IGNORECASE)\n",
    "    if match:\n",
    "        base = float(match.group(1))\n",
    "        exponent = float(match.group(2))\n",
    "        return {\"result\": base ** exponent}\n",
    "\n",
    "    # Fallback: assume two numbers separated by space or comma\n",
    "    try:\n",
    "        numbers = [float(num) for num in input_text.replace(\",\", \" \").split()]\n",
    "        if len(numbers) != 2:\n",
    "            return {\"result\": \"Invalid input. Please provide exactly two numbers.\"}\n",
    "        base, exponent = numbers\n",
    "        return {\"result\": base ** exponent}\n",
    "    except ValueError:\n",
    "        return {\"result\": \"Invalid input format. Provide input like '2 3', '2^3', or '2 to the power of 3'.\"}\n",
    "\n",
    "\n",
    "```\n",
    "\n",
    "</details>\n"
   ]
  },
  {
   "cell_type": "markdown",
   "metadata": {},
   "source": [
    "2. **Create the tool object**:\n",
    "   - Use the `Tool` class from LangChain to create a tool object for the `calculate_power` function.\n",
    "   - Provide a name, description, and the function to the tool.\n"
   ]
  },
  {
   "cell_type": "code",
   "execution_count": null,
   "metadata": {},
   "outputs": [],
   "source": [
    "#TODO\n"
   ]
  },
  {
   "cell_type": "markdown",
   "metadata": {},
   "source": [
    "<details>\n",
    "    <summary>Click here for Solution</summary>\n",
    "\n",
    "```python\n",
    "power_tool = Tool(\n",
    "   name=\"PowerTool\",\n",
    "   func=calculate_power,\n",
    "   description=\"Calculates the power of a number (x^y). Input should be two numbers: base and exponent.\"\n",
    ")\n",
    "```\n",
    "\n",
    "</details>\n"
   ]
  },
  {
   "cell_type": "markdown",
   "metadata": {},
   "source": [
    "#### **Step 2: Create an agent with the power tool**\n",
    "\n",
    "1. **Set up the agent**:\n",
    "   - Use the `initialize_agent` function from LangChain to create an agent.\n",
    "   - Include the `power_tool` in the list of tools provided to the agent.\n",
    "   - Specify the agent type (e.g., `zero-shot-react-description`).\n"
   ]
  },
  {
   "cell_type": "code",
   "execution_count": null,
   "metadata": {},
   "outputs": [],
   "source": [
    "#TODO\n"
   ]
  },
  {
   "cell_type": "markdown",
   "metadata": {},
   "source": [
    "<details>\n",
    "    <summary>Click here for Solution</summary>\n",
    "\n",
    "```python\n",
    "# List of tools for the agent\n",
    "tools = [power_tool]\n",
    "\n",
    "# Create the agent\n",
    "agent = initialize_agent(\n",
    "   tools,\n",
    "   llm,\n",
    "   agent=AgentType.ZERO_SHOT_REACT_DESCRIPTION,\n",
    "   verbose=True,\n",
    "    handle_parsing_errors=True\n",
    ")\n",
    "```\n",
    "\n",
    "</details>\n"
   ]
  },
  {
   "cell_type": "markdown",
   "metadata": {},
   "source": [
    "#### **Step 3: Test the agent**\n",
    "\n",
    "1. **Test the Agent Using the `run` Function**:\n",
    "   - Use the `run` function of the agent to test its ability to calculate powers.\n",
    "   - Pass natural language queries to the agent and observe its responses.\n"
   ]
  },
  {
   "cell_type": "code",
   "execution_count": null,
   "metadata": {},
   "outputs": [],
   "source": [
    "#TODO\n",
    "agent.run(\"Calculate 5 to the power of 2.\")"
   ]
  },
  {
   "cell_type": "markdown",
   "metadata": {},
   "source": [
    "<details>\n",
    "    <summary>Click here for Solution</summary>\n",
    "\n",
    "```python\n",
    "agent.run(\"Calculate 5 to the power of 2.\")\n",
    "```\n",
    "\n",
    "</details>\n"
   ]
  },
  {
   "cell_type": "markdown",
   "metadata": {},
   "source": [
    "## Authors\n"
   ]
  },
  {
   "cell_type": "markdown",
   "metadata": {},
   "source": [
    "[Joseph Santarcangelo](https://author.skills.network/instructors/joseph_santarcangelo)\n"
   ]
  },
  {
   "cell_type": "markdown",
   "metadata": {},
   "source": [
    "[Kunal Makwana](https://author.skills.network/instructors/kunal_makwana)\n"
   ]
  },
  {
   "cell_type": "markdown",
   "metadata": {},
   "source": [
    "Copyright © IBM Corporation. All rights reserved.\n"
   ]
  }
 ],
 "metadata": {
  "kernelspec": {
   "display_name": "Python 3 (ipykernel)",
   "language": "python",
   "name": "python3"
  },
  "language_info": {
   "codemirror_mode": {
    "name": "ipython",
    "version": 3
   },
   "file_extension": ".py",
   "mimetype": "text/x-python",
   "name": "python",
   "nbconvert_exporter": "python",
   "pygments_lexer": "ipython3",
   "version": "3.12.8"
  },
  "prev_pub_hash": "b5042e95bef5fa72bc867f799a516299072f56252cbdf79ce5cf2eed2e686540"
 },
 "nbformat": 4,
 "nbformat_minor": 4
}
