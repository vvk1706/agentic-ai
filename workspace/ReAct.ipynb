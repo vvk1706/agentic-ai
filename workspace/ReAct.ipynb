{
 "cells": [
  {
   "cell_type": "markdown",
   "metadata": {},
   "source": [
    "<p style=\"text-align:center\">\n",
    "    <a href=\"https://skills.network\" target=\"_blank\">\n",
    "    <img src=\"https://cf-courses-data.s3.us.cloud-object-storage.appdomain.cloud/assets/logos/SN_web_lightmode.png\" width=\"200\" alt=\"Skills Network Logo\"  />\n",
    "    </a>\n",
    "</p>\n"
   ]
  },
  {
   "cell_type": "markdown",
   "metadata": {},
   "source": [
    "# **ReAct: Build Reasoning and Acting AI Agents with LangGraph**\n"
   ]
  },
  {
   "cell_type": "markdown",
   "metadata": {},
   "source": [
    "Estimated time needed: **90** minutes\n"
   ]
  },
  {
   "cell_type": "markdown",
   "metadata": {},
   "source": [
    "You're a software engineer on a mission: build an AI agent that doesn't just respond—it thinks. In this lab, you'll step into the role of an AI architect, designing a smart assistant that solves tough problems by reasoning through them and taking purposeful actions.\n",
    "\n",
    "Using the ReAct (Reasoning + Acting) framework, you'll teach your agent to think step by step, consult tools like search engines or calculators, and adapt on the fly. It’s not just about answers—it’s about how the agent gets there.\n",
    "\n",
    "By the end of the lab, your AI will face a mystery that can’t be solved with knowledge alone. It will need logic, resourcefulness, and the ability to act—just like you, the engineer who built it.\n",
    "\n",
    "## What is ReAct?\n",
    "\n",
    "**ReAct** stands for **Reasoning + Acting**. It's a framework that combines:\n",
    "\n",
    "1. **Reasoning**: The agent thinks through problems step by step, maintaining an internal dialogue about what it needs to do.\n",
    "2. **Acting**: The agent can use external tools (search engines, calculators, APIs) to gather information or perform actions.\n",
    "3. **Observing**: The agent processes the results from its actions and incorporates them into its reasoning.\n",
    "\n",
    "This creates a powerful loop: **Think → Act → Observe → Think → Act → ...**\n",
    "\n",
    "### Why ReAct Matters\n",
    "\n",
    "Traditional language models are limited by their training data cutoff and can't access real-time information. ReAct agents overcome this by:\n",
    "- Accessing current information through web searches\n",
    "- Performing calculations with specialized tools\n",
    "- Breaking down complex problems into manageable steps\n",
    "- Adapting their approach based on intermediate results\n"
   ]
  },
  {
   "cell_type": "markdown",
   "metadata": {},
   "source": [
    "## __Table of Contents__\n",
    "\n",
    "<ol>\n",
    "    <li><a href=\"#Objectives\">Objectives</a></li>\n",
    "    <li>\n",
    "        <a href=\"#Setup-&-Installation\">Setup & Installation</a>\n",
    "        <ol>\n",
    "            <li><a href=\"#Installing-Required-Libraries\">Installing Required Libraries</a></li>\n",
    "            <li><a href=\"#Importing-Required-Libraries\">Importing Required Libraries</a></li>\n",
    "        </ol>\n",
    "    </li>\n",
    "    <li>\n",
    "        <a href=\"#Understanding-Tools-in-ReAct\">Understanding Tools in ReAct</a>\n",
    "        <ol>\n",
    "            <li><a href=\"#1.-Web-Search-Tool\">1. Web Search Tool</a></li>\n",
    "            <li><a href=\"#Theory-behind-Web-Search-Tools\">Theory behind Web Search Tools</a></li>\n",
    "            <li><a href=\"#Testing-the-Search-Tool\">Testing the Search Tool</a></li>\n",
    "            <li><a href=\"#2.-Clothing-Recommendation-Tool\">2. Clothing Recommendation Tool</a></li>\n",
    "            <li><a href=\"#Why-this-Tool-Matters\">Why this Tool Matters</a></li>\n",
    "            <li><a href=\"#Creating-the-tool-Registry\">Creating the tool Registry</a></li>\n",
    "        </ol>\n",
    "    </li>\n",
    "    <li>\n",
    "        <a href=\"#Setting-up-the-Language-Model\">Setting up the Language Model</a>\n",
    "        <ol>\n",
    "            <li><a href=\"#Initializing-the-AI-Model\">Initializing the AI Model</a></li>\n",
    "            <li><a href=\"#Creating-the-System-Prompt\">Creating the System Prompt</a></li>\n",
    "            <li><a href=\"#The-System-Prompt's-Role\">The System Prompt's Role</a></li>\n",
    "            <li><a href=\"#Binding-Tools-to-the-Model\">Binding Tools to the Model</a></li>\n",
    "            <li>\n",
    "                <a href=\"#Understanding-Agent-State\">Understanding Agent State</a>\n",
    "                <ol>\n",
    "                    <li><a href=\"#What-is-Agent-State?\">What is Agent State?</a></li>\n",
    "                    <li><a href=\"#Demonstrating-State-Management\">Demonstrating State Management</a></li>\n",
    "                </ol>\n",
    "            </li>\n",
    "            <li>\n",
    "                <a href=\"#Manual-ReAct-Execution-(Understanding-the-Flow)\">Manual ReAct Execution (Understanding the Flow)</a>\n",
    "                <ol>\n",
    "                    <li><a href=\"#Step-1:-Initial-Query-Processing\">Step 1: Initial Query Processing</a></li>\n",
    "                    <li><a href=\"#Step-2:-Tool-Execution\">Step 2: Tool Execution</a></li>\n",
    "                    <li><a href=\"#Step-3:-Processing-Results-and-Next-Action\">Step 3: Processing Results and Next Action</a></li>\n",
    "                    <li><a href=\"#Step-4:-Final-Response-Generation\">Step 4: Final Response Generation</a></li>\n",
    "                </ol>\n",
    "            </li>\n",
    "            <li>\n",
    "                <a href=\"#Automating-ReAct-with-Graphs\">Automating ReAct with Graphs</a>\n",
    "                <ol>\n",
    "                    <li><a href=\"#Why-Use-Graphs?\">Why Use Graphs?</a></li>\n",
    "                    <li><a href=\"#Building-the-Core-Functions\">Building the Core Functions</a></li>\n",
    "                    <li><a href=\"#Constructing-the-State-Graph\">Constructing the State Graph</a></li>\n",
    "                    <li><a href=\"#Visualizing-the-Graph\">Visualizing the Graph</a></li>\n",
    "                </ol>\n",
    "            </li>\n",
    "            <li>\n",
    "                <a href=\"#Running-the-Complete-ReAct-Agent\">Running the Complete ReAct Agent</a>\n",
    "                <ol>\n",
    "                    <li><a href=\"#Final-Execution\">Final Execution</a></li>\n",
    "                    <li><a href=\"#The-Complete-ReAct-Cycle\">The Complete ReAct Cycle</a></li>\n",
    "                </ol>\n",
    "            </li>\n",
    "        </ol>\n",
    "    </li>\n",
    "    <li>\n",
    "        <a href=\"#Key-Takeaways\">Key Takeaways</a>\n",
    "        <ol>\n",
    "            <li><a href=\"#What-Makes-ReAct-Powerful\">What Makes ReAct Powerful</a></li>\n",
    "            <li><a href=\"#Best-Practices\">Best Practices</a></li>\n",
    "        </ol>\n",
    "    </li>\n",
    "    <li>\n",
    "        <a href=\"#Exercises\">Exercises</a>\n",
    "        <ol>\n",
    "            <li><a href=\"#Exercise-1---Build-a-Calculator-Tool\">Exercise 1 - Build a Calculator Tool</a></li>\n",
    "            <li><a href=\"#Exercise-2---Create-a-News-Summary-Tool\">Exercise 2 - Create a News Summary Tool</a></li>\n",
    "        </ol>\n",
    "    </li>\n",
    "    <li><a href=\"#Testing-Your-Solutions\">Testing Your Solutions</a></li>\n",
    "    <li><a href=\"#Authors\">Authors</a></li>\n",
    "</ol>\n"
   ]
  },
  {
   "cell_type": "markdown",
   "metadata": {},
   "source": [
    "## Objectives\n",
    "\n",
    "After completing this lab you will be able to:\n",
    "\n",
    " - Use the ReAct framework to solve multi-step problems with external tools\n",
    " - Teach an AI agent to reason step by step, take actions, and adapt based on results\n",
    " - Build a smart assistant that can handle tasks requiring logic and tool use\n"
   ]
  },
  {
   "cell_type": "markdown",
   "metadata": {},
   "source": [
    "----\n"
   ]
  },
  {
   "cell_type": "markdown",
   "metadata": {},
   "source": [
    "## Setup & Installation\n"
   ]
  },
  {
   "cell_type": "markdown",
   "metadata": {},
   "source": [
    "For this lab, we will be using the following libraries:\n",
    "\n",
    "\n",
    "- [`LangGraph`](https://www.langchain.com/langgraph): A framework for building stateful, multi-step AI applications using graphs.\n",
    "- [`LangChain`](https://www.langchain.com/): A toolkit that provides tools and abstractions for working with language models.\n",
    "- [`LangChain-OpenAI`](https://python.langchain.com/docs/integrations/llms/openai/): OpenAI integration for LangChain.\n",
    "- [`LangChain-Community`](https://python.langchain.com/api_reference/community/index.html): Community-contributed tools and integrations.\n"
   ]
  },
  {
   "cell_type": "markdown",
   "metadata": {},
   "source": [
    "### Installing Required Libraries\n"
   ]
  },
  {
   "cell_type": "code",
   "execution_count": 1,
   "metadata": {},
   "outputs": [
    {
     "name": "stdout",
     "output_type": "stream",
     "text": [
      "3.12.8 | packaged by conda-forge | (main, Dec  5 2024, 14:24:40) [GCC 13.3.0]\n",
      "Collecting langgraph\n",
      "  Downloading langgraph-0.6.7-py3-none-any.whl.metadata (6.8 kB)\n",
      "Collecting langchain-openai\n",
      "  Downloading langchain_openai-0.3.33-py3-none-any.whl.metadata (2.4 kB)\n",
      "Collecting langchain-core>=0.1 (from langgraph)\n",
      "  Downloading langchain_core-0.3.76-py3-none-any.whl.metadata (3.7 kB)\n",
      "Collecting langgraph-checkpoint<3.0.0,>=2.1.0 (from langgraph)\n",
      "  Downloading langgraph_checkpoint-2.1.1-py3-none-any.whl.metadata (4.2 kB)\n",
      "Collecting langgraph-prebuilt<0.7.0,>=0.6.0 (from langgraph)\n",
      "  Downloading langgraph_prebuilt-0.6.4-py3-none-any.whl.metadata (4.5 kB)\n",
      "Collecting langgraph-sdk<0.3.0,>=0.2.2 (from langgraph)\n",
      "  Downloading langgraph_sdk-0.2.9-py3-none-any.whl.metadata (1.5 kB)\n",
      "Requirement already satisfied: pydantic>=2.7.4 in /opt/conda/lib/python3.12/site-packages (from langgraph) (2.10.6)\n",
      "Collecting xxhash>=3.5.0 (from langgraph)\n",
      "  Downloading xxhash-3.5.0-cp312-cp312-manylinux_2_17_x86_64.manylinux2014_x86_64.whl.metadata (12 kB)\n",
      "Collecting openai<2.0.0,>=1.104.2 (from langchain-openai)\n",
      "  Downloading openai-1.109.1-py3-none-any.whl.metadata (29 kB)\n",
      "Collecting tiktoken<1,>=0.7 (from langchain-openai)\n",
      "  Downloading tiktoken-0.11.0-cp312-cp312-manylinux_2_17_x86_64.manylinux2014_x86_64.whl.metadata (6.7 kB)\n",
      "Collecting langsmith>=0.3.45 (from langchain-core>=0.1->langgraph)\n",
      "  Downloading langsmith-0.4.30-py3-none-any.whl.metadata (14 kB)\n",
      "Requirement already satisfied: tenacity!=8.4.0,<10.0.0,>=8.1.0 in /opt/conda/lib/python3.12/site-packages (from langchain-core>=0.1->langgraph) (9.1.2)\n",
      "Requirement already satisfied: jsonpatch<2.0,>=1.33 in /opt/conda/lib/python3.12/site-packages (from langchain-core>=0.1->langgraph) (1.33)\n",
      "Requirement already satisfied: PyYAML>=5.3 in /opt/conda/lib/python3.12/site-packages (from langchain-core>=0.1->langgraph) (6.0.2)\n",
      "Requirement already satisfied: typing-extensions>=4.7 in /opt/conda/lib/python3.12/site-packages (from langchain-core>=0.1->langgraph) (4.12.2)\n",
      "Requirement already satisfied: packaging>=23.2 in /opt/conda/lib/python3.12/site-packages (from langchain-core>=0.1->langgraph) (24.2)\n",
      "Collecting ormsgpack>=1.10.0 (from langgraph-checkpoint<3.0.0,>=2.1.0->langgraph)\n",
      "  Downloading ormsgpack-1.10.0-cp312-cp312-manylinux_2_17_x86_64.manylinux2014_x86_64.whl.metadata (43 kB)\n",
      "Requirement already satisfied: httpx>=0.25.2 in /opt/conda/lib/python3.12/site-packages (from langgraph-sdk<0.3.0,>=0.2.2->langgraph) (0.28.1)\n",
      "Collecting orjson>=3.10.1 (from langgraph-sdk<0.3.0,>=0.2.2->langgraph)\n",
      "  Downloading orjson-3.11.3-cp312-cp312-manylinux_2_17_x86_64.manylinux2014_x86_64.whl.metadata (41 kB)\n",
      "Requirement already satisfied: anyio<5,>=3.5.0 in /opt/conda/lib/python3.12/site-packages (from openai<2.0.0,>=1.104.2->langchain-openai) (4.8.0)\n",
      "Requirement already satisfied: distro<2,>=1.7.0 in /opt/conda/lib/python3.12/site-packages (from openai<2.0.0,>=1.104.2->langchain-openai) (1.9.0)\n",
      "Collecting jiter<1,>=0.4.0 (from openai<2.0.0,>=1.104.2->langchain-openai)\n",
      "  Downloading jiter-0.11.0-cp312-cp312-manylinux_2_17_x86_64.manylinux2014_x86_64.whl.metadata (5.2 kB)\n",
      "Requirement already satisfied: sniffio in /opt/conda/lib/python3.12/site-packages (from openai<2.0.0,>=1.104.2->langchain-openai) (1.3.1)\n",
      "Requirement already satisfied: tqdm>4 in /opt/conda/lib/python3.12/site-packages (from openai<2.0.0,>=1.104.2->langchain-openai) (4.67.1)\n",
      "Requirement already satisfied: annotated-types>=0.6.0 in /opt/conda/lib/python3.12/site-packages (from pydantic>=2.7.4->langgraph) (0.7.0)\n",
      "Requirement already satisfied: pydantic-core==2.27.2 in /opt/conda/lib/python3.12/site-packages (from pydantic>=2.7.4->langgraph) (2.27.2)\n",
      "Collecting regex>=2022.1.18 (from tiktoken<1,>=0.7->langchain-openai)\n",
      "  Downloading regex-2025.9.18-cp312-cp312-manylinux2014_x86_64.manylinux_2_17_x86_64.manylinux_2_28_x86_64.whl.metadata (40 kB)\n",
      "Requirement already satisfied: requests>=2.26.0 in /opt/conda/lib/python3.12/site-packages (from tiktoken<1,>=0.7->langchain-openai) (2.32.3)\n",
      "Requirement already satisfied: idna>=2.8 in /opt/conda/lib/python3.12/site-packages (from anyio<5,>=3.5.0->openai<2.0.0,>=1.104.2->langchain-openai) (3.10)\n",
      "Requirement already satisfied: certifi in /opt/conda/lib/python3.12/site-packages (from httpx>=0.25.2->langgraph-sdk<0.3.0,>=0.2.2->langgraph) (2024.12.14)\n",
      "Requirement already satisfied: httpcore==1.* in /opt/conda/lib/python3.12/site-packages (from httpx>=0.25.2->langgraph-sdk<0.3.0,>=0.2.2->langgraph) (1.0.7)\n",
      "Requirement already satisfied: h11<0.15,>=0.13 in /opt/conda/lib/python3.12/site-packages (from httpcore==1.*->httpx>=0.25.2->langgraph-sdk<0.3.0,>=0.2.2->langgraph) (0.14.0)\n",
      "Requirement already satisfied: jsonpointer>=1.9 in /opt/conda/lib/python3.12/site-packages (from jsonpatch<2.0,>=1.33->langchain-core>=0.1->langgraph) (3.0.0)\n",
      "Collecting requests-toolbelt>=1.0.0 (from langsmith>=0.3.45->langchain-core>=0.1->langgraph)\n",
      "  Downloading requests_toolbelt-1.0.0-py2.py3-none-any.whl.metadata (14 kB)\n",
      "Requirement already satisfied: zstandard>=0.23.0 in /opt/conda/lib/python3.12/site-packages (from langsmith>=0.3.45->langchain-core>=0.1->langgraph) (0.23.0)\n",
      "Requirement already satisfied: charset_normalizer<4,>=2 in /opt/conda/lib/python3.12/site-packages (from requests>=2.26.0->tiktoken<1,>=0.7->langchain-openai) (3.4.1)\n",
      "Requirement already satisfied: urllib3<3,>=1.21.1 in /opt/conda/lib/python3.12/site-packages (from requests>=2.26.0->tiktoken<1,>=0.7->langchain-openai) (2.3.0)\n",
      "Downloading langgraph-0.6.7-py3-none-any.whl (153 kB)\n",
      "Downloading langchain_openai-0.3.33-py3-none-any.whl (74 kB)\n",
      "Downloading langchain_core-0.3.76-py3-none-any.whl (447 kB)\n",
      "Downloading langgraph_checkpoint-2.1.1-py3-none-any.whl (43 kB)\n",
      "Downloading langgraph_prebuilt-0.6.4-py3-none-any.whl (28 kB)\n",
      "Downloading langgraph_sdk-0.2.9-py3-none-any.whl (56 kB)\n",
      "Downloading openai-1.109.1-py3-none-any.whl (948 kB)\n",
      "\u001b[2K   \u001b[90m━━━━━━━━━━━━━━━━━━━━━━━━━━━━━━━━━━━━━━━━\u001b[0m \u001b[32m948.6/948.6 kB\u001b[0m \u001b[31m60.4 MB/s\u001b[0m eta \u001b[36m0:00:00\u001b[0m\n",
      "\u001b[?25hDownloading tiktoken-0.11.0-cp312-cp312-manylinux_2_17_x86_64.manylinux2014_x86_64.whl (1.2 MB)\n",
      "\u001b[2K   \u001b[90m━━━━━━━━━━━━━━━━━━━━━━━━━━━━━━━━━━━━━━━━\u001b[0m \u001b[32m1.2/1.2 MB\u001b[0m \u001b[31m68.4 MB/s\u001b[0m eta \u001b[36m0:00:00\u001b[0m\n",
      "\u001b[?25hDownloading xxhash-3.5.0-cp312-cp312-manylinux_2_17_x86_64.manylinux2014_x86_64.whl (194 kB)\n",
      "Downloading jiter-0.11.0-cp312-cp312-manylinux_2_17_x86_64.manylinux2014_x86_64.whl (347 kB)\n",
      "Downloading langsmith-0.4.30-py3-none-any.whl (386 kB)\n",
      "Downloading orjson-3.11.3-cp312-cp312-manylinux_2_17_x86_64.manylinux2014_x86_64.whl (132 kB)\n",
      "Downloading ormsgpack-1.10.0-cp312-cp312-manylinux_2_17_x86_64.manylinux2014_x86_64.whl (216 kB)\n",
      "Downloading regex-2025.9.18-cp312-cp312-manylinux2014_x86_64.manylinux_2_17_x86_64.manylinux_2_28_x86_64.whl (802 kB)\n",
      "\u001b[2K   \u001b[90m━━━━━━━━━━━━━━━━━━━━━━━━━━━━━━━━━━━━━━━━\u001b[0m \u001b[32m802.0/802.0 kB\u001b[0m \u001b[31m45.3 MB/s\u001b[0m eta \u001b[36m0:00:00\u001b[0m\n",
      "\u001b[?25hDownloading requests_toolbelt-1.0.0-py2.py3-none-any.whl (54 kB)\n",
      "Installing collected packages: xxhash, regex, ormsgpack, orjson, jiter, tiktoken, requests-toolbelt, openai, langsmith, langgraph-sdk, langchain-core, langgraph-checkpoint, langchain-openai, langgraph-prebuilt, langgraph\n",
      "Successfully installed jiter-0.11.0 langchain-core-0.3.76 langchain-openai-0.3.33 langgraph-0.6.7 langgraph-checkpoint-2.1.1 langgraph-prebuilt-0.6.4 langgraph-sdk-0.2.9 langsmith-0.4.30 openai-1.109.1 orjson-3.11.3 ormsgpack-1.10.0 regex-2025.9.18 requests-toolbelt-1.0.0 tiktoken-0.11.0 xxhash-3.5.0\n"
     ]
    }
   ],
   "source": [
    "import sys\n",
    "print(sys.version)\n",
    "\n",
    "!pip install -U langgraph langchain-openai"
   ]
  },
  {
   "cell_type": "code",
   "execution_count": 2,
   "metadata": {},
   "outputs": [],
   "source": [
    "%%capture\n",
    "!pip install langgraph==0.3.34 langchain-openai==0.3.14 langchainhub==0.1.21 langchain==0.3.24 pygraphviz==1.14 langchain-community==0.3.23"
   ]
  },
  {
   "cell_type": "markdown",
   "metadata": {},
   "source": [
    "### Understanding Tools in ReAct\n",
    "\n",
    "Tools are the \"acting\" part of ReAct. They give the agent capabilities beyond just generating text. Let's build two essential tools:\n",
    "\n",
    "#### 1. Web Search Tool\n",
    "### Tavily Search API Key Setup\n",
    "\n",
    "We'll use Tavily search as our external research tool. You can get an API key at https://app.tavily.com/sign-in   \n",
    "\n",
    "\n",
    "**Disclaimer:** Signing up for Tavily provides you with free credits, more than enough for this project's needs. If you require additional credits for further use, please add them at your own discretion.\n",
    "\n",
    "![image.png](https://cf-courses-data.s3.us.cloud-object-storage.appdomain.cloud/UjJx1-0vss4_3lwsUF8n0w/image.png)\n",
    "\n",
    "You need to copy the key from Tavily's API website and paste the key on the line ```os.environ[\"TAVILY_API_KEY\"] = \"YOUR_KEY_HERE\"```\n"
   ]
  },
  {
   "cell_type": "code",
   "execution_count": 3,
   "metadata": {},
   "outputs": [],
   "source": [
    "import warnings \n",
    "warnings.filterwarnings('ignore')\n",
    "\n",
    "from langchain_community.tools.tavily_search import TavilySearchResults\n",
    "from langchain.tools import tool\n",
    "import os\n",
    "import json\n",
    "\n",
    "os.environ[\"TAVILY_API_KEY\"] = \"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\"\n",
    "\n",
    "# Initialize the Tavily search tool\n",
    "search = TavilySearchResults()\n",
    "\n",
    "@tool\n",
    "def search_tool(query: str):\n",
    "    \"\"\"\n",
    "    Search the web for information using Tavily API.\n",
    "\n",
    "    :param query: The search query string\n",
    "    :return: Search results related to the query\n",
    "    \"\"\"\n",
    "    return search.invoke(query)"
   ]
  },
  {
   "cell_type": "markdown",
   "metadata": {},
   "source": [
    "### Theory behind Web Search Tools:\n",
    "- Enable real-time information retrieval\n",
    "- Overcome the knowledge cutoff limitation of language models\n",
    "- Return structured data that the agent can process and reason about\n",
    "\n",
    "### Testing the Search Tool\n"
   ]
  },
  {
   "cell_type": "code",
   "execution_count": 5,
   "metadata": {},
   "outputs": [
    {
     "data": {
      "text/plain": [
       "[{'title': 'Caboolture Weather - Bureau of Meteorology',\n",
       "  'url': 'http://www.bom.gov.au/places/qld/W12Q/',\n",
       "  'content': '| Time | Possible rainfall | Chance of any rain |\\n --- \\n| 7:00 am - 10:00 am | 0 mm | 0% |\\n| 10:00 am - 1:00 pm | 0 mm | 0% |\\n| 1:00 pm - 4:00 pm | 0 mm | 0% |\\n| 4:00 pm - 7:00 pm | 0 mm | 0% |\\n| 7:00 pm - 10:00 pm | 0 mm | 0% |\\n| 10:00 pm - 1:00 am | 0 mm | 0% |\\n\\nPartly Cloudy\\n\\nPartly Cloudy\\n\\nSunny\\n\\nSunny\\n\\nPartly Cloudy\\n\\nSunny\\n\\n## Radar\\n\\n### Graphical Views\\n\\nThis page was created at 23:52\\non Wednesday 24 September 2025 (UTC) [...] Approx. 26 km away\\n\\nID: 99496\\n\\n### Latest weather at 9:40am\\n\\n|  |  |\\n --- |\\n| NNW | Wind Direction |\\n| 4 km/h 2 knots | Wind Speed |\\n| 24 km/h 13 knots | Highest Gust (1:34am) |\\n\\n### Weather station\\n\\nInner Beacon\\n\\nApprox. 30 km away\\n\\nID: 94590\\n\\n<\\n1\\n2\\n3\\n4\\n5\\n>\\n\\n## Forecast issued at 7:52 am AEST on Thursday 25 September 2025.\\n\\nSunny\\n\\n### When will it rain? [...] Print Background\\nAustralian Government - Bureau of Meteorology\\n\\n# Caboolture Weather (beta)\\n\\nView the current warnings for Queensland\\n\\n### Latest weather at 9:20am\\n\\n|  |  |\\n --- |\\n| 37% | Humidity |\\n| NW | Wind Direction |\\n| 4 km/h 2 knots | Wind Speed |\\n\\n### Weather station\\n\\nPORTABLE QFRA BR\\n\\nApprox. 15.2 km away\\n\\nID: 99082\\n\\n### Latest weather at 9:40am\\n\\n|  |  |\\n --- |\\n| 37% | Humidity |\\n| WNW | Wind Direction |\\n| 6 km/h 3 knots | Wind Speed |\\n| 15 km/h 8 knots | Highest Gust (9:35am) |',\n",
       "  'score': 0.9227683},\n",
       " {'title': 'Caboolture 30 days weather forecast, Caboolture weather forecast',\n",
       "  'url': 'https://www.qweather.com/en/weather30d/caboolture-3E01A.html',\n",
       "  'content': 'Queensland - Australia   2025-09-25   Thursday   -27.08S, 152.95E\\n\\n# Caboolture\\n\\n# Caboolture\\n\\nIn the next 30 days, there will be 8 days of rain, the Max Temp is 32°(01-Oct) and the Min Temp is 11°(25-Sep).\\n\\nSun\\n\\nMon\\n\\nTue\\n\\nWed\\n\\nThu\\n\\nFri\\n\\nSat\\n\\nQWeather\\n\\n28°~11°\\n\\nQWeather\\n\\n28°~15°\\n\\nQWeather\\n\\n29°~14°\\n\\nQWeather\\n\\n29°~17°\\n\\nQWeather\\n\\n30°~16°\\n\\nQWeather\\n\\n31°~17°\\n\\nQWeather\\n\\n32°~17°\\n\\nQWeather\\n\\n30°~18°\\n\\nQWeather\\n\\n30°~16°\\n\\nQWeather\\n\\n27°~18°\\n\\nQWeather\\n\\n27°~18°\\n\\nQWeather\\n\\n29°~19°\\n\\nQWeather\\n\\n27°~19°\\n\\nQWeather [...] Contact\\n\\n#### Weather\\n\\n#### Business\\n\\n#### Develop\\n\\n#### Get APP\\n\\n#### Support\\n\\n#### Contact\\n\\n##### © 2025 qweather.com All rights reserved.\\n\\nQWeather APP\\n\\nVisualization weather APP\\n\\n© 2025 qweather.com All rights reserved [...] 24°~19°\\n\\nQWeather\\n\\n25°~19°\\n\\nQWeather\\n\\n27°~19°\\n\\nQWeather\\n\\n26°~18°\\n\\nQWeather\\n\\n25°~19°\\n\\nQWeather\\n\\n25°~19°\\n\\nQWeather\\n\\n27°~19°\\n\\nQWeather\\n\\n27°~19°\\n\\nQWeather\\n\\n25°~19°\\n\\nQWeather\\n\\n25°~18°\\n\\nQWeather\\n\\n25°~19°\\n\\nQWeather\\n\\n25°~19°\\n\\nQWeather\\n\\n25°~19°\\n\\nQWeather\\n\\n25°~19°\\n\\nQWeather\\n\\n25°~19°\\n\\nQWeather\\n\\n26°~19°\\n\\nQWeather\\n\\n25°~17°\\n\\n-\\n\\n-\\n\\n-\\n\\nQWeather\\n\\n-\\n\\n-\\n\\n-\\n\\nPrecipitation\\n\\nUV\\n\\n-\\n\\nHumidity\\n\\n-\\n\\nSunrise\\n\\n-\\n\\nSunset\\n\\n### Nearby\\n\\nMorayfield\\n\\nQWeather\\n\\nBurpengary\\n\\nQWeather\\n\\nDeception Bay\\n\\nQWeather\\n\\nBongaree\\n\\nQWeather',\n",
       "  'score': 0.8674071},\n",
       " {'title': 'Caboolture, Queensland, Australia Monthly Weather | AccuWeather',\n",
       "  'url': 'https://www.accuweather.com/en/au/caboolture/14088/september-weather/14088',\n",
       "  'content': '# Caboolture, Queensland\\n\\nCaboolture\\n\\nQueensland\\n\\n## Around the Globe\\n\\nAround the Globe\\n\\n### Hurricane Tracker\\n\\n### Severe Weather\\n\\n### Radar & Maps\\n\\n### News & Features\\n\\n### Astronomy\\n\\n### Business\\n\\n### Climate\\n\\n### Health\\n\\n### Recreation\\n\\n### Sports\\n\\n### Travel\\n\\n### Warnings\\n\\n### Data Suite\\n\\n### Forensics\\n\\n### Advertising\\n\\n### Superior Accuracy™\\n\\n### Video\\n\\n## Monthly\\n\\n## September\\n\\n## 2025\\n\\n## Daily\\n\\n## Temperature Graph\\n\\n## Further Ahead\\n\\nFurther Ahead\\n\\n### October 2025\\n\\n### November 2025 [...] Widespread rain to ease drought, raise flood risk in Central, East\\n\\n4 hours ago\\n\\nSevere Weather\\n\\nAutumn severe storms to move from Plains to Atlantic, Gulf coasts\\n\\n4 hours ago\\n\\nFeatured Stories\\n\\nHurricane\\n\\nHurricane Rita forced one of largest US evacuations in wake of Katrina\\n\\n1 day ago\\n\\nWeather News\\n\\nFat Bear Week 2025 is the distraction everybody needs\\n\\n1 day ago\\n\\nClimate\\n\\nWhere ‘day-zero droughts’ could happen as soon as this decade\\n\\n1 day ago\\n\\nHurricane [...] Nearly a year after Helene, reopening Blue Ridge Parkway brings hope\\n\\n2 days ago\\n\\nAstronomy\\n\\nNASA selects new astronauts as it chases plans for the moon and Mars\\n\\n2 days ago\\n\\n## Weather Near Caboolture:\\n\\n...\\n\\n...\\n\\n...',\n",
       "  'score': 0.6150191},\n",
       " {'title': 'Upper Caboolture, Queensland, Australia Monthly Weather',\n",
       "  'url': 'https://www.accuweather.com/en/au/upper-caboolture/18655/september-weather/18655',\n",
       "  'content': 'Widespread rain to ease drought, raise flood risk in Central, East\\n\\n4 hours ago\\n\\nSevere Weather\\n\\nAutumn severe storms to move from Plains to Atlantic, Gulf coasts\\n\\n4 hours ago\\n\\nFeatured Stories\\n\\nHurricane\\n\\nHurricane Rita forced one of largest US evacuations in wake of Katrina\\n\\n1 day ago\\n\\nWeather News\\n\\nFat Bear Week 2025 is the distraction everybody needs\\n\\n1 day ago\\n\\nClimate\\n\\nWhere ‘day-zero droughts’ could happen as soon as this decade\\n\\n1 day ago\\n\\nHurricane [...] # Upper Caboolture, Queensland\\n\\nUpper Caboolture\\n\\nQueensland\\n\\n## Around the Globe\\n\\nAround the Globe\\n\\n### Hurricane Tracker\\n\\n### Severe Weather\\n\\n### Radar & Maps\\n\\n### News & Features\\n\\n### Astronomy\\n\\n### Business\\n\\n### Climate\\n\\n### Health\\n\\n### Recreation\\n\\n### Sports\\n\\n### Travel\\n\\n### Warnings\\n\\n### Data Suite\\n\\n### Forensics\\n\\n### Advertising\\n\\n### Superior Accuracy™\\n\\n### Video\\n\\n## Monthly\\n\\n## September\\n\\n## 2025\\n\\n## Daily\\n\\n## Temperature Graph\\n\\n## Further Ahead\\n\\nFurther Ahead\\n\\n### October 2025 [...] ### November 2025\\n\\n### December 2025\\n\\n## Around the Globe\\n\\nAround the Globe\\n\\n### Hurricane Tracker\\n\\n### Severe Weather\\n\\n### Radar & Maps\\n\\n### News\\n\\n### Video\\n\\nTop Stories\\n\\nHurricane\\n\\nTropical Storm Humberto forms, to become hurricane off US coast\\n\\n2 hours ago\\n\\nSevere Weather\\n\\nStrong lightning strike destroys New Zealand radar\\n\\n8 hours ago\\n\\nHurricane\\n\\nGabrielle to bring hurricane conditions to Azores, to threaten Europe\\n\\n2 hours ago\\n\\nWeather Forecasts',\n",
       "  'score': 0.47446132},\n",
       " {'title': 'Caboolture, Queensland - Wikipedia',\n",
       "  'url': 'https://en.wikipedia.org/wiki/Caboolture,_Queensland',\n",
       "  'content': 'Caboolture is a major urban centre of the Moreton Bay local government area. It is located approximately 44 kilometres (27 mi) north of Brisbane, the state capital of Queensland. Caboolture is now considered to be the northernmost urban area of the greater Brisbane metropolitan region within South East Queensland, and it marks the end of the Brisbane suburban commuter railway service along the North Coast railway line. [...] Wikipedia\\n\\n# Caboolture, Queensland\\n\\nCaboolture (/kəˈbʊltʃər/) is a town and suburb \"Suburbs and localities (Australia)\") in the City of Moreton Bay, Queensland, Australia. It is located on the northern side of the Caboolture River. In the 2021 census, the suburb of Caboolture had a population of 29,534 people. [...] at the Morayfield Bus Station.',\n",
       "  'score': 0.14614846}]"
      ]
     },
     "execution_count": 5,
     "metadata": {},
     "output_type": "execute_result"
    }
   ],
   "source": [
    "search_tool.invoke(\"What's the weather like in Caboolture today?\")\n"
   ]
  },
  {
   "cell_type": "markdown",
   "metadata": {},
   "source": [
    "This test demonstrates how the agent can access current information that wasn't available during training.\n",
    "\n",
    "#### 2. Clothing Recommendation Tool\n"
   ]
  },
  {
   "cell_type": "code",
   "execution_count": 6,
   "metadata": {},
   "outputs": [],
   "source": [
    "@tool\n",
    "def recommend_clothing(weather: str) -> str:\n",
    "    \"\"\"\n",
    "    Returns a clothing recommendation based on the provided weather description.\n",
    "\n",
    "    This function examines the input string for specific keywords or temperature indicators \n",
    "    (e.g., \"snow\", \"freezing\", \"rain\", \"85°F\") to suggest appropriate attire. It handles \n",
    "    common weather conditions like snow, rain, heat, and cold by providing simple and practical \n",
    "    clothing advice.\n",
    "\n",
    "    :param weather: A brief description of the weather (e.g., \"Overcast, 64.9°F\")\n",
    "    :return: A string with clothing recommendations suitable for the weather\n",
    "    \"\"\"\n",
    "    weather = weather.lower()\n",
    "    if \"snow\" in weather or \"freezing\" in weather:\n",
    "        return \"Wear a heavy coat, gloves, and boots.\"\n",
    "    elif \"rain\" in weather or \"wet\" in weather:\n",
    "        return \"Bring a raincoat and waterproof shoes.\"\n",
    "    elif \"hot\" in weather or \"85\" in weather:\n",
    "        return \"T-shirt, shorts, and sunscreen recommended.\"\n",
    "    elif \"cold\" in weather or \"50\" in weather:\n",
    "        return \"Wear a warm jacket or sweater.\"\n",
    "    else:\n",
    "        return \"A light jacket should be fine.\""
   ]
  },
  {
   "cell_type": "markdown",
   "metadata": {},
   "source": [
    "**Why this Tool Matters:**\n",
    "- Demonstrates domain-specific reasoning\n",
    "- Shows how tools can process and interpret data from other tools\n",
    "- Illustrates the composability of ReAct systems\n",
    "\n",
    "#### Creating the Tool Registry\n"
   ]
  },
  {
   "cell_type": "code",
   "execution_count": 8,
   "metadata": {},
   "outputs": [
    {
     "name": "stdout",
     "output_type": "stream",
     "text": [
      "{'search_tool': StructuredTool(name='search_tool', description='Search the web for information using Tavily API.\\n\\n:param query: The search query string\\n:return: Search results related to the query', args_schema=<class 'langchain_core.utils.pydantic.search_tool'>, func=<function search_tool at 0x723def9cd620>), 'recommend_clothing': StructuredTool(name='recommend_clothing', description='Returns a clothing recommendation based on the provided weather description.\\n\\nThis function examines the input string for specific keywords or temperature indicators \\n(e.g., \"snow\", \"freezing\", \"rain\", \"85°F\") to suggest appropriate attire. It handles \\ncommon weather conditions like snow, rain, heat, and cold by providing simple and practical \\nclothing advice.\\n\\n:param weather: A brief description of the weather (e.g., \"Overcast, 64.9°F\")\\n:return: A string with clothing recommendations suitable for the weather', args_schema=<class 'langchain_core.utils.pydantic.recommend_clothing'>, func=<function recommend_clothing at 0x723dee544ea0>)}\n"
     ]
    }
   ],
   "source": [
    "tools=[search_tool,recommend_clothing]\n",
    "\n",
    "tools_by_name={ tool.name:tool for tool in tools}\n",
    "\n",
    "print(tools_by_name)"
   ]
  },
  {
   "cell_type": "markdown",
   "metadata": {},
   "source": [
    "This registry allows the agent to dynamically select and invoke the appropriate tool based on the task at hand.\n",
    "\n",
    "## Setting Up the Language Model\n",
    "\n",
    "### Initializing the AI Model\n"
   ]
  },
  {
   "cell_type": "code",
   "execution_count": 9,
   "metadata": {},
   "outputs": [],
   "source": [
    "from langchain_openai import ChatOpenAI\n",
    "from langchain_core.tools import tool\n",
    "\n",
    "model = ChatOpenAI(model=\"gpt-4o-mini\")"
   ]
  },
  {
   "cell_type": "markdown",
   "metadata": {},
   "source": [
    "We're using GPT-4o-mini as our reasoning engine. This model will:\n",
    "- Analyze user queries\n",
    "- Decide which tools to use\n",
    "- Process tool results\n",
    "- Generate final responses\n",
    "\n",
    "### Creating the System Prompt\n"
   ]
  },
  {
   "cell_type": "code",
   "execution_count": 10,
   "metadata": {},
   "outputs": [],
   "source": [
    "from langchain_core.prompts import ChatPromptTemplate, MessagesPlaceholder\n",
    "from langchain_core.messages import BaseMessage, HumanMessage, AIMessage, ToolMessage,SystemMessage\n",
    "\n",
    "chat_prompt = ChatPromptTemplate.from_messages([\n",
    "    (\"system\", \"\"\"\n",
    "You are a helpful AI assistant that thinks step-by-step and uses tools when needed.\n",
    "\n",
    "When responding to queries:\n",
    "1. First, think about what information you need\n",
    "2. Use available tools if you need current data or specific capabilities  \n",
    "3. Provide clear, helpful responses based on your reasoning and any tool results\n",
    "\n",
    "Always explain your thinking process to help users understand your approach.\n",
    "\"\"\"),\n",
    "    MessagesPlaceholder(variable_name=\"scratch_pad\")\n",
    "])"
   ]
  },
  {
   "cell_type": "markdown",
   "metadata": {},
   "source": [
    "**The System Prompt's Role:**\n",
    "- Defines the agent's behavior and personality\n",
    "- Establishes the reasoning pattern (think → act → observe)\n",
    "- Encourages transparency in the decision-making process\n",
    "\n",
    "### Binding Tools to the Model\n"
   ]
  },
  {
   "cell_type": "code",
   "execution_count": 13,
   "metadata": {},
   "outputs": [
    {
     "name": "stdout",
     "output_type": "stream",
     "text": [
      "first=ChatPromptTemplate(input_variables=['scratch_pad'], input_types={'scratch_pad': list[typing.Annotated[typing.Union[typing.Annotated[langchain_core.messages.ai.AIMessage, Tag(tag='ai')], typing.Annotated[langchain_core.messages.human.HumanMessage, Tag(tag='human')], typing.Annotated[langchain_core.messages.chat.ChatMessage, Tag(tag='chat')], typing.Annotated[langchain_core.messages.system.SystemMessage, Tag(tag='system')], typing.Annotated[langchain_core.messages.function.FunctionMessage, Tag(tag='function')], typing.Annotated[langchain_core.messages.tool.ToolMessage, Tag(tag='tool')], typing.Annotated[langchain_core.messages.ai.AIMessageChunk, Tag(tag='AIMessageChunk')], typing.Annotated[langchain_core.messages.human.HumanMessageChunk, Tag(tag='HumanMessageChunk')], typing.Annotated[langchain_core.messages.chat.ChatMessageChunk, Tag(tag='ChatMessageChunk')], typing.Annotated[langchain_core.messages.system.SystemMessageChunk, Tag(tag='SystemMessageChunk')], typing.Annotated[langchain_core.messages.function.FunctionMessageChunk, Tag(tag='FunctionMessageChunk')], typing.Annotated[langchain_core.messages.tool.ToolMessageChunk, Tag(tag='ToolMessageChunk')]], FieldInfo(annotation=NoneType, required=True, discriminator=Discriminator(discriminator=<function _get_type at 0x723deeb398a0>, custom_error_type=None, custom_error_message=None, custom_error_context=None))]]}, partial_variables={}, messages=[SystemMessagePromptTemplate(prompt=PromptTemplate(input_variables=[], input_types={}, partial_variables={}, template='\\nYou are a helpful AI assistant that thinks step-by-step and uses tools when needed.\\n\\nWhen responding to queries:\\n1. First, think about what information you need\\n2. Use available tools if you need current data or specific capabilities  \\n3. Provide clear, helpful responses based on your reasoning and any tool results\\n\\nAlways explain your thinking process to help users understand your approach.\\n'), additional_kwargs={}), MessagesPlaceholder(variable_name='scratch_pad')]) middle=[] last=RunnableBinding(bound=ChatOpenAI(client=<openai.resources.chat.completions.completions.Completions object at 0x723ded1fff80>, async_client=<openai.resources.chat.completions.completions.AsyncCompletions object at 0x723ded108c50>, root_client=<openai.OpenAI object at 0x723def47c290>, root_async_client=<openai.AsyncOpenAI object at 0x723deddaa930>, model_name='gpt-4o-mini', model_kwargs={}, openai_api_key=SecretStr('**********')), kwargs={'tools': [{'type': 'function', 'function': {'name': 'search_tool', 'description': 'Search the web for information using Tavily API.\\n\\n:param query: The search query string\\n:return: Search results related to the query', 'parameters': {'properties': {'query': {'type': 'string'}}, 'required': ['query'], 'type': 'object'}}}, {'type': 'function', 'function': {'name': 'recommend_clothing', 'description': 'Returns a clothing recommendation based on the provided weather description.\\n\\nThis function examines the input string for specific keywords or temperature indicators \\n(e.g., \"snow\", \"freezing\", \"rain\", \"85°F\") to suggest appropriate attire. It handles \\ncommon weather conditions like snow, rain, heat, and cold by providing simple and practical \\nclothing advice.\\n\\n:param weather: A brief description of the weather (e.g., \"Overcast, 64.9°F\")\\n:return: A string with clothing recommendations suitable for the weather', 'parameters': {'properties': {'weather': {'type': 'string'}}, 'required': ['weather'], 'type': 'object'}}}]}, config={}, config_factories=[])\n"
     ]
    }
   ],
   "source": [
    "import json\n",
    "from IPython.display import display, JSON\n",
    "\n",
    "model_react=chat_prompt|model.bind_tools(tools)\n",
    "\n",
    "print(model_react)\n",
    "\n",
    "#display(JSON([model_react]))"
   ]
  },
  {
   "cell_type": "markdown",
   "metadata": {},
   "source": [
    "This creates a model that can:\n",
    "- Understand when to use tools\n",
    "- Generate properly formatted tool calls\n",
    "- Process tool results in context\n",
    "\n",
    "## Understanding Agent State\n",
    "\n",
    "### What is Agent State?\n",
    "\n",
    "In ReAct, state management is crucial, as the agent must maintain context across multiple reasoning and acting steps.\n"
   ]
  },
  {
   "cell_type": "code",
   "execution_count": 14,
   "metadata": {},
   "outputs": [],
   "source": [
    "from typing import (Annotated,Sequence,TypedDict)\n",
    "from langchain_core.messages import BaseMessage\n",
    "from langgraph.graph.message import add_messages\n",
    "\n",
    "class AgentState(TypedDict):\n",
    "    \"\"\"The state of the agent.\"\"\"\n",
    "\n",
    "    # add_messages is a reducer\n",
    "    # See https://langchain-ai.github.io/langgraph/concepts/low_level/#reducers\n",
    "    messages: Annotated[Sequence[BaseMessage], add_messages]"
   ]
  },
  {
   "cell_type": "markdown",
   "metadata": {},
   "source": [
    "**Key Concepts:**\n",
    "- **State**: Contains the conversation history and context.\n",
    "- **Reducer**: `add_messages` automatically handles adding new messages to the conversation.\n",
    "- **Type Safety**: TypedDict ensures our state structure is well-defined.\n",
    "\n",
    "### Demonstrating State Management\n"
   ]
  },
  {
   "cell_type": "code",
   "execution_count": 17,
   "metadata": {},
   "outputs": [
    {
     "data": {
      "application/json": {
       "messages": []
      },
      "text/plain": [
       "<IPython.core.display.JSON object>"
      ]
     },
     "metadata": {
      "application/json": {
       "expanded": false,
       "root": "root"
      }
     },
     "output_type": "display_data"
    },
    {
     "name": "stdout",
     "output_type": "stream",
     "text": [
      "After greeting: [HumanMessage(content='Hi', additional_kwargs={}, response_metadata={}, id='a446c84b-ba51-4b84-a6cc-018a18eebb54')]\n"
     ]
    },
    {
     "data": {
      "application/json": {
       "messages": [
        [
         [
          "content",
          "Hi"
         ],
         [
          "additional_kwargs",
          {}
         ],
         [
          "response_metadata",
          {}
         ],
         [
          "type",
          "human"
         ],
         [
          "name",
          null
         ],
         [
          "id",
          "a446c84b-ba51-4b84-a6cc-018a18eebb54"
         ],
         [
          "example",
          false
         ]
        ]
       ]
      },
      "text/plain": [
       "<IPython.core.display.JSON object>"
      ]
     },
     "metadata": {
      "application/json": {
       "expanded": false,
       "root": "root"
      }
     },
     "output_type": "display_data"
    },
    {
     "name": "stdout",
     "output_type": "stream",
     "text": [
      "After question: {'messages': [HumanMessage(content='Hi', additional_kwargs={}, response_metadata={}, id='a446c84b-ba51-4b84-a6cc-018a18eebb54'), HumanMessage(content='Weather in NYC?', additional_kwargs={}, response_metadata={}, id='3fab9730-cc8a-4666-8ddd-f9be68ce909c')]}\n"
     ]
    },
    {
     "data": {
      "application/json": {
       "messages": [
        [
         [
          "content",
          "Hi"
         ],
         [
          "additional_kwargs",
          {}
         ],
         [
          "response_metadata",
          {}
         ],
         [
          "type",
          "human"
         ],
         [
          "name",
          null
         ],
         [
          "id",
          "a446c84b-ba51-4b84-a6cc-018a18eebb54"
         ],
         [
          "example",
          false
         ]
        ],
        [
         [
          "content",
          "Weather in NYC?"
         ],
         [
          "additional_kwargs",
          {}
         ],
         [
          "response_metadata",
          {}
         ],
         [
          "type",
          "human"
         ],
         [
          "name",
          null
         ],
         [
          "id",
          "3fab9730-cc8a-4666-8ddd-f9be68ce909c"
         ],
         [
          "example",
          false
         ]
        ]
       ]
      },
      "text/plain": [
       "<IPython.core.display.JSON object>"
      ]
     },
     "metadata": {
      "application/json": {
       "expanded": false,
       "root": "root"
      }
     },
     "output_type": "display_data"
    }
   ],
   "source": [
    "# Example conversation flow:\n",
    "state: AgentState = {\"messages\": []}\n",
    "\n",
    "display(JSON(state))\n",
    "\n",
    "# append a message using the reducer properly\n",
    "state[\"messages\"] = add_messages(state[\"messages\"], [HumanMessage(content=\"Hi\")])\n",
    "print(\"After greeting:\", state[\"messages\"])\n",
    "\n",
    "display(JSON(state))\n",
    "\n",
    "# add another message (e.g. a question)\n",
    "state[\"messages\"] = add_messages(state[\"messages\"], [HumanMessage(content=\"Weather in NYC?\")])\n",
    "print(\"After question:\", state)\n",
    "\n",
    "display(JSON(state))"
   ]
  },
  {
   "cell_type": "markdown",
   "metadata": {},
   "source": [
    "This demonstrates how the state accumulates context over the conversation.\n"
   ]
  },
  {
   "cell_type": "markdown",
   "metadata": {},
   "source": [
    "## Manual ReAct Execution (Understanding the Flow)\n",
    "\n",
    "Before building the automated graph, let's manually step through a ReAct cycle to understand what happens:\n",
    "\n",
    "### Step 1: Initial Query Processing\n"
   ]
  },
  {
   "cell_type": "code",
   "execution_count": 21,
   "metadata": {},
   "outputs": [
    {
     "name": "stdout",
     "output_type": "stream",
     "text": [
      "----  human message -----\n"
     ]
    },
    {
     "data": {
      "application/json": {
       "messages": [
        [
         [
          "content",
          "What's the weather like in Zurich, and what should I wear based on the temperature?"
         ],
         [
          "additional_kwargs",
          {}
         ],
         [
          "response_metadata",
          {}
         ],
         [
          "type",
          "human"
         ],
         [
          "name",
          null
         ],
         [
          "id",
          null
         ],
         [
          "example",
          false
         ]
        ]
       ]
      },
      "text/plain": [
       "<IPython.core.display.JSON object>"
      ]
     },
     "metadata": {
      "application/json": {
       "expanded": false,
       "root": "root"
      }
     },
     "output_type": "display_data"
    },
    {
     "name": "stdout",
     "output_type": "stream",
     "text": [
      "----  ai response -----\n"
     ]
    },
    {
     "data": {
      "application/json": [
       [
        [
         "content",
         ""
        ],
        [
         "additional_kwargs",
         {
          "refusal": null,
          "tool_calls": [
           {
            "function": {
             "arguments": "{\"query\":\"current weather in Zurich\"}",
             "name": "search_tool"
            },
            "id": "call_YaOaEqzA9UTyZ1k54JlSBotR",
            "type": "function"
           }
          ]
         }
        ],
        [
         "response_metadata",
         {
          "finish_reason": "tool_calls",
          "id": "chatcmpl-CJTxUjaLVk6OxFId4xvik7woAdt0a",
          "logprobs": null,
          "model_name": "gpt-4o-mini-2024-07-18",
          "system_fingerprint": "fp_560af6e559",
          "token_usage": {
           "completion_tokens": 17,
           "completion_tokens_details": {
            "accepted_prediction_tokens": 0,
            "audio_tokens": 0,
            "reasoning_tokens": 0,
            "rejected_prediction_tokens": 0
           },
           "prompt_tokens": 286,
           "prompt_tokens_details": {
            "audio_tokens": 0,
            "cached_tokens": 0
           },
           "total_tokens": 303
          }
         }
        ],
        [
         "type",
         "ai"
        ],
        [
         "name",
         null
        ],
        [
         "id",
         "run--e4c5356e-af11-4a0a-b2d4-24f72ee535ca-0"
        ],
        [
         "example",
         false
        ],
        [
         "tool_calls",
         [
          {
           "args": {
            "query": "current weather in Zurich"
           },
           "id": "call_YaOaEqzA9UTyZ1k54JlSBotR",
           "name": "search_tool",
           "type": "tool_call"
          }
         ]
        ],
        [
         "invalid_tool_calls",
         []
        ],
        [
         "usage_metadata",
         {
          "input_token_details": {
           "audio": 0,
           "cache_read": 0
          },
          "input_tokens": 286,
          "output_token_details": {
           "audio": 0,
           "reasoning": 0
          },
          "output_tokens": 17,
          "total_tokens": 303
         }
        ]
       ]
      ],
      "text/plain": [
       "<IPython.core.display.JSON object>"
      ]
     },
     "metadata": {
      "application/json": {
       "expanded": false,
       "root": "root"
      }
     },
     "output_type": "display_data"
    },
    {
     "name": "stdout",
     "output_type": "stream",
     "text": [
      "----  state progression -----\n"
     ]
    },
    {
     "data": {
      "application/json": {
       "messages": [
        [
         [
          "content",
          "What's the weather like in Zurich, and what should I wear based on the temperature?"
         ],
         [
          "additional_kwargs",
          {}
         ],
         [
          "response_metadata",
          {}
         ],
         [
          "type",
          "human"
         ],
         [
          "name",
          null
         ],
         [
          "id",
          "6dcdc4b2-48c1-48d9-9ad6-378ff26d9a69"
         ],
         [
          "example",
          false
         ]
        ],
        [
         [
          "content",
          ""
         ],
         [
          "additional_kwargs",
          {
           "refusal": null,
           "tool_calls": [
            {
             "function": {
              "arguments": "{\"query\":\"current weather in Zurich\"}",
              "name": "search_tool"
             },
             "id": "call_YaOaEqzA9UTyZ1k54JlSBotR",
             "type": "function"
            }
           ]
          }
         ],
         [
          "response_metadata",
          {
           "finish_reason": "tool_calls",
           "id": "chatcmpl-CJTxUjaLVk6OxFId4xvik7woAdt0a",
           "logprobs": null,
           "model_name": "gpt-4o-mini-2024-07-18",
           "system_fingerprint": "fp_560af6e559",
           "token_usage": {
            "completion_tokens": 17,
            "completion_tokens_details": {
             "accepted_prediction_tokens": 0,
             "audio_tokens": 0,
             "reasoning_tokens": 0,
             "rejected_prediction_tokens": 0
            },
            "prompt_tokens": 286,
            "prompt_tokens_details": {
             "audio_tokens": 0,
             "cached_tokens": 0
            },
            "total_tokens": 303
           }
          }
         ],
         [
          "type",
          "ai"
         ],
         [
          "name",
          null
         ],
         [
          "id",
          "run--e4c5356e-af11-4a0a-b2d4-24f72ee535ca-0"
         ],
         [
          "example",
          false
         ],
         [
          "tool_calls",
          [
           {
            "args": {
             "query": "current weather in Zurich"
            },
            "id": "call_YaOaEqzA9UTyZ1k54JlSBotR",
            "name": "search_tool",
            "type": "tool_call"
           }
          ]
         ],
         [
          "invalid_tool_calls",
          []
         ],
         [
          "usage_metadata",
          {
           "input_token_details": {
            "audio": 0,
            "cache_read": 0
           },
           "input_tokens": 286,
           "output_token_details": {
            "audio": 0,
            "reasoning": 0
           },
           "output_tokens": 17,
           "total_tokens": 303
          }
         ]
        ]
       ]
      },
      "text/plain": [
       "<IPython.core.display.JSON object>"
      ]
     },
     "metadata": {
      "application/json": {
       "expanded": false,
       "root": "root"
      }
     },
     "output_type": "display_data"
    }
   ],
   "source": [
    "dummy_state: AgentState = {\n",
    "    \"messages\": [HumanMessage( \"What's the weather like in Zurich, and what should I wear based on the temperature?\")]}\n",
    "print(\"----  human message -----\")\n",
    "display(JSON(dummy_state))\n",
    "\n",
    "response = model_react.invoke({\"scratch_pad\":dummy_state[\"messages\"]})\n",
    "print(\"----  ai response -----\")\n",
    "display(JSON([response]))\n",
    "\n",
    "dummy_state[\"messages\"]=add_messages(dummy_state[\"messages\"],[response])\n",
    "\n",
    "print(\"----  state progression -----\")\n",
    "display(JSON(dummy_state))"
   ]
  },
  {
   "cell_type": "markdown",
   "metadata": {},
   "source": [
    "**What Happens Here:**\n",
    "1. The user asks a complex question requiring current data.\n",
    "2. The model analyzes the query and realizes it needs to search for weather information.\n",
    "3. The model generates a tool call for the search.\n"
   ]
  },
  {
   "cell_type": "markdown",
   "metadata": {},
   "source": [
    "### Step 2: Tool Execution\n"
   ]
  },
  {
   "cell_type": "code",
   "execution_count": 23,
   "metadata": {},
   "outputs": [
    {
     "name": "stdout",
     "output_type": "stream",
     "text": [
      "Tool call: {'name': 'search_tool', 'args': {'query': 'current weather in Zurich'}, 'id': 'call_YaOaEqzA9UTyZ1k54JlSBotR', 'type': 'tool_call'}\n",
      "Tool result preview: Weather for Zürich, Zurich, Switzerland - Time and Date\n"
     ]
    },
    {
     "data": {
      "application/json": [
       {
        "content": "timeanddate.com\nFlag for Switzerland\n\n# Weather in Zürich, Zurich, Switzerland\n\nCool.\n\nFeels Like: 52 °F  \nForecast: 56 / 46 °F  \nWind: 2 mph ↑ from Southwest\n\n|  |  |\n --- |\n| Location: | Zurich-Kloten |\n| Current Time: | Sep 25, 2025 at 2:17:44 am |\n| Latest Report: | Sep 25, 2025 at 1:00 am |\n| Visibility: | N/A |\n| Pressure: | 30.05 \"Hg |\n| Humidity: | 75% |\n| Dew Point: | 44 °F |\n\nLocation of Zürich\nLocation\n\n## Upcoming 5 hours [...] ---  ---  ---  --- |\n| \\ Updated Wednesday, September 24, 2025 9:42:33 pm Zürich time - Weather by CustomWeather, © 2025 | | | | | | | | [...] | Wind Direction | WSW ↑ | SW ↑ | W ↑ | NW ↑ | NE ↑  NNW ↑ |\n| Humidity | 95% | 96% | 72% | 87% | 96% | 95% | 80% |\n| Dew Point | 48 °F | 48 °F | 49 °F | 48 °F | 47 °F | 48 °F | 49 °F |\n| Visibility | 3 mi | 4 mi | 7 mi | 6 mi | 4 mi | 4 mi | 6 mi |\n| Probability of Precipitation | 15% | 0% | 0% | 1% | 0% | 2% | 6% |\n| Amount of Rain | 0.05\" | 0.00\" | 0.00\" | 0.00\" | 0.00\" | 0.00\" | 0.01\" |\n| Amount of Snow | 0.00\" | 0.00\" | 0.00\" | 0.00\" | 0.00\" | 0.00\" | 0.00\" |\n|  |  |  |  |  |  |  |  |",
        "score": 0.9563784,
        "title": "Weather for Zürich, Zurich, Switzerland - Time and Date",
        "url": "https://www.timeanddate.com/weather/switzerland/zurich"
       },
       {
        "content": "weather25.com\nSearch\nweather in Switzerland\nRemove from your favorite locations\nAdd to my locations\nShare\nweather in Switzerland\n\n# Zurich weather in September 2025\n\nLight rain shower\nPatchy rain possible\nPatchy rain possible\nOvercast\nPatchy rain possible\nCloudy\nPatchy rain possible\nMist\nClear\nLight drizzle\nPatchy rain possible\nPatchy rain possible\nMist\nPatchy rain possible\n\n## The average weather in Zurich in September [...] | 14 Mist 21° /12° | 15 Fog 23° /12° | 16 Light rain shower 21° /12° | 17 Light rain shower 20° /12° | 18 Mist 20° /10° | 19 Patchy rain possible 19° /8° | 20 Sunny 20° /8° |\n| 21 Partly cloudy 21° /8° | 22 Partly cloudy 19° /8° | 23 Light rain shower 18° /9° | 24 Light rain 20° /9° | 25 Light rain shower 12° /9° | 26 Patchy rain possible 12° /7° | 27 Patchy rain possible 17° /7° |\n| 28 Overcast 18° /6° | 29 Patchy rain possible 19° /7° | 30 Cloudy 17° /10° |  |  |  |  | [...] | Sun | Mon | Tue | Wed | Thu | Fri | Sat |\n ---  ---  --- \n|  | 1 Patchy rain possible 23° /12° | 2 Mist 23° /10° | 3 Sunny 24° /11° | 4 Fog 25° /12° | 5 Mist 23° /12° | 6 Mist 22° /11° |\n| 7 Mist 24° /11° | 8 Light rain shower 23° /12° | 9 Light rain shower 22° /11° | 10 Partly cloudy 21° /11° | 11 Partly cloudy 22° /11° | 12 Fog 22° /10° | 13 Mist 21° /11° |",
        "score": 0.9075175,
        "title": "Zurich weather in September 2025 - Weather25.com",
        "url": "https://www.weather25.com/europe/switzerland/zurich?page=month&month=September"
       },
       {
        "content": "Tonight: Cloudy; a couple of showers this evening followed by rain and drizzle late\nLo: 48°\n\n## Current Weather\n\n2:17 AM\n\n### MINUTECAST™\n\nRain starting in 27 min\n\n## Zurich Weather Radar\n\nZurich Weather Radar\n\n## Hourly Weather\n\nrain drop\n\nrain drop\n\nrain drop\n\nrain drop\n\nrain drop\n\nrain drop\n\nrain drop\n\nrain drop\n\nrain drop\n\nrain drop\n\nrain drop\n\nrain drop\n\n## 10-Day Weather Forecast\n\nToday\n\n9/25\n\nCloudy with a few showers\n\nNight: Rain and drizzle late\n\nFri\n\n9/26\n\nA couple of morning showers [...] # Zurich, Zurich\n\nZurich\n\nZurich\n\n## Around the Globe\n\nAround the Globe\n\n### Hurricane Tracker\n\n### Severe Weather\n\n### Radar & Maps\n\n### News & Features\n\n### Astronomy\n\n### Business\n\n### Climate\n\n### Health\n\n### Recreation\n\n### Sports\n\n### Travel\n\n### Warnings\n\n### Data Suite\n\n### Forensics\n\n### Advertising\n\n### Superior Accuracy™\n\n### Video\n\n## Today\n\n## Today's Weather\n\nThu, Sep 25\n\nCloudy with a couple of showers, mainly later\nHi: 59° [...] Cloudy, a shower or two late\n\nSat\n\n9/27\n\nA couple of morning showers\n\nClear to partly cloudy\n\nSun\n\n9/28\n\nPartly sunny\n\nBecoming cloudy\n\nMon\n\n9/29\n\nMostly cloudy\n\nEvening showers\n\nTue\n\n9/30\n\nRain and drizzle in the p.m.\n\nRain\n\nWed\n\n10/1\n\nShowers around in the morning\n\nIncreasing clouds\n\nThu\n\n10/2\n\nCloudy\n\nA little rain early; overcast\n\nFri\n\n10/3\n\nA thick cloud cover\n\nCloudy, a little rain late\n\nSat\n\n10/4\n\nRather cloudy\n\nOvercast\n\n## Sun & Moon\n\n## Air Quality",
        "score": 0.8396422,
        "title": "Zurich, Zurich, Switzerland Weather Forecast | AccuWeather",
        "url": "https://www.accuweather.com/en/ch/zurich/316622/weather-forecast/316622"
       },
       {
        "content": "| 14 Mist 21° /12° | 15 Fog 23° /12° | 16 Light rain shower 21° /12° | 17 Light rain shower 20° /12° | 18 Mist 20° /10° | 19 Patchy rain possible 19° /8° | 20 Sunny 20° /8° |\n| 21 Partly cloudy 21° /8° | 22 Partly cloudy 19° /8° | 23 Light rain shower 18° /9° | 24 Light rain 20° /9° | 25 Light rain shower 12° /9° | 26 Patchy rain possible 12° /7° | 27 Patchy rain possible 17° /7° |\n| 28 Overcast 18° /6° | 29 Patchy rain possible 19° /7° | 30 Cloudy 17° /10° |  |  |  |  | [...] weather25.com\nSearch\nweather in Switzerland\nRemove from your favorite locations\nAdd to my locations\nShare\nweather in Switzerland\n\n# Switzerland weather in September 2025\n\nLight rain shower\nPatchy rain possible\nPatchy rain possible\nOvercast\nPatchy rain possible\nCloudy\nPatchy rain possible\nMist\nClear\nLight drizzle\nPatchy rain possible\nPatchy rain possible\nMist\nPatchy rain possible\n\n## The average weather in Switzerland in September [...] | Sun | Mon | Tue | Wed | Thu | Fri | Sat |\n ---  ---  --- \n|  | 1 Patchy rain possible 23° /12° | 2 Mist 23° /10° | 3 Sunny 24° /11° | 4 Fog 25° /12° | 5 Mist 23° /12° | 6 Mist 22° /11° |\n| 7 Mist 24° /11° | 8 Light rain shower 23° /12° | 9 Light rain shower 22° /11° | 10 Partly cloudy 21° /11° | 11 Partly cloudy 22° /11° | 12 Fog 22° /10° | 13 Mist 21° /11° |",
        "score": 0.83710164,
        "title": "Switzerland weather in September 2025 | Weather25.com",
        "url": "https://www.weather25.com/europe/switzerland?page=month&month=September"
       },
       {
        "content": "# Zurich, Zurich\n\nZurich\n\nZurich\n\n## Around the Globe\n\nAround the Globe\n\n### Hurricane Tracker\n\n### Severe Weather\n\n### Radar & Maps\n\n### News & Features\n\n### Astronomy\n\n### Business\n\n### Climate\n\n### Health\n\n### Recreation\n\n### Sports\n\n### Travel\n\n### Warnings\n\n### Data Suite\n\n### Forensics\n\n### Advertising\n\n### Superior Accuracy™\n\n### Video\n\n## Monthly\n\n## September\n\n## 2025\n\n## Daily\n\n## Temperature Graph\n\n## Further Ahead\n\nFurther Ahead\n\n### October 2025\n\n### November 2025\n\n### December 2025 [...] NASA selects new astronauts as it chases plans for the moon and Mars\n\n2 days ago\n\n## Weather Near Zurich:\n\n...\n\n...\n\n... [...] Severe Weather\n\nAutumn severe storms to move from Plains to Atlantic, Gulf coasts\n\n4 hours ago\n\nFeatured Stories\n\nHurricane\n\nHurricane Rita forced one of largest US evacuations in wake of Katrina\n\n1 day ago\n\nWeather News\n\nFat Bear Week 2025 is the distraction everybody needs\n\n1 day ago\n\nClimate\n\nWhere ‘day-zero droughts’ could happen as soon as this decade\n\n1 day ago\n\nHurricane\n\nNearly a year after Helene, reopening Blue Ridge Parkway brings hope\n\n2 days ago\n\nAstronomy",
        "score": 0.6044228,
        "title": "2025 - Zurich, Zurich, Switzerland Monthly Weather | AccuWeather",
        "url": "https://www.accuweather.com/en/ch/zurich/316622/september-weather/316622"
       }
      ],
      "text/plain": [
       "<IPython.core.display.JSON object>"
      ]
     },
     "metadata": {
      "application/json": {
       "expanded": false,
       "root": "root"
      }
     },
     "output_type": "display_data"
    },
    {
     "name": "stdout",
     "output_type": "stream",
     "text": [
      "----  tool message -----\n"
     ]
    },
    {
     "data": {
      "application/json": [
       [
        [
         "content",
         "[{\"title\": \"Weather for Z\\u00fcrich, Zurich, Switzerland - Time and Date\", \"url\": \"https://www.timeanddate.com/weather/switzerland/zurich\", \"content\": \"timeanddate.com\\nFlag for Switzerland\\n\\n# Weather in Z\\u00fcrich, Zurich, Switzerland\\n\\nCool.\\n\\nFeels Like: 52 \\u00b0F  \\nForecast: 56 / 46 \\u00b0F  \\nWind: 2 mph \\u2191 from Southwest\\n\\n|  |  |\\n --- |\\n| Location: | Zurich-Kloten |\\n| Current Time: | Sep 25, 2025 at 2:17:44 am |\\n| Latest Report: | Sep 25, 2025 at 1:00 am |\\n| Visibility: | N/A |\\n| Pressure: | 30.05 \\\"Hg |\\n| Humidity: | 75% |\\n| Dew Point: | 44 \\u00b0F |\\n\\nLocation of Z\\u00fcrich\\nLocation\\n\\n## Upcoming 5 hours [...] ---  ---  ---  --- |\\n| \\\\ Updated Wednesday, September 24, 2025 9:42:33 pm Z\\u00fcrich time - Weather by CustomWeather, \\u00a9 2025 | | | | | | | | [...] | Wind Direction | WSW \\u2191 | SW \\u2191 | W \\u2191 | NW \\u2191 | NE \\u2191  NNW \\u2191 |\\n| Humidity | 95% | 96% | 72% | 87% | 96% | 95% | 80% |\\n| Dew Point | 48 \\u00b0F | 48 \\u00b0F | 49 \\u00b0F | 48 \\u00b0F | 47 \\u00b0F | 48 \\u00b0F | 49 \\u00b0F |\\n| Visibility | 3 mi | 4 mi | 7 mi | 6 mi | 4 mi | 4 mi | 6 mi |\\n| Probability of Precipitation | 15% | 0% | 0% | 1% | 0% | 2% | 6% |\\n| Amount of Rain | 0.05\\\" | 0.00\\\" | 0.00\\\" | 0.00\\\" | 0.00\\\" | 0.00\\\" | 0.01\\\" |\\n| Amount of Snow | 0.00\\\" | 0.00\\\" | 0.00\\\" | 0.00\\\" | 0.00\\\" | 0.00\\\" | 0.00\\\" |\\n|  |  |  |  |  |  |  |  |\", \"score\": 0.9563784}, {\"title\": \"Zurich weather in September 2025 - Weather25.com\", \"url\": \"https://www.weather25.com/europe/switzerland/zurich?page=month&month=September\", \"content\": \"weather25.com\\nSearch\\nweather in Switzerland\\nRemove from your favorite locations\\nAdd to my locations\\nShare\\nweather in Switzerland\\n\\n# Zurich weather in September 2025\\n\\nLight rain shower\\nPatchy rain possible\\nPatchy rain possible\\nOvercast\\nPatchy rain possible\\nCloudy\\nPatchy rain possible\\nMist\\nClear\\nLight drizzle\\nPatchy rain possible\\nPatchy rain possible\\nMist\\nPatchy rain possible\\n\\n## The average weather in Zurich in September [...] | 14 Mist 21\\u00b0 /12\\u00b0 | 15 Fog 23\\u00b0 /12\\u00b0 | 16 Light rain shower 21\\u00b0 /12\\u00b0 | 17 Light rain shower 20\\u00b0 /12\\u00b0 | 18 Mist 20\\u00b0 /10\\u00b0 | 19 Patchy rain possible 19\\u00b0 /8\\u00b0 | 20 Sunny 20\\u00b0 /8\\u00b0 |\\n| 21 Partly cloudy 21\\u00b0 /8\\u00b0 | 22 Partly cloudy 19\\u00b0 /8\\u00b0 | 23 Light rain shower 18\\u00b0 /9\\u00b0 | 24 Light rain 20\\u00b0 /9\\u00b0 | 25 Light rain shower 12\\u00b0 /9\\u00b0 | 26 Patchy rain possible 12\\u00b0 /7\\u00b0 | 27 Patchy rain possible 17\\u00b0 /7\\u00b0 |\\n| 28 Overcast 18\\u00b0 /6\\u00b0 | 29 Patchy rain possible 19\\u00b0 /7\\u00b0 | 30 Cloudy 17\\u00b0 /10\\u00b0 |  |  |  |  | [...] | Sun | Mon | Tue | Wed | Thu | Fri | Sat |\\n ---  ---  --- \\n|  | 1 Patchy rain possible 23\\u00b0 /12\\u00b0 | 2 Mist 23\\u00b0 /10\\u00b0 | 3 Sunny 24\\u00b0 /11\\u00b0 | 4 Fog 25\\u00b0 /12\\u00b0 | 5 Mist 23\\u00b0 /12\\u00b0 | 6 Mist 22\\u00b0 /11\\u00b0 |\\n| 7 Mist 24\\u00b0 /11\\u00b0 | 8 Light rain shower 23\\u00b0 /12\\u00b0 | 9 Light rain shower 22\\u00b0 /11\\u00b0 | 10 Partly cloudy 21\\u00b0 /11\\u00b0 | 11 Partly cloudy 22\\u00b0 /11\\u00b0 | 12 Fog 22\\u00b0 /10\\u00b0 | 13 Mist 21\\u00b0 /11\\u00b0 |\", \"score\": 0.9075175}, {\"title\": \"Zurich, Zurich, Switzerland Weather Forecast | AccuWeather\", \"url\": \"https://www.accuweather.com/en/ch/zurich/316622/weather-forecast/316622\", \"content\": \"Tonight: Cloudy; a couple of showers this evening followed by rain and drizzle late\\nLo: 48\\u00b0\\n\\n## Current Weather\\n\\n2:17 AM\\n\\n### MINUTECAST\\u2122\\n\\nRain starting in 27 min\\n\\n## Zurich Weather Radar\\n\\nZurich Weather Radar\\n\\n## Hourly Weather\\n\\nrain drop\\n\\nrain drop\\n\\nrain drop\\n\\nrain drop\\n\\nrain drop\\n\\nrain drop\\n\\nrain drop\\n\\nrain drop\\n\\nrain drop\\n\\nrain drop\\n\\nrain drop\\n\\nrain drop\\n\\n## 10-Day Weather Forecast\\n\\nToday\\n\\n9/25\\n\\nCloudy with a few showers\\n\\nNight: Rain and drizzle late\\n\\nFri\\n\\n9/26\\n\\nA couple of morning showers [...] # Zurich, Zurich\\n\\nZurich\\n\\nZurich\\n\\n## Around the Globe\\n\\nAround the Globe\\n\\n### Hurricane Tracker\\n\\n### Severe Weather\\n\\n### Radar & Maps\\n\\n### News & Features\\n\\n### Astronomy\\n\\n### Business\\n\\n### Climate\\n\\n### Health\\n\\n### Recreation\\n\\n### Sports\\n\\n### Travel\\n\\n### Warnings\\n\\n### Data Suite\\n\\n### Forensics\\n\\n### Advertising\\n\\n### Superior Accuracy\\u2122\\n\\n### Video\\n\\n## Today\\n\\n## Today's Weather\\n\\nThu, Sep 25\\n\\nCloudy with a couple of showers, mainly later\\nHi: 59\\u00b0 [...] Cloudy, a shower or two late\\n\\nSat\\n\\n9/27\\n\\nA couple of morning showers\\n\\nClear to partly cloudy\\n\\nSun\\n\\n9/28\\n\\nPartly sunny\\n\\nBecoming cloudy\\n\\nMon\\n\\n9/29\\n\\nMostly cloudy\\n\\nEvening showers\\n\\nTue\\n\\n9/30\\n\\nRain and drizzle in the p.m.\\n\\nRain\\n\\nWed\\n\\n10/1\\n\\nShowers around in the morning\\n\\nIncreasing clouds\\n\\nThu\\n\\n10/2\\n\\nCloudy\\n\\nA little rain early; overcast\\n\\nFri\\n\\n10/3\\n\\nA thick cloud cover\\n\\nCloudy, a little rain late\\n\\nSat\\n\\n10/4\\n\\nRather cloudy\\n\\nOvercast\\n\\n## Sun & Moon\\n\\n## Air Quality\", \"score\": 0.8396422}, {\"title\": \"Switzerland weather in September 2025 | Weather25.com\", \"url\": \"https://www.weather25.com/europe/switzerland?page=month&month=September\", \"content\": \"| 14 Mist 21\\u00b0 /12\\u00b0 | 15 Fog 23\\u00b0 /12\\u00b0 | 16 Light rain shower 21\\u00b0 /12\\u00b0 | 17 Light rain shower 20\\u00b0 /12\\u00b0 | 18 Mist 20\\u00b0 /10\\u00b0 | 19 Patchy rain possible 19\\u00b0 /8\\u00b0 | 20 Sunny 20\\u00b0 /8\\u00b0 |\\n| 21 Partly cloudy 21\\u00b0 /8\\u00b0 | 22 Partly cloudy 19\\u00b0 /8\\u00b0 | 23 Light rain shower 18\\u00b0 /9\\u00b0 | 24 Light rain 20\\u00b0 /9\\u00b0 | 25 Light rain shower 12\\u00b0 /9\\u00b0 | 26 Patchy rain possible 12\\u00b0 /7\\u00b0 | 27 Patchy rain possible 17\\u00b0 /7\\u00b0 |\\n| 28 Overcast 18\\u00b0 /6\\u00b0 | 29 Patchy rain possible 19\\u00b0 /7\\u00b0 | 30 Cloudy 17\\u00b0 /10\\u00b0 |  |  |  |  | [...] weather25.com\\nSearch\\nweather in Switzerland\\nRemove from your favorite locations\\nAdd to my locations\\nShare\\nweather in Switzerland\\n\\n# Switzerland weather in September 2025\\n\\nLight rain shower\\nPatchy rain possible\\nPatchy rain possible\\nOvercast\\nPatchy rain possible\\nCloudy\\nPatchy rain possible\\nMist\\nClear\\nLight drizzle\\nPatchy rain possible\\nPatchy rain possible\\nMist\\nPatchy rain possible\\n\\n## The average weather in Switzerland in September [...] | Sun | Mon | Tue | Wed | Thu | Fri | Sat |\\n ---  ---  --- \\n|  | 1 Patchy rain possible 23\\u00b0 /12\\u00b0 | 2 Mist 23\\u00b0 /10\\u00b0 | 3 Sunny 24\\u00b0 /11\\u00b0 | 4 Fog 25\\u00b0 /12\\u00b0 | 5 Mist 23\\u00b0 /12\\u00b0 | 6 Mist 22\\u00b0 /11\\u00b0 |\\n| 7 Mist 24\\u00b0 /11\\u00b0 | 8 Light rain shower 23\\u00b0 /12\\u00b0 | 9 Light rain shower 22\\u00b0 /11\\u00b0 | 10 Partly cloudy 21\\u00b0 /11\\u00b0 | 11 Partly cloudy 22\\u00b0 /11\\u00b0 | 12 Fog 22\\u00b0 /10\\u00b0 | 13 Mist 21\\u00b0 /11\\u00b0 |\", \"score\": 0.83710164}, {\"title\": \"2025 - Zurich, Zurich, Switzerland Monthly Weather | AccuWeather\", \"url\": \"https://www.accuweather.com/en/ch/zurich/316622/september-weather/316622\", \"content\": \"# Zurich, Zurich\\n\\nZurich\\n\\nZurich\\n\\n## Around the Globe\\n\\nAround the Globe\\n\\n### Hurricane Tracker\\n\\n### Severe Weather\\n\\n### Radar & Maps\\n\\n### News & Features\\n\\n### Astronomy\\n\\n### Business\\n\\n### Climate\\n\\n### Health\\n\\n### Recreation\\n\\n### Sports\\n\\n### Travel\\n\\n### Warnings\\n\\n### Data Suite\\n\\n### Forensics\\n\\n### Advertising\\n\\n### Superior Accuracy\\u2122\\n\\n### Video\\n\\n## Monthly\\n\\n## September\\n\\n## 2025\\n\\n## Daily\\n\\n## Temperature Graph\\n\\n## Further Ahead\\n\\nFurther Ahead\\n\\n### October 2025\\n\\n### November 2025\\n\\n### December 2025 [...] NASA selects new astronauts as it chases plans for the moon and Mars\\n\\n2 days ago\\n\\n## Weather Near Zurich:\\n\\n...\\n\\n...\\n\\n... [...] Severe Weather\\n\\nAutumn severe storms to move from Plains to Atlantic, Gulf coasts\\n\\n4 hours ago\\n\\nFeatured Stories\\n\\nHurricane\\n\\nHurricane Rita forced one of largest US evacuations in wake of Katrina\\n\\n1 day ago\\n\\nWeather News\\n\\nFat Bear Week 2025 is the distraction everybody needs\\n\\n1 day ago\\n\\nClimate\\n\\nWhere \\u2018day-zero droughts\\u2019 could happen as soon as this decade\\n\\n1 day ago\\n\\nHurricane\\n\\nNearly a year after Helene, reopening Blue Ridge Parkway brings hope\\n\\n2 days ago\\n\\nAstronomy\", \"score\": 0.6044228}]"
        ],
        [
         "additional_kwargs",
         {}
        ],
        [
         "response_metadata",
         {}
        ],
        [
         "type",
         "tool"
        ],
        [
         "name",
         "search_tool"
        ],
        [
         "id",
         null
        ],
        [
         "tool_call_id",
         "call_YaOaEqzA9UTyZ1k54JlSBotR"
        ],
        [
         "artifact",
         null
        ],
        [
         "status",
         "success"
        ]
       ]
      ],
      "text/plain": [
       "<IPython.core.display.JSON object>"
      ]
     },
     "metadata": {
      "application/json": {
       "expanded": false,
       "root": "root"
      }
     },
     "output_type": "display_data"
    },
    {
     "name": "stdout",
     "output_type": "stream",
     "text": [
      "----  state progression -----\n"
     ]
    },
    {
     "data": {
      "application/json": {
       "messages": [
        [
         [
          "content",
          "What's the weather like in Zurich, and what should I wear based on the temperature?"
         ],
         [
          "additional_kwargs",
          {}
         ],
         [
          "response_metadata",
          {}
         ],
         [
          "type",
          "human"
         ],
         [
          "name",
          null
         ],
         [
          "id",
          "6dcdc4b2-48c1-48d9-9ad6-378ff26d9a69"
         ],
         [
          "example",
          false
         ]
        ],
        [
         [
          "content",
          ""
         ],
         [
          "additional_kwargs",
          {
           "refusal": null,
           "tool_calls": [
            {
             "function": {
              "arguments": "{\"query\":\"current weather in Zurich\"}",
              "name": "search_tool"
             },
             "id": "call_YaOaEqzA9UTyZ1k54JlSBotR",
             "type": "function"
            }
           ]
          }
         ],
         [
          "response_metadata",
          {
           "finish_reason": "tool_calls",
           "id": "chatcmpl-CJTxUjaLVk6OxFId4xvik7woAdt0a",
           "logprobs": null,
           "model_name": "gpt-4o-mini-2024-07-18",
           "system_fingerprint": "fp_560af6e559",
           "token_usage": {
            "completion_tokens": 17,
            "completion_tokens_details": {
             "accepted_prediction_tokens": 0,
             "audio_tokens": 0,
             "reasoning_tokens": 0,
             "rejected_prediction_tokens": 0
            },
            "prompt_tokens": 286,
            "prompt_tokens_details": {
             "audio_tokens": 0,
             "cached_tokens": 0
            },
            "total_tokens": 303
           }
          }
         ],
         [
          "type",
          "ai"
         ],
         [
          "name",
          null
         ],
         [
          "id",
          "run--e4c5356e-af11-4a0a-b2d4-24f72ee535ca-0"
         ],
         [
          "example",
          false
         ],
         [
          "tool_calls",
          [
           {
            "args": {
             "query": "current weather in Zurich"
            },
            "id": "call_YaOaEqzA9UTyZ1k54JlSBotR",
            "name": "search_tool",
            "type": "tool_call"
           }
          ]
         ],
         [
          "invalid_tool_calls",
          []
         ],
         [
          "usage_metadata",
          {
           "input_token_details": {
            "audio": 0,
            "cache_read": 0
           },
           "input_tokens": 286,
           "output_token_details": {
            "audio": 0,
            "reasoning": 0
           },
           "output_tokens": 17,
           "total_tokens": 303
          }
         ]
        ],
        [
         [
          "content",
          "[{\"title\": \"Weather for Z\\u00fcrich, Zurich, Switzerland - Time and Date\", \"url\": \"https://www.timeanddate.com/weather/switzerland/zurich\", \"content\": \"timeanddate.com\\nFlag for Switzerland\\n\\n# Weather in Z\\u00fcrich, Zurich, Switzerland\\n\\nCool.\\n\\nFeels Like: 52 \\u00b0F  \\nForecast: 56 / 46 \\u00b0F  \\nWind: 2 mph \\u2191 from Southwest\\n\\n|  |  |\\n --- |\\n| Location: | Zurich-Kloten |\\n| Current Time: | Sep 25, 2025 at 2:17:44 am |\\n| Latest Report: | Sep 25, 2025 at 1:00 am |\\n| Visibility: | N/A |\\n| Pressure: | 30.05 \\\"Hg |\\n| Humidity: | 75% |\\n| Dew Point: | 44 \\u00b0F |\\n\\nLocation of Z\\u00fcrich\\nLocation\\n\\n## Upcoming 5 hours [...] ---  ---  ---  --- |\\n| \\\\ Updated Wednesday, September 24, 2025 9:42:33 pm Z\\u00fcrich time - Weather by CustomWeather, \\u00a9 2025 | | | | | | | | [...] | Wind Direction | WSW \\u2191 | SW \\u2191 | W \\u2191 | NW \\u2191 | NE \\u2191  NNW \\u2191 |\\n| Humidity | 95% | 96% | 72% | 87% | 96% | 95% | 80% |\\n| Dew Point | 48 \\u00b0F | 48 \\u00b0F | 49 \\u00b0F | 48 \\u00b0F | 47 \\u00b0F | 48 \\u00b0F | 49 \\u00b0F |\\n| Visibility | 3 mi | 4 mi | 7 mi | 6 mi | 4 mi | 4 mi | 6 mi |\\n| Probability of Precipitation | 15% | 0% | 0% | 1% | 0% | 2% | 6% |\\n| Amount of Rain | 0.05\\\" | 0.00\\\" | 0.00\\\" | 0.00\\\" | 0.00\\\" | 0.00\\\" | 0.01\\\" |\\n| Amount of Snow | 0.00\\\" | 0.00\\\" | 0.00\\\" | 0.00\\\" | 0.00\\\" | 0.00\\\" | 0.00\\\" |\\n|  |  |  |  |  |  |  |  |\", \"score\": 0.9563784}, {\"title\": \"Zurich weather in September 2025 - Weather25.com\", \"url\": \"https://www.weather25.com/europe/switzerland/zurich?page=month&month=September\", \"content\": \"weather25.com\\nSearch\\nweather in Switzerland\\nRemove from your favorite locations\\nAdd to my locations\\nShare\\nweather in Switzerland\\n\\n# Zurich weather in September 2025\\n\\nLight rain shower\\nPatchy rain possible\\nPatchy rain possible\\nOvercast\\nPatchy rain possible\\nCloudy\\nPatchy rain possible\\nMist\\nClear\\nLight drizzle\\nPatchy rain possible\\nPatchy rain possible\\nMist\\nPatchy rain possible\\n\\n## The average weather in Zurich in September [...] | 14 Mist 21\\u00b0 /12\\u00b0 | 15 Fog 23\\u00b0 /12\\u00b0 | 16 Light rain shower 21\\u00b0 /12\\u00b0 | 17 Light rain shower 20\\u00b0 /12\\u00b0 | 18 Mist 20\\u00b0 /10\\u00b0 | 19 Patchy rain possible 19\\u00b0 /8\\u00b0 | 20 Sunny 20\\u00b0 /8\\u00b0 |\\n| 21 Partly cloudy 21\\u00b0 /8\\u00b0 | 22 Partly cloudy 19\\u00b0 /8\\u00b0 | 23 Light rain shower 18\\u00b0 /9\\u00b0 | 24 Light rain 20\\u00b0 /9\\u00b0 | 25 Light rain shower 12\\u00b0 /9\\u00b0 | 26 Patchy rain possible 12\\u00b0 /7\\u00b0 | 27 Patchy rain possible 17\\u00b0 /7\\u00b0 |\\n| 28 Overcast 18\\u00b0 /6\\u00b0 | 29 Patchy rain possible 19\\u00b0 /7\\u00b0 | 30 Cloudy 17\\u00b0 /10\\u00b0 |  |  |  |  | [...] | Sun | Mon | Tue | Wed | Thu | Fri | Sat |\\n ---  ---  --- \\n|  | 1 Patchy rain possible 23\\u00b0 /12\\u00b0 | 2 Mist 23\\u00b0 /10\\u00b0 | 3 Sunny 24\\u00b0 /11\\u00b0 | 4 Fog 25\\u00b0 /12\\u00b0 | 5 Mist 23\\u00b0 /12\\u00b0 | 6 Mist 22\\u00b0 /11\\u00b0 |\\n| 7 Mist 24\\u00b0 /11\\u00b0 | 8 Light rain shower 23\\u00b0 /12\\u00b0 | 9 Light rain shower 22\\u00b0 /11\\u00b0 | 10 Partly cloudy 21\\u00b0 /11\\u00b0 | 11 Partly cloudy 22\\u00b0 /11\\u00b0 | 12 Fog 22\\u00b0 /10\\u00b0 | 13 Mist 21\\u00b0 /11\\u00b0 |\", \"score\": 0.9075175}, {\"title\": \"Zurich, Zurich, Switzerland Weather Forecast | AccuWeather\", \"url\": \"https://www.accuweather.com/en/ch/zurich/316622/weather-forecast/316622\", \"content\": \"Tonight: Cloudy; a couple of showers this evening followed by rain and drizzle late\\nLo: 48\\u00b0\\n\\n## Current Weather\\n\\n2:17 AM\\n\\n### MINUTECAST\\u2122\\n\\nRain starting in 27 min\\n\\n## Zurich Weather Radar\\n\\nZurich Weather Radar\\n\\n## Hourly Weather\\n\\nrain drop\\n\\nrain drop\\n\\nrain drop\\n\\nrain drop\\n\\nrain drop\\n\\nrain drop\\n\\nrain drop\\n\\nrain drop\\n\\nrain drop\\n\\nrain drop\\n\\nrain drop\\n\\nrain drop\\n\\n## 10-Day Weather Forecast\\n\\nToday\\n\\n9/25\\n\\nCloudy with a few showers\\n\\nNight: Rain and drizzle late\\n\\nFri\\n\\n9/26\\n\\nA couple of morning showers [...] # Zurich, Zurich\\n\\nZurich\\n\\nZurich\\n\\n## Around the Globe\\n\\nAround the Globe\\n\\n### Hurricane Tracker\\n\\n### Severe Weather\\n\\n### Radar & Maps\\n\\n### News & Features\\n\\n### Astronomy\\n\\n### Business\\n\\n### Climate\\n\\n### Health\\n\\n### Recreation\\n\\n### Sports\\n\\n### Travel\\n\\n### Warnings\\n\\n### Data Suite\\n\\n### Forensics\\n\\n### Advertising\\n\\n### Superior Accuracy\\u2122\\n\\n### Video\\n\\n## Today\\n\\n## Today's Weather\\n\\nThu, Sep 25\\n\\nCloudy with a couple of showers, mainly later\\nHi: 59\\u00b0 [...] Cloudy, a shower or two late\\n\\nSat\\n\\n9/27\\n\\nA couple of morning showers\\n\\nClear to partly cloudy\\n\\nSun\\n\\n9/28\\n\\nPartly sunny\\n\\nBecoming cloudy\\n\\nMon\\n\\n9/29\\n\\nMostly cloudy\\n\\nEvening showers\\n\\nTue\\n\\n9/30\\n\\nRain and drizzle in the p.m.\\n\\nRain\\n\\nWed\\n\\n10/1\\n\\nShowers around in the morning\\n\\nIncreasing clouds\\n\\nThu\\n\\n10/2\\n\\nCloudy\\n\\nA little rain early; overcast\\n\\nFri\\n\\n10/3\\n\\nA thick cloud cover\\n\\nCloudy, a little rain late\\n\\nSat\\n\\n10/4\\n\\nRather cloudy\\n\\nOvercast\\n\\n## Sun & Moon\\n\\n## Air Quality\", \"score\": 0.8396422}, {\"title\": \"Switzerland weather in September 2025 | Weather25.com\", \"url\": \"https://www.weather25.com/europe/switzerland?page=month&month=September\", \"content\": \"| 14 Mist 21\\u00b0 /12\\u00b0 | 15 Fog 23\\u00b0 /12\\u00b0 | 16 Light rain shower 21\\u00b0 /12\\u00b0 | 17 Light rain shower 20\\u00b0 /12\\u00b0 | 18 Mist 20\\u00b0 /10\\u00b0 | 19 Patchy rain possible 19\\u00b0 /8\\u00b0 | 20 Sunny 20\\u00b0 /8\\u00b0 |\\n| 21 Partly cloudy 21\\u00b0 /8\\u00b0 | 22 Partly cloudy 19\\u00b0 /8\\u00b0 | 23 Light rain shower 18\\u00b0 /9\\u00b0 | 24 Light rain 20\\u00b0 /9\\u00b0 | 25 Light rain shower 12\\u00b0 /9\\u00b0 | 26 Patchy rain possible 12\\u00b0 /7\\u00b0 | 27 Patchy rain possible 17\\u00b0 /7\\u00b0 |\\n| 28 Overcast 18\\u00b0 /6\\u00b0 | 29 Patchy rain possible 19\\u00b0 /7\\u00b0 | 30 Cloudy 17\\u00b0 /10\\u00b0 |  |  |  |  | [...] weather25.com\\nSearch\\nweather in Switzerland\\nRemove from your favorite locations\\nAdd to my locations\\nShare\\nweather in Switzerland\\n\\n# Switzerland weather in September 2025\\n\\nLight rain shower\\nPatchy rain possible\\nPatchy rain possible\\nOvercast\\nPatchy rain possible\\nCloudy\\nPatchy rain possible\\nMist\\nClear\\nLight drizzle\\nPatchy rain possible\\nPatchy rain possible\\nMist\\nPatchy rain possible\\n\\n## The average weather in Switzerland in September [...] | Sun | Mon | Tue | Wed | Thu | Fri | Sat |\\n ---  ---  --- \\n|  | 1 Patchy rain possible 23\\u00b0 /12\\u00b0 | 2 Mist 23\\u00b0 /10\\u00b0 | 3 Sunny 24\\u00b0 /11\\u00b0 | 4 Fog 25\\u00b0 /12\\u00b0 | 5 Mist 23\\u00b0 /12\\u00b0 | 6 Mist 22\\u00b0 /11\\u00b0 |\\n| 7 Mist 24\\u00b0 /11\\u00b0 | 8 Light rain shower 23\\u00b0 /12\\u00b0 | 9 Light rain shower 22\\u00b0 /11\\u00b0 | 10 Partly cloudy 21\\u00b0 /11\\u00b0 | 11 Partly cloudy 22\\u00b0 /11\\u00b0 | 12 Fog 22\\u00b0 /10\\u00b0 | 13 Mist 21\\u00b0 /11\\u00b0 |\", \"score\": 0.83710164}, {\"title\": \"2025 - Zurich, Zurich, Switzerland Monthly Weather | AccuWeather\", \"url\": \"https://www.accuweather.com/en/ch/zurich/316622/september-weather/316622\", \"content\": \"# Zurich, Zurich\\n\\nZurich\\n\\nZurich\\n\\n## Around the Globe\\n\\nAround the Globe\\n\\n### Hurricane Tracker\\n\\n### Severe Weather\\n\\n### Radar & Maps\\n\\n### News & Features\\n\\n### Astronomy\\n\\n### Business\\n\\n### Climate\\n\\n### Health\\n\\n### Recreation\\n\\n### Sports\\n\\n### Travel\\n\\n### Warnings\\n\\n### Data Suite\\n\\n### Forensics\\n\\n### Advertising\\n\\n### Superior Accuracy\\u2122\\n\\n### Video\\n\\n## Monthly\\n\\n## September\\n\\n## 2025\\n\\n## Daily\\n\\n## Temperature Graph\\n\\n## Further Ahead\\n\\nFurther Ahead\\n\\n### October 2025\\n\\n### November 2025\\n\\n### December 2025 [...] NASA selects new astronauts as it chases plans for the moon and Mars\\n\\n2 days ago\\n\\n## Weather Near Zurich:\\n\\n...\\n\\n...\\n\\n... [...] Severe Weather\\n\\nAutumn severe storms to move from Plains to Atlantic, Gulf coasts\\n\\n4 hours ago\\n\\nFeatured Stories\\n\\nHurricane\\n\\nHurricane Rita forced one of largest US evacuations in wake of Katrina\\n\\n1 day ago\\n\\nWeather News\\n\\nFat Bear Week 2025 is the distraction everybody needs\\n\\n1 day ago\\n\\nClimate\\n\\nWhere \\u2018day-zero droughts\\u2019 could happen as soon as this decade\\n\\n1 day ago\\n\\nHurricane\\n\\nNearly a year after Helene, reopening Blue Ridge Parkway brings hope\\n\\n2 days ago\\n\\nAstronomy\", \"score\": 0.6044228}]"
         ],
         [
          "additional_kwargs",
          {}
         ],
         [
          "response_metadata",
          {}
         ],
         [
          "type",
          "tool"
         ],
         [
          "name",
          "search_tool"
         ],
         [
          "id",
          "987d8513-fe4a-4183-b4a1-d17f5dc68420"
         ],
         [
          "tool_call_id",
          "call_YaOaEqzA9UTyZ1k54JlSBotR"
         ],
         [
          "artifact",
          null
         ],
         [
          "status",
          "success"
         ]
        ]
       ]
      },
      "text/plain": [
       "<IPython.core.display.JSON object>"
      ]
     },
     "metadata": {
      "application/json": {
       "expanded": false,
       "root": "root"
      }
     },
     "output_type": "display_data"
    }
   ],
   "source": [
    "tool_call = response.tool_calls[-1]\n",
    "print(\"Tool call:\", tool_call)\n",
    "\n",
    "tool_result = tools_by_name[tool_call[\"name\"]].invoke(tool_call[\"args\"])\n",
    "print(\"Tool result preview:\", tool_result[0]['title'])\n",
    "display(JSON(tool_result))\n",
    "\n",
    "tool_message = ToolMessage(\n",
    "    content=json.dumps(tool_result),\n",
    "    name=tool_call[\"name\"],\n",
    "    tool_call_id=tool_call[\"id\"]\n",
    ")\n",
    "print(\"----  tool message -----\")\n",
    "display(JSON([tool_message]))\n",
    "\n",
    "dummy_state[\"messages\"] = add_messages(dummy_state[\"messages\"], [tool_message])\n",
    "print(\"----  state progression -----\")\n",
    "display(JSON(dummy_state))"
   ]
  },
  {
   "cell_type": "markdown",
   "metadata": {},
   "source": [
    "**What Happens Here:**\n",
    "1. Extract the tool call from the model's response.\n",
    "2. Execute the tool using the specified arguments.\n",
    "3. Create a ToolMessage containing the results.\n",
    "4. Add the tool result to the conversation state.\n"
   ]
  },
  {
   "cell_type": "markdown",
   "metadata": {},
   "source": [
    "### Step 3: Processing Results and Next Action\n"
   ]
  },
  {
   "cell_type": "code",
   "execution_count": 25,
   "metadata": {},
   "outputs": [
    {
     "name": "stdout",
     "output_type": "stream",
     "text": [
      "----  ai response -----\n"
     ]
    },
    {
     "data": {
      "application/json": [
       [
        [
         "content",
         "The current weather in Zurich is quite cool, with a \"feels like\" temperature of 52°F and a forecast high of 56°F. It’s cloudy, and there are a couple of showers expected.\n\nBased on this weather, I recommend wearing a light jacket to stay comfortable. Additionally, you might want to consider wearing layers, as the temperatures could feel chilly, especially with the wind and possible rain. \n\nIf you're planning to be out for an extended period, don’t forget an umbrella or a waterproof jacket just in case."
        ],
        [
         "additional_kwargs",
         {
          "refusal": null
         }
        ],
        [
         "response_metadata",
         {
          "finish_reason": "stop",
          "id": "chatcmpl-CJUCdMu1Mr9UviOrqK6oYi2aRSsGT",
          "logprobs": null,
          "model_name": "gpt-4o-mini-2024-07-18",
          "system_fingerprint": "fp_560af6e559",
          "token_usage": {
           "completion_tokens": 109,
           "completion_tokens_details": {
            "accepted_prediction_tokens": 0,
            "audio_tokens": 0,
            "reasoning_tokens": 0,
            "rejected_prediction_tokens": 0
           },
           "prompt_tokens": 3363,
           "prompt_tokens_details": {
            "audio_tokens": 0,
            "cached_tokens": 0
           },
           "total_tokens": 3472
          }
         }
        ],
        [
         "type",
         "ai"
        ],
        [
         "name",
         null
        ],
        [
         "id",
         "run--72d2869f-3543-4e80-9096-405b076587b8-0"
        ],
        [
         "example",
         false
        ],
        [
         "tool_calls",
         []
        ],
        [
         "invalid_tool_calls",
         []
        ],
        [
         "usage_metadata",
         {
          "input_token_details": {
           "audio": 0,
           "cache_read": 0
          },
          "input_tokens": 3363,
          "output_token_details": {
           "audio": 0,
           "reasoning": 0
          },
          "output_tokens": 109,
          "total_tokens": 3472
         }
        ]
       ]
      ],
      "text/plain": [
       "<IPython.core.display.JSON object>"
      ]
     },
     "metadata": {
      "application/json": {
       "expanded": false,
       "root": "root"
      }
     },
     "output_type": "display_data"
    },
    {
     "name": "stdout",
     "output_type": "stream",
     "text": [
      "----  state progression -----\n"
     ]
    },
    {
     "data": {
      "application/json": {
       "messages": [
        [
         [
          "content",
          "What's the weather like in Zurich, and what should I wear based on the temperature?"
         ],
         [
          "additional_kwargs",
          {}
         ],
         [
          "response_metadata",
          {}
         ],
         [
          "type",
          "human"
         ],
         [
          "name",
          null
         ],
         [
          "id",
          "6dcdc4b2-48c1-48d9-9ad6-378ff26d9a69"
         ],
         [
          "example",
          false
         ]
        ],
        [
         [
          "content",
          ""
         ],
         [
          "additional_kwargs",
          {
           "refusal": null,
           "tool_calls": [
            {
             "function": {
              "arguments": "{\"query\":\"current weather in Zurich\"}",
              "name": "search_tool"
             },
             "id": "call_YaOaEqzA9UTyZ1k54JlSBotR",
             "type": "function"
            }
           ]
          }
         ],
         [
          "response_metadata",
          {
           "finish_reason": "tool_calls",
           "id": "chatcmpl-CJTxUjaLVk6OxFId4xvik7woAdt0a",
           "logprobs": null,
           "model_name": "gpt-4o-mini-2024-07-18",
           "system_fingerprint": "fp_560af6e559",
           "token_usage": {
            "completion_tokens": 17,
            "completion_tokens_details": {
             "accepted_prediction_tokens": 0,
             "audio_tokens": 0,
             "reasoning_tokens": 0,
             "rejected_prediction_tokens": 0
            },
            "prompt_tokens": 286,
            "prompt_tokens_details": {
             "audio_tokens": 0,
             "cached_tokens": 0
            },
            "total_tokens": 303
           }
          }
         ],
         [
          "type",
          "ai"
         ],
         [
          "name",
          null
         ],
         [
          "id",
          "run--e4c5356e-af11-4a0a-b2d4-24f72ee535ca-0"
         ],
         [
          "example",
          false
         ],
         [
          "tool_calls",
          [
           {
            "args": {
             "query": "current weather in Zurich"
            },
            "id": "call_YaOaEqzA9UTyZ1k54JlSBotR",
            "name": "search_tool",
            "type": "tool_call"
           }
          ]
         ],
         [
          "invalid_tool_calls",
          []
         ],
         [
          "usage_metadata",
          {
           "input_token_details": {
            "audio": 0,
            "cache_read": 0
           },
           "input_tokens": 286,
           "output_token_details": {
            "audio": 0,
            "reasoning": 0
           },
           "output_tokens": 17,
           "total_tokens": 303
          }
         ]
        ],
        [
         [
          "content",
          "[{\"title\": \"Weather for Z\\u00fcrich, Zurich, Switzerland - Time and Date\", \"url\": \"https://www.timeanddate.com/weather/switzerland/zurich\", \"content\": \"timeanddate.com\\nFlag for Switzerland\\n\\n# Weather in Z\\u00fcrich, Zurich, Switzerland\\n\\nCool.\\n\\nFeels Like: 52 \\u00b0F  \\nForecast: 56 / 46 \\u00b0F  \\nWind: 2 mph \\u2191 from Southwest\\n\\n|  |  |\\n --- |\\n| Location: | Zurich-Kloten |\\n| Current Time: | Sep 25, 2025 at 2:17:44 am |\\n| Latest Report: | Sep 25, 2025 at 1:00 am |\\n| Visibility: | N/A |\\n| Pressure: | 30.05 \\\"Hg |\\n| Humidity: | 75% |\\n| Dew Point: | 44 \\u00b0F |\\n\\nLocation of Z\\u00fcrich\\nLocation\\n\\n## Upcoming 5 hours [...] ---  ---  ---  --- |\\n| \\\\ Updated Wednesday, September 24, 2025 9:42:33 pm Z\\u00fcrich time - Weather by CustomWeather, \\u00a9 2025 | | | | | | | | [...] | Wind Direction | WSW \\u2191 | SW \\u2191 | W \\u2191 | NW \\u2191 | NE \\u2191  NNW \\u2191 |\\n| Humidity | 95% | 96% | 72% | 87% | 96% | 95% | 80% |\\n| Dew Point | 48 \\u00b0F | 48 \\u00b0F | 49 \\u00b0F | 48 \\u00b0F | 47 \\u00b0F | 48 \\u00b0F | 49 \\u00b0F |\\n| Visibility | 3 mi | 4 mi | 7 mi | 6 mi | 4 mi | 4 mi | 6 mi |\\n| Probability of Precipitation | 15% | 0% | 0% | 1% | 0% | 2% | 6% |\\n| Amount of Rain | 0.05\\\" | 0.00\\\" | 0.00\\\" | 0.00\\\" | 0.00\\\" | 0.00\\\" | 0.01\\\" |\\n| Amount of Snow | 0.00\\\" | 0.00\\\" | 0.00\\\" | 0.00\\\" | 0.00\\\" | 0.00\\\" | 0.00\\\" |\\n|  |  |  |  |  |  |  |  |\", \"score\": 0.9563784}, {\"title\": \"Zurich weather in September 2025 - Weather25.com\", \"url\": \"https://www.weather25.com/europe/switzerland/zurich?page=month&month=September\", \"content\": \"weather25.com\\nSearch\\nweather in Switzerland\\nRemove from your favorite locations\\nAdd to my locations\\nShare\\nweather in Switzerland\\n\\n# Zurich weather in September 2025\\n\\nLight rain shower\\nPatchy rain possible\\nPatchy rain possible\\nOvercast\\nPatchy rain possible\\nCloudy\\nPatchy rain possible\\nMist\\nClear\\nLight drizzle\\nPatchy rain possible\\nPatchy rain possible\\nMist\\nPatchy rain possible\\n\\n## The average weather in Zurich in September [...] | 14 Mist 21\\u00b0 /12\\u00b0 | 15 Fog 23\\u00b0 /12\\u00b0 | 16 Light rain shower 21\\u00b0 /12\\u00b0 | 17 Light rain shower 20\\u00b0 /12\\u00b0 | 18 Mist 20\\u00b0 /10\\u00b0 | 19 Patchy rain possible 19\\u00b0 /8\\u00b0 | 20 Sunny 20\\u00b0 /8\\u00b0 |\\n| 21 Partly cloudy 21\\u00b0 /8\\u00b0 | 22 Partly cloudy 19\\u00b0 /8\\u00b0 | 23 Light rain shower 18\\u00b0 /9\\u00b0 | 24 Light rain 20\\u00b0 /9\\u00b0 | 25 Light rain shower 12\\u00b0 /9\\u00b0 | 26 Patchy rain possible 12\\u00b0 /7\\u00b0 | 27 Patchy rain possible 17\\u00b0 /7\\u00b0 |\\n| 28 Overcast 18\\u00b0 /6\\u00b0 | 29 Patchy rain possible 19\\u00b0 /7\\u00b0 | 30 Cloudy 17\\u00b0 /10\\u00b0 |  |  |  |  | [...] | Sun | Mon | Tue | Wed | Thu | Fri | Sat |\\n ---  ---  --- \\n|  | 1 Patchy rain possible 23\\u00b0 /12\\u00b0 | 2 Mist 23\\u00b0 /10\\u00b0 | 3 Sunny 24\\u00b0 /11\\u00b0 | 4 Fog 25\\u00b0 /12\\u00b0 | 5 Mist 23\\u00b0 /12\\u00b0 | 6 Mist 22\\u00b0 /11\\u00b0 |\\n| 7 Mist 24\\u00b0 /11\\u00b0 | 8 Light rain shower 23\\u00b0 /12\\u00b0 | 9 Light rain shower 22\\u00b0 /11\\u00b0 | 10 Partly cloudy 21\\u00b0 /11\\u00b0 | 11 Partly cloudy 22\\u00b0 /11\\u00b0 | 12 Fog 22\\u00b0 /10\\u00b0 | 13 Mist 21\\u00b0 /11\\u00b0 |\", \"score\": 0.9075175}, {\"title\": \"Zurich, Zurich, Switzerland Weather Forecast | AccuWeather\", \"url\": \"https://www.accuweather.com/en/ch/zurich/316622/weather-forecast/316622\", \"content\": \"Tonight: Cloudy; a couple of showers this evening followed by rain and drizzle late\\nLo: 48\\u00b0\\n\\n## Current Weather\\n\\n2:17 AM\\n\\n### MINUTECAST\\u2122\\n\\nRain starting in 27 min\\n\\n## Zurich Weather Radar\\n\\nZurich Weather Radar\\n\\n## Hourly Weather\\n\\nrain drop\\n\\nrain drop\\n\\nrain drop\\n\\nrain drop\\n\\nrain drop\\n\\nrain drop\\n\\nrain drop\\n\\nrain drop\\n\\nrain drop\\n\\nrain drop\\n\\nrain drop\\n\\nrain drop\\n\\n## 10-Day Weather Forecast\\n\\nToday\\n\\n9/25\\n\\nCloudy with a few showers\\n\\nNight: Rain and drizzle late\\n\\nFri\\n\\n9/26\\n\\nA couple of morning showers [...] # Zurich, Zurich\\n\\nZurich\\n\\nZurich\\n\\n## Around the Globe\\n\\nAround the Globe\\n\\n### Hurricane Tracker\\n\\n### Severe Weather\\n\\n### Radar & Maps\\n\\n### News & Features\\n\\n### Astronomy\\n\\n### Business\\n\\n### Climate\\n\\n### Health\\n\\n### Recreation\\n\\n### Sports\\n\\n### Travel\\n\\n### Warnings\\n\\n### Data Suite\\n\\n### Forensics\\n\\n### Advertising\\n\\n### Superior Accuracy\\u2122\\n\\n### Video\\n\\n## Today\\n\\n## Today's Weather\\n\\nThu, Sep 25\\n\\nCloudy with a couple of showers, mainly later\\nHi: 59\\u00b0 [...] Cloudy, a shower or two late\\n\\nSat\\n\\n9/27\\n\\nA couple of morning showers\\n\\nClear to partly cloudy\\n\\nSun\\n\\n9/28\\n\\nPartly sunny\\n\\nBecoming cloudy\\n\\nMon\\n\\n9/29\\n\\nMostly cloudy\\n\\nEvening showers\\n\\nTue\\n\\n9/30\\n\\nRain and drizzle in the p.m.\\n\\nRain\\n\\nWed\\n\\n10/1\\n\\nShowers around in the morning\\n\\nIncreasing clouds\\n\\nThu\\n\\n10/2\\n\\nCloudy\\n\\nA little rain early; overcast\\n\\nFri\\n\\n10/3\\n\\nA thick cloud cover\\n\\nCloudy, a little rain late\\n\\nSat\\n\\n10/4\\n\\nRather cloudy\\n\\nOvercast\\n\\n## Sun & Moon\\n\\n## Air Quality\", \"score\": 0.8396422}, {\"title\": \"Switzerland weather in September 2025 | Weather25.com\", \"url\": \"https://www.weather25.com/europe/switzerland?page=month&month=September\", \"content\": \"| 14 Mist 21\\u00b0 /12\\u00b0 | 15 Fog 23\\u00b0 /12\\u00b0 | 16 Light rain shower 21\\u00b0 /12\\u00b0 | 17 Light rain shower 20\\u00b0 /12\\u00b0 | 18 Mist 20\\u00b0 /10\\u00b0 | 19 Patchy rain possible 19\\u00b0 /8\\u00b0 | 20 Sunny 20\\u00b0 /8\\u00b0 |\\n| 21 Partly cloudy 21\\u00b0 /8\\u00b0 | 22 Partly cloudy 19\\u00b0 /8\\u00b0 | 23 Light rain shower 18\\u00b0 /9\\u00b0 | 24 Light rain 20\\u00b0 /9\\u00b0 | 25 Light rain shower 12\\u00b0 /9\\u00b0 | 26 Patchy rain possible 12\\u00b0 /7\\u00b0 | 27 Patchy rain possible 17\\u00b0 /7\\u00b0 |\\n| 28 Overcast 18\\u00b0 /6\\u00b0 | 29 Patchy rain possible 19\\u00b0 /7\\u00b0 | 30 Cloudy 17\\u00b0 /10\\u00b0 |  |  |  |  | [...] weather25.com\\nSearch\\nweather in Switzerland\\nRemove from your favorite locations\\nAdd to my locations\\nShare\\nweather in Switzerland\\n\\n# Switzerland weather in September 2025\\n\\nLight rain shower\\nPatchy rain possible\\nPatchy rain possible\\nOvercast\\nPatchy rain possible\\nCloudy\\nPatchy rain possible\\nMist\\nClear\\nLight drizzle\\nPatchy rain possible\\nPatchy rain possible\\nMist\\nPatchy rain possible\\n\\n## The average weather in Switzerland in September [...] | Sun | Mon | Tue | Wed | Thu | Fri | Sat |\\n ---  ---  --- \\n|  | 1 Patchy rain possible 23\\u00b0 /12\\u00b0 | 2 Mist 23\\u00b0 /10\\u00b0 | 3 Sunny 24\\u00b0 /11\\u00b0 | 4 Fog 25\\u00b0 /12\\u00b0 | 5 Mist 23\\u00b0 /12\\u00b0 | 6 Mist 22\\u00b0 /11\\u00b0 |\\n| 7 Mist 24\\u00b0 /11\\u00b0 | 8 Light rain shower 23\\u00b0 /12\\u00b0 | 9 Light rain shower 22\\u00b0 /11\\u00b0 | 10 Partly cloudy 21\\u00b0 /11\\u00b0 | 11 Partly cloudy 22\\u00b0 /11\\u00b0 | 12 Fog 22\\u00b0 /10\\u00b0 | 13 Mist 21\\u00b0 /11\\u00b0 |\", \"score\": 0.83710164}, {\"title\": \"2025 - Zurich, Zurich, Switzerland Monthly Weather | AccuWeather\", \"url\": \"https://www.accuweather.com/en/ch/zurich/316622/september-weather/316622\", \"content\": \"# Zurich, Zurich\\n\\nZurich\\n\\nZurich\\n\\n## Around the Globe\\n\\nAround the Globe\\n\\n### Hurricane Tracker\\n\\n### Severe Weather\\n\\n### Radar & Maps\\n\\n### News & Features\\n\\n### Astronomy\\n\\n### Business\\n\\n### Climate\\n\\n### Health\\n\\n### Recreation\\n\\n### Sports\\n\\n### Travel\\n\\n### Warnings\\n\\n### Data Suite\\n\\n### Forensics\\n\\n### Advertising\\n\\n### Superior Accuracy\\u2122\\n\\n### Video\\n\\n## Monthly\\n\\n## September\\n\\n## 2025\\n\\n## Daily\\n\\n## Temperature Graph\\n\\n## Further Ahead\\n\\nFurther Ahead\\n\\n### October 2025\\n\\n### November 2025\\n\\n### December 2025 [...] NASA selects new astronauts as it chases plans for the moon and Mars\\n\\n2 days ago\\n\\n## Weather Near Zurich:\\n\\n...\\n\\n...\\n\\n... [...] Severe Weather\\n\\nAutumn severe storms to move from Plains to Atlantic, Gulf coasts\\n\\n4 hours ago\\n\\nFeatured Stories\\n\\nHurricane\\n\\nHurricane Rita forced one of largest US evacuations in wake of Katrina\\n\\n1 day ago\\n\\nWeather News\\n\\nFat Bear Week 2025 is the distraction everybody needs\\n\\n1 day ago\\n\\nClimate\\n\\nWhere \\u2018day-zero droughts\\u2019 could happen as soon as this decade\\n\\n1 day ago\\n\\nHurricane\\n\\nNearly a year after Helene, reopening Blue Ridge Parkway brings hope\\n\\n2 days ago\\n\\nAstronomy\", \"score\": 0.6044228}]"
         ],
         [
          "additional_kwargs",
          {}
         ],
         [
          "response_metadata",
          {}
         ],
         [
          "type",
          "tool"
         ],
         [
          "name",
          "search_tool"
         ],
         [
          "id",
          "987d8513-fe4a-4183-b4a1-d17f5dc68420"
         ],
         [
          "tool_call_id",
          "call_YaOaEqzA9UTyZ1k54JlSBotR"
         ],
         [
          "artifact",
          null
         ],
         [
          "status",
          "success"
         ]
        ],
        [
         [
          "content",
          ""
         ],
         [
          "additional_kwargs",
          {
           "refusal": null,
           "tool_calls": [
            {
             "function": {
              "arguments": "{\"weather\":\"Feels Like: 52 °F, Forecast: 56 / 46 °F, Wind: 2 mph from Southwest\"}",
              "name": "recommend_clothing"
             },
             "id": "call_jNTb8qK0iz4JqupZiwEdjZ7q",
             "type": "function"
            }
           ]
          }
         ],
         [
          "response_metadata",
          {
           "finish_reason": "tool_calls",
           "id": "chatcmpl-CJU4gKyzU529YrwfUTscERmmvGGWA",
           "logprobs": null,
           "model_name": "gpt-4o-mini-2024-07-18",
           "system_fingerprint": "fp_560af6e559",
           "token_usage": {
            "completion_tokens": 40,
            "completion_tokens_details": {
             "accepted_prediction_tokens": 0,
             "audio_tokens": 0,
             "reasoning_tokens": 0,
             "rejected_prediction_tokens": 0
            },
            "prompt_tokens": 3307,
            "prompt_tokens_details": {
             "audio_tokens": 0,
             "cached_tokens": 0
            },
            "total_tokens": 3347
           }
          }
         ],
         [
          "type",
          "ai"
         ],
         [
          "name",
          null
         ],
         [
          "id",
          "run--921e7c50-9633-4836-a7a0-d16aea1da3d4-0"
         ],
         [
          "example",
          false
         ],
         [
          "tool_calls",
          [
           {
            "args": {
             "weather": "Feels Like: 52 °F, Forecast: 56 / 46 °F, Wind: 2 mph from Southwest"
            },
            "id": "call_jNTb8qK0iz4JqupZiwEdjZ7q",
            "name": "recommend_clothing",
            "type": "tool_call"
           }
          ]
         ],
         [
          "invalid_tool_calls",
          []
         ],
         [
          "usage_metadata",
          {
           "input_token_details": {
            "audio": 0,
            "cache_read": 0
           },
           "input_tokens": 3307,
           "output_token_details": {
            "audio": 0,
            "reasoning": 0
           },
           "output_tokens": 40,
           "total_tokens": 3347
          }
         ]
        ],
        [
         [
          "content",
          "\"A light jacket should be fine.\""
         ],
         [
          "additional_kwargs",
          {}
         ],
         [
          "response_metadata",
          {}
         ],
         [
          "type",
          "tool"
         ],
         [
          "name",
          "recommend_clothing"
         ],
         [
          "id",
          "965e4ae7-80cc-4e94-8bde-333fdddc288f"
         ],
         [
          "tool_call_id",
          "call_jNTb8qK0iz4JqupZiwEdjZ7q"
         ],
         [
          "artifact",
          null
         ],
         [
          "status",
          "success"
         ]
        ],
        [
         [
          "content",
          "The current weather in Zurich is quite cool, with a \"feels like\" temperature of 52°F and a forecast high of 56°F. It’s cloudy, and there are a couple of showers expected.\n\nBased on this weather, I recommend wearing a light jacket to stay comfortable. Additionally, you might want to consider wearing layers, as the temperatures could feel chilly, especially with the wind and possible rain. \n\nIf you're planning to be out for an extended period, don’t forget an umbrella or a waterproof jacket just in case."
         ],
         [
          "additional_kwargs",
          {
           "refusal": null
          }
         ],
         [
          "response_metadata",
          {
           "finish_reason": "stop",
           "id": "chatcmpl-CJUCdMu1Mr9UviOrqK6oYi2aRSsGT",
           "logprobs": null,
           "model_name": "gpt-4o-mini-2024-07-18",
           "system_fingerprint": "fp_560af6e559",
           "token_usage": {
            "completion_tokens": 109,
            "completion_tokens_details": {
             "accepted_prediction_tokens": 0,
             "audio_tokens": 0,
             "reasoning_tokens": 0,
             "rejected_prediction_tokens": 0
            },
            "prompt_tokens": 3363,
            "prompt_tokens_details": {
             "audio_tokens": 0,
             "cached_tokens": 0
            },
            "total_tokens": 3472
           }
          }
         ],
         [
          "type",
          "ai"
         ],
         [
          "name",
          null
         ],
         [
          "id",
          "run--72d2869f-3543-4e80-9096-405b076587b8-0"
         ],
         [
          "example",
          false
         ],
         [
          "tool_calls",
          []
         ],
         [
          "invalid_tool_calls",
          []
         ],
         [
          "usage_metadata",
          {
           "input_token_details": {
            "audio": 0,
            "cache_read": 0
           },
           "input_tokens": 3363,
           "output_token_details": {
            "audio": 0,
            "reasoning": 0
           },
           "output_tokens": 109,
           "total_tokens": 3472
          }
         ]
        ]
       ]
      },
      "text/plain": [
       "<IPython.core.display.JSON object>"
      ]
     },
     "metadata": {
      "application/json": {
       "expanded": false,
       "root": "root"
      }
     },
     "output_type": "display_data"
    }
   ],
   "source": [
    "response = model_react.invoke({\"scratch_pad\": dummy_state[\"messages\"]})\n",
    "print(\"----  ai response -----\")\n",
    "display(JSON([response]))\n",
    "\n",
    "\n",
    "dummy_state['messages'] = add_messages(dummy_state['messages'], [response])\n",
    "print(\"----  state progression -----\")\n",
    "display(JSON(dummy_state))\n",
    "\n",
    "# check if the model wants to use another tool\n",
    "if response.tool_calls:\n",
    "    tool_call = response.tool_calls[0]\n",
    "    print(\"----> tool_call : \", tool_call)\n",
    "    tool_result = tools_by_name[tool_call[\"name\"]].invoke(tool_call[\"args\"])\n",
    "    print(\"----> tool_result : \", tool_result)\n",
    "    tool_message = ToolMessage(\n",
    "        content=json.dumps(tool_result),\n",
    "        name=tool_call[\"name\"],\n",
    "        tool_call_id=tool_call[\"id\"]\n",
    "    )\n",
    "    print(\"----> tool_message : \", tool_message)\n",
    "    dummy_state['messages'] = add_messages(dummy_state['messages'], [tool_message])\n",
    "    print(\"----  state progression -----\")\n",
    "    display(JSON(dummy_state))"
   ]
  },
  {
   "cell_type": "markdown",
   "metadata": {},
   "source": [
    "**What Happens Here:**\n",
    "1. The model processes the search results.\n",
    "2. It realizes it needs to use the clothing recommendation tool.\n",
    "3. It extracts weather information and calls the clothing tool.\n",
    "4. It receives clothing recommendations based on the weather data.\n"
   ]
  },
  {
   "cell_type": "markdown",
   "metadata": {},
   "source": [
    "### Step 4: Final Response Generation\n"
   ]
  },
  {
   "cell_type": "code",
   "execution_count": 27,
   "metadata": {},
   "outputs": [
    {
     "name": "stdout",
     "output_type": "stream",
     "text": [
      "Final response generated: True\n",
      "More tools needed: False\n",
      "----  ai response -----\n"
     ]
    },
    {
     "data": {
      "application/json": [
       [
        [
         "content",
         "If you have any other questions or need further assistance, feel free to ask!"
        ],
        [
         "additional_kwargs",
         {
          "refusal": null
         }
        ],
        [
         "response_metadata",
         {
          "finish_reason": "stop",
          "id": "chatcmpl-CJUDc0MMbOcjSfcEXCKq40t34Rz3R",
          "logprobs": null,
          "model_name": "gpt-4o-mini-2024-07-18",
          "system_fingerprint": "fp_560af6e559",
          "token_usage": {
           "completion_tokens": 17,
           "completion_tokens_details": {
            "accepted_prediction_tokens": 0,
            "audio_tokens": 0,
            "reasoning_tokens": 0,
            "rejected_prediction_tokens": 0
           },
           "prompt_tokens": 3475,
           "prompt_tokens_details": {
            "audio_tokens": 0,
            "cached_tokens": 3456
           },
           "total_tokens": 3492
          }
         }
        ],
        [
         "type",
         "ai"
        ],
        [
         "name",
         null
        ],
        [
         "id",
         "run--48c7d771-d210-4da8-ae62-a3d5edd24848-0"
        ],
        [
         "example",
         false
        ],
        [
         "tool_calls",
         []
        ],
        [
         "invalid_tool_calls",
         []
        ],
        [
         "usage_metadata",
         {
          "input_token_details": {
           "audio": 0,
           "cache_read": 3456
          },
          "input_tokens": 3475,
          "output_token_details": {
           "audio": 0,
           "reasoning": 0
          },
          "output_tokens": 17,
          "total_tokens": 3492
         }
        ]
       ]
      ],
      "text/plain": [
       "<IPython.core.display.JSON object>"
      ]
     },
     "metadata": {
      "application/json": {
       "expanded": false,
       "root": "root"
      }
     },
     "output_type": "display_data"
    }
   ],
   "source": [
    "response = model_react.invoke({\"scratch_pad\": dummy_state[\"messages\"]})\n",
    "print(\"Final response generated:\", response.content is not None)\n",
    "print(\"More tools needed:\", bool(response.tool_calls))\n",
    "\n",
    "print(\"----  ai response -----\")\n",
    "display(JSON([response]))"
   ]
  },
  {
   "cell_type": "markdown",
   "metadata": {},
   "source": [
    "**What Happens Here:**\n",
    "1. The model has all necessary information.\n",
    "2. It synthesizes weather data and clothing recommendations.\n",
    "3. It generates a comprehensive response to the user.\n",
    "4. No more tool calls needed—the reasoning cycle is complete.\n"
   ]
  },
  {
   "cell_type": "markdown",
   "metadata": {},
   "source": [
    "## Automating ReAct with Graphs\n",
    "\n",
    "### Why Use Graphs?\n",
    "\n",
    "Manual ReAct execution is educational but impractical for real applications. LangGraph automates this process with a state machine that handles the reasoning loop automatically.\n",
    "\n",
    "### Building the Core Functions\n",
    "\n",
    "#### Tool Execution Node\n"
   ]
  },
  {
   "cell_type": "code",
   "execution_count": null,
   "metadata": {},
   "outputs": [],
   "source": [
    "def tool_node(state: AgentState):\n",
    "    \"\"\"Execute all tool calls from the last message in the state.\"\"\"\n",
    "    outputs = []\n",
    "    for tool_call in state[\"messages\"][-1].tool_calls:\n",
    "        tool_result = tools_by_name[tool_call[\"name\"]].invoke(tool_call[\"args\"])\n",
    "        outputs.append(\n",
    "            ToolMessage(\n",
    "                content=json.dumps(tool_result),\n",
    "                name=tool_call[\"name\"],\n",
    "                tool_call_id=tool_call[\"id\"],\n",
    "            )\n",
    "        )\n",
    "    return {\"messages\": outputs}"
   ]
  },
  {
   "cell_type": "markdown",
   "metadata": {},
   "source": [
    "**Function Purpose:**\n",
    "- Automatically execute all tool calls from the model\n",
    "- Handle multiple simultaneous tool calls\n",
    "- Return properly formatted tool messages\n"
   ]
  },
  {
   "cell_type": "markdown",
   "metadata": {},
   "source": [
    "#### Model Invocation Node\n"
   ]
  },
  {
   "cell_type": "code",
   "execution_count": null,
   "metadata": {},
   "outputs": [],
   "source": [
    "def call_model(state: AgentState):\n",
    "    \"\"\"Invoke the model with the current conversation state.\"\"\"\n",
    "    response = model_react.invoke({\"scratch_pad\": state[\"messages\"]})\n",
    "    return {\"messages\": [response]}"
   ]
  },
  {
   "cell_type": "markdown",
   "metadata": {},
   "source": [
    "**Function Purpose:**\n",
    "- Call the ReAct-enabled model\n",
    "- Pass the full conversation context\n",
    "- Return the model's response (which may include tool calls)\n",
    "\n",
    "#### Decision Logic\n"
   ]
  },
  {
   "cell_type": "code",
   "execution_count": null,
   "metadata": {},
   "outputs": [],
   "source": [
    "def should_continue(state: AgentState):\n",
    "    \"\"\"Determine whether to continue with tool use or end the conversation.\"\"\"\n",
    "    messages = state[\"messages\"]\n",
    "    last_message = messages[-1]\n",
    "    # If there is no function call, then we finish\n",
    "    if not last_message.tool_calls:\n",
    "        return \"end\"\n",
    "    # Otherwise if there is, we continue\n",
    "    else:\n",
    "        return \"continue\""
   ]
  },
  {
   "cell_type": "markdown",
   "metadata": {},
   "source": [
    "**Function Purpose:**\n",
    "- Implement the control flow logic\n",
    "- Decide whether the agent needs to use more tools\n",
    "- Route the conversation to either tool execution or completion\n",
    "\n",
    "### Constructing the State Graph\n"
   ]
  },
  {
   "cell_type": "code",
   "execution_count": null,
   "metadata": {},
   "outputs": [],
   "source": [
    "from langgraph.graph import StateGraph, END\n",
    "\n",
    "# Define a new graph\n",
    "workflow = StateGraph(AgentState)\n",
    "\n",
    "# Define the two nodes we will cycle between\n",
    "workflow.add_node(\"agent\", call_model)\n",
    "workflow.add_node(\"tools\", tool_node)\n",
    "\n",
    "# Add edges between nodes\n",
    "workflow.add_edge(\"tools\", \"agent\")  # After tools, always go back to agent\n",
    "\n",
    "# Add conditional logic\n",
    "workflow.add_conditional_edges(\n",
    "    \"agent\",\n",
    "    should_continue,\n",
    "    {\n",
    "        \"continue\": \"tools\",  # If tools needed, go to tools node\n",
    "        \"end\": END,          # If done, end the conversation\n",
    "    },\n",
    ")\n",
    "\n",
    "# Set entry point\n",
    "workflow.set_entry_point(\"agent\")\n",
    "\n",
    "# Compile the graph\n",
    "graph = workflow.compile()"
   ]
  },
  {
   "cell_type": "markdown",
   "metadata": {},
   "source": [
    "**Graph Structure Explained:**\n",
    "1. **Agent Node**: Where reasoning happens and tool calls are generated.\n",
    "2. **Tools Node**: Where tool execution occurs.\n",
    "3. **Conditional Edge**: Determines whether to continue or finish.\n",
    "4. **Entry Point**: Conversation always starts with the agent reasoning.\n",
    "### Visualizing the Graph\n"
   ]
  },
  {
   "cell_type": "code",
   "execution_count": null,
   "metadata": {},
   "outputs": [],
   "source": [
    "from IPython.display import Image, display\n",
    "\n",
    "try:\n",
    "    display(Image(graph.get_graph().draw_mermaid_png()))\n",
    "except Exception:\n",
    "    # This requires some extra dependencies and is optional\n",
    "    pass"
   ]
  },
  {
   "cell_type": "markdown",
   "metadata": {},
   "source": [
    "This visualization shows the flow: Agent → Decision → Tools → Agent → Decision → End\n"
   ]
  },
  {
   "cell_type": "markdown",
   "metadata": {},
   "source": [
    "## Running the Complete ReAct Agent\n",
    "\n",
    "### Final Execution\n"
   ]
  },
  {
   "cell_type": "code",
   "execution_count": null,
   "metadata": {},
   "outputs": [],
   "source": [
    "def print_stream(stream):\n",
    "    \"\"\"Helper function for formatting the stream nicely.\"\"\"\n",
    "    for s in stream:\n",
    "        message = s[\"messages\"][-1]\n",
    "        if isinstance(message, tuple):\n",
    "            print(message)\n",
    "        else:\n",
    "            message.pretty_print()\n",
    "\n",
    "inputs = {\"messages\": [HumanMessage(content=\"What's the weather like in Zurich, and what should I wear based on the temperature?\")]}\n",
    "\n",
    "print_stream(graph.stream(inputs, stream_mode=\"values\"))"
   ]
  },
  {
   "cell_type": "markdown",
   "metadata": {},
   "source": [
    "**What You'll See:**\n",
    "1. **Initial Reasoning**: Agent analyzes the query.\n",
    "2. **Tool Call 1**: Searches for Zurich weather.\n",
    "3. **Tool Result Processing**: Agent examines weather data.\n",
    "4. **Tool Call 2**: Gets clothing recommendations.\n",
    "5. **Final Synthesis**: Agent combines all information into a helpful response.\n"
   ]
  },
  {
   "cell_type": "markdown",
   "metadata": {},
   "source": [
    "### The Complete ReAct Cycle\n",
    "\n",
    "The final execution demonstrates the full ReAct pattern:\n",
    "\n",
    "1. **Reasoning**: \"I need current weather data for Zurich\".\n",
    "2. **Acting**: Calls search_tool(\"Zurich weather today\").\n",
    "3. **Observing**: Processes search results, extracts temperature.\n",
    "4. **Reasoning**: \"Now I need clothing recommendations for this temperature\".\n",
    "5. **Acting**: Calls recommend_clothing(\"temperature from search\").\n",
    "6. **Observing**: Gets clothing suggestions.\n",
    "7. **Reasoning**: \"I can now provide a complete answer\".\n",
    "8. **Final Response**: Synthesizes weather info and clothing recommendations.\n"
   ]
  },
  {
   "cell_type": "markdown",
   "metadata": {},
   "source": [
    "## Key Takeaways\n"
   ]
  },
  {
   "cell_type": "markdown",
   "metadata": {},
   "source": [
    "### What Makes ReAct Powerful\n",
    "\n",
    "1. **Transparency**: You can see the agent's reasoning process.\n",
    "2. **Adaptability**: The agent can handle unexpected results and change course.\n",
    "3. **Extensibility**: It's easy to add new tools and capabilities.\n",
    "4. **Reliability**: The structured approach reduces hallucination and improves accuracy\n"
   ]
  },
  {
   "cell_type": "markdown",
   "metadata": {},
   "source": [
    "### Best Practices\n",
    "\n",
    "1. **Tool Design**: Make tools focused and reliable.\n",
    "2. **Error Handling**: Plan for tool failures and unexpected results.\n",
    "3. **Context Management**: Keep state manageable and relevant.\n",
    "4. **User Experience**: Provide clear feedback about what the agent is doing.\n",
    "\n",
    "The ReAct framework represents a significant step toward more capable and trustworthy AI agents that can reason through complex problems and take meaningful actions in the real world.\n"
   ]
  },
  {
   "cell_type": "markdown",
   "metadata": {},
   "source": [
    "# Exercises\n",
    "\n",
    "Now it's time to put your ReAct knowledge into practice! These exercises will help you build your own tools and extend the agent's capabilities.\n"
   ]
  },
  {
   "cell_type": "markdown",
   "metadata": {},
   "source": [
    "## Exercise 1 - Build a Calculator Tool\n",
    "\n",
    "**Objective:** Create a mathematical calculator tool that can handle complex calculations.\n",
    "\n",
    "Your task is to create a calculator tool that can perform mathematical operations. This tool should be able to handle expressions like \"2 + 3 * 4\", \"sqrt(16)\", and \"sin(π/2)\".\n",
    "\n",
    "### Instructions:\n",
    "1. Create a tool called `calculator_tool` using the `@tool` decorator.\n",
    "2. The tool should accept a mathematical expression as a string.\n",
    "3. Use Python's `eval()` function carefully (or better yet, use the `ast` module for safety).\n",
    "4. Test your tool with various mathematical expressions.\n",
    "5. Add your tool to the tools list and test it with the ReAct agent.\n",
    "\n",
    "### Starter Code:\n"
   ]
  },
  {
   "cell_type": "code",
   "execution_count": null,
   "metadata": {},
   "outputs": [],
   "source": [
    "import math\n",
    "import ast\n",
    "import operator\n",
    "\n",
    "@tool\n",
    "def calculator_tool(expression: str) -> str:\n",
    "    \"\"\"\n",
    "    Safely evaluate mathematical expressions.\n",
    "    \n",
    "    :param expression: A mathematical expression as a string (e.g., \"2 + 3 * 4\")\n",
    "    :return: The result of the calculation\n",
    "    \"\"\"\n",
    "    # TODO: Implement safe mathematical evaluation\n",
    "    # Hint: You can use ast.literal_eval for simple expressions\n",
    "    # or create a safe evaluator for more complex math\n",
    "    pass\n",
    "\n",
    "# TODO: Add calculator_tool to your tools list\n",
    "# TODO: Test with the agent: \"What's 15% of 250 plus the square root of 144?\""
   ]
  },
  {
   "cell_type": "markdown",
   "metadata": {},
   "source": [
    "## Exercise 2 - Create a News Summary Tool\n",
    "\n",
    "**Objective:** Build a tool that can fetch and summarize recent news articles.\n",
    "\n",
    "Create a news summarization tool that works with the existing search functionality. This tool should take search results and create concise summaries of news articles.\n",
    "\n",
    "### Instructions:\n",
    "1. Create a `news_summarizer_tool` that takes news content and creates summaries.\n",
    "2. The tool should extract key information: headline, date, main points.\n",
    "3. Format the output in a readable way.\n",
    "4. Test it by asking the agent to \"search for recent AI news and summarize the top 3 articles\".\n",
    "\n",
    "### Starter Code:\n"
   ]
  },
  {
   "cell_type": "code",
   "execution_count": null,
   "metadata": {},
   "outputs": [],
   "source": [
    "@tool\n",
    "def news_summarizer_tool(news_content: str) -> str:\n",
    "    \"\"\"\n",
    "    Summarize news articles from search results.\n",
    "    \n",
    "    :param news_content: Raw news content or search results\n",
    "    :return: A formatted summary of the news\n",
    "    \"\"\"\n",
    "    # TODO: Parse the news content\n",
    "    # TODO: Extract key information (headlines, dates, main points)\n",
    "    # TODO: Format into a readable summary\n",
    "    # Hint: You might want to split by articles and process each one\n",
    "    pass\n",
    "\n",
    "# TODO: Add to tools list and test with:\n",
    "# \"Find recent news about artificial intelligence and give me a summary\""
   ]
  },
  {
   "cell_type": "markdown",
   "metadata": {},
   "source": [
    "## Testing Your Solutions\n",
    "\n",
    "For each exercise, test your implementation with these commands:\n"
   ]
  },
  {
   "cell_type": "code",
   "execution_count": null,
   "metadata": {},
   "outputs": [],
   "source": [
    "# Exercise 1 Test\n",
    "inputs = {\"messages\": [HumanMessage(content=\"Calculate 15% of 250 plus the square root of 144\")]}\n",
    "print_stream(graph.stream(inputs, stream_mode=\"values\"))"
   ]
  },
  {
   "cell_type": "code",
   "execution_count": null,
   "metadata": {},
   "outputs": [],
   "source": [
    "# Exercise 2 Test  \n",
    "inputs = {\"messages\": [HumanMessage(content=\"Find recent AI news and summarize the top 3 articles\")]}\n",
    "print_stream(graph.stream(inputs, stream_mode=\"values\"))"
   ]
  },
  {
   "cell_type": "markdown",
   "metadata": {},
   "source": [
    "## Authors\n"
   ]
  },
  {
   "cell_type": "markdown",
   "metadata": {},
   "source": [
    "[Joseph Santarcangelo](https://author.skills.network/instructors/joseph_santarcangelo): Joseph has a Ph.D. in Electrical Engineering, his research focused on using machine learning, signal processing, and computer vision to determine how videos impact human cognition. Joseph has been working for IBM since he completed his PhD.\n",
    "\n",
    "[Tenzin Migmar](https://author.skills.network/instructors/tenzin_migmar): Hi, I'm Tenzin. I'm a data scientist intern at IBM interested in applying machine learning to solve difficult problems. Prior to joining IBM, I worked as a research assistant on projects exploring perspectivism and personalization within large language models. In my free time, I enjoy recreational programming and learning to cook new recipes.\n",
    "\n",
    "[Faranak Heidari](https://www.linkedin.com/in/faranakhdr/) is a data scientist and AI developer in IBM. \n"
   ]
  },
  {
   "cell_type": "markdown",
   "metadata": {},
   "source": [
    "<!--#### Change Log\n"
   ]
  },
  {
   "cell_type": "markdown",
   "metadata": {},
   "source": [
    "<!--\n",
    "|Date (YYYY-MM-DD)|Version|Changed By|Change Description|\n",
    "|-|-|-|-|\n",
    "|2024-02-23|0.2|Elio Di Nino|Update library documentation|\n",
    "|2020-07-17|0.1|Sam|Create lab template|\n",
    "-->\n"
   ]
  },
  {
   "cell_type": "markdown",
   "metadata": {},
   "source": [
    "Copyright © IBM Corporation. All rights reserved.\n"
   ]
  }
 ],
 "metadata": {
  "kernelspec": {
   "display_name": "Python 3 (ipykernel)",
   "language": "python",
   "name": "python3"
  },
  "language_info": {
   "codemirror_mode": {
    "name": "ipython",
    "version": 3
   },
   "file_extension": ".py",
   "mimetype": "text/x-python",
   "name": "python",
   "nbconvert_exporter": "python",
   "pygments_lexer": "ipython3",
   "version": "3.12.8"
  },
  "prev_pub_hash": "8c934cd1f83b596adfcbc5587f1033178f6fdba432838b18df7d9d0e24b2f6c9"
 },
 "nbformat": 4,
 "nbformat_minor": 4
}
