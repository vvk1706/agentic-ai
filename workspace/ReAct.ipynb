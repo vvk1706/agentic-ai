{
 "cells": [
  {
   "cell_type": "markdown",
   "metadata": {},
   "source": [
    "<p style=\"text-align:center\">\n",
    "    <a href=\"https://skills.network\" target=\"_blank\">\n",
    "    <img src=\"https://cf-courses-data.s3.us.cloud-object-storage.appdomain.cloud/assets/logos/SN_web_lightmode.png\" width=\"200\" alt=\"Skills Network Logo\"  />\n",
    "    </a>\n",
    "</p>\n"
   ]
  },
  {
   "cell_type": "markdown",
   "metadata": {},
   "source": [
    "# **ReAct: Build Reasoning and Acting AI Agents with LangGraph**\n"
   ]
  },
  {
   "cell_type": "markdown",
   "metadata": {},
   "source": [
    "Estimated time needed: **90** minutes\n"
   ]
  },
  {
   "cell_type": "markdown",
   "metadata": {},
   "source": [
    "You're a software engineer on a mission: build an AI agent that doesn't just respond—it thinks. In this lab, you'll step into the role of an AI architect, designing a smart assistant that solves tough problems by reasoning through them and taking purposeful actions.\n",
    "\n",
    "Using the ReAct (Reasoning + Acting) framework, you'll teach your agent to think step by step, consult tools like search engines or calculators, and adapt on the fly. It’s not just about answers—it’s about how the agent gets there.\n",
    "\n",
    "By the end of the lab, your AI will face a mystery that can’t be solved with knowledge alone. It will need logic, resourcefulness, and the ability to act—just like you, the engineer who built it.\n",
    "\n",
    "## What is ReAct?\n",
    "\n",
    "**ReAct** stands for **Reasoning + Acting**. It's a framework that combines:\n",
    "\n",
    "1. **Reasoning**: The agent thinks through problems step by step, maintaining an internal dialogue about what it needs to do.\n",
    "2. **Acting**: The agent can use external tools (search engines, calculators, APIs) to gather information or perform actions.\n",
    "3. **Observing**: The agent processes the results from its actions and incorporates them into its reasoning.\n",
    "\n",
    "This creates a powerful loop: **Think → Act → Observe → Think → Act → ...**\n",
    "\n",
    "### Why ReAct Matters\n",
    "\n",
    "Traditional language models are limited by their training data cutoff and can't access real-time information. ReAct agents overcome this by:\n",
    "- Accessing current information through web searches\n",
    "- Performing calculations with specialized tools\n",
    "- Breaking down complex problems into manageable steps\n",
    "- Adapting their approach based on intermediate results\n"
   ]
  },
  {
   "cell_type": "markdown",
   "metadata": {},
   "source": [
    "## __Table of Contents__\n",
    "\n",
    "<ol>\n",
    "    <li><a href=\"#Objectives\">Objectives</a></li>\n",
    "    <li>\n",
    "        <a href=\"#Setup-&-Installation\">Setup & Installation</a>\n",
    "        <ol>\n",
    "            <li><a href=\"#Installing-Required-Libraries\">Installing Required Libraries</a></li>\n",
    "            <li><a href=\"#Importing-Required-Libraries\">Importing Required Libraries</a></li>\n",
    "        </ol>\n",
    "    </li>\n",
    "    <li>\n",
    "        <a href=\"#Understanding-Tools-in-ReAct\">Understanding Tools in ReAct</a>\n",
    "        <ol>\n",
    "            <li><a href=\"#1.-Web-Search-Tool\">1. Web Search Tool</a></li>\n",
    "            <li><a href=\"#Theory-behind-Web-Search-Tools\">Theory behind Web Search Tools</a></li>\n",
    "            <li><a href=\"#Testing-the-Search-Tool\">Testing the Search Tool</a></li>\n",
    "            <li><a href=\"#2.-Clothing-Recommendation-Tool\">2. Clothing Recommendation Tool</a></li>\n",
    "            <li><a href=\"#Why-this-Tool-Matters\">Why this Tool Matters</a></li>\n",
    "            <li><a href=\"#Creating-the-tool-Registry\">Creating the tool Registry</a></li>\n",
    "        </ol>\n",
    "    </li>\n",
    "    <li>\n",
    "        <a href=\"#Setting-up-the-Language-Model\">Setting up the Language Model</a>\n",
    "        <ol>\n",
    "            <li><a href=\"#Initializing-the-AI-Model\">Initializing the AI Model</a></li>\n",
    "            <li><a href=\"#Creating-the-System-Prompt\">Creating the System Prompt</a></li>\n",
    "            <li><a href=\"#The-System-Prompt's-Role\">The System Prompt's Role</a></li>\n",
    "            <li><a href=\"#Binding-Tools-to-the-Model\">Binding Tools to the Model</a></li>\n",
    "            <li>\n",
    "                <a href=\"#Understanding-Agent-State\">Understanding Agent State</a>\n",
    "                <ol>\n",
    "                    <li><a href=\"#What-is-Agent-State?\">What is Agent State?</a></li>\n",
    "                    <li><a href=\"#Demonstrating-State-Management\">Demonstrating State Management</a></li>\n",
    "                </ol>\n",
    "            </li>\n",
    "            <li>\n",
    "                <a href=\"#Manual-ReAct-Execution-(Understanding-the-Flow)\">Manual ReAct Execution (Understanding the Flow)</a>\n",
    "                <ol>\n",
    "                    <li><a href=\"#Step-1:-Initial-Query-Processing\">Step 1: Initial Query Processing</a></li>\n",
    "                    <li><a href=\"#Step-2:-Tool-Execution\">Step 2: Tool Execution</a></li>\n",
    "                    <li><a href=\"#Step-3:-Processing-Results-and-Next-Action\">Step 3: Processing Results and Next Action</a></li>\n",
    "                    <li><a href=\"#Step-4:-Final-Response-Generation\">Step 4: Final Response Generation</a></li>\n",
    "                </ol>\n",
    "            </li>\n",
    "            <li>\n",
    "                <a href=\"#Automating-ReAct-with-Graphs\">Automating ReAct with Graphs</a>\n",
    "                <ol>\n",
    "                    <li><a href=\"#Why-Use-Graphs?\">Why Use Graphs?</a></li>\n",
    "                    <li><a href=\"#Building-the-Core-Functions\">Building the Core Functions</a></li>\n",
    "                    <li><a href=\"#Constructing-the-State-Graph\">Constructing the State Graph</a></li>\n",
    "                    <li><a href=\"#Visualizing-the-Graph\">Visualizing the Graph</a></li>\n",
    "                </ol>\n",
    "            </li>\n",
    "            <li>\n",
    "                <a href=\"#Running-the-Complete-ReAct-Agent\">Running the Complete ReAct Agent</a>\n",
    "                <ol>\n",
    "                    <li><a href=\"#Final-Execution\">Final Execution</a></li>\n",
    "                    <li><a href=\"#The-Complete-ReAct-Cycle\">The Complete ReAct Cycle</a></li>\n",
    "                </ol>\n",
    "            </li>\n",
    "        </ol>\n",
    "    </li>\n",
    "    <li>\n",
    "        <a href=\"#Key-Takeaways\">Key Takeaways</a>\n",
    "        <ol>\n",
    "            <li><a href=\"#What-Makes-ReAct-Powerful\">What Makes ReAct Powerful</a></li>\n",
    "            <li><a href=\"#Best-Practices\">Best Practices</a></li>\n",
    "        </ol>\n",
    "    </li>\n",
    "    <li>\n",
    "        <a href=\"#Exercises\">Exercises</a>\n",
    "        <ol>\n",
    "            <li><a href=\"#Exercise-1---Build-a-Calculator-Tool\">Exercise 1 - Build a Calculator Tool</a></li>\n",
    "            <li><a href=\"#Exercise-2---Create-a-News-Summary-Tool\">Exercise 2 - Create a News Summary Tool</a></li>\n",
    "        </ol>\n",
    "    </li>\n",
    "    <li><a href=\"#Testing-Your-Solutions\">Testing Your Solutions</a></li>\n",
    "    <li><a href=\"#Authors\">Authors</a></li>\n",
    "</ol>\n"
   ]
  },
  {
   "cell_type": "markdown",
   "metadata": {},
   "source": [
    "## Objectives\n",
    "\n",
    "After completing this lab you will be able to:\n",
    "\n",
    " - Use the ReAct framework to solve multi-step problems with external tools\n",
    " - Teach an AI agent to reason step by step, take actions, and adapt based on results\n",
    " - Build a smart assistant that can handle tasks requiring logic and tool use\n"
   ]
  },
  {
   "cell_type": "markdown",
   "metadata": {},
   "source": [
    "----\n"
   ]
  },
  {
   "cell_type": "markdown",
   "metadata": {},
   "source": [
    "## Setup & Installation\n"
   ]
  },
  {
   "cell_type": "markdown",
   "metadata": {},
   "source": [
    "For this lab, we will be using the following libraries:\n",
    "\n",
    "\n",
    "- [`LangGraph`](https://www.langchain.com/langgraph): A framework for building stateful, multi-step AI applications using graphs.\n",
    "- [`LangChain`](https://www.langchain.com/): A toolkit that provides tools and abstractions for working with language models.\n",
    "- [`LangChain-OpenAI`](https://python.langchain.com/docs/integrations/llms/openai/): OpenAI integration for LangChain.\n",
    "- [`LangChain-Community`](https://python.langchain.com/api_reference/community/index.html): Community-contributed tools and integrations.\n"
   ]
  },
  {
   "cell_type": "markdown",
   "metadata": {},
   "source": [
    "### Installing Required Libraries\n"
   ]
  },
  {
   "cell_type": "code",
   "execution_count": 1,
   "metadata": {},
   "outputs": [
    {
     "name": "stdout",
     "output_type": "stream",
     "text": [
      "3.12.8 | packaged by conda-forge | (main, Dec  5 2024, 14:24:40) [GCC 13.3.0]\n",
      "Collecting langgraph\n",
      "  Downloading langgraph-0.6.7-py3-none-any.whl.metadata (6.8 kB)\n",
      "Collecting langchain-openai\n",
      "  Downloading langchain_openai-0.3.33-py3-none-any.whl.metadata (2.4 kB)\n",
      "Collecting langchain-core>=0.1 (from langgraph)\n",
      "  Downloading langchain_core-0.3.76-py3-none-any.whl.metadata (3.7 kB)\n",
      "Collecting langgraph-checkpoint<3.0.0,>=2.1.0 (from langgraph)\n",
      "  Downloading langgraph_checkpoint-2.1.1-py3-none-any.whl.metadata (4.2 kB)\n",
      "Collecting langgraph-prebuilt<0.7.0,>=0.6.0 (from langgraph)\n",
      "  Downloading langgraph_prebuilt-0.6.4-py3-none-any.whl.metadata (4.5 kB)\n",
      "Collecting langgraph-sdk<0.3.0,>=0.2.2 (from langgraph)\n",
      "  Downloading langgraph_sdk-0.2.9-py3-none-any.whl.metadata (1.5 kB)\n",
      "Requirement already satisfied: pydantic>=2.7.4 in /opt/conda/lib/python3.12/site-packages (from langgraph) (2.10.6)\n",
      "Collecting xxhash>=3.5.0 (from langgraph)\n",
      "  Downloading xxhash-3.5.0-cp312-cp312-manylinux_2_17_x86_64.manylinux2014_x86_64.whl.metadata (12 kB)\n",
      "Collecting openai<2.0.0,>=1.104.2 (from langchain-openai)\n",
      "  Downloading openai-1.109.1-py3-none-any.whl.metadata (29 kB)\n",
      "Collecting tiktoken<1,>=0.7 (from langchain-openai)\n",
      "  Downloading tiktoken-0.11.0-cp312-cp312-manylinux_2_17_x86_64.manylinux2014_x86_64.whl.metadata (6.7 kB)\n",
      "Collecting langsmith>=0.3.45 (from langchain-core>=0.1->langgraph)\n",
      "  Downloading langsmith-0.4.31-py3-none-any.whl.metadata (14 kB)\n",
      "Requirement already satisfied: tenacity!=8.4.0,<10.0.0,>=8.1.0 in /opt/conda/lib/python3.12/site-packages (from langchain-core>=0.1->langgraph) (9.1.2)\n",
      "Requirement already satisfied: jsonpatch<2.0,>=1.33 in /opt/conda/lib/python3.12/site-packages (from langchain-core>=0.1->langgraph) (1.33)\n",
      "Requirement already satisfied: PyYAML>=5.3 in /opt/conda/lib/python3.12/site-packages (from langchain-core>=0.1->langgraph) (6.0.2)\n",
      "Requirement already satisfied: typing-extensions>=4.7 in /opt/conda/lib/python3.12/site-packages (from langchain-core>=0.1->langgraph) (4.12.2)\n",
      "Requirement already satisfied: packaging>=23.2 in /opt/conda/lib/python3.12/site-packages (from langchain-core>=0.1->langgraph) (24.2)\n",
      "Collecting ormsgpack>=1.10.0 (from langgraph-checkpoint<3.0.0,>=2.1.0->langgraph)\n",
      "  Downloading ormsgpack-1.10.0-cp312-cp312-manylinux_2_17_x86_64.manylinux2014_x86_64.whl.metadata (43 kB)\n",
      "Requirement already satisfied: httpx>=0.25.2 in /opt/conda/lib/python3.12/site-packages (from langgraph-sdk<0.3.0,>=0.2.2->langgraph) (0.28.1)\n",
      "Collecting orjson>=3.10.1 (from langgraph-sdk<0.3.0,>=0.2.2->langgraph)\n",
      "  Downloading orjson-3.11.3-cp312-cp312-manylinux_2_17_x86_64.manylinux2014_x86_64.whl.metadata (41 kB)\n",
      "Requirement already satisfied: anyio<5,>=3.5.0 in /opt/conda/lib/python3.12/site-packages (from openai<2.0.0,>=1.104.2->langchain-openai) (4.8.0)\n",
      "Requirement already satisfied: distro<2,>=1.7.0 in /opt/conda/lib/python3.12/site-packages (from openai<2.0.0,>=1.104.2->langchain-openai) (1.9.0)\n",
      "Collecting jiter<1,>=0.4.0 (from openai<2.0.0,>=1.104.2->langchain-openai)\n",
      "  Downloading jiter-0.11.0-cp312-cp312-manylinux_2_17_x86_64.manylinux2014_x86_64.whl.metadata (5.2 kB)\n",
      "Requirement already satisfied: sniffio in /opt/conda/lib/python3.12/site-packages (from openai<2.0.0,>=1.104.2->langchain-openai) (1.3.1)\n",
      "Requirement already satisfied: tqdm>4 in /opt/conda/lib/python3.12/site-packages (from openai<2.0.0,>=1.104.2->langchain-openai) (4.67.1)\n",
      "Requirement already satisfied: annotated-types>=0.6.0 in /opt/conda/lib/python3.12/site-packages (from pydantic>=2.7.4->langgraph) (0.7.0)\n",
      "Requirement already satisfied: pydantic-core==2.27.2 in /opt/conda/lib/python3.12/site-packages (from pydantic>=2.7.4->langgraph) (2.27.2)\n",
      "Collecting regex>=2022.1.18 (from tiktoken<1,>=0.7->langchain-openai)\n",
      "  Downloading regex-2025.9.18-cp312-cp312-manylinux2014_x86_64.manylinux_2_17_x86_64.manylinux_2_28_x86_64.whl.metadata (40 kB)\n",
      "Requirement already satisfied: requests>=2.26.0 in /opt/conda/lib/python3.12/site-packages (from tiktoken<1,>=0.7->langchain-openai) (2.32.3)\n",
      "Requirement already satisfied: idna>=2.8 in /opt/conda/lib/python3.12/site-packages (from anyio<5,>=3.5.0->openai<2.0.0,>=1.104.2->langchain-openai) (3.10)\n",
      "Requirement already satisfied: certifi in /opt/conda/lib/python3.12/site-packages (from httpx>=0.25.2->langgraph-sdk<0.3.0,>=0.2.2->langgraph) (2024.12.14)\n",
      "Requirement already satisfied: httpcore==1.* in /opt/conda/lib/python3.12/site-packages (from httpx>=0.25.2->langgraph-sdk<0.3.0,>=0.2.2->langgraph) (1.0.7)\n",
      "Requirement already satisfied: h11<0.15,>=0.13 in /opt/conda/lib/python3.12/site-packages (from httpcore==1.*->httpx>=0.25.2->langgraph-sdk<0.3.0,>=0.2.2->langgraph) (0.14.0)\n",
      "Requirement already satisfied: jsonpointer>=1.9 in /opt/conda/lib/python3.12/site-packages (from jsonpatch<2.0,>=1.33->langchain-core>=0.1->langgraph) (3.0.0)\n",
      "Collecting requests-toolbelt>=1.0.0 (from langsmith>=0.3.45->langchain-core>=0.1->langgraph)\n",
      "  Downloading requests_toolbelt-1.0.0-py2.py3-none-any.whl.metadata (14 kB)\n",
      "Requirement already satisfied: zstandard>=0.23.0 in /opt/conda/lib/python3.12/site-packages (from langsmith>=0.3.45->langchain-core>=0.1->langgraph) (0.23.0)\n",
      "Requirement already satisfied: charset_normalizer<4,>=2 in /opt/conda/lib/python3.12/site-packages (from requests>=2.26.0->tiktoken<1,>=0.7->langchain-openai) (3.4.1)\n",
      "Requirement already satisfied: urllib3<3,>=1.21.1 in /opt/conda/lib/python3.12/site-packages (from requests>=2.26.0->tiktoken<1,>=0.7->langchain-openai) (2.3.0)\n",
      "Downloading langgraph-0.6.7-py3-none-any.whl (153 kB)\n",
      "Downloading langchain_openai-0.3.33-py3-none-any.whl (74 kB)\n",
      "Downloading langchain_core-0.3.76-py3-none-any.whl (447 kB)\n",
      "Downloading langgraph_checkpoint-2.1.1-py3-none-any.whl (43 kB)\n",
      "Downloading langgraph_prebuilt-0.6.4-py3-none-any.whl (28 kB)\n",
      "Downloading langgraph_sdk-0.2.9-py3-none-any.whl (56 kB)\n",
      "Downloading openai-1.109.1-py3-none-any.whl (948 kB)\n",
      "\u001b[2K   \u001b[90m━━━━━━━━━━━━━━━━━━━━━━━━━━━━━━━━━━━━━━━━\u001b[0m \u001b[32m948.6/948.6 kB\u001b[0m \u001b[31m59.0 MB/s\u001b[0m eta \u001b[36m0:00:00\u001b[0m\n",
      "Downloading tiktoken-0.11.0-cp312-cp312-manylinux_2_17_x86_64.manylinux2014_x86_64.whl (1.2 MB)\n",
      "\u001b[2K   \u001b[90m━━━━━━━━━━━━━━━━━━━━━━━━━━━━━━━━━━━━━━━━\u001b[0m \u001b[32m1.2/1.2 MB\u001b[0m \u001b[31m75.8 MB/s\u001b[0m eta \u001b[36m0:00:00\u001b[0m\n",
      "\u001b[?25hDownloading xxhash-3.5.0-cp312-cp312-manylinux_2_17_x86_64.manylinux2014_x86_64.whl (194 kB)\n",
      "Downloading jiter-0.11.0-cp312-cp312-manylinux_2_17_x86_64.manylinux2014_x86_64.whl (347 kB)\n",
      "Downloading langsmith-0.4.31-py3-none-any.whl (386 kB)\n",
      "Downloading orjson-3.11.3-cp312-cp312-manylinux_2_17_x86_64.manylinux2014_x86_64.whl (132 kB)\n",
      "Downloading ormsgpack-1.10.0-cp312-cp312-manylinux_2_17_x86_64.manylinux2014_x86_64.whl (216 kB)\n",
      "Downloading regex-2025.9.18-cp312-cp312-manylinux2014_x86_64.manylinux_2_17_x86_64.manylinux_2_28_x86_64.whl (802 kB)\n",
      "\u001b[2K   \u001b[90m━━━━━━━━━━━━━━━━━━━━━━━━━━━━━━━━━━━━━━━━\u001b[0m \u001b[32m802.0/802.0 kB\u001b[0m \u001b[31m49.2 MB/s\u001b[0m eta \u001b[36m0:00:00\u001b[0m\n",
      "Downloading requests_toolbelt-1.0.0-py2.py3-none-any.whl (54 kB)\n",
      "Installing collected packages: xxhash, regex, ormsgpack, orjson, jiter, tiktoken, requests-toolbelt, openai, langsmith, langgraph-sdk, langchain-core, langgraph-checkpoint, langchain-openai, langgraph-prebuilt, langgraph\n",
      "Successfully installed jiter-0.11.0 langchain-core-0.3.76 langchain-openai-0.3.33 langgraph-0.6.7 langgraph-checkpoint-2.1.1 langgraph-prebuilt-0.6.4 langgraph-sdk-0.2.9 langsmith-0.4.31 openai-1.109.1 orjson-3.11.3 ormsgpack-1.10.0 regex-2025.9.18 requests-toolbelt-1.0.0 tiktoken-0.11.0 xxhash-3.5.0\n"
     ]
    }
   ],
   "source": [
    "import sys\n",
    "print(sys.version)\n",
    "\n",
    "!pip install -U langgraph langchain-openai"
   ]
  },
  {
   "cell_type": "code",
   "execution_count": 2,
   "metadata": {},
   "outputs": [],
   "source": [
    "%%capture\n",
    "!pip install langgraph==0.3.34 langchain-openai==0.3.14 langchainhub==0.1.21 langchain==0.3.24 pygraphviz==1.14 langchain-community==0.3.23"
   ]
  },
  {
   "cell_type": "markdown",
   "metadata": {},
   "source": [
    "### Understanding Tools in ReAct\n",
    "\n",
    "Tools are the \"acting\" part of ReAct. They give the agent capabilities beyond just generating text. Let's build two essential tools:\n",
    "\n",
    "#### 1. Web Search Tool\n",
    "### Tavily Search API Key Setup\n",
    "\n",
    "We'll use Tavily search as our external research tool. You can get an API key at https://app.tavily.com/sign-in   \n",
    "\n",
    "\n",
    "**Disclaimer:** Signing up for Tavily provides you with free credits, more than enough for this project's needs. If you require additional credits for further use, please add them at your own discretion.\n",
    "\n",
    "![image.png](https://cf-courses-data.s3.us.cloud-object-storage.appdomain.cloud/UjJx1-0vss4_3lwsUF8n0w/image.png)\n",
    "\n",
    "You need to copy the key from Tavily's API website and paste the key on the line ```os.environ[\"TAVILY_API_KEY\"] = \"YOUR_KEY_HERE\"```\n"
   ]
  },
  {
   "cell_type": "code",
   "execution_count": 3,
   "metadata": {},
   "outputs": [],
   "source": [
    "import warnings \n",
    "warnings.filterwarnings('ignore')\n",
    "\n",
    "from langchain_community.tools.tavily_search import TavilySearchResults\n",
    "from langchain.tools import tool\n",
    "import os\n",
    "import json\n",
    "\n",
    "os.environ[\"TAVILY_API_KEY\"] = \"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\"\n",
    "\n",
    "# Initialize the Tavily search tool\n",
    "search = TavilySearchResults()\n",
    "\n",
    "@tool\n",
    "def search_tool(query: str):\n",
    "    \"\"\"\n",
    "    Search the web for information using Tavily API.\n",
    "\n",
    "    :param query: The search query string\n",
    "    :return: Search results related to the query\n",
    "    \"\"\"\n",
    "    return search.invoke(query)"
   ]
  },
  {
   "cell_type": "markdown",
   "metadata": {},
   "source": [
    "### Theory behind Web Search Tools:\n",
    "- Enable real-time information retrieval\n",
    "- Overcome the knowledge cutoff limitation of language models\n",
    "- Return structured data that the agent can process and reason about\n",
    "\n",
    "### Testing the Search Tool\n"
   ]
  },
  {
   "cell_type": "code",
   "execution_count": 4,
   "metadata": {},
   "outputs": [
    {
     "data": {
      "text/plain": [
       "[{'title': 'AI News Briefs BULLETIN BOARD for September 2025',\n",
       "  'url': 'https://radicaldatascience.wordpress.com/2025/09/24/ai-news-briefs-bulletin-board-for-september-2025/',\n",
       "  'content': '[9/26/2025] Meta and Hugging Face team led by Yan LeCun publish benchmark for AI Assistants – Researchers from Meta and Hugging Face introduce GAIA, a benchmark of 466 real-world tasks. Instead of superhuman challenges, it focuses on tasks trivial for people but difficult for models, offering a clearer test of practical assistant capabilities. [...] [9/22/2025] Flooding the AI Frontier – Chinese models are dominating the open-weight LLM space. Some of the models compete with or even outperform leading proprietary US models on common benchmarks. The Chinese government is promoting open models as part of its AI strategy. Flooding the market with free high-quality AI models helps China build its AI capabilities while making it harder for the US to sustain its lead. [...] [9/26/2025] MIT study proves detailed feedback makes LLMs far better at logic – By mixing structured reasoning with external verification, MIT shows LLMs can learn real logical skills. The approach could help models handle planning, coding, and other complex multi-step problems.',\n",
       "  'score': 0.79099923},\n",
       " {'title': 'Top 5 AI Trends to Watch in 2025 | Coursera',\n",
       "  'url': 'https://www.coursera.org/articles/ai-trends',\n",
       "  'content': 'Lenovo. \"Lenovo Global Study Reveals ROI Remains Greatest AI Adoption Barrier, Despite Three-Fold Spend Increase,  Accessed March 25, 2025.\\n\\nGoogle. “Accelerating scientific breakthroughs with an AI co-scientist,  Accessed March 25, 2025.\\n\\nPillsbury Law. \"California\\'s AI Laws Are Here– Is Your Business Ready?,  Accessed March 25, 2025.\\n\\n### Coursera Staff\\n\\nEditorial Team\\n\\nCoursera’s editorial team is comprised of highly experienced professional editors, writers, and fact... [...] While previous years have seen a steady increase in AI adoption in the workplace, this year is projected to see significantly greater investment. According to one recent Lenovo study, IT leaders project that 20% of their tech budgets will be devoted to AI in 2025, with the lion\\'s share going to GenAI applications. In fact, while only 11 percent of enterprises in the Lonovo study said they previously used GenAI-powered applications, a whopping 42 percent said they\\'d lean into tech in 2025 . [...] On January 1, 2025, California began enforcing several AI laws focused on various areas, such as consumer privacy, health care, patient communications, and the use of deep fake technology . Over the coming year, more states and agencies are expected to consider adopting greater AI oversight and regulations.',\n",
       "  'score': 0.6512002},\n",
       " {'title': 'AI Update, September 26, 2025: AI News and Views From ...',\n",
       "  'url': 'https://www.marketingprofs.com/opinions/2025/53764/ai-update-september-26-2025-ai-news-and-views-from-the-past-week',\n",
       "  'content': 'Meta reportedly in talks to use Google\\'s Gemini for ad targeting. Meta has reportedly held talks with Google Cloud to use Gemini and Gemma models for improving ad targeting. The move highlights challenges Meta faces scaling its in-house AI despite heavy investments. Importance for marketers: A Meta-Google collaboration could reshape the digital ad landscape, potentially improving targeting precision and ROI across platforms like Facebook, Instagram, and WhatsApp. [...] Microsoft adds Anthropic models to Copilot for enterprise users. Microsoft will integrate Anthropic\\'s Claude Opus 4.1 and Sonnet 4 models into Copilot, alongside OpenAI\\'s systems. This diversification follows earlier deals to use Anthropic\\'s AI in Office 365 apps. Opus supports deep reasoning, while Sonnet focuses on large-scale data processing and content creation. Enterprise users will be able to select the model suited to their task. Importance for marketers: Expanded model choices in [...] Amazon debuts AI \\'creative partner\\' for advertisers. Amazon launched a conversational AI assistant in beta on its Creative Studio portal, branded as a \"creative partner\" for marketers. The agent uses Amazon\\'s retail data to support tasks from research and brainstorming to producing ads for Amazon DSP, Sponsored Display, and Sponsored Brand Video. Beta testers, including Nestlé Health Science, praised its workflow impact. Importance for marketers: Amazon\\'s move democratizes high-quality campaign',\n",
       "  'score': 0.5931622},\n",
       " {'title': 'The 2025 AI Index Report | Stanford HAI',\n",
       "  'url': 'https://hai.stanford.edu/ai-index/2025-ai-index-report',\n",
       "  'content': '### 2. AI is increasingly embedded in everyday life.\\n\\nFrom healthcare to transportation, AI is rapidly moving from the lab to daily life. In 2023, the FDA approved 223 AI-enabled medical devices, up from just six in 2015. On the roads, self-driving cars are no longer experimental: Waymo, one of the largest U.S. operators, provides over 150,000 autonomous rides each week, while Baidu’s affordable Apollo Go robotaxi fleet now serves numerous cities across China. [...] ### 3. Business is all in on AI, fueling record investment and usage, as research continues to show strong productivity impacts. [...] In 2024, U.S. private AI investment grew to $109.1 billion—nearly 12 times China’s $9.3 billion and 24 times the U.K.’s $4.5 billion. Generative AI saw particularly strong momentum, attracting $33.9 billion globally in private investment—an 18.7% increase from 2023. AI business usage is also accelerating: 78% of organizations reported using AI in 2024, up from 55% the year before. Meanwhile, a growing body of research confirms that AI boosts productivity and, in most cases, helps narrow skill',\n",
       "  'score': 0.585789},\n",
       " {'title': '5 AI Trends Shaping Innovation and ROI in 2025 | Morgan Stanley',\n",
       "  'url': 'https://www.morganstanley.com/insights/articles/ai-trends-reasoning-frontier-models-2025-tmt',\n",
       "  'content': '“Recent AI advancements will harness the power of Jevons Paradox, to drive the long-term demand for AI and further increase the total addressable market for all participants in the ecosystem,” said Dave Chen, Head of Global Technology Investment Banking at Morgan Stanley, referring to the effect when increased efficiency leads to higher overall consumption.\\n\\n## 3. LLMs See Potential in AI Reasoning for Enterprises [...] LLM executives also spoke about working with foundries to design and make custom silicon, to reduce the costs related to developing features such as recommender systems for ads or videos at scale. Many also said that recent AI advancements—such as continuous learning that enables adaptation based on recent interactions and updates without full retraining—are positive as software and apps proliferate, creating more real-world usage, data exposure and refined training opportunities.',\n",
       "  'score': 0.5425973}]"
      ]
     },
     "execution_count": 4,
     "metadata": {},
     "output_type": "execute_result"
    }
   ],
   "source": [
    "search_tool.invoke(\"Find recent AI news and summarize the top 3 articles\")\n"
   ]
  },
  {
   "cell_type": "markdown",
   "metadata": {},
   "source": [
    "This test demonstrates how the agent can access current information that wasn't available during training.\n",
    "\n",
    "#### 2. Clothing Recommendation Tool\n"
   ]
  },
  {
   "cell_type": "code",
   "execution_count": 5,
   "metadata": {},
   "outputs": [],
   "source": [
    "@tool\n",
    "def recommend_clothing(weather: str) -> str:\n",
    "    \"\"\"\n",
    "    Returns a clothing recommendation based on the provided weather description.\n",
    "\n",
    "    This function examines the input string for specific keywords or temperature indicators \n",
    "    (e.g., \"snow\", \"freezing\", \"rain\", \"85°F\") to suggest appropriate attire. It handles \n",
    "    common weather conditions like snow, rain, heat, and cold by providing simple and practical \n",
    "    clothing advice.\n",
    "\n",
    "    :param weather: A brief description of the weather (e.g., \"Overcast, 64.9°F\")\n",
    "    :return: A string with clothing recommendations suitable for the weather\n",
    "    \"\"\"\n",
    "    weather = weather.lower()\n",
    "    if \"snow\" in weather or \"freezing\" in weather:\n",
    "        return \"Wear a heavy coat, gloves, and boots.\"\n",
    "    elif \"rain\" in weather or \"wet\" in weather:\n",
    "        return \"Bring a raincoat and waterproof shoes.\"\n",
    "    elif \"hot\" in weather or \"85\" in weather:\n",
    "        return \"T-shirt, shorts, and sunscreen recommended.\"\n",
    "    elif \"cold\" in weather or \"50\" in weather:\n",
    "        return \"Wear a warm jacket or sweater.\"\n",
    "    else:\n",
    "        return \"A light jacket should be fine.\""
   ]
  },
  {
   "cell_type": "markdown",
   "metadata": {},
   "source": [
    "**Why this Tool Matters:**\n",
    "- Demonstrates domain-specific reasoning\n",
    "- Shows how tools can process and interpret data from other tools\n",
    "- Illustrates the composability of ReAct systems\n",
    "\n",
    "#### Creating the Tool Registry\n"
   ]
  },
  {
   "cell_type": "code",
   "execution_count": 6,
   "metadata": {},
   "outputs": [
    {
     "name": "stdout",
     "output_type": "stream",
     "text": [
      "{'search_tool': StructuredTool(name='search_tool', description='Search the web for information using Tavily API.\\n\\n:param query: The search query string\\n:return: Search results related to the query', args_schema=<class 'langchain_core.utils.pydantic.search_tool'>, func=<function search_tool at 0x7b07a32f2660>), 'recommend_clothing': StructuredTool(name='recommend_clothing', description='Returns a clothing recommendation based on the provided weather description.\\n\\nThis function examines the input string for specific keywords or temperature indicators \\n(e.g., \"snow\", \"freezing\", \"rain\", \"85°F\") to suggest appropriate attire. It handles \\ncommon weather conditions like snow, rain, heat, and cold by providing simple and practical \\nclothing advice.\\n\\n:param weather: A brief description of the weather (e.g., \"Overcast, 64.9°F\")\\n:return: A string with clothing recommendations suitable for the weather', args_schema=<class 'langchain_core.utils.pydantic.recommend_clothing'>, func=<function recommend_clothing at 0x7b07a1508680>)}\n"
     ]
    }
   ],
   "source": [
    "tools=[search_tool,recommend_clothing]\n",
    "\n",
    "tools_by_name={ tool.name:tool for tool in tools}\n",
    "\n",
    "print(tools_by_name)"
   ]
  },
  {
   "cell_type": "markdown",
   "metadata": {},
   "source": [
    "This registry allows the agent to dynamically select and invoke the appropriate tool based on the task at hand.\n",
    "\n",
    "## Setting Up the Language Model\n",
    "\n",
    "### Initializing the AI Model\n"
   ]
  },
  {
   "cell_type": "code",
   "execution_count": 7,
   "metadata": {},
   "outputs": [],
   "source": [
    "from langchain_openai import ChatOpenAI\n",
    "from langchain_core.tools import tool\n",
    "\n",
    "model = ChatOpenAI(model=\"gpt-4o-mini\")"
   ]
  },
  {
   "cell_type": "markdown",
   "metadata": {},
   "source": [
    "We're using GPT-4o-mini as our reasoning engine. This model will:\n",
    "- Analyze user queries\n",
    "- Decide which tools to use\n",
    "- Process tool results\n",
    "- Generate final responses\n",
    "\n",
    "### Creating the System Prompt\n"
   ]
  },
  {
   "cell_type": "code",
   "execution_count": 8,
   "metadata": {},
   "outputs": [],
   "source": [
    "from langchain_core.prompts import ChatPromptTemplate, MessagesPlaceholder\n",
    "from langchain_core.messages import BaseMessage, HumanMessage, AIMessage, ToolMessage,SystemMessage\n",
    "\n",
    "chat_prompt = ChatPromptTemplate.from_messages([\n",
    "    (\"system\", \"\"\"\n",
    "You are a helpful AI assistant that thinks step-by-step and uses tools when needed.\n",
    "\n",
    "When responding to queries:\n",
    "1. First, think about what information you need\n",
    "2. Use available tools if you need current data or specific capabilities  \n",
    "3. Provide clear, helpful responses based on your reasoning and any tool results\n",
    "\n",
    "Always explain your thinking process to help users understand your approach.\n",
    "\"\"\"),\n",
    "    MessagesPlaceholder(variable_name=\"scratch_pad\")\n",
    "])"
   ]
  },
  {
   "cell_type": "markdown",
   "metadata": {},
   "source": [
    "**The System Prompt's Role:**\n",
    "- Defines the agent's behavior and personality\n",
    "- Establishes the reasoning pattern (think → act → observe)\n",
    "- Encourages transparency in the decision-making process\n",
    "\n",
    "### Binding Tools to the Model\n"
   ]
  },
  {
   "cell_type": "code",
   "execution_count": 9,
   "metadata": {},
   "outputs": [
    {
     "name": "stdout",
     "output_type": "stream",
     "text": [
      "first=ChatPromptTemplate(input_variables=['scratch_pad'], input_types={'scratch_pad': list[typing.Annotated[typing.Union[typing.Annotated[langchain_core.messages.ai.AIMessage, Tag(tag='ai')], typing.Annotated[langchain_core.messages.human.HumanMessage, Tag(tag='human')], typing.Annotated[langchain_core.messages.chat.ChatMessage, Tag(tag='chat')], typing.Annotated[langchain_core.messages.system.SystemMessage, Tag(tag='system')], typing.Annotated[langchain_core.messages.function.FunctionMessage, Tag(tag='function')], typing.Annotated[langchain_core.messages.tool.ToolMessage, Tag(tag='tool')], typing.Annotated[langchain_core.messages.ai.AIMessageChunk, Tag(tag='AIMessageChunk')], typing.Annotated[langchain_core.messages.human.HumanMessageChunk, Tag(tag='HumanMessageChunk')], typing.Annotated[langchain_core.messages.chat.ChatMessageChunk, Tag(tag='ChatMessageChunk')], typing.Annotated[langchain_core.messages.system.SystemMessageChunk, Tag(tag='SystemMessageChunk')], typing.Annotated[langchain_core.messages.function.FunctionMessageChunk, Tag(tag='FunctionMessageChunk')], typing.Annotated[langchain_core.messages.tool.ToolMessageChunk, Tag(tag='ToolMessageChunk')]], FieldInfo(annotation=NoneType, required=True, discriminator=Discriminator(discriminator=<function _get_type at 0x7b07a1b139c0>, custom_error_type=None, custom_error_message=None, custom_error_context=None))]]}, partial_variables={}, messages=[SystemMessagePromptTemplate(prompt=PromptTemplate(input_variables=[], input_types={}, partial_variables={}, template='\\nYou are a helpful AI assistant that thinks step-by-step and uses tools when needed.\\n\\nWhen responding to queries:\\n1. First, think about what information you need\\n2. Use available tools if you need current data or specific capabilities  \\n3. Provide clear, helpful responses based on your reasoning and any tool results\\n\\nAlways explain your thinking process to help users understand your approach.\\n'), additional_kwargs={}), MessagesPlaceholder(variable_name='scratch_pad')]) middle=[] last=RunnableBinding(bound=ChatOpenAI(client=<openai.resources.chat.completions.completions.Completions object at 0x7b07a017a150>, async_client=<openai.resources.chat.completions.completions.AsyncCompletions object at 0x7b07a020f0b0>, root_client=<openai.OpenAI object at 0x7b07a077faa0>, root_async_client=<openai.AsyncOpenAI object at 0x7b07a1a98aa0>, model_name='gpt-4o-mini', model_kwargs={}, openai_api_key=SecretStr('**********')), kwargs={'tools': [{'type': 'function', 'function': {'name': 'search_tool', 'description': 'Search the web for information using Tavily API.\\n\\n:param query: The search query string\\n:return: Search results related to the query', 'parameters': {'properties': {'query': {'type': 'string'}}, 'required': ['query'], 'type': 'object'}}}, {'type': 'function', 'function': {'name': 'recommend_clothing', 'description': 'Returns a clothing recommendation based on the provided weather description.\\n\\nThis function examines the input string for specific keywords or temperature indicators \\n(e.g., \"snow\", \"freezing\", \"rain\", \"85°F\") to suggest appropriate attire. It handles \\ncommon weather conditions like snow, rain, heat, and cold by providing simple and practical \\nclothing advice.\\n\\n:param weather: A brief description of the weather (e.g., \"Overcast, 64.9°F\")\\n:return: A string with clothing recommendations suitable for the weather', 'parameters': {'properties': {'weather': {'type': 'string'}}, 'required': ['weather'], 'type': 'object'}}}]}, config={}, config_factories=[])\n"
     ]
    }
   ],
   "source": [
    "import json\n",
    "from IPython.display import display, JSON\n",
    "\n",
    "model_react=chat_prompt|model.bind_tools(tools)\n",
    "\n",
    "print(model_react)\n",
    "\n",
    "#display(JSON([model_react]))"
   ]
  },
  {
   "cell_type": "markdown",
   "metadata": {},
   "source": [
    "This creates a model that can:\n",
    "- Understand when to use tools\n",
    "- Generate properly formatted tool calls\n",
    "- Process tool results in context\n",
    "\n",
    "## Understanding Agent State\n",
    "\n",
    "### What is Agent State?\n",
    "\n",
    "In ReAct, state management is crucial, as the agent must maintain context across multiple reasoning and acting steps.\n"
   ]
  },
  {
   "cell_type": "code",
   "execution_count": 10,
   "metadata": {},
   "outputs": [],
   "source": [
    "from typing import (Annotated,Sequence,TypedDict)\n",
    "from langchain_core.messages import BaseMessage\n",
    "from langgraph.graph.message import add_messages\n",
    "\n",
    "class AgentState(TypedDict):\n",
    "    \"\"\"The state of the agent.\"\"\"\n",
    "\n",
    "    # add_messages is a reducer\n",
    "    # See https://langchain-ai.github.io/langgraph/concepts/low_level/#reducers\n",
    "    messages: Annotated[Sequence[BaseMessage], add_messages]"
   ]
  },
  {
   "cell_type": "markdown",
   "metadata": {},
   "source": [
    "**Key Concepts:**\n",
    "- **State**: Contains the conversation history and context.\n",
    "- **Reducer**: `add_messages` automatically handles adding new messages to the conversation.\n",
    "- **Type Safety**: TypedDict ensures our state structure is well-defined.\n",
    "\n",
    "### Demonstrating State Management\n"
   ]
  },
  {
   "cell_type": "code",
   "execution_count": 12,
   "metadata": {},
   "outputs": [
    {
     "data": {
      "application/json": {
       "messages": []
      },
      "text/plain": [
       "<IPython.core.display.JSON object>"
      ]
     },
     "metadata": {
      "application/json": {
       "expanded": false,
       "root": "root"
      }
     },
     "output_type": "display_data"
    },
    {
     "name": "stdout",
     "output_type": "stream",
     "text": [
      "After greeting: [HumanMessage(content='Hi', additional_kwargs={}, response_metadata={}, id='2ca1107a-0cc6-4b33-b646-f6e14a833b7b')]\n"
     ]
    },
    {
     "data": {
      "application/json": {
       "messages": [
        [
         [
          "content",
          "Hi"
         ],
         [
          "additional_kwargs",
          {}
         ],
         [
          "response_metadata",
          {}
         ],
         [
          "type",
          "human"
         ],
         [
          "name",
          null
         ],
         [
          "id",
          "2ca1107a-0cc6-4b33-b646-f6e14a833b7b"
         ],
         [
          "example",
          false
         ]
        ]
       ]
      },
      "text/plain": [
       "<IPython.core.display.JSON object>"
      ]
     },
     "metadata": {
      "application/json": {
       "expanded": false,
       "root": "root"
      }
     },
     "output_type": "display_data"
    },
    {
     "name": "stdout",
     "output_type": "stream",
     "text": [
      "After question: {'messages': [HumanMessage(content='Hi', additional_kwargs={}, response_metadata={}, id='2ca1107a-0cc6-4b33-b646-f6e14a833b7b'), HumanMessage(content='Weather in NYC?', additional_kwargs={}, response_metadata={}, id='6e066a0e-1b87-43e5-959a-85cc81fca3a3')]}\n"
     ]
    },
    {
     "data": {
      "application/json": {
       "messages": [
        [
         [
          "content",
          "Hi"
         ],
         [
          "additional_kwargs",
          {}
         ],
         [
          "response_metadata",
          {}
         ],
         [
          "type",
          "human"
         ],
         [
          "name",
          null
         ],
         [
          "id",
          "2ca1107a-0cc6-4b33-b646-f6e14a833b7b"
         ],
         [
          "example",
          false
         ]
        ],
        [
         [
          "content",
          "Weather in NYC?"
         ],
         [
          "additional_kwargs",
          {}
         ],
         [
          "response_metadata",
          {}
         ],
         [
          "type",
          "human"
         ],
         [
          "name",
          null
         ],
         [
          "id",
          "6e066a0e-1b87-43e5-959a-85cc81fca3a3"
         ],
         [
          "example",
          false
         ]
        ]
       ]
      },
      "text/plain": [
       "<IPython.core.display.JSON object>"
      ]
     },
     "metadata": {
      "application/json": {
       "expanded": false,
       "root": "root"
      }
     },
     "output_type": "display_data"
    }
   ],
   "source": [
    "# Example conversation flow:\n",
    "state: AgentState = {\"messages\": []}\n",
    "\n",
    "display(JSON(state))\n",
    "\n",
    "# append a message using the reducer properly\n",
    "state[\"messages\"] = add_messages(state[\"messages\"], [HumanMessage(content=\"Hi\")])\n",
    "print(\"After greeting:\", state[\"messages\"])\n",
    "\n",
    "display(JSON(state))\n",
    "\n",
    "# add another message (e.g. a question)\n",
    "state[\"messages\"] = add_messages(state[\"messages\"], [HumanMessage(content=\"Weather in NYC?\")])\n",
    "print(\"After question:\", state)\n",
    "\n",
    "display(JSON(state))"
   ]
  },
  {
   "cell_type": "markdown",
   "metadata": {},
   "source": [
    "This demonstrates how the state accumulates context over the conversation.\n"
   ]
  },
  {
   "cell_type": "markdown",
   "metadata": {},
   "source": [
    "## Manual ReAct Execution (Understanding the Flow)\n",
    "\n",
    "Before building the automated graph, let's manually step through a ReAct cycle to understand what happens:\n",
    "\n",
    "### Step 1: Initial Query Processing\n"
   ]
  },
  {
   "cell_type": "code",
   "execution_count": 14,
   "metadata": {},
   "outputs": [
    {
     "name": "stdout",
     "output_type": "stream",
     "text": [
      "----  human message -----\n"
     ]
    },
    {
     "data": {
      "application/json": {
       "messages": [
        [
         [
          "content",
          "What's the weather like in Caboolture, and what should I wear based on the temperature?"
         ],
         [
          "additional_kwargs",
          {}
         ],
         [
          "response_metadata",
          {}
         ],
         [
          "type",
          "human"
         ],
         [
          "name",
          null
         ],
         [
          "id",
          null
         ],
         [
          "example",
          false
         ]
        ]
       ]
      },
      "text/plain": [
       "<IPython.core.display.JSON object>"
      ]
     },
     "metadata": {
      "application/json": {
       "expanded": false,
       "root": "root"
      }
     },
     "output_type": "display_data"
    },
    {
     "name": "stdout",
     "output_type": "stream",
     "text": [
      "----  ai response -----\n"
     ]
    },
    {
     "data": {
      "application/json": [
       [
        [
         "content",
         ""
        ],
        [
         "additional_kwargs",
         {
          "refusal": null,
          "tool_calls": [
           {
            "function": {
             "arguments": "{\"query\":\"current weather Caboolture\"}",
             "name": "search_tool"
            },
            "id": "call_bwZDh005PkacbSGiwLEihofQ",
            "type": "function"
           }
          ]
         }
        ],
        [
         "response_metadata",
         {
          "finish_reason": "tool_calls",
          "id": "chatcmpl-CKxANvMTHxJHrwH5kt91lem8z2KDx",
          "logprobs": null,
          "model_name": "gpt-4o-mini-2024-07-18",
          "system_fingerprint": "fp_560af6e559",
          "token_usage": {
           "completion_tokens": 19,
           "completion_tokens_details": {
            "accepted_prediction_tokens": 0,
            "audio_tokens": 0,
            "reasoning_tokens": 0,
            "rejected_prediction_tokens": 0
           },
           "prompt_tokens": 289,
           "prompt_tokens_details": {
            "audio_tokens": 0,
            "cached_tokens": 0
           },
           "total_tokens": 308
          }
         }
        ],
        [
         "type",
         "ai"
        ],
        [
         "name",
         null
        ],
        [
         "id",
         "run--afc12632-e0ea-4e28-91c1-aa50596da16c-0"
        ],
        [
         "example",
         false
        ],
        [
         "tool_calls",
         [
          {
           "args": {
            "query": "current weather Caboolture"
           },
           "id": "call_bwZDh005PkacbSGiwLEihofQ",
           "name": "search_tool",
           "type": "tool_call"
          }
         ]
        ],
        [
         "invalid_tool_calls",
         []
        ],
        [
         "usage_metadata",
         {
          "input_token_details": {
           "audio": 0,
           "cache_read": 0
          },
          "input_tokens": 289,
          "output_token_details": {
           "audio": 0,
           "reasoning": 0
          },
          "output_tokens": 19,
          "total_tokens": 308
         }
        ]
       ]
      ],
      "text/plain": [
       "<IPython.core.display.JSON object>"
      ]
     },
     "metadata": {
      "application/json": {
       "expanded": false,
       "root": "root"
      }
     },
     "output_type": "display_data"
    },
    {
     "name": "stdout",
     "output_type": "stream",
     "text": [
      "----  state progression -----\n"
     ]
    },
    {
     "data": {
      "application/json": {
       "messages": [
        [
         [
          "content",
          "What's the weather like in Caboolture, and what should I wear based on the temperature?"
         ],
         [
          "additional_kwargs",
          {}
         ],
         [
          "response_metadata",
          {}
         ],
         [
          "type",
          "human"
         ],
         [
          "name",
          null
         ],
         [
          "id",
          "fa556da5-28e5-47f1-aa58-144a029f8a15"
         ],
         [
          "example",
          false
         ]
        ],
        [
         [
          "content",
          ""
         ],
         [
          "additional_kwargs",
          {
           "refusal": null,
           "tool_calls": [
            {
             "function": {
              "arguments": "{\"query\":\"current weather Caboolture\"}",
              "name": "search_tool"
             },
             "id": "call_bwZDh005PkacbSGiwLEihofQ",
             "type": "function"
            }
           ]
          }
         ],
         [
          "response_metadata",
          {
           "finish_reason": "tool_calls",
           "id": "chatcmpl-CKxANvMTHxJHrwH5kt91lem8z2KDx",
           "logprobs": null,
           "model_name": "gpt-4o-mini-2024-07-18",
           "system_fingerprint": "fp_560af6e559",
           "token_usage": {
            "completion_tokens": 19,
            "completion_tokens_details": {
             "accepted_prediction_tokens": 0,
             "audio_tokens": 0,
             "reasoning_tokens": 0,
             "rejected_prediction_tokens": 0
            },
            "prompt_tokens": 289,
            "prompt_tokens_details": {
             "audio_tokens": 0,
             "cached_tokens": 0
            },
            "total_tokens": 308
           }
          }
         ],
         [
          "type",
          "ai"
         ],
         [
          "name",
          null
         ],
         [
          "id",
          "run--afc12632-e0ea-4e28-91c1-aa50596da16c-0"
         ],
         [
          "example",
          false
         ],
         [
          "tool_calls",
          [
           {
            "args": {
             "query": "current weather Caboolture"
            },
            "id": "call_bwZDh005PkacbSGiwLEihofQ",
            "name": "search_tool",
            "type": "tool_call"
           }
          ]
         ],
         [
          "invalid_tool_calls",
          []
         ],
         [
          "usage_metadata",
          {
           "input_token_details": {
            "audio": 0,
            "cache_read": 0
           },
           "input_tokens": 289,
           "output_token_details": {
            "audio": 0,
            "reasoning": 0
           },
           "output_tokens": 19,
           "total_tokens": 308
          }
         ]
        ]
       ]
      },
      "text/plain": [
       "<IPython.core.display.JSON object>"
      ]
     },
     "metadata": {
      "application/json": {
       "expanded": false,
       "root": "root"
      }
     },
     "output_type": "display_data"
    }
   ],
   "source": [
    "dummy_state: AgentState = {\n",
    "    \"messages\": [HumanMessage( \"What's the weather like in Caboolture, and what should I wear based on the temperature?\")]}\n",
    "print(\"----  human message -----\")\n",
    "display(JSON(dummy_state))\n",
    "\n",
    "response = model_react.invoke({\"scratch_pad\":dummy_state[\"messages\"]})\n",
    "print(\"----  ai response -----\")\n",
    "display(JSON([response]))\n",
    "\n",
    "dummy_state[\"messages\"]=add_messages(dummy_state[\"messages\"],[response])\n",
    "\n",
    "print(\"----  state progression -----\")\n",
    "display(JSON(dummy_state))"
   ]
  },
  {
   "cell_type": "markdown",
   "metadata": {},
   "source": [
    "**What Happens Here:**\n",
    "1. The user asks a complex question requiring current data.\n",
    "2. The model analyzes the query and realizes it needs to search for weather information.\n",
    "3. The model generates a tool call for the search.\n"
   ]
  },
  {
   "cell_type": "markdown",
   "metadata": {},
   "source": [
    "### Step 2: Tool Execution\n"
   ]
  },
  {
   "cell_type": "code",
   "execution_count": 15,
   "metadata": {},
   "outputs": [
    {
     "name": "stdout",
     "output_type": "stream",
     "text": [
      "Tool call: {'name': 'search_tool', 'args': {'query': 'current weather Caboolture'}, 'id': 'call_bwZDh005PkacbSGiwLEihofQ', 'type': 'tool_call'}\n",
      "Tool result preview: Caboolture Forecast - Bureau of Meteorology\n"
     ]
    },
    {
     "data": {
      "application/json": [
       {
        "content": "Print Background\nAustralian Government - Bureau of Meteorology\n\nBureau Home > Australia > Queensland > Forecasts > Caboolture Forecast\n\n# Caboolture Forecast\n\nView the current warnings for Queensland\n\nForecast updated at 9:16 am EST on Monday 29 September 2025.\n\n## Forecast for the rest of Monday\n\n### Southeast Coast area\n\nMostly sunny. Light winds becoming east to northeasterly 15 to 20 km/h in the early afternoon then becoming light in the evening. Daytime maximum temperatures 28 to 34. [...] Sun protection recommended from 8:20 am to 2:50 pm, UV Index predicted to reach 8 [Very High]\n\n## Friday 3 October\n\n## Saturday 4 October\n\n## Sunday 5 October\n\nThe next routine forecast will be issued at 4:15 pm EST Monday.\n\nProduct derived from IDQ11295 and IDQ10090\n\n### Graphical Views\n\nThis page was created at 01:42\non Monday 29 September 2025 (UTC) [...] Morning fog then mostly sunny.\nMostly sunny.\nCloud clearing.\nMorning fog then mostly sunny.\nPartly cloudy.\nPartly cloudy.\nPartly cloudy.\nMostly sunny.\n\n## Tuesday 30 September\n\n### Southeast Coast area\n\nThe chance of fog in the early morning. Mostly sunny afternoon. Light winds becoming northeasterly 15 to 20 km/h in the middle of the day then becoming light in the late evening. Overnight temperatures falling to between 12 and 16 with daytime temperatures reaching 27 to 32.",
        "score": 0.9336793,
        "title": "Caboolture Forecast - Bureau of Meteorology",
        "url": "https://www.bom.gov.au/qld/forecasts/caboolture.shtml"
       },
       {
        "content": "# Live Weather Forecast Maps\n\nRadar\n\n# Caboolture\n\n|  |  |\n --- |\n| partly cloudy | 25 °C |\n|  |\n| Wind speed  17 km/h |\n\npartly cloudy\n\n|  |  |\n --- |\n| Humidity | 69 % |\n| Air pressure | 1015 hPa |\n| Clouds | 30 % |\n| Cloud base | 914 m |\n\nCalculated from nearby stations (11:00 2025/09/29)\n\nOpen Radar Map\n\n## Weather for the next 24 hours [...] SW  1 km/h | fog 20 °C 0 mm 0 %  SW  1 km/h | fog 20 °C 0 mm 0 %  SE  1 km/h | fog 20 °C 0 mm 0 %  NE  1 km/h | fog 20 °C 0 mm 0 %  NW  1 km/h | fog 19 °C 0 mm 0 %  W  3 km/h | fog 19 °C 0 mm 0 %  W  5 km/h | fog 20 °C 0 mm 0 %  W  3 km/h | mostly cloudy 22 °C 0 mm 0 %  SE  1 km/h | partly cloudy 23 °C 0 mm 0 %  NE  8 km/h | clear sky with few clouds 24 °C 0 mm 0 %  E  9 km/h | clear sky with few clouds 25 °C 0 mm 0 %  NE  12 km/h | clear sky with few clouds 26 °C 0 mm 0 %  NE  13 km/h | [...] | clear sky 29 °C 0 mm 0 %  SE  8 km/h | clear sky 27 °C 0 mm 0 %  E  13 km/h | clear sky 27 °C 0 mm 0 %  NE  17 km/h | clear sky 25 °C 0 mm 0 %  NE  20 km/h | clear sky 24 °C 0 mm 0 %  NE  16 km/h | partly cloudy 23 °C 0 mm 0 %  NE  10 km/h | partly cloudy 22 °C 0 mm 0 %  NE  7 km/h | partly cloudy 22 °C 0 mm 0 %  NE  6 km/h | mostly cloudy 21 °C 0 mm 0 %  N  5 km/h | mostly cloudy 21 °C 0 mm 0 %  W  3 km/h | fog 20 °C 0 mm 0 %  SW  1 km/h | fog 20 °C 0 mm 0 %  SW  1 km/h | fog 20 °C 0 mm 0 %",
        "score": 0.9159971,
        "title": "Caboolture - 14-Day Forecast: Temperature, Wind & Radar - Ventusky",
        "url": "https://www.ventusky.com/caboolture"
       },
       {
        "content": "| Mon Oct 13 |  | 80 / 63 °F | Mostly sunny. | 79 °F | 12 mph | ↑ | 54% | 6% | 0.00\" | 7 (High) | 5:14 am | 5:54 pm |\n|  |  |  |  |  |  |  |  |  |  |  |  |  |\n ---  ---  ---  ---  ---  --- \n| \\ Updated Monday, September 29, 2025 7:24:07 am Caboolture time - Weather by CustomWeather, © 2025 | | | | | | | | | | | | | [...] |  | Conditions | | | Comfort | | | | Precipitation | | Sun | | |\n ---  ---  ---  ---  ---  --- \n| Day |  | Temperature | Weather | Feels Like | Wind |  | Humidity | Chance | Amount | UV | Sunrise | Sunset |\n| Mon Sep 29 |  | 91 / 59 °F | Sunny. | 84 °F | 8 mph | ↑ | 44% | 2% | 0.00\" | 7 (High) | 5:30 am | 5:47 pm |\n| Tue Sep 30 |  | 83 / 64 °F | Mostly sunny. | 82 °F | 11 mph | ↑ | 61% | 4% | 0.00\" | 5 (Moderate) | 5:28 am | 5:47 pm | [...] | Wed Oct 1 |  | 85 / 65 °F | Sprinkles late. Overcast. | 87 °F | 9 mph | ↑ | 63% | 17% | 0.01\" | 3 (Moderate) | 5:27 am | 5:48 pm |\n| Thu Oct 2 |  | 95 / 62 °F | Mostly cloudy. | 87 °F | 12 mph | ↑ | 25% | 0% | 0.00\" | 3 (Moderate) | 5:26 am | 5:48 pm |\n| Fri Oct 3 |  | 87 / 59 °F | Sunny. | 82 °F | 14 mph | ↑ | 17% | 0% | 0.00\" | 7 (High) | 5:25 am | 5:49 pm |\n| Sat Oct 4 |  | 78 / 53 °F | Mostly sunny. | 78 °F | 11 mph | ↑ | 40% | 3% | 0.00\" | 3 (Moderate) | 5:24 am | 5:49 pm |",
        "score": 0.8914433,
        "title": "Caboolture 14 Day Extended Forecast - Weather - Time and Date",
        "url": "https://www.timeanddate.com/weather/@2172832/ext"
       },
       {
        "content": "# Caboolture, Queensland\n\nCaboolture\n\nQueensland\n\n## Around the Globe\n\nAround the Globe\n\n### Hurricane Tracker\n\n### Severe Weather\n\n### Radar & Maps\n\n### News & Features\n\n### Astronomy\n\n### Business\n\n### Climate\n\n### Health\n\n### Recreation\n\n### Sports\n\n### Travel\n\n### Warnings\n\n### Data Suite\n\n### Forensics\n\n### Advertising\n\n### Superior Accuracy™\n\n### Video\n\n## Monthly\n\n## September\n\n## 2025\n\n## Daily\n\n## Temperature Graph\n\n## Further Ahead\n\nFurther Ahead\n\n### October 2025\n\n### November 2025 [...] ### December 2025\n\n## Around the Globe\n\nAround the Globe\n\n### Hurricane Tracker\n\n### Severe Weather\n\n### Radar & Maps\n\n### News\n\n### Video\n\nTop Stories\n\nHurricane\n\nTropical Storm Imelda to bring flooding, damaging surf to southeast US\n\n1 hour ago\n\nSevere Weather\n\nDevastating flooding leaves 4 dead in Arizona\n\n14 hours ago\n\nWeather Forecasts\n\nBig pattern change to usher cooler air, needed rain into the Northwest\n\n6 hours ago\n\nHurricane [...] Cat. 4 Humberto to bring rain, strong winds and heavy seas to Bermuda\n\n1 hour ago\n\nAstronomy\n\nSuper Harvest Moon, 2 meteor showers to light up October nights\n\n2 days ago\n\nFeatured Stories\n\nTravel\n\n6 scenic fall drives where you can get your foliage fix this year\n\n8 hours ago\n\nHurricane\n\nA year after Hurricane Helene, Florida, Appalachians still bear scars\n\n3 days ago\n\nTravel\n\nBoy hides in plane’s landing gear on flight from Kabul to Delhi\n\n2 days ago\n\nSevere Weather",
        "score": 0.62934244,
        "title": "Caboolture, Queensland, Australia Monthly Weather | AccuWeather",
        "url": "https://www.accuweather.com/en/au/caboolture/14088/september-weather/14088"
       },
       {
        "content": "### October 2025\n\n## Around the Globe\n\nAround the Globe\n\n### Hurricane Tracker\n\n### Severe Weather\n\n### Radar & Maps\n\n### News\n\n### Video\n\nTop Stories\n\nHurricane\n\nTropical Storm Imelda to bring flooding, damaging surf to southeast US\n\n1 hour ago\n\nSevere Weather\n\nDevastating flooding leaves 4 dead in Arizona\n\n14 hours ago\n\nWeather Forecasts\n\nBig pattern change to usher cooler air, needed rain into the Northwest\n\n6 hours ago\n\nHurricane [...] # Caboolture, Queensland\n\nCaboolture\n\nQueensland\n\n## Around the Globe\n\nAround the Globe\n\n### Hurricane Tracker\n\n### Severe Weather\n\n### Radar & Maps\n\n### News & Features\n\n### Astronomy\n\n### Business\n\n### Climate\n\n### Health\n\n### Recreation\n\n### Sports\n\n### Travel\n\n### Warnings\n\n### Data Suite\n\n### Forensics\n\n### Advertising\n\n### Superior Accuracy™\n\n### Video\n\n## Monthly\n\n## July\n\n## 2025\n\n## Daily\n\n## Temperature Graph\n\n## Further Ahead\n\nFurther Ahead\n\n### August 2025\n\n### September 2025 [...] Cat. 4 Humberto to bring rain, strong winds and heavy seas to Bermuda\n\n1 hour ago\n\nAstronomy\n\nSuper Harvest Moon, 2 meteor showers to light up October nights\n\n2 days ago\n\nFeatured Stories\n\nTravel\n\n6 scenic fall drives where you can get your foliage fix this year\n\n8 hours ago\n\nHurricane\n\nA year after Hurricane Helene, Florida, Appalachians still bear scars\n\n3 days ago\n\nTravel\n\nBoy hides in plane’s landing gear on flight from Kabul to Delhi\n\n2 days ago\n\nSevere Weather",
        "score": 0.4813325,
        "title": "Caboolture, Queensland, Australia Monthly Weather | AccuWeather",
        "url": "https://www.accuweather.com/en/au/caboolture/14088/july-weather/14088"
       }
      ],
      "text/plain": [
       "<IPython.core.display.JSON object>"
      ]
     },
     "metadata": {
      "application/json": {
       "expanded": false,
       "root": "root"
      }
     },
     "output_type": "display_data"
    },
    {
     "name": "stdout",
     "output_type": "stream",
     "text": [
      "----  tool message -----\n"
     ]
    },
    {
     "data": {
      "application/json": [
       [
        [
         "content",
         "[{\"title\": \"Caboolture Forecast - Bureau of Meteorology\", \"url\": \"https://www.bom.gov.au/qld/forecasts/caboolture.shtml\", \"content\": \"Print Background\\nAustralian Government - Bureau of Meteorology\\n\\nBureau Home > Australia > Queensland > Forecasts > Caboolture Forecast\\n\\n# Caboolture Forecast\\n\\nView the current warnings for Queensland\\n\\nForecast updated at 9:16 am EST on Monday 29 September 2025.\\n\\n## Forecast for the rest of Monday\\n\\n### Southeast Coast area\\n\\nMostly sunny. Light winds becoming east to northeasterly 15 to 20 km/h in the early afternoon then becoming light in the evening. Daytime maximum temperatures 28 to 34. [...] Sun protection recommended from 8:20 am to 2:50 pm, UV Index predicted to reach 8 [Very High]\\n\\n## Friday 3 October\\n\\n## Saturday 4 October\\n\\n## Sunday 5 October\\n\\nThe next routine forecast will be issued at 4:15 pm EST Monday.\\n\\nProduct derived from IDQ11295 and IDQ10090\\n\\n### Graphical Views\\n\\nThis page was created at 01:42\\non Monday 29 September 2025 (UTC) [...] Morning fog then mostly sunny.\\nMostly sunny.\\nCloud clearing.\\nMorning fog then mostly sunny.\\nPartly cloudy.\\nPartly cloudy.\\nPartly cloudy.\\nMostly sunny.\\n\\n## Tuesday 30 September\\n\\n### Southeast Coast area\\n\\nThe chance of fog in the early morning. Mostly sunny afternoon. Light winds becoming northeasterly 15 to 20 km/h in the middle of the day then becoming light in the late evening. Overnight temperatures falling to between 12 and 16 with daytime temperatures reaching 27 to 32.\", \"score\": 0.9336793}, {\"title\": \"Caboolture - 14-Day Forecast: Temperature, Wind & Radar - Ventusky\", \"url\": \"https://www.ventusky.com/caboolture\", \"content\": \"# Live Weather Forecast Maps\\n\\nRadar\\n\\n# Caboolture\\n\\n|  |  |\\n --- |\\n| partly cloudy | 25 \\u00b0C |\\n|  |\\n| Wind speed  17 km/h |\\n\\npartly cloudy\\n\\n|  |  |\\n --- |\\n| Humidity | 69 % |\\n| Air pressure | 1015 hPa |\\n| Clouds | 30 % |\\n| Cloud base | 914 m |\\n\\nCalculated from nearby stations (11:00 2025/09/29)\\n\\nOpen Radar Map\\n\\n## Weather for the next 24 hours [...] SW  1 km/h | fog 20 \\u00b0C 0 mm 0 %  SW  1 km/h | fog 20 \\u00b0C 0 mm 0 %  SE  1 km/h | fog 20 \\u00b0C 0 mm 0 %  NE  1 km/h | fog 20 \\u00b0C 0 mm 0 %  NW  1 km/h | fog 19 \\u00b0C 0 mm 0 %  W  3 km/h | fog 19 \\u00b0C 0 mm 0 %  W  5 km/h | fog 20 \\u00b0C 0 mm 0 %  W  3 km/h | mostly cloudy 22 \\u00b0C 0 mm 0 %  SE  1 km/h | partly cloudy 23 \\u00b0C 0 mm 0 %  NE  8 km/h | clear sky with few clouds 24 \\u00b0C 0 mm 0 %  E  9 km/h | clear sky with few clouds 25 \\u00b0C 0 mm 0 %  NE  12 km/h | clear sky with few clouds 26 \\u00b0C 0 mm 0 %  NE  13 km/h | [...] | clear sky 29 \\u00b0C 0 mm 0 %  SE  8 km/h | clear sky 27 \\u00b0C 0 mm 0 %  E  13 km/h | clear sky 27 \\u00b0C 0 mm 0 %  NE  17 km/h | clear sky 25 \\u00b0C 0 mm 0 %  NE  20 km/h | clear sky 24 \\u00b0C 0 mm 0 %  NE  16 km/h | partly cloudy 23 \\u00b0C 0 mm 0 %  NE  10 km/h | partly cloudy 22 \\u00b0C 0 mm 0 %  NE  7 km/h | partly cloudy 22 \\u00b0C 0 mm 0 %  NE  6 km/h | mostly cloudy 21 \\u00b0C 0 mm 0 %  N  5 km/h | mostly cloudy 21 \\u00b0C 0 mm 0 %  W  3 km/h | fog 20 \\u00b0C 0 mm 0 %  SW  1 km/h | fog 20 \\u00b0C 0 mm 0 %  SW  1 km/h | fog 20 \\u00b0C 0 mm 0 %\", \"score\": 0.9159971}, {\"title\": \"Caboolture 14 Day Extended Forecast - Weather - Time and Date\", \"url\": \"https://www.timeanddate.com/weather/@2172832/ext\", \"content\": \"| Mon Oct 13 |  | 80 / 63 \\u00b0F | Mostly sunny. | 79 \\u00b0F | 12 mph | \\u2191 | 54% | 6% | 0.00\\\" | 7 (High) | 5:14 am | 5:54 pm |\\n|  |  |  |  |  |  |  |  |  |  |  |  |  |\\n ---  ---  ---  ---  ---  --- \\n| \\\\ Updated Monday, September 29, 2025 7:24:07 am Caboolture time - Weather by CustomWeather, \\u00a9 2025 | | | | | | | | | | | | | [...] |  | Conditions | | | Comfort | | | | Precipitation | | Sun | | |\\n ---  ---  ---  ---  ---  --- \\n| Day |  | Temperature | Weather | Feels Like | Wind |  | Humidity | Chance | Amount | UV | Sunrise | Sunset |\\n| Mon Sep 29 |  | 91 / 59 \\u00b0F | Sunny. | 84 \\u00b0F | 8 mph | \\u2191 | 44% | 2% | 0.00\\\" | 7 (High) | 5:30 am | 5:47 pm |\\n| Tue Sep 30 |  | 83 / 64 \\u00b0F | Mostly sunny. | 82 \\u00b0F | 11 mph | \\u2191 | 61% | 4% | 0.00\\\" | 5 (Moderate) | 5:28 am | 5:47 pm | [...] | Wed Oct 1 |  | 85 / 65 \\u00b0F | Sprinkles late. Overcast. | 87 \\u00b0F | 9 mph | \\u2191 | 63% | 17% | 0.01\\\" | 3 (Moderate) | 5:27 am | 5:48 pm |\\n| Thu Oct 2 |  | 95 / 62 \\u00b0F | Mostly cloudy. | 87 \\u00b0F | 12 mph | \\u2191 | 25% | 0% | 0.00\\\" | 3 (Moderate) | 5:26 am | 5:48 pm |\\n| Fri Oct 3 |  | 87 / 59 \\u00b0F | Sunny. | 82 \\u00b0F | 14 mph | \\u2191 | 17% | 0% | 0.00\\\" | 7 (High) | 5:25 am | 5:49 pm |\\n| Sat Oct 4 |  | 78 / 53 \\u00b0F | Mostly sunny. | 78 \\u00b0F | 11 mph | \\u2191 | 40% | 3% | 0.00\\\" | 3 (Moderate) | 5:24 am | 5:49 pm |\", \"score\": 0.8914433}, {\"title\": \"Caboolture, Queensland, Australia Monthly Weather | AccuWeather\", \"url\": \"https://www.accuweather.com/en/au/caboolture/14088/september-weather/14088\", \"content\": \"# Caboolture, Queensland\\n\\nCaboolture\\n\\nQueensland\\n\\n## Around the Globe\\n\\nAround the Globe\\n\\n### Hurricane Tracker\\n\\n### Severe Weather\\n\\n### Radar & Maps\\n\\n### News & Features\\n\\n### Astronomy\\n\\n### Business\\n\\n### Climate\\n\\n### Health\\n\\n### Recreation\\n\\n### Sports\\n\\n### Travel\\n\\n### Warnings\\n\\n### Data Suite\\n\\n### Forensics\\n\\n### Advertising\\n\\n### Superior Accuracy\\u2122\\n\\n### Video\\n\\n## Monthly\\n\\n## September\\n\\n## 2025\\n\\n## Daily\\n\\n## Temperature Graph\\n\\n## Further Ahead\\n\\nFurther Ahead\\n\\n### October 2025\\n\\n### November 2025 [...] ### December 2025\\n\\n## Around the Globe\\n\\nAround the Globe\\n\\n### Hurricane Tracker\\n\\n### Severe Weather\\n\\n### Radar & Maps\\n\\n### News\\n\\n### Video\\n\\nTop Stories\\n\\nHurricane\\n\\nTropical Storm Imelda to bring flooding, damaging surf to southeast US\\n\\n1 hour ago\\n\\nSevere Weather\\n\\nDevastating flooding leaves 4 dead in Arizona\\n\\n14 hours ago\\n\\nWeather Forecasts\\n\\nBig pattern change to usher cooler air, needed rain into the Northwest\\n\\n6 hours ago\\n\\nHurricane [...] Cat. 4 Humberto to bring rain, strong winds and heavy seas to Bermuda\\n\\n1 hour ago\\n\\nAstronomy\\n\\nSuper Harvest Moon, 2 meteor showers to light up October nights\\n\\n2 days ago\\n\\nFeatured Stories\\n\\nTravel\\n\\n6 scenic fall drives where you can get your foliage fix this year\\n\\n8 hours ago\\n\\nHurricane\\n\\nA year after Hurricane Helene, Florida, Appalachians still bear scars\\n\\n3 days ago\\n\\nTravel\\n\\nBoy hides in plane\\u2019s landing gear on flight from Kabul to Delhi\\n\\n2 days ago\\n\\nSevere Weather\", \"score\": 0.62934244}, {\"title\": \"Caboolture, Queensland, Australia Monthly Weather | AccuWeather\", \"url\": \"https://www.accuweather.com/en/au/caboolture/14088/july-weather/14088\", \"content\": \"### October 2025\\n\\n## Around the Globe\\n\\nAround the Globe\\n\\n### Hurricane Tracker\\n\\n### Severe Weather\\n\\n### Radar & Maps\\n\\n### News\\n\\n### Video\\n\\nTop Stories\\n\\nHurricane\\n\\nTropical Storm Imelda to bring flooding, damaging surf to southeast US\\n\\n1 hour ago\\n\\nSevere Weather\\n\\nDevastating flooding leaves 4 dead in Arizona\\n\\n14 hours ago\\n\\nWeather Forecasts\\n\\nBig pattern change to usher cooler air, needed rain into the Northwest\\n\\n6 hours ago\\n\\nHurricane [...] # Caboolture, Queensland\\n\\nCaboolture\\n\\nQueensland\\n\\n## Around the Globe\\n\\nAround the Globe\\n\\n### Hurricane Tracker\\n\\n### Severe Weather\\n\\n### Radar & Maps\\n\\n### News & Features\\n\\n### Astronomy\\n\\n### Business\\n\\n### Climate\\n\\n### Health\\n\\n### Recreation\\n\\n### Sports\\n\\n### Travel\\n\\n### Warnings\\n\\n### Data Suite\\n\\n### Forensics\\n\\n### Advertising\\n\\n### Superior Accuracy\\u2122\\n\\n### Video\\n\\n## Monthly\\n\\n## July\\n\\n## 2025\\n\\n## Daily\\n\\n## Temperature Graph\\n\\n## Further Ahead\\n\\nFurther Ahead\\n\\n### August 2025\\n\\n### September 2025 [...] Cat. 4 Humberto to bring rain, strong winds and heavy seas to Bermuda\\n\\n1 hour ago\\n\\nAstronomy\\n\\nSuper Harvest Moon, 2 meteor showers to light up October nights\\n\\n2 days ago\\n\\nFeatured Stories\\n\\nTravel\\n\\n6 scenic fall drives where you can get your foliage fix this year\\n\\n8 hours ago\\n\\nHurricane\\n\\nA year after Hurricane Helene, Florida, Appalachians still bear scars\\n\\n3 days ago\\n\\nTravel\\n\\nBoy hides in plane\\u2019s landing gear on flight from Kabul to Delhi\\n\\n2 days ago\\n\\nSevere Weather\", \"score\": 0.4813325}]"
        ],
        [
         "additional_kwargs",
         {}
        ],
        [
         "response_metadata",
         {}
        ],
        [
         "type",
         "tool"
        ],
        [
         "name",
         "search_tool"
        ],
        [
         "id",
         null
        ],
        [
         "tool_call_id",
         "call_bwZDh005PkacbSGiwLEihofQ"
        ],
        [
         "artifact",
         null
        ],
        [
         "status",
         "success"
        ]
       ]
      ],
      "text/plain": [
       "<IPython.core.display.JSON object>"
      ]
     },
     "metadata": {
      "application/json": {
       "expanded": false,
       "root": "root"
      }
     },
     "output_type": "display_data"
    },
    {
     "name": "stdout",
     "output_type": "stream",
     "text": [
      "----  state progression -----\n"
     ]
    },
    {
     "data": {
      "application/json": {
       "messages": [
        [
         [
          "content",
          "What's the weather like in Caboolture, and what should I wear based on the temperature?"
         ],
         [
          "additional_kwargs",
          {}
         ],
         [
          "response_metadata",
          {}
         ],
         [
          "type",
          "human"
         ],
         [
          "name",
          null
         ],
         [
          "id",
          "fa556da5-28e5-47f1-aa58-144a029f8a15"
         ],
         [
          "example",
          false
         ]
        ],
        [
         [
          "content",
          ""
         ],
         [
          "additional_kwargs",
          {
           "refusal": null,
           "tool_calls": [
            {
             "function": {
              "arguments": "{\"query\":\"current weather Caboolture\"}",
              "name": "search_tool"
             },
             "id": "call_bwZDh005PkacbSGiwLEihofQ",
             "type": "function"
            }
           ]
          }
         ],
         [
          "response_metadata",
          {
           "finish_reason": "tool_calls",
           "id": "chatcmpl-CKxANvMTHxJHrwH5kt91lem8z2KDx",
           "logprobs": null,
           "model_name": "gpt-4o-mini-2024-07-18",
           "system_fingerprint": "fp_560af6e559",
           "token_usage": {
            "completion_tokens": 19,
            "completion_tokens_details": {
             "accepted_prediction_tokens": 0,
             "audio_tokens": 0,
             "reasoning_tokens": 0,
             "rejected_prediction_tokens": 0
            },
            "prompt_tokens": 289,
            "prompt_tokens_details": {
             "audio_tokens": 0,
             "cached_tokens": 0
            },
            "total_tokens": 308
           }
          }
         ],
         [
          "type",
          "ai"
         ],
         [
          "name",
          null
         ],
         [
          "id",
          "run--afc12632-e0ea-4e28-91c1-aa50596da16c-0"
         ],
         [
          "example",
          false
         ],
         [
          "tool_calls",
          [
           {
            "args": {
             "query": "current weather Caboolture"
            },
            "id": "call_bwZDh005PkacbSGiwLEihofQ",
            "name": "search_tool",
            "type": "tool_call"
           }
          ]
         ],
         [
          "invalid_tool_calls",
          []
         ],
         [
          "usage_metadata",
          {
           "input_token_details": {
            "audio": 0,
            "cache_read": 0
           },
           "input_tokens": 289,
           "output_token_details": {
            "audio": 0,
            "reasoning": 0
           },
           "output_tokens": 19,
           "total_tokens": 308
          }
         ]
        ],
        [
         [
          "content",
          "[{\"title\": \"Caboolture Forecast - Bureau of Meteorology\", \"url\": \"https://www.bom.gov.au/qld/forecasts/caboolture.shtml\", \"content\": \"Print Background\\nAustralian Government - Bureau of Meteorology\\n\\nBureau Home > Australia > Queensland > Forecasts > Caboolture Forecast\\n\\n# Caboolture Forecast\\n\\nView the current warnings for Queensland\\n\\nForecast updated at 9:16 am EST on Monday 29 September 2025.\\n\\n## Forecast for the rest of Monday\\n\\n### Southeast Coast area\\n\\nMostly sunny. Light winds becoming east to northeasterly 15 to 20 km/h in the early afternoon then becoming light in the evening. Daytime maximum temperatures 28 to 34. [...] Sun protection recommended from 8:20 am to 2:50 pm, UV Index predicted to reach 8 [Very High]\\n\\n## Friday 3 October\\n\\n## Saturday 4 October\\n\\n## Sunday 5 October\\n\\nThe next routine forecast will be issued at 4:15 pm EST Monday.\\n\\nProduct derived from IDQ11295 and IDQ10090\\n\\n### Graphical Views\\n\\nThis page was created at 01:42\\non Monday 29 September 2025 (UTC) [...] Morning fog then mostly sunny.\\nMostly sunny.\\nCloud clearing.\\nMorning fog then mostly sunny.\\nPartly cloudy.\\nPartly cloudy.\\nPartly cloudy.\\nMostly sunny.\\n\\n## Tuesday 30 September\\n\\n### Southeast Coast area\\n\\nThe chance of fog in the early morning. Mostly sunny afternoon. Light winds becoming northeasterly 15 to 20 km/h in the middle of the day then becoming light in the late evening. Overnight temperatures falling to between 12 and 16 with daytime temperatures reaching 27 to 32.\", \"score\": 0.9336793}, {\"title\": \"Caboolture - 14-Day Forecast: Temperature, Wind & Radar - Ventusky\", \"url\": \"https://www.ventusky.com/caboolture\", \"content\": \"# Live Weather Forecast Maps\\n\\nRadar\\n\\n# Caboolture\\n\\n|  |  |\\n --- |\\n| partly cloudy | 25 \\u00b0C |\\n|  |\\n| Wind speed  17 km/h |\\n\\npartly cloudy\\n\\n|  |  |\\n --- |\\n| Humidity | 69 % |\\n| Air pressure | 1015 hPa |\\n| Clouds | 30 % |\\n| Cloud base | 914 m |\\n\\nCalculated from nearby stations (11:00 2025/09/29)\\n\\nOpen Radar Map\\n\\n## Weather for the next 24 hours [...] SW  1 km/h | fog 20 \\u00b0C 0 mm 0 %  SW  1 km/h | fog 20 \\u00b0C 0 mm 0 %  SE  1 km/h | fog 20 \\u00b0C 0 mm 0 %  NE  1 km/h | fog 20 \\u00b0C 0 mm 0 %  NW  1 km/h | fog 19 \\u00b0C 0 mm 0 %  W  3 km/h | fog 19 \\u00b0C 0 mm 0 %  W  5 km/h | fog 20 \\u00b0C 0 mm 0 %  W  3 km/h | mostly cloudy 22 \\u00b0C 0 mm 0 %  SE  1 km/h | partly cloudy 23 \\u00b0C 0 mm 0 %  NE  8 km/h | clear sky with few clouds 24 \\u00b0C 0 mm 0 %  E  9 km/h | clear sky with few clouds 25 \\u00b0C 0 mm 0 %  NE  12 km/h | clear sky with few clouds 26 \\u00b0C 0 mm 0 %  NE  13 km/h | [...] | clear sky 29 \\u00b0C 0 mm 0 %  SE  8 km/h | clear sky 27 \\u00b0C 0 mm 0 %  E  13 km/h | clear sky 27 \\u00b0C 0 mm 0 %  NE  17 km/h | clear sky 25 \\u00b0C 0 mm 0 %  NE  20 km/h | clear sky 24 \\u00b0C 0 mm 0 %  NE  16 km/h | partly cloudy 23 \\u00b0C 0 mm 0 %  NE  10 km/h | partly cloudy 22 \\u00b0C 0 mm 0 %  NE  7 km/h | partly cloudy 22 \\u00b0C 0 mm 0 %  NE  6 km/h | mostly cloudy 21 \\u00b0C 0 mm 0 %  N  5 km/h | mostly cloudy 21 \\u00b0C 0 mm 0 %  W  3 km/h | fog 20 \\u00b0C 0 mm 0 %  SW  1 km/h | fog 20 \\u00b0C 0 mm 0 %  SW  1 km/h | fog 20 \\u00b0C 0 mm 0 %\", \"score\": 0.9159971}, {\"title\": \"Caboolture 14 Day Extended Forecast - Weather - Time and Date\", \"url\": \"https://www.timeanddate.com/weather/@2172832/ext\", \"content\": \"| Mon Oct 13 |  | 80 / 63 \\u00b0F | Mostly sunny. | 79 \\u00b0F | 12 mph | \\u2191 | 54% | 6% | 0.00\\\" | 7 (High) | 5:14 am | 5:54 pm |\\n|  |  |  |  |  |  |  |  |  |  |  |  |  |\\n ---  ---  ---  ---  ---  --- \\n| \\\\ Updated Monday, September 29, 2025 7:24:07 am Caboolture time - Weather by CustomWeather, \\u00a9 2025 | | | | | | | | | | | | | [...] |  | Conditions | | | Comfort | | | | Precipitation | | Sun | | |\\n ---  ---  ---  ---  ---  --- \\n| Day |  | Temperature | Weather | Feels Like | Wind |  | Humidity | Chance | Amount | UV | Sunrise | Sunset |\\n| Mon Sep 29 |  | 91 / 59 \\u00b0F | Sunny. | 84 \\u00b0F | 8 mph | \\u2191 | 44% | 2% | 0.00\\\" | 7 (High) | 5:30 am | 5:47 pm |\\n| Tue Sep 30 |  | 83 / 64 \\u00b0F | Mostly sunny. | 82 \\u00b0F | 11 mph | \\u2191 | 61% | 4% | 0.00\\\" | 5 (Moderate) | 5:28 am | 5:47 pm | [...] | Wed Oct 1 |  | 85 / 65 \\u00b0F | Sprinkles late. Overcast. | 87 \\u00b0F | 9 mph | \\u2191 | 63% | 17% | 0.01\\\" | 3 (Moderate) | 5:27 am | 5:48 pm |\\n| Thu Oct 2 |  | 95 / 62 \\u00b0F | Mostly cloudy. | 87 \\u00b0F | 12 mph | \\u2191 | 25% | 0% | 0.00\\\" | 3 (Moderate) | 5:26 am | 5:48 pm |\\n| Fri Oct 3 |  | 87 / 59 \\u00b0F | Sunny. | 82 \\u00b0F | 14 mph | \\u2191 | 17% | 0% | 0.00\\\" | 7 (High) | 5:25 am | 5:49 pm |\\n| Sat Oct 4 |  | 78 / 53 \\u00b0F | Mostly sunny. | 78 \\u00b0F | 11 mph | \\u2191 | 40% | 3% | 0.00\\\" | 3 (Moderate) | 5:24 am | 5:49 pm |\", \"score\": 0.8914433}, {\"title\": \"Caboolture, Queensland, Australia Monthly Weather | AccuWeather\", \"url\": \"https://www.accuweather.com/en/au/caboolture/14088/september-weather/14088\", \"content\": \"# Caboolture, Queensland\\n\\nCaboolture\\n\\nQueensland\\n\\n## Around the Globe\\n\\nAround the Globe\\n\\n### Hurricane Tracker\\n\\n### Severe Weather\\n\\n### Radar & Maps\\n\\n### News & Features\\n\\n### Astronomy\\n\\n### Business\\n\\n### Climate\\n\\n### Health\\n\\n### Recreation\\n\\n### Sports\\n\\n### Travel\\n\\n### Warnings\\n\\n### Data Suite\\n\\n### Forensics\\n\\n### Advertising\\n\\n### Superior Accuracy\\u2122\\n\\n### Video\\n\\n## Monthly\\n\\n## September\\n\\n## 2025\\n\\n## Daily\\n\\n## Temperature Graph\\n\\n## Further Ahead\\n\\nFurther Ahead\\n\\n### October 2025\\n\\n### November 2025 [...] ### December 2025\\n\\n## Around the Globe\\n\\nAround the Globe\\n\\n### Hurricane Tracker\\n\\n### Severe Weather\\n\\n### Radar & Maps\\n\\n### News\\n\\n### Video\\n\\nTop Stories\\n\\nHurricane\\n\\nTropical Storm Imelda to bring flooding, damaging surf to southeast US\\n\\n1 hour ago\\n\\nSevere Weather\\n\\nDevastating flooding leaves 4 dead in Arizona\\n\\n14 hours ago\\n\\nWeather Forecasts\\n\\nBig pattern change to usher cooler air, needed rain into the Northwest\\n\\n6 hours ago\\n\\nHurricane [...] Cat. 4 Humberto to bring rain, strong winds and heavy seas to Bermuda\\n\\n1 hour ago\\n\\nAstronomy\\n\\nSuper Harvest Moon, 2 meteor showers to light up October nights\\n\\n2 days ago\\n\\nFeatured Stories\\n\\nTravel\\n\\n6 scenic fall drives where you can get your foliage fix this year\\n\\n8 hours ago\\n\\nHurricane\\n\\nA year after Hurricane Helene, Florida, Appalachians still bear scars\\n\\n3 days ago\\n\\nTravel\\n\\nBoy hides in plane\\u2019s landing gear on flight from Kabul to Delhi\\n\\n2 days ago\\n\\nSevere Weather\", \"score\": 0.62934244}, {\"title\": \"Caboolture, Queensland, Australia Monthly Weather | AccuWeather\", \"url\": \"https://www.accuweather.com/en/au/caboolture/14088/july-weather/14088\", \"content\": \"### October 2025\\n\\n## Around the Globe\\n\\nAround the Globe\\n\\n### Hurricane Tracker\\n\\n### Severe Weather\\n\\n### Radar & Maps\\n\\n### News\\n\\n### Video\\n\\nTop Stories\\n\\nHurricane\\n\\nTropical Storm Imelda to bring flooding, damaging surf to southeast US\\n\\n1 hour ago\\n\\nSevere Weather\\n\\nDevastating flooding leaves 4 dead in Arizona\\n\\n14 hours ago\\n\\nWeather Forecasts\\n\\nBig pattern change to usher cooler air, needed rain into the Northwest\\n\\n6 hours ago\\n\\nHurricane [...] # Caboolture, Queensland\\n\\nCaboolture\\n\\nQueensland\\n\\n## Around the Globe\\n\\nAround the Globe\\n\\n### Hurricane Tracker\\n\\n### Severe Weather\\n\\n### Radar & Maps\\n\\n### News & Features\\n\\n### Astronomy\\n\\n### Business\\n\\n### Climate\\n\\n### Health\\n\\n### Recreation\\n\\n### Sports\\n\\n### Travel\\n\\n### Warnings\\n\\n### Data Suite\\n\\n### Forensics\\n\\n### Advertising\\n\\n### Superior Accuracy\\u2122\\n\\n### Video\\n\\n## Monthly\\n\\n## July\\n\\n## 2025\\n\\n## Daily\\n\\n## Temperature Graph\\n\\n## Further Ahead\\n\\nFurther Ahead\\n\\n### August 2025\\n\\n### September 2025 [...] Cat. 4 Humberto to bring rain, strong winds and heavy seas to Bermuda\\n\\n1 hour ago\\n\\nAstronomy\\n\\nSuper Harvest Moon, 2 meteor showers to light up October nights\\n\\n2 days ago\\n\\nFeatured Stories\\n\\nTravel\\n\\n6 scenic fall drives where you can get your foliage fix this year\\n\\n8 hours ago\\n\\nHurricane\\n\\nA year after Hurricane Helene, Florida, Appalachians still bear scars\\n\\n3 days ago\\n\\nTravel\\n\\nBoy hides in plane\\u2019s landing gear on flight from Kabul to Delhi\\n\\n2 days ago\\n\\nSevere Weather\", \"score\": 0.4813325}]"
         ],
         [
          "additional_kwargs",
          {}
         ],
         [
          "response_metadata",
          {}
         ],
         [
          "type",
          "tool"
         ],
         [
          "name",
          "search_tool"
         ],
         [
          "id",
          "87eb1091-c3a8-4f9e-8ca0-823049c86fe3"
         ],
         [
          "tool_call_id",
          "call_bwZDh005PkacbSGiwLEihofQ"
         ],
         [
          "artifact",
          null
         ],
         [
          "status",
          "success"
         ]
        ]
       ]
      },
      "text/plain": [
       "<IPython.core.display.JSON object>"
      ]
     },
     "metadata": {
      "application/json": {
       "expanded": false,
       "root": "root"
      }
     },
     "output_type": "display_data"
    }
   ],
   "source": [
    "tool_call = response.tool_calls[-1]\n",
    "print(\"Tool call:\", tool_call)\n",
    "\n",
    "tool_result = tools_by_name[tool_call[\"name\"]].invoke(tool_call[\"args\"])\n",
    "print(\"Tool result preview:\", tool_result[0]['title'])\n",
    "display(JSON(tool_result))\n",
    "\n",
    "tool_message = ToolMessage(\n",
    "    content=json.dumps(tool_result),\n",
    "    name=tool_call[\"name\"],\n",
    "    tool_call_id=tool_call[\"id\"]\n",
    ")\n",
    "print(\"----  tool message -----\")\n",
    "display(JSON([tool_message]))\n",
    "\n",
    "dummy_state[\"messages\"] = add_messages(dummy_state[\"messages\"], [tool_message])\n",
    "print(\"----  state progression -----\")\n",
    "display(JSON(dummy_state))"
   ]
  },
  {
   "cell_type": "markdown",
   "metadata": {},
   "source": [
    "**What Happens Here:**\n",
    "1. Extract the tool call from the model's response.\n",
    "2. Execute the tool using the specified arguments.\n",
    "3. Create a ToolMessage containing the results.\n",
    "4. Add the tool result to the conversation state.\n"
   ]
  },
  {
   "cell_type": "markdown",
   "metadata": {},
   "source": [
    "### Step 3: Processing Results and Next Action\n"
   ]
  },
  {
   "cell_type": "code",
   "execution_count": 16,
   "metadata": {},
   "outputs": [
    {
     "name": "stdout",
     "output_type": "stream",
     "text": [
      "----  ai response -----\n"
     ]
    },
    {
     "data": {
      "application/json": [
       [
        [
         "content",
         ""
        ],
        [
         "additional_kwargs",
         {
          "refusal": null,
          "tool_calls": [
           {
            "function": {
             "arguments": "{\"weather\":\"Mostly sunny, 25°C\"}",
             "name": "recommend_clothing"
            },
            "id": "call_hu65pWgO94NXGS86dZ11uwdR",
            "type": "function"
           }
          ]
         }
        ],
        [
         "response_metadata",
         {
          "finish_reason": "tool_calls",
          "id": "chatcmpl-CKxErU6SUjbQQUdVmHnzRSekwxg2o",
          "logprobs": null,
          "model_name": "gpt-4o-mini-2024-07-18",
          "system_fingerprint": "fp_560af6e559",
          "token_usage": {
           "completion_tokens": 21,
           "completion_tokens_details": {
            "accepted_prediction_tokens": 0,
            "audio_tokens": 0,
            "reasoning_tokens": 0,
            "rejected_prediction_tokens": 0
           },
           "prompt_tokens": 3190,
           "prompt_tokens_details": {
            "audio_tokens": 0,
            "cached_tokens": 0
           },
           "total_tokens": 3211
          }
         }
        ],
        [
         "type",
         "ai"
        ],
        [
         "name",
         null
        ],
        [
         "id",
         "run--6ce7411e-c572-48cd-943b-65aa520d905b-0"
        ],
        [
         "example",
         false
        ],
        [
         "tool_calls",
         [
          {
           "args": {
            "weather": "Mostly sunny, 25°C"
           },
           "id": "call_hu65pWgO94NXGS86dZ11uwdR",
           "name": "recommend_clothing",
           "type": "tool_call"
          }
         ]
        ],
        [
         "invalid_tool_calls",
         []
        ],
        [
         "usage_metadata",
         {
          "input_token_details": {
           "audio": 0,
           "cache_read": 0
          },
          "input_tokens": 3190,
          "output_token_details": {
           "audio": 0,
           "reasoning": 0
          },
          "output_tokens": 21,
          "total_tokens": 3211
         }
        ]
       ]
      ],
      "text/plain": [
       "<IPython.core.display.JSON object>"
      ]
     },
     "metadata": {
      "application/json": {
       "expanded": false,
       "root": "root"
      }
     },
     "output_type": "display_data"
    },
    {
     "name": "stdout",
     "output_type": "stream",
     "text": [
      "----  state progression -----\n"
     ]
    },
    {
     "data": {
      "application/json": {
       "messages": [
        [
         [
          "content",
          "What's the weather like in Caboolture, and what should I wear based on the temperature?"
         ],
         [
          "additional_kwargs",
          {}
         ],
         [
          "response_metadata",
          {}
         ],
         [
          "type",
          "human"
         ],
         [
          "name",
          null
         ],
         [
          "id",
          "fa556da5-28e5-47f1-aa58-144a029f8a15"
         ],
         [
          "example",
          false
         ]
        ],
        [
         [
          "content",
          ""
         ],
         [
          "additional_kwargs",
          {
           "refusal": null,
           "tool_calls": [
            {
             "function": {
              "arguments": "{\"query\":\"current weather Caboolture\"}",
              "name": "search_tool"
             },
             "id": "call_bwZDh005PkacbSGiwLEihofQ",
             "type": "function"
            }
           ]
          }
         ],
         [
          "response_metadata",
          {
           "finish_reason": "tool_calls",
           "id": "chatcmpl-CKxANvMTHxJHrwH5kt91lem8z2KDx",
           "logprobs": null,
           "model_name": "gpt-4o-mini-2024-07-18",
           "system_fingerprint": "fp_560af6e559",
           "token_usage": {
            "completion_tokens": 19,
            "completion_tokens_details": {
             "accepted_prediction_tokens": 0,
             "audio_tokens": 0,
             "reasoning_tokens": 0,
             "rejected_prediction_tokens": 0
            },
            "prompt_tokens": 289,
            "prompt_tokens_details": {
             "audio_tokens": 0,
             "cached_tokens": 0
            },
            "total_tokens": 308
           }
          }
         ],
         [
          "type",
          "ai"
         ],
         [
          "name",
          null
         ],
         [
          "id",
          "run--afc12632-e0ea-4e28-91c1-aa50596da16c-0"
         ],
         [
          "example",
          false
         ],
         [
          "tool_calls",
          [
           {
            "args": {
             "query": "current weather Caboolture"
            },
            "id": "call_bwZDh005PkacbSGiwLEihofQ",
            "name": "search_tool",
            "type": "tool_call"
           }
          ]
         ],
         [
          "invalid_tool_calls",
          []
         ],
         [
          "usage_metadata",
          {
           "input_token_details": {
            "audio": 0,
            "cache_read": 0
           },
           "input_tokens": 289,
           "output_token_details": {
            "audio": 0,
            "reasoning": 0
           },
           "output_tokens": 19,
           "total_tokens": 308
          }
         ]
        ],
        [
         [
          "content",
          "[{\"title\": \"Caboolture Forecast - Bureau of Meteorology\", \"url\": \"https://www.bom.gov.au/qld/forecasts/caboolture.shtml\", \"content\": \"Print Background\\nAustralian Government - Bureau of Meteorology\\n\\nBureau Home > Australia > Queensland > Forecasts > Caboolture Forecast\\n\\n# Caboolture Forecast\\n\\nView the current warnings for Queensland\\n\\nForecast updated at 9:16 am EST on Monday 29 September 2025.\\n\\n## Forecast for the rest of Monday\\n\\n### Southeast Coast area\\n\\nMostly sunny. Light winds becoming east to northeasterly 15 to 20 km/h in the early afternoon then becoming light in the evening. Daytime maximum temperatures 28 to 34. [...] Sun protection recommended from 8:20 am to 2:50 pm, UV Index predicted to reach 8 [Very High]\\n\\n## Friday 3 October\\n\\n## Saturday 4 October\\n\\n## Sunday 5 October\\n\\nThe next routine forecast will be issued at 4:15 pm EST Monday.\\n\\nProduct derived from IDQ11295 and IDQ10090\\n\\n### Graphical Views\\n\\nThis page was created at 01:42\\non Monday 29 September 2025 (UTC) [...] Morning fog then mostly sunny.\\nMostly sunny.\\nCloud clearing.\\nMorning fog then mostly sunny.\\nPartly cloudy.\\nPartly cloudy.\\nPartly cloudy.\\nMostly sunny.\\n\\n## Tuesday 30 September\\n\\n### Southeast Coast area\\n\\nThe chance of fog in the early morning. Mostly sunny afternoon. Light winds becoming northeasterly 15 to 20 km/h in the middle of the day then becoming light in the late evening. Overnight temperatures falling to between 12 and 16 with daytime temperatures reaching 27 to 32.\", \"score\": 0.9336793}, {\"title\": \"Caboolture - 14-Day Forecast: Temperature, Wind & Radar - Ventusky\", \"url\": \"https://www.ventusky.com/caboolture\", \"content\": \"# Live Weather Forecast Maps\\n\\nRadar\\n\\n# Caboolture\\n\\n|  |  |\\n --- |\\n| partly cloudy | 25 \\u00b0C |\\n|  |\\n| Wind speed  17 km/h |\\n\\npartly cloudy\\n\\n|  |  |\\n --- |\\n| Humidity | 69 % |\\n| Air pressure | 1015 hPa |\\n| Clouds | 30 % |\\n| Cloud base | 914 m |\\n\\nCalculated from nearby stations (11:00 2025/09/29)\\n\\nOpen Radar Map\\n\\n## Weather for the next 24 hours [...] SW  1 km/h | fog 20 \\u00b0C 0 mm 0 %  SW  1 km/h | fog 20 \\u00b0C 0 mm 0 %  SE  1 km/h | fog 20 \\u00b0C 0 mm 0 %  NE  1 km/h | fog 20 \\u00b0C 0 mm 0 %  NW  1 km/h | fog 19 \\u00b0C 0 mm 0 %  W  3 km/h | fog 19 \\u00b0C 0 mm 0 %  W  5 km/h | fog 20 \\u00b0C 0 mm 0 %  W  3 km/h | mostly cloudy 22 \\u00b0C 0 mm 0 %  SE  1 km/h | partly cloudy 23 \\u00b0C 0 mm 0 %  NE  8 km/h | clear sky with few clouds 24 \\u00b0C 0 mm 0 %  E  9 km/h | clear sky with few clouds 25 \\u00b0C 0 mm 0 %  NE  12 km/h | clear sky with few clouds 26 \\u00b0C 0 mm 0 %  NE  13 km/h | [...] | clear sky 29 \\u00b0C 0 mm 0 %  SE  8 km/h | clear sky 27 \\u00b0C 0 mm 0 %  E  13 km/h | clear sky 27 \\u00b0C 0 mm 0 %  NE  17 km/h | clear sky 25 \\u00b0C 0 mm 0 %  NE  20 km/h | clear sky 24 \\u00b0C 0 mm 0 %  NE  16 km/h | partly cloudy 23 \\u00b0C 0 mm 0 %  NE  10 km/h | partly cloudy 22 \\u00b0C 0 mm 0 %  NE  7 km/h | partly cloudy 22 \\u00b0C 0 mm 0 %  NE  6 km/h | mostly cloudy 21 \\u00b0C 0 mm 0 %  N  5 km/h | mostly cloudy 21 \\u00b0C 0 mm 0 %  W  3 km/h | fog 20 \\u00b0C 0 mm 0 %  SW  1 km/h | fog 20 \\u00b0C 0 mm 0 %  SW  1 km/h | fog 20 \\u00b0C 0 mm 0 %\", \"score\": 0.9159971}, {\"title\": \"Caboolture 14 Day Extended Forecast - Weather - Time and Date\", \"url\": \"https://www.timeanddate.com/weather/@2172832/ext\", \"content\": \"| Mon Oct 13 |  | 80 / 63 \\u00b0F | Mostly sunny. | 79 \\u00b0F | 12 mph | \\u2191 | 54% | 6% | 0.00\\\" | 7 (High) | 5:14 am | 5:54 pm |\\n|  |  |  |  |  |  |  |  |  |  |  |  |  |\\n ---  ---  ---  ---  ---  --- \\n| \\\\ Updated Monday, September 29, 2025 7:24:07 am Caboolture time - Weather by CustomWeather, \\u00a9 2025 | | | | | | | | | | | | | [...] |  | Conditions | | | Comfort | | | | Precipitation | | Sun | | |\\n ---  ---  ---  ---  ---  --- \\n| Day |  | Temperature | Weather | Feels Like | Wind |  | Humidity | Chance | Amount | UV | Sunrise | Sunset |\\n| Mon Sep 29 |  | 91 / 59 \\u00b0F | Sunny. | 84 \\u00b0F | 8 mph | \\u2191 | 44% | 2% | 0.00\\\" | 7 (High) | 5:30 am | 5:47 pm |\\n| Tue Sep 30 |  | 83 / 64 \\u00b0F | Mostly sunny. | 82 \\u00b0F | 11 mph | \\u2191 | 61% | 4% | 0.00\\\" | 5 (Moderate) | 5:28 am | 5:47 pm | [...] | Wed Oct 1 |  | 85 / 65 \\u00b0F | Sprinkles late. Overcast. | 87 \\u00b0F | 9 mph | \\u2191 | 63% | 17% | 0.01\\\" | 3 (Moderate) | 5:27 am | 5:48 pm |\\n| Thu Oct 2 |  | 95 / 62 \\u00b0F | Mostly cloudy. | 87 \\u00b0F | 12 mph | \\u2191 | 25% | 0% | 0.00\\\" | 3 (Moderate) | 5:26 am | 5:48 pm |\\n| Fri Oct 3 |  | 87 / 59 \\u00b0F | Sunny. | 82 \\u00b0F | 14 mph | \\u2191 | 17% | 0% | 0.00\\\" | 7 (High) | 5:25 am | 5:49 pm |\\n| Sat Oct 4 |  | 78 / 53 \\u00b0F | Mostly sunny. | 78 \\u00b0F | 11 mph | \\u2191 | 40% | 3% | 0.00\\\" | 3 (Moderate) | 5:24 am | 5:49 pm |\", \"score\": 0.8914433}, {\"title\": \"Caboolture, Queensland, Australia Monthly Weather | AccuWeather\", \"url\": \"https://www.accuweather.com/en/au/caboolture/14088/september-weather/14088\", \"content\": \"# Caboolture, Queensland\\n\\nCaboolture\\n\\nQueensland\\n\\n## Around the Globe\\n\\nAround the Globe\\n\\n### Hurricane Tracker\\n\\n### Severe Weather\\n\\n### Radar & Maps\\n\\n### News & Features\\n\\n### Astronomy\\n\\n### Business\\n\\n### Climate\\n\\n### Health\\n\\n### Recreation\\n\\n### Sports\\n\\n### Travel\\n\\n### Warnings\\n\\n### Data Suite\\n\\n### Forensics\\n\\n### Advertising\\n\\n### Superior Accuracy\\u2122\\n\\n### Video\\n\\n## Monthly\\n\\n## September\\n\\n## 2025\\n\\n## Daily\\n\\n## Temperature Graph\\n\\n## Further Ahead\\n\\nFurther Ahead\\n\\n### October 2025\\n\\n### November 2025 [...] ### December 2025\\n\\n## Around the Globe\\n\\nAround the Globe\\n\\n### Hurricane Tracker\\n\\n### Severe Weather\\n\\n### Radar & Maps\\n\\n### News\\n\\n### Video\\n\\nTop Stories\\n\\nHurricane\\n\\nTropical Storm Imelda to bring flooding, damaging surf to southeast US\\n\\n1 hour ago\\n\\nSevere Weather\\n\\nDevastating flooding leaves 4 dead in Arizona\\n\\n14 hours ago\\n\\nWeather Forecasts\\n\\nBig pattern change to usher cooler air, needed rain into the Northwest\\n\\n6 hours ago\\n\\nHurricane [...] Cat. 4 Humberto to bring rain, strong winds and heavy seas to Bermuda\\n\\n1 hour ago\\n\\nAstronomy\\n\\nSuper Harvest Moon, 2 meteor showers to light up October nights\\n\\n2 days ago\\n\\nFeatured Stories\\n\\nTravel\\n\\n6 scenic fall drives where you can get your foliage fix this year\\n\\n8 hours ago\\n\\nHurricane\\n\\nA year after Hurricane Helene, Florida, Appalachians still bear scars\\n\\n3 days ago\\n\\nTravel\\n\\nBoy hides in plane\\u2019s landing gear on flight from Kabul to Delhi\\n\\n2 days ago\\n\\nSevere Weather\", \"score\": 0.62934244}, {\"title\": \"Caboolture, Queensland, Australia Monthly Weather | AccuWeather\", \"url\": \"https://www.accuweather.com/en/au/caboolture/14088/july-weather/14088\", \"content\": \"### October 2025\\n\\n## Around the Globe\\n\\nAround the Globe\\n\\n### Hurricane Tracker\\n\\n### Severe Weather\\n\\n### Radar & Maps\\n\\n### News\\n\\n### Video\\n\\nTop Stories\\n\\nHurricane\\n\\nTropical Storm Imelda to bring flooding, damaging surf to southeast US\\n\\n1 hour ago\\n\\nSevere Weather\\n\\nDevastating flooding leaves 4 dead in Arizona\\n\\n14 hours ago\\n\\nWeather Forecasts\\n\\nBig pattern change to usher cooler air, needed rain into the Northwest\\n\\n6 hours ago\\n\\nHurricane [...] # Caboolture, Queensland\\n\\nCaboolture\\n\\nQueensland\\n\\n## Around the Globe\\n\\nAround the Globe\\n\\n### Hurricane Tracker\\n\\n### Severe Weather\\n\\n### Radar & Maps\\n\\n### News & Features\\n\\n### Astronomy\\n\\n### Business\\n\\n### Climate\\n\\n### Health\\n\\n### Recreation\\n\\n### Sports\\n\\n### Travel\\n\\n### Warnings\\n\\n### Data Suite\\n\\n### Forensics\\n\\n### Advertising\\n\\n### Superior Accuracy\\u2122\\n\\n### Video\\n\\n## Monthly\\n\\n## July\\n\\n## 2025\\n\\n## Daily\\n\\n## Temperature Graph\\n\\n## Further Ahead\\n\\nFurther Ahead\\n\\n### August 2025\\n\\n### September 2025 [...] Cat. 4 Humberto to bring rain, strong winds and heavy seas to Bermuda\\n\\n1 hour ago\\n\\nAstronomy\\n\\nSuper Harvest Moon, 2 meteor showers to light up October nights\\n\\n2 days ago\\n\\nFeatured Stories\\n\\nTravel\\n\\n6 scenic fall drives where you can get your foliage fix this year\\n\\n8 hours ago\\n\\nHurricane\\n\\nA year after Hurricane Helene, Florida, Appalachians still bear scars\\n\\n3 days ago\\n\\nTravel\\n\\nBoy hides in plane\\u2019s landing gear on flight from Kabul to Delhi\\n\\n2 days ago\\n\\nSevere Weather\", \"score\": 0.4813325}]"
         ],
         [
          "additional_kwargs",
          {}
         ],
         [
          "response_metadata",
          {}
         ],
         [
          "type",
          "tool"
         ],
         [
          "name",
          "search_tool"
         ],
         [
          "id",
          "87eb1091-c3a8-4f9e-8ca0-823049c86fe3"
         ],
         [
          "tool_call_id",
          "call_bwZDh005PkacbSGiwLEihofQ"
         ],
         [
          "artifact",
          null
         ],
         [
          "status",
          "success"
         ]
        ],
        [
         [
          "content",
          ""
         ],
         [
          "additional_kwargs",
          {
           "refusal": null,
           "tool_calls": [
            {
             "function": {
              "arguments": "{\"weather\":\"Mostly sunny, 25°C\"}",
              "name": "recommend_clothing"
             },
             "id": "call_hu65pWgO94NXGS86dZ11uwdR",
             "type": "function"
            }
           ]
          }
         ],
         [
          "response_metadata",
          {
           "finish_reason": "tool_calls",
           "id": "chatcmpl-CKxErU6SUjbQQUdVmHnzRSekwxg2o",
           "logprobs": null,
           "model_name": "gpt-4o-mini-2024-07-18",
           "system_fingerprint": "fp_560af6e559",
           "token_usage": {
            "completion_tokens": 21,
            "completion_tokens_details": {
             "accepted_prediction_tokens": 0,
             "audio_tokens": 0,
             "reasoning_tokens": 0,
             "rejected_prediction_tokens": 0
            },
            "prompt_tokens": 3190,
            "prompt_tokens_details": {
             "audio_tokens": 0,
             "cached_tokens": 0
            },
            "total_tokens": 3211
           }
          }
         ],
         [
          "type",
          "ai"
         ],
         [
          "name",
          null
         ],
         [
          "id",
          "run--6ce7411e-c572-48cd-943b-65aa520d905b-0"
         ],
         [
          "example",
          false
         ],
         [
          "tool_calls",
          [
           {
            "args": {
             "weather": "Mostly sunny, 25°C"
            },
            "id": "call_hu65pWgO94NXGS86dZ11uwdR",
            "name": "recommend_clothing",
            "type": "tool_call"
           }
          ]
         ],
         [
          "invalid_tool_calls",
          []
         ],
         [
          "usage_metadata",
          {
           "input_token_details": {
            "audio": 0,
            "cache_read": 0
           },
           "input_tokens": 3190,
           "output_token_details": {
            "audio": 0,
            "reasoning": 0
           },
           "output_tokens": 21,
           "total_tokens": 3211
          }
         ]
        ]
       ]
      },
      "text/plain": [
       "<IPython.core.display.JSON object>"
      ]
     },
     "metadata": {
      "application/json": {
       "expanded": false,
       "root": "root"
      }
     },
     "output_type": "display_data"
    },
    {
     "name": "stdout",
     "output_type": "stream",
     "text": [
      "----> tool_call :  {'name': 'recommend_clothing', 'args': {'weather': 'Mostly sunny, 25°C'}, 'id': 'call_hu65pWgO94NXGS86dZ11uwdR', 'type': 'tool_call'}\n",
      "----> tool_result :  A light jacket should be fine.\n",
      "----> tool_message :  content='\"A light jacket should be fine.\"' name='recommend_clothing' tool_call_id='call_hu65pWgO94NXGS86dZ11uwdR'\n",
      "----  state progression -----\n"
     ]
    },
    {
     "data": {
      "application/json": {
       "messages": [
        [
         [
          "content",
          "What's the weather like in Caboolture, and what should I wear based on the temperature?"
         ],
         [
          "additional_kwargs",
          {}
         ],
         [
          "response_metadata",
          {}
         ],
         [
          "type",
          "human"
         ],
         [
          "name",
          null
         ],
         [
          "id",
          "fa556da5-28e5-47f1-aa58-144a029f8a15"
         ],
         [
          "example",
          false
         ]
        ],
        [
         [
          "content",
          ""
         ],
         [
          "additional_kwargs",
          {
           "refusal": null,
           "tool_calls": [
            {
             "function": {
              "arguments": "{\"query\":\"current weather Caboolture\"}",
              "name": "search_tool"
             },
             "id": "call_bwZDh005PkacbSGiwLEihofQ",
             "type": "function"
            }
           ]
          }
         ],
         [
          "response_metadata",
          {
           "finish_reason": "tool_calls",
           "id": "chatcmpl-CKxANvMTHxJHrwH5kt91lem8z2KDx",
           "logprobs": null,
           "model_name": "gpt-4o-mini-2024-07-18",
           "system_fingerprint": "fp_560af6e559",
           "token_usage": {
            "completion_tokens": 19,
            "completion_tokens_details": {
             "accepted_prediction_tokens": 0,
             "audio_tokens": 0,
             "reasoning_tokens": 0,
             "rejected_prediction_tokens": 0
            },
            "prompt_tokens": 289,
            "prompt_tokens_details": {
             "audio_tokens": 0,
             "cached_tokens": 0
            },
            "total_tokens": 308
           }
          }
         ],
         [
          "type",
          "ai"
         ],
         [
          "name",
          null
         ],
         [
          "id",
          "run--afc12632-e0ea-4e28-91c1-aa50596da16c-0"
         ],
         [
          "example",
          false
         ],
         [
          "tool_calls",
          [
           {
            "args": {
             "query": "current weather Caboolture"
            },
            "id": "call_bwZDh005PkacbSGiwLEihofQ",
            "name": "search_tool",
            "type": "tool_call"
           }
          ]
         ],
         [
          "invalid_tool_calls",
          []
         ],
         [
          "usage_metadata",
          {
           "input_token_details": {
            "audio": 0,
            "cache_read": 0
           },
           "input_tokens": 289,
           "output_token_details": {
            "audio": 0,
            "reasoning": 0
           },
           "output_tokens": 19,
           "total_tokens": 308
          }
         ]
        ],
        [
         [
          "content",
          "[{\"title\": \"Caboolture Forecast - Bureau of Meteorology\", \"url\": \"https://www.bom.gov.au/qld/forecasts/caboolture.shtml\", \"content\": \"Print Background\\nAustralian Government - Bureau of Meteorology\\n\\nBureau Home > Australia > Queensland > Forecasts > Caboolture Forecast\\n\\n# Caboolture Forecast\\n\\nView the current warnings for Queensland\\n\\nForecast updated at 9:16 am EST on Monday 29 September 2025.\\n\\n## Forecast for the rest of Monday\\n\\n### Southeast Coast area\\n\\nMostly sunny. Light winds becoming east to northeasterly 15 to 20 km/h in the early afternoon then becoming light in the evening. Daytime maximum temperatures 28 to 34. [...] Sun protection recommended from 8:20 am to 2:50 pm, UV Index predicted to reach 8 [Very High]\\n\\n## Friday 3 October\\n\\n## Saturday 4 October\\n\\n## Sunday 5 October\\n\\nThe next routine forecast will be issued at 4:15 pm EST Monday.\\n\\nProduct derived from IDQ11295 and IDQ10090\\n\\n### Graphical Views\\n\\nThis page was created at 01:42\\non Monday 29 September 2025 (UTC) [...] Morning fog then mostly sunny.\\nMostly sunny.\\nCloud clearing.\\nMorning fog then mostly sunny.\\nPartly cloudy.\\nPartly cloudy.\\nPartly cloudy.\\nMostly sunny.\\n\\n## Tuesday 30 September\\n\\n### Southeast Coast area\\n\\nThe chance of fog in the early morning. Mostly sunny afternoon. Light winds becoming northeasterly 15 to 20 km/h in the middle of the day then becoming light in the late evening. Overnight temperatures falling to between 12 and 16 with daytime temperatures reaching 27 to 32.\", \"score\": 0.9336793}, {\"title\": \"Caboolture - 14-Day Forecast: Temperature, Wind & Radar - Ventusky\", \"url\": \"https://www.ventusky.com/caboolture\", \"content\": \"# Live Weather Forecast Maps\\n\\nRadar\\n\\n# Caboolture\\n\\n|  |  |\\n --- |\\n| partly cloudy | 25 \\u00b0C |\\n|  |\\n| Wind speed  17 km/h |\\n\\npartly cloudy\\n\\n|  |  |\\n --- |\\n| Humidity | 69 % |\\n| Air pressure | 1015 hPa |\\n| Clouds | 30 % |\\n| Cloud base | 914 m |\\n\\nCalculated from nearby stations (11:00 2025/09/29)\\n\\nOpen Radar Map\\n\\n## Weather for the next 24 hours [...] SW  1 km/h | fog 20 \\u00b0C 0 mm 0 %  SW  1 km/h | fog 20 \\u00b0C 0 mm 0 %  SE  1 km/h | fog 20 \\u00b0C 0 mm 0 %  NE  1 km/h | fog 20 \\u00b0C 0 mm 0 %  NW  1 km/h | fog 19 \\u00b0C 0 mm 0 %  W  3 km/h | fog 19 \\u00b0C 0 mm 0 %  W  5 km/h | fog 20 \\u00b0C 0 mm 0 %  W  3 km/h | mostly cloudy 22 \\u00b0C 0 mm 0 %  SE  1 km/h | partly cloudy 23 \\u00b0C 0 mm 0 %  NE  8 km/h | clear sky with few clouds 24 \\u00b0C 0 mm 0 %  E  9 km/h | clear sky with few clouds 25 \\u00b0C 0 mm 0 %  NE  12 km/h | clear sky with few clouds 26 \\u00b0C 0 mm 0 %  NE  13 km/h | [...] | clear sky 29 \\u00b0C 0 mm 0 %  SE  8 km/h | clear sky 27 \\u00b0C 0 mm 0 %  E  13 km/h | clear sky 27 \\u00b0C 0 mm 0 %  NE  17 km/h | clear sky 25 \\u00b0C 0 mm 0 %  NE  20 km/h | clear sky 24 \\u00b0C 0 mm 0 %  NE  16 km/h | partly cloudy 23 \\u00b0C 0 mm 0 %  NE  10 km/h | partly cloudy 22 \\u00b0C 0 mm 0 %  NE  7 km/h | partly cloudy 22 \\u00b0C 0 mm 0 %  NE  6 km/h | mostly cloudy 21 \\u00b0C 0 mm 0 %  N  5 km/h | mostly cloudy 21 \\u00b0C 0 mm 0 %  W  3 km/h | fog 20 \\u00b0C 0 mm 0 %  SW  1 km/h | fog 20 \\u00b0C 0 mm 0 %  SW  1 km/h | fog 20 \\u00b0C 0 mm 0 %\", \"score\": 0.9159971}, {\"title\": \"Caboolture 14 Day Extended Forecast - Weather - Time and Date\", \"url\": \"https://www.timeanddate.com/weather/@2172832/ext\", \"content\": \"| Mon Oct 13 |  | 80 / 63 \\u00b0F | Mostly sunny. | 79 \\u00b0F | 12 mph | \\u2191 | 54% | 6% | 0.00\\\" | 7 (High) | 5:14 am | 5:54 pm |\\n|  |  |  |  |  |  |  |  |  |  |  |  |  |\\n ---  ---  ---  ---  ---  --- \\n| \\\\ Updated Monday, September 29, 2025 7:24:07 am Caboolture time - Weather by CustomWeather, \\u00a9 2025 | | | | | | | | | | | | | [...] |  | Conditions | | | Comfort | | | | Precipitation | | Sun | | |\\n ---  ---  ---  ---  ---  --- \\n| Day |  | Temperature | Weather | Feels Like | Wind |  | Humidity | Chance | Amount | UV | Sunrise | Sunset |\\n| Mon Sep 29 |  | 91 / 59 \\u00b0F | Sunny. | 84 \\u00b0F | 8 mph | \\u2191 | 44% | 2% | 0.00\\\" | 7 (High) | 5:30 am | 5:47 pm |\\n| Tue Sep 30 |  | 83 / 64 \\u00b0F | Mostly sunny. | 82 \\u00b0F | 11 mph | \\u2191 | 61% | 4% | 0.00\\\" | 5 (Moderate) | 5:28 am | 5:47 pm | [...] | Wed Oct 1 |  | 85 / 65 \\u00b0F | Sprinkles late. Overcast. | 87 \\u00b0F | 9 mph | \\u2191 | 63% | 17% | 0.01\\\" | 3 (Moderate) | 5:27 am | 5:48 pm |\\n| Thu Oct 2 |  | 95 / 62 \\u00b0F | Mostly cloudy. | 87 \\u00b0F | 12 mph | \\u2191 | 25% | 0% | 0.00\\\" | 3 (Moderate) | 5:26 am | 5:48 pm |\\n| Fri Oct 3 |  | 87 / 59 \\u00b0F | Sunny. | 82 \\u00b0F | 14 mph | \\u2191 | 17% | 0% | 0.00\\\" | 7 (High) | 5:25 am | 5:49 pm |\\n| Sat Oct 4 |  | 78 / 53 \\u00b0F | Mostly sunny. | 78 \\u00b0F | 11 mph | \\u2191 | 40% | 3% | 0.00\\\" | 3 (Moderate) | 5:24 am | 5:49 pm |\", \"score\": 0.8914433}, {\"title\": \"Caboolture, Queensland, Australia Monthly Weather | AccuWeather\", \"url\": \"https://www.accuweather.com/en/au/caboolture/14088/september-weather/14088\", \"content\": \"# Caboolture, Queensland\\n\\nCaboolture\\n\\nQueensland\\n\\n## Around the Globe\\n\\nAround the Globe\\n\\n### Hurricane Tracker\\n\\n### Severe Weather\\n\\n### Radar & Maps\\n\\n### News & Features\\n\\n### Astronomy\\n\\n### Business\\n\\n### Climate\\n\\n### Health\\n\\n### Recreation\\n\\n### Sports\\n\\n### Travel\\n\\n### Warnings\\n\\n### Data Suite\\n\\n### Forensics\\n\\n### Advertising\\n\\n### Superior Accuracy\\u2122\\n\\n### Video\\n\\n## Monthly\\n\\n## September\\n\\n## 2025\\n\\n## Daily\\n\\n## Temperature Graph\\n\\n## Further Ahead\\n\\nFurther Ahead\\n\\n### October 2025\\n\\n### November 2025 [...] ### December 2025\\n\\n## Around the Globe\\n\\nAround the Globe\\n\\n### Hurricane Tracker\\n\\n### Severe Weather\\n\\n### Radar & Maps\\n\\n### News\\n\\n### Video\\n\\nTop Stories\\n\\nHurricane\\n\\nTropical Storm Imelda to bring flooding, damaging surf to southeast US\\n\\n1 hour ago\\n\\nSevere Weather\\n\\nDevastating flooding leaves 4 dead in Arizona\\n\\n14 hours ago\\n\\nWeather Forecasts\\n\\nBig pattern change to usher cooler air, needed rain into the Northwest\\n\\n6 hours ago\\n\\nHurricane [...] Cat. 4 Humberto to bring rain, strong winds and heavy seas to Bermuda\\n\\n1 hour ago\\n\\nAstronomy\\n\\nSuper Harvest Moon, 2 meteor showers to light up October nights\\n\\n2 days ago\\n\\nFeatured Stories\\n\\nTravel\\n\\n6 scenic fall drives where you can get your foliage fix this year\\n\\n8 hours ago\\n\\nHurricane\\n\\nA year after Hurricane Helene, Florida, Appalachians still bear scars\\n\\n3 days ago\\n\\nTravel\\n\\nBoy hides in plane\\u2019s landing gear on flight from Kabul to Delhi\\n\\n2 days ago\\n\\nSevere Weather\", \"score\": 0.62934244}, {\"title\": \"Caboolture, Queensland, Australia Monthly Weather | AccuWeather\", \"url\": \"https://www.accuweather.com/en/au/caboolture/14088/july-weather/14088\", \"content\": \"### October 2025\\n\\n## Around the Globe\\n\\nAround the Globe\\n\\n### Hurricane Tracker\\n\\n### Severe Weather\\n\\n### Radar & Maps\\n\\n### News\\n\\n### Video\\n\\nTop Stories\\n\\nHurricane\\n\\nTropical Storm Imelda to bring flooding, damaging surf to southeast US\\n\\n1 hour ago\\n\\nSevere Weather\\n\\nDevastating flooding leaves 4 dead in Arizona\\n\\n14 hours ago\\n\\nWeather Forecasts\\n\\nBig pattern change to usher cooler air, needed rain into the Northwest\\n\\n6 hours ago\\n\\nHurricane [...] # Caboolture, Queensland\\n\\nCaboolture\\n\\nQueensland\\n\\n## Around the Globe\\n\\nAround the Globe\\n\\n### Hurricane Tracker\\n\\n### Severe Weather\\n\\n### Radar & Maps\\n\\n### News & Features\\n\\n### Astronomy\\n\\n### Business\\n\\n### Climate\\n\\n### Health\\n\\n### Recreation\\n\\n### Sports\\n\\n### Travel\\n\\n### Warnings\\n\\n### Data Suite\\n\\n### Forensics\\n\\n### Advertising\\n\\n### Superior Accuracy\\u2122\\n\\n### Video\\n\\n## Monthly\\n\\n## July\\n\\n## 2025\\n\\n## Daily\\n\\n## Temperature Graph\\n\\n## Further Ahead\\n\\nFurther Ahead\\n\\n### August 2025\\n\\n### September 2025 [...] Cat. 4 Humberto to bring rain, strong winds and heavy seas to Bermuda\\n\\n1 hour ago\\n\\nAstronomy\\n\\nSuper Harvest Moon, 2 meteor showers to light up October nights\\n\\n2 days ago\\n\\nFeatured Stories\\n\\nTravel\\n\\n6 scenic fall drives where you can get your foliage fix this year\\n\\n8 hours ago\\n\\nHurricane\\n\\nA year after Hurricane Helene, Florida, Appalachians still bear scars\\n\\n3 days ago\\n\\nTravel\\n\\nBoy hides in plane\\u2019s landing gear on flight from Kabul to Delhi\\n\\n2 days ago\\n\\nSevere Weather\", \"score\": 0.4813325}]"
         ],
         [
          "additional_kwargs",
          {}
         ],
         [
          "response_metadata",
          {}
         ],
         [
          "type",
          "tool"
         ],
         [
          "name",
          "search_tool"
         ],
         [
          "id",
          "87eb1091-c3a8-4f9e-8ca0-823049c86fe3"
         ],
         [
          "tool_call_id",
          "call_bwZDh005PkacbSGiwLEihofQ"
         ],
         [
          "artifact",
          null
         ],
         [
          "status",
          "success"
         ]
        ],
        [
         [
          "content",
          ""
         ],
         [
          "additional_kwargs",
          {
           "refusal": null,
           "tool_calls": [
            {
             "function": {
              "arguments": "{\"weather\":\"Mostly sunny, 25°C\"}",
              "name": "recommend_clothing"
             },
             "id": "call_hu65pWgO94NXGS86dZ11uwdR",
             "type": "function"
            }
           ]
          }
         ],
         [
          "response_metadata",
          {
           "finish_reason": "tool_calls",
           "id": "chatcmpl-CKxErU6SUjbQQUdVmHnzRSekwxg2o",
           "logprobs": null,
           "model_name": "gpt-4o-mini-2024-07-18",
           "system_fingerprint": "fp_560af6e559",
           "token_usage": {
            "completion_tokens": 21,
            "completion_tokens_details": {
             "accepted_prediction_tokens": 0,
             "audio_tokens": 0,
             "reasoning_tokens": 0,
             "rejected_prediction_tokens": 0
            },
            "prompt_tokens": 3190,
            "prompt_tokens_details": {
             "audio_tokens": 0,
             "cached_tokens": 0
            },
            "total_tokens": 3211
           }
          }
         ],
         [
          "type",
          "ai"
         ],
         [
          "name",
          null
         ],
         [
          "id",
          "run--6ce7411e-c572-48cd-943b-65aa520d905b-0"
         ],
         [
          "example",
          false
         ],
         [
          "tool_calls",
          [
           {
            "args": {
             "weather": "Mostly sunny, 25°C"
            },
            "id": "call_hu65pWgO94NXGS86dZ11uwdR",
            "name": "recommend_clothing",
            "type": "tool_call"
           }
          ]
         ],
         [
          "invalid_tool_calls",
          []
         ],
         [
          "usage_metadata",
          {
           "input_token_details": {
            "audio": 0,
            "cache_read": 0
           },
           "input_tokens": 3190,
           "output_token_details": {
            "audio": 0,
            "reasoning": 0
           },
           "output_tokens": 21,
           "total_tokens": 3211
          }
         ]
        ],
        [
         [
          "content",
          "\"A light jacket should be fine.\""
         ],
         [
          "additional_kwargs",
          {}
         ],
         [
          "response_metadata",
          {}
         ],
         [
          "type",
          "tool"
         ],
         [
          "name",
          "recommend_clothing"
         ],
         [
          "id",
          "64042e31-8275-4cb9-bd8e-de2bd1bb6f44"
         ],
         [
          "tool_call_id",
          "call_hu65pWgO94NXGS86dZ11uwdR"
         ],
         [
          "artifact",
          null
         ],
         [
          "status",
          "success"
         ]
        ]
       ]
      },
      "text/plain": [
       "<IPython.core.display.JSON object>"
      ]
     },
     "metadata": {
      "application/json": {
       "expanded": false,
       "root": "root"
      }
     },
     "output_type": "display_data"
    }
   ],
   "source": [
    "response = model_react.invoke({\"scratch_pad\": dummy_state[\"messages\"]})\n",
    "print(\"----  ai response -----\")\n",
    "display(JSON([response]))\n",
    "\n",
    "\n",
    "dummy_state['messages'] = add_messages(dummy_state['messages'], [response])\n",
    "print(\"----  state progression -----\")\n",
    "display(JSON(dummy_state))\n",
    "\n",
    "# check if the model wants to use another tool\n",
    "if response.tool_calls:\n",
    "    tool_call = response.tool_calls[0]\n",
    "    print(\"----> tool_call : \", tool_call)\n",
    "    tool_result = tools_by_name[tool_call[\"name\"]].invoke(tool_call[\"args\"])\n",
    "    print(\"----> tool_result : \", tool_result)\n",
    "    tool_message = ToolMessage(\n",
    "        content=json.dumps(tool_result),\n",
    "        name=tool_call[\"name\"],\n",
    "        tool_call_id=tool_call[\"id\"]\n",
    "    )\n",
    "    print(\"----> tool_message : \", tool_message)\n",
    "    dummy_state['messages'] = add_messages(dummy_state['messages'], [tool_message])\n",
    "    print(\"----  state progression -----\")\n",
    "    display(JSON(dummy_state))"
   ]
  },
  {
   "cell_type": "markdown",
   "metadata": {},
   "source": [
    "**What Happens Here:**\n",
    "1. The model processes the search results.\n",
    "2. It realizes it needs to use the clothing recommendation tool.\n",
    "3. It extracts weather information and calls the clothing tool.\n",
    "4. It receives clothing recommendations based on the weather data.\n"
   ]
  },
  {
   "cell_type": "markdown",
   "metadata": {},
   "source": [
    "### Step 4: Final Response Generation\n"
   ]
  },
  {
   "cell_type": "code",
   "execution_count": 17,
   "metadata": {},
   "outputs": [
    {
     "name": "stdout",
     "output_type": "stream",
     "text": [
      "Final response generated: True\n",
      "More tools needed: False\n",
      "----  ai response -----\n"
     ]
    },
    {
     "data": {
      "application/json": [
       [
        [
         "content",
         "The current weather in Caboolture is mostly sunny with a temperature around 25°C (77°F). Based on this pleasant weather, I recommend wearing lightweight clothing, such as a t-shirt or light shirt, along with a light jacket for any cooler moments during the day. \n\nIf you're planning to be outside, don't forget sunscreen, as the UV index is predicted to be high!"
        ],
        [
         "additional_kwargs",
         {
          "refusal": null
         }
        ],
        [
         "response_metadata",
         {
          "finish_reason": "stop",
          "id": "chatcmpl-CKxIIVCP2e72KSVRX8HdoILjzdxz8",
          "logprobs": null,
          "model_name": "gpt-4o-mini-2024-07-18",
          "system_fingerprint": "fp_560af6e559",
          "token_usage": {
           "completion_tokens": 79,
           "completion_tokens_details": {
            "accepted_prediction_tokens": 0,
            "audio_tokens": 0,
            "reasoning_tokens": 0,
            "rejected_prediction_tokens": 0
           },
           "prompt_tokens": 3227,
           "prompt_tokens_details": {
            "audio_tokens": 0,
            "cached_tokens": 3072
           },
           "total_tokens": 3306
          }
         }
        ],
        [
         "type",
         "ai"
        ],
        [
         "name",
         null
        ],
        [
         "id",
         "run--7430bbd5-fd15-448b-902f-2b6681fcc548-0"
        ],
        [
         "example",
         false
        ],
        [
         "tool_calls",
         []
        ],
        [
         "invalid_tool_calls",
         []
        ],
        [
         "usage_metadata",
         {
          "input_token_details": {
           "audio": 0,
           "cache_read": 3072
          },
          "input_tokens": 3227,
          "output_token_details": {
           "audio": 0,
           "reasoning": 0
          },
          "output_tokens": 79,
          "total_tokens": 3306
         }
        ]
       ]
      ],
      "text/plain": [
       "<IPython.core.display.JSON object>"
      ]
     },
     "metadata": {
      "application/json": {
       "expanded": false,
       "root": "root"
      }
     },
     "output_type": "display_data"
    }
   ],
   "source": [
    "response = model_react.invoke({\"scratch_pad\": dummy_state[\"messages\"]})\n",
    "print(\"Final response generated:\", response.content is not None)\n",
    "print(\"More tools needed:\", bool(response.tool_calls))\n",
    "\n",
    "print(\"----  ai response -----\")\n",
    "display(JSON([response]))"
   ]
  },
  {
   "cell_type": "markdown",
   "metadata": {},
   "source": [
    "**What Happens Here:**\n",
    "1. The model has all necessary information.\n",
    "2. It synthesizes weather data and clothing recommendations.\n",
    "3. It generates a comprehensive response to the user.\n",
    "4. No more tool calls needed—the reasoning cycle is complete.\n"
   ]
  },
  {
   "cell_type": "markdown",
   "metadata": {},
   "source": [
    "## Automating ReAct with Graphs\n",
    "\n",
    "### Why Use Graphs?\n",
    "\n",
    "Manual ReAct execution is educational but impractical for real applications. LangGraph automates this process with a state machine that handles the reasoning loop automatically.\n",
    "\n",
    "### Building the Core Functions\n",
    "\n",
    "#### Tool Execution Node\n"
   ]
  },
  {
   "cell_type": "code",
   "execution_count": 55,
   "metadata": {},
   "outputs": [],
   "source": [
    "def tool_node(state: AgentState):\n",
    "    \"\"\"Execute all tool calls from the last message in the state.\"\"\"\n",
    "    outputs = []\n",
    "    \n",
    "    print(\":: tool_node :: AgentState[messages].tool_calls : \", state[\"messages\"][-1].tool_calls)\n",
    "    i = 1\n",
    "    \n",
    "    for tool_call in state[\"messages\"][-1].tool_calls:\n",
    "        print(\":: tool_node :: tool_call iteration : \", i)\n",
    "        i += 1\n",
    "        print(\":: tool_node :: tool_call : \", tool_call)\n",
    "        tool_result = tools_by_name[tool_call[\"name\"]].invoke(tool_call[\"args\"])\n",
    "        print(\":: tool_node :: tool_result : \", len(tool_result))\n",
    "        outputs.append(\n",
    "            ToolMessage(\n",
    "                content=json.dumps(tool_result),\n",
    "                name=tool_call[\"name\"],\n",
    "                tool_call_id=tool_call[\"id\"],\n",
    "            )\n",
    "        )\n",
    "        print(\":: tool_node :: outputs : \", len(outputs))\n",
    "    return {\"messages\": outputs}"
   ]
  },
  {
   "cell_type": "markdown",
   "metadata": {},
   "source": [
    "**Function Purpose:**\n",
    "- Automatically execute all tool calls from the model\n",
    "- Handle multiple simultaneous tool calls\n",
    "- Return properly formatted tool messages\n"
   ]
  },
  {
   "cell_type": "markdown",
   "metadata": {},
   "source": [
    "#### Model Invocation Node\n"
   ]
  },
  {
   "cell_type": "code",
   "execution_count": 56,
   "metadata": {},
   "outputs": [],
   "source": [
    "def call_model(state: AgentState):\n",
    "    \"\"\"Invoke the model with the current conversation state.\"\"\"\n",
    "    response = model_react.invoke({\"scratch_pad\": state[\"messages\"]})\n",
    "    print(\":: call_model :: tool_response : \", response.content)\n",
    "    return {\"messages\": [response]}"
   ]
  },
  {
   "cell_type": "markdown",
   "metadata": {},
   "source": [
    "**Function Purpose:**\n",
    "- Call the ReAct-enabled model\n",
    "- Pass the full conversation context\n",
    "- Return the model's response (which may include tool calls)\n",
    "\n",
    "#### Decision Logic\n"
   ]
  },
  {
   "cell_type": "code",
   "execution_count": 57,
   "metadata": {},
   "outputs": [],
   "source": [
    "def should_continue(state: AgentState):\n",
    "    \"\"\"Determine whether to continue with tool use or end the conversation.\"\"\"\n",
    "    messages = state[\"messages\"]\n",
    "    last_message = messages[-1]\n",
    "    print(\":: should_continue :: last_message : \", last_message.content)\n",
    "    # If there is no function call, then we finish\n",
    "    if not last_message.tool_calls:\n",
    "        print(\":: should_continue :: return END : \")\n",
    "        return \"end\"\n",
    "    # Otherwise if there is, we continue\n",
    "    else:\n",
    "        print(\":: should_continue :: return CONTINUE : \")\n",
    "        return \"continue\""
   ]
  },
  {
   "cell_type": "markdown",
   "metadata": {},
   "source": [
    "**Function Purpose:**\n",
    "- Implement the control flow logic\n",
    "- Decide whether the agent needs to use more tools\n",
    "- Route the conversation to either tool execution or completion\n",
    "\n",
    "### Constructing the State Graph\n"
   ]
  },
  {
   "cell_type": "code",
   "execution_count": 58,
   "metadata": {},
   "outputs": [],
   "source": [
    "from langgraph.graph import StateGraph, END\n",
    "\n",
    "# Define a new graph\n",
    "workflow = StateGraph(AgentState)\n",
    "\n",
    "# Define the two nodes we will cycle between\n",
    "workflow.add_node(\"agent\", call_model)\n",
    "workflow.add_node(\"tools\", tool_node)\n",
    "\n",
    "# Add edges between nodes\n",
    "workflow.add_edge(\"tools\", \"agent\")  # After tools, always go back to agent\n",
    "\n",
    "# Add conditional logic\n",
    "workflow.add_conditional_edges(\n",
    "    \"agent\",\n",
    "    should_continue,\n",
    "    {\n",
    "        \"continue\": \"tools\",  # If tools needed, go to tools node\n",
    "        \"end\": END,          # If done, end the conversation\n",
    "    },\n",
    ")\n",
    "\n",
    "# Set entry point\n",
    "workflow.set_entry_point(\"agent\")\n",
    "\n",
    "# Compile the graph\n",
    "graph = workflow.compile()"
   ]
  },
  {
   "cell_type": "markdown",
   "metadata": {},
   "source": [
    "**Graph Structure Explained:**\n",
    "1. **Agent Node**: Where reasoning happens and tool calls are generated.\n",
    "2. **Tools Node**: Where tool execution occurs.\n",
    "3. **Conditional Edge**: Determines whether to continue or finish.\n",
    "4. **Entry Point**: Conversation always starts with the agent reasoning.\n",
    "### Visualizing the Graph\n"
   ]
  },
  {
   "cell_type": "code",
   "execution_count": 59,
   "metadata": {},
   "outputs": [
    {
     "data": {
      "image/jpeg": "[encoded data removed]",
      "text/plain": [
       "<IPython.core.display.Image object>"
      ]
     },
     "metadata": {},
     "output_type": "display_data"
    }
   ],
   "source": [
    "from IPython.display import Image, display\n",
    "\n",
    "try:\n",
    "    display(Image(graph.get_graph().draw_mermaid_png()))\n",
    "except Exception:\n",
    "    # This requires some extra dependencies and is optional\n",
    "    pass"
   ]
  },
  {
   "cell_type": "markdown",
   "metadata": {},
   "source": [
    "This visualization shows the flow: Agent → Decision → Tools → Agent → Decision → End\n"
   ]
  },
  {
   "cell_type": "markdown",
   "metadata": {},
   "source": [
    "## Running the Complete ReAct Agent\n",
    "\n",
    "### Final Execution\n"
   ]
  },
  {
   "cell_type": "code",
   "execution_count": 75,
   "metadata": {},
   "outputs": [
    {
     "name": "stdout",
     "output_type": "stream",
     "text": [
      "================================\u001b[1m Human Message \u001b[0m=================================\n",
      "\n",
      "Find recent AI news and summarize the top 3 articles\n",
      ":: call_model :: tool_response :  \n",
      ":: should_continue :: last_message :  \n",
      ":: should_continue :: return CONTINUE : \n",
      "==================================\u001b[1m Ai Message \u001b[0m==================================\n",
      "Tool Calls:\n",
      "  search_tool (call_csWF98q4ZZ8uo4Cpmxcp8TfE)\n",
      " Call ID: call_csWF98q4ZZ8uo4Cpmxcp8TfE\n",
      "  Args:\n",
      "    query: recent AI news\n",
      ":: tool_node :: AgentState[messages].tool_calls :  [{'name': 'search_tool', 'args': {'query': 'recent AI news'}, 'id': 'call_csWF98q4ZZ8uo4Cpmxcp8TfE', 'type': 'tool_call'}]\n",
      ":: tool_node :: tool_call iteration :  1\n",
      ":: tool_node :: tool_call :  {'name': 'search_tool', 'args': {'query': 'recent AI news'}, 'id': 'call_csWF98q4ZZ8uo4Cpmxcp8TfE', 'type': 'tool_call'}\n",
      ":: tool_node :: tool_result :  5\n",
      ":: tool_node :: outputs :  1\n",
      "=================================\u001b[1m Tool Message \u001b[0m=================================\n",
      "Name: search_tool\n",
      "\n",
      "[{\"title\": \"The Latest AI News and AI Breakthroughs that Matter Most: 2025\", \"url\": \"https://www.crescendo.ai/news/latest-ai-news-and-updates\", \"content\": \"(AI Breakthrough) AI-Powered Cardiac Imaging Lens Reveals Hidden Coronary Risks. Date: September 1, 2025. Summary: Researchers developed a miniature imaging\", \"score\": 0.77731717}, {\"title\": \"The 2025 AI Index Report | Stanford HAI\", \"url\": \"https://hai.stanford.edu/ai-index/2025-ai-index-report\", \"content\": \"In 2024, U.S. federal agencies introduced 59 AI-related regulations\\u2014more than double the number in 2023\\u2014and issued by twice as many agencies. Globally, legislative mentions of AI rose 21.3% across 75 countries since 2023, marking a ninefold increase since 2016. Alongside growing attention, governments are investing at scale: Canada pledged $2.4 billion, China launched a $47.5 billion semiconductor fund, France committed \\u20ac109 billion, India pledged $1.25 billion, and Saudi Arabia\\u2019s Project [...] ### 2. AI is increasingly embedded in everyday life.\\n\\nFrom healthcare to transportation, AI is rapidly moving from the lab to daily life. In 2023, the FDA approved 223 AI-enabled medical devices, up from just six in 2015. On the roads, self-driving cars are no longer experimental: Waymo, one of the largest U.S. operators, provides over 150,000 autonomous rides each week, while Baidu\\u2019s affordable Apollo Go robotaxi fleet now serves numerous cities across China. [...] In 2024, U.S. private AI investment grew to $109.1 billion\\u2014nearly 12 times China\\u2019s $9.3 billion and 24 times the U.K.\\u2019s $4.5 billion. Generative AI saw particularly strong momentum, attracting $33.9 billion globally in private investment\\u2014an 18.7% increase from 2023. AI business usage is also accelerating: 78% of organizations reported using AI in 2024, up from 55% the year before. Meanwhile, a growing body of research confirms that AI boosts productivity and, in most cases, helps narrow skill\", \"score\": 0.68090034}, {\"title\": \"AI News & Artificial Intelligence | TechCrunch\", \"url\": \"https://techcrunch.com/category/artificial-intelligence/\", \"content\": \"### Databricks will bake OpenAI models into its products in $100M bet to spur enterprise adoption\\n\\nSpotify AI Playlist\\n\\n### Spotify to label AI music, filter spam and more in AI policy change\\n\\n### It isn\\u2019t your imagination: Google Cloud is flooding the zone\\n\\nTelephone sign on concrete wall.\\n\\n### Neon, the No. 2 social app on the Apple App Store, pays users to record their phone calls and sells data to AI firms\\n\\nImage of a phone with Cohere's logo on it with a green digital background. [...] ### Aaron Levie on building for the long game in enterprise software at TechCrunch Disrupt 2025\\n\\nMicrosoft\\n\\n### Microsoft cuts cloud services to Israeli military unit over Palestinian surveillance\\n\\nChatGPT's new Pulse feature.\\n\\n### OpenAI launches ChatGPT Pulse to proactively write you morning briefs\\n\\nJuicebox\\n\\n### Juicebox raises $30M from Sequoia to revolutionize hiring with LLM-powered search\\n\\nBurnt founders [...] Electronic Arts will reportedly be acquired for $50B\\n\\n### OpenAI launches ChatGPT Pulse to proactively write you morning briefs\\n\\nOpenAI launches ChatGPT Pulse to proactively write you morning briefs\\n\\n### It isn\\u2019t your imagination: Google Cloud is flooding the zone\\n\\nIt isn\\u2019t your imagination: Google Cloud is flooding the zone\\n\\n### Neon, the No. 2 social app on the Apple App Store, pays users to record their phone calls and sells data to AI firms\", \"score\": 0.67885995}, {\"title\": \"AI News | Latest AI News, Analysis & Events\", \"url\": \"https://www.artificialintelligence-news.com/\", \"content\": \"CAMIA privacy attack reveals what AI models memorise \\u00b7 Ethical cybersecurity practice reshapes enterprise security in 2025 \\u00b7 Samsung benchmarks real productivity\", \"score\": 0.6737291}, {\"title\": \"Artificial intelligence | Massachusetts Institute of Technology\", \"url\": \"https://news.mit.edu/topic/artificial-intelligence2\", \"content\": \"With SCIGEN, researchers can steer AI models to create materials with exotic properties for applications like quantum computing.\\n\\nSeptember 22, 2025\\n\\nRead full story \\u2192\\n\\nOver 50 people pose for a group photo.\\n\\n### How are MIT entrepreneurs using AI?\\n\\nThis year\\u2019s delta v summer accelerator offered an up-close look at how AI is changing the process of building a startup.\\n\\nSeptember 22, 2025\\n\\nRead full story \\u2192\\n\\nMIT president Sally Kornbluth\\n\\n### What does the future hold for generative AI? [...] MIT-IBM Watson AI Lab researchers have developed a universal guide for estimating how large language models will perform based on smaller models in the same family.\\n\\nSeptember 16, 2025\\n\\nRead full story \\u2192\\n\\nIllustration shows three fetuses, each circled in blue, in different poses. A series of MRI images forms the background.\\n\\n### Machine-learning tool gives doctors a more detailed 3D picture of fetal health [...] September 7, 2025\\n\\nRead full story \\u2192\\n\\n3D rendered images of green-colored wall hooks, phone stands, and plant pots overlay a faint image of the earth and clouds\\n\\n### A greener way to 3D print stronger stuff\\n\\nMIT CSAIL researchers developed SustainaPrint, a system that reinforces only the weakest zones of eco-friendly 3D prints, achieving strong results with less plastic.\\n\\nSeptember 4, 2025\\n\\nRead full story \\u2192\", \"score\": 0.56460327}]\n",
      ":: call_model :: tool_response :  Here are the summaries of the top three recent articles related to AI:\n",
      "\n",
      "1. **AI-Powered Cardiac Imaging Lens Only Reveals Hidden Coronary Risks**\n",
      "   - **Source:** [Crescendo AI](https://www.crescendo.ai/news/latest-ai-news-and-updates)\n",
      "   - **Summary:** Researchers have developed a miniature imaging lens powered by AI that can reveal hidden coronary risks. This could significantly advance cardiac health diagnostics by identifying potential issues that traditional methods may miss.\n",
      "\n",
      "2. **The 2025 AI Index Report | Stanford HAI**\n",
      "   - **Source:** [Stanford HAI](https://hai.stanford.edu/ai-index/2025-ai-index-report)\n",
      "   - **Summary:** The report highlights the growing regulatory landscape for AI in 2024, with U.S. federal agencies introducing a significant number of AI regulations and global legislative mentions of AI rising sharply. Investment in AI technology is also increasing, with private U.S. AI investments reaching $109.1 billion, driven by a surge in generative AI interest and its integration into everyday business practices.\n",
      "\n",
      "3. **Databricks to Integrate OpenAI Models in Major Move**\n",
      "   - **Source:** [TechCrunch](https://techcrunch.com/category/artificial-intelligence/)\n",
      "   - **Summary:** Databricks has announced its intent to integrate OpenAI models into its products as part of a $100 million strategy to accelerate enterprise adoption of AI technology. This move underscores the growing influence of AI in enterprise software and seeks to enhance functionality for businesses.\n",
      "\n",
      "These articles showcase advancements in healthcare AI technology, the regulatory developments surrounding artificial intelligence, and significant corporate strategies to incorporate AI into existing business services.\n",
      ":: should_continue :: last_message :  Here are the summaries of the top three recent articles related to AI:\n",
      "\n",
      "1. **AI-Powered Cardiac Imaging Lens Only Reveals Hidden Coronary Risks**\n",
      "   - **Source:** [Crescendo AI](https://www.crescendo.ai/news/latest-ai-news-and-updates)\n",
      "   - **Summary:** Researchers have developed a miniature imaging lens powered by AI that can reveal hidden coronary risks. This could significantly advance cardiac health diagnostics by identifying potential issues that traditional methods may miss.\n",
      "\n",
      "2. **The 2025 AI Index Report | Stanford HAI**\n",
      "   - **Source:** [Stanford HAI](https://hai.stanford.edu/ai-index/2025-ai-index-report)\n",
      "   - **Summary:** The report highlights the growing regulatory landscape for AI in 2024, with U.S. federal agencies introducing a significant number of AI regulations and global legislative mentions of AI rising sharply. Investment in AI technology is also increasing, with private U.S. AI investments reaching $109.1 billion, driven by a surge in generative AI interest and its integration into everyday business practices.\n",
      "\n",
      "3. **Databricks to Integrate OpenAI Models in Major Move**\n",
      "   - **Source:** [TechCrunch](https://techcrunch.com/category/artificial-intelligence/)\n",
      "   - **Summary:** Databricks has announced its intent to integrate OpenAI models into its products as part of a $100 million strategy to accelerate enterprise adoption of AI technology. This move underscores the growing influence of AI in enterprise software and seeks to enhance functionality for businesses.\n",
      "\n",
      "These articles showcase advancements in healthcare AI technology, the regulatory developments surrounding artificial intelligence, and significant corporate strategies to incorporate AI into existing business services.\n",
      ":: should_continue :: return END : \n",
      "==================================\u001b[1m Ai Message \u001b[0m==================================\n",
      "\n",
      "Here are the summaries of the top three recent articles related to AI:\n",
      "\n",
      "1. **AI-Powered Cardiac Imaging Lens Only Reveals Hidden Coronary Risks**\n",
      "   - **Source:** [Crescendo AI](https://www.crescendo.ai/news/latest-ai-news-and-updates)\n",
      "   - **Summary:** Researchers have developed a miniature imaging lens powered by AI that can reveal hidden coronary risks. This could significantly advance cardiac health diagnostics by identifying potential issues that traditional methods may miss.\n",
      "\n",
      "2. **The 2025 AI Index Report | Stanford HAI**\n",
      "   - **Source:** [Stanford HAI](https://hai.stanford.edu/ai-index/2025-ai-index-report)\n",
      "   - **Summary:** The report highlights the growing regulatory landscape for AI in 2024, with U.S. federal agencies introducing a significant number of AI regulations and global legislative mentions of AI rising sharply. Investment in AI technology is also increasing, with private U.S. AI investments reaching $109.1 billion, driven by a surge in generative AI interest and its integration into everyday business practices.\n",
      "\n",
      "3. **Databricks to Integrate OpenAI Models in Major Move**\n",
      "   - **Source:** [TechCrunch](https://techcrunch.com/category/artificial-intelligence/)\n",
      "   - **Summary:** Databricks has announced its intent to integrate OpenAI models into its products as part of a $100 million strategy to accelerate enterprise adoption of AI technology. This move underscores the growing influence of AI in enterprise software and seeks to enhance functionality for businesses.\n",
      "\n",
      "These articles showcase advancements in healthcare AI technology, the regulatory developments surrounding artificial intelligence, and significant corporate strategies to incorporate AI into existing business services.\n"
     ]
    }
   ],
   "source": [
    "def print_stream(stream):\n",
    "    \"\"\"Helper function for formatting the stream nicely.\"\"\"\n",
    "    for s in stream:\n",
    "        message = s[\"messages\"][-1]\n",
    "        if isinstance(message, tuple):\n",
    "            print(message)\n",
    "        else:\n",
    "            message.pretty_print()\n",
    "\n",
    "#inputs = {\"messages\": [HumanMessage(content=\"What's the weather like in Caboolture, and what should I wear based on the temperature?\")]}\n",
    "#inputs = {\"messages\": [HumanMessage(content=\"Calculate 15% of 250 plus the square root of 144\")]}\n",
    "inputs = {\"messages\": [HumanMessage(content=\"Find recent AI news and summarize the top 3 articles\")]}\n",
    "\n",
    "print_stream(graph.stream(inputs, stream_mode=\"values\"))"
   ]
  },
  {
   "cell_type": "markdown",
   "metadata": {},
   "source": [
    "**What You'll See:**\n",
    "1. **Initial Reasoning**: Agent analyzes the query.\n",
    "2. **Tool Call 1**: Searches for Zurich weather.\n",
    "3. **Tool Result Processing**: Agent examines weather data.\n",
    "4. **Tool Call 2**: Gets clothing recommendations.\n",
    "5. **Final Synthesis**: Agent combines all information into a helpful response.\n"
   ]
  },
  {
   "cell_type": "markdown",
   "metadata": {},
   "source": [
    "### The Complete ReAct Cycle\n",
    "\n",
    "The final execution demonstrates the full ReAct pattern:\n",
    "\n",
    "1. **Reasoning**: \"I need current weather data for Zurich\".\n",
    "2. **Acting**: Calls search_tool(\"Zurich weather today\").\n",
    "3. **Observing**: Processes search results, extracts temperature.\n",
    "4. **Reasoning**: \"Now I need clothing recommendations for this temperature\".\n",
    "5. **Acting**: Calls recommend_clothing(\"temperature from search\").\n",
    "6. **Observing**: Gets clothing suggestions.\n",
    "7. **Reasoning**: \"I can now provide a complete answer\".\n",
    "8. **Final Response**: Synthesizes weather info and clothing recommendations.\n"
   ]
  },
  {
   "cell_type": "markdown",
   "metadata": {},
   "source": [
    "## Key Takeaways\n"
   ]
  },
  {
   "cell_type": "markdown",
   "metadata": {},
   "source": [
    "### What Makes ReAct Powerful\n",
    "\n",
    "1. **Transparency**: You can see the agent's reasoning process.\n",
    "2. **Adaptability**: The agent can handle unexpected results and change course.\n",
    "3. **Extensibility**: It's easy to add new tools and capabilities.\n",
    "4. **Reliability**: The structured approach reduces hallucination and improves accuracy\n"
   ]
  },
  {
   "cell_type": "markdown",
   "metadata": {},
   "source": [
    "### Best Practices\n",
    "\n",
    "1. **Tool Design**: Make tools focused and reliable.\n",
    "2. **Error Handling**: Plan for tool failures and unexpected results.\n",
    "3. **Context Management**: Keep state manageable and relevant.\n",
    "4. **User Experience**: Provide clear feedback about what the agent is doing.\n",
    "\n",
    "The ReAct framework represents a significant step toward more capable and trustworthy AI agents that can reason through complex problems and take meaningful actions in the real world.\n"
   ]
  },
  {
   "cell_type": "markdown",
   "metadata": {},
   "source": [
    "# Exercises\n",
    "\n",
    "Now it's time to put your ReAct knowledge into practice! These exercises will help you build your own tools and extend the agent's capabilities.\n"
   ]
  },
  {
   "cell_type": "markdown",
   "metadata": {},
   "source": [
    "## Exercise 1 - Build a Calculator Tool\n",
    "\n",
    "**Objective:** Create a mathematical calculator tool that can handle complex calculations.\n",
    "\n",
    "Your task is to create a calculator tool that can perform mathematical operations. This tool should be able to handle expressions like \"2 + 3 * 4\", \"sqrt(16)\", and \"sin(π/2)\".\n",
    "\n",
    "### Instructions:\n",
    "1. Create a tool called `calculator_tool` using the `@tool` decorator.\n",
    "2. The tool should accept a mathematical expression as a string.\n",
    "3. Use Python's `eval()` function carefully (or better yet, use the `ast` module for safety).\n",
    "4. Test your tool with various mathematical expressions.\n",
    "5. Add your tool to the tools list and test it with the ReAct agent.\n",
    "\n",
    "### Starter Code:\n"
   ]
  },
  {
   "cell_type": "code",
   "execution_count": 73,
   "metadata": {},
   "outputs": [
    {
     "ename": "ValueError",
     "evalue": "malformed node or string: ['1', '+', '10']",
     "output_type": "error",
     "traceback": [
      "\u001b[0;31m---------------------------------------------------------------------------\u001b[0m",
      "\u001b[0;31mValueError\u001b[0m                                Traceback (most recent call last)",
      "Cell \u001b[0;32mIn[73], line 6\u001b[0m\n\u001b[1;32m      3\u001b[0m \u001b[38;5;28;01mimport\u001b[39;00m\u001b[38;5;250m \u001b[39m\u001b[38;5;21;01moperator\u001b[39;00m\n\u001b[1;32m      4\u001b[0m \u001b[38;5;28;01mimport\u001b[39;00m\u001b[38;5;250m \u001b[39m\u001b[38;5;21;01mre\u001b[39;00m\n\u001b[0;32m----> 6\u001b[0m \u001b[38;5;28mprint\u001b[39m(\u001b[43mast\u001b[49m\u001b[38;5;241;43m.\u001b[39;49m\u001b[43mliteral_eval\u001b[49m\u001b[43m(\u001b[49m\u001b[38;5;124;43m\"\u001b[39;49m\u001b[38;5;124;43m1 + 10\u001b[39;49m\u001b[38;5;124;43m\"\u001b[39;49m\u001b[38;5;241;43m.\u001b[39;49m\u001b[43msplit\u001b[49m\u001b[43m(\u001b[49m\u001b[43m)\u001b[49m\u001b[43m)\u001b[49m)\n\u001b[1;32m      9\u001b[0m \u001b[38;5;66;03m#@tool\u001b[39;00m\n\u001b[1;32m     10\u001b[0m \u001b[38;5;66;03m#def calculator_tool(expression: str) -> str:\u001b[39;00m\n\u001b[1;32m     11\u001b[0m \u001b[38;5;66;03m#    \"\"\"\u001b[39;00m\n\u001b[0;32m   (...)\u001b[0m\n\u001b[1;32m     22\u001b[0m \u001b[38;5;66;03m# TODO: Add calculator_tool to your tools list\u001b[39;00m\n\u001b[1;32m     23\u001b[0m \u001b[38;5;66;03m# TODO: Test with the agent: \"What's 15% of 250 plus the square root of 144?\"\u001b[39;00m\n",
      "File \u001b[0;32m/opt/conda/lib/python3.12/ast.py:112\u001b[0m, in \u001b[0;36mliteral_eval\u001b[0;34m(node_or_string)\u001b[0m\n\u001b[1;32m    110\u001b[0m                 \u001b[38;5;28;01mreturn\u001b[39;00m left \u001b[38;5;241m-\u001b[39m right\n\u001b[1;32m    111\u001b[0m     \u001b[38;5;28;01mreturn\u001b[39;00m _convert_signed_num(node)\n\u001b[0;32m--> 112\u001b[0m \u001b[38;5;28;01mreturn\u001b[39;00m \u001b[43m_convert\u001b[49m\u001b[43m(\u001b[49m\u001b[43mnode_or_string\u001b[49m\u001b[43m)\u001b[49m\n",
      "File \u001b[0;32m/opt/conda/lib/python3.12/ast.py:111\u001b[0m, in \u001b[0;36mliteral_eval.<locals>._convert\u001b[0;34m(node)\u001b[0m\n\u001b[1;32m    109\u001b[0m         \u001b[38;5;28;01melse\u001b[39;00m:\n\u001b[1;32m    110\u001b[0m             \u001b[38;5;28;01mreturn\u001b[39;00m left \u001b[38;5;241m-\u001b[39m right\n\u001b[0;32m--> 111\u001b[0m \u001b[38;5;28;01mreturn\u001b[39;00m \u001b[43m_convert_signed_num\u001b[49m\u001b[43m(\u001b[49m\u001b[43mnode\u001b[49m\u001b[43m)\u001b[49m\n",
      "File \u001b[0;32m/opt/conda/lib/python3.12/ast.py:85\u001b[0m, in \u001b[0;36mliteral_eval.<locals>._convert_signed_num\u001b[0;34m(node)\u001b[0m\n\u001b[1;32m     83\u001b[0m     \u001b[38;5;28;01melse\u001b[39;00m:\n\u001b[1;32m     84\u001b[0m         \u001b[38;5;28;01mreturn\u001b[39;00m \u001b[38;5;241m-\u001b[39m operand\n\u001b[0;32m---> 85\u001b[0m \u001b[38;5;28;01mreturn\u001b[39;00m \u001b[43m_convert_num\u001b[49m\u001b[43m(\u001b[49m\u001b[43mnode\u001b[49m\u001b[43m)\u001b[49m\n",
      "File \u001b[0;32m/opt/conda/lib/python3.12/ast.py:76\u001b[0m, in \u001b[0;36mliteral_eval.<locals>._convert_num\u001b[0;34m(node)\u001b[0m\n\u001b[1;32m     74\u001b[0m \u001b[38;5;28;01mdef\u001b[39;00m\u001b[38;5;250m \u001b[39m\u001b[38;5;21m_convert_num\u001b[39m(node):\n\u001b[1;32m     75\u001b[0m     \u001b[38;5;28;01mif\u001b[39;00m \u001b[38;5;129;01mnot\u001b[39;00m \u001b[38;5;28misinstance\u001b[39m(node, Constant) \u001b[38;5;129;01mor\u001b[39;00m \u001b[38;5;28mtype\u001b[39m(node\u001b[38;5;241m.\u001b[39mvalue) \u001b[38;5;129;01mnot\u001b[39;00m \u001b[38;5;129;01min\u001b[39;00m (\u001b[38;5;28mint\u001b[39m, \u001b[38;5;28mfloat\u001b[39m, \u001b[38;5;28mcomplex\u001b[39m):\n\u001b[0;32m---> 76\u001b[0m         \u001b[43m_raise_malformed_node\u001b[49m\u001b[43m(\u001b[49m\u001b[43mnode\u001b[49m\u001b[43m)\u001b[49m\n\u001b[1;32m     77\u001b[0m     \u001b[38;5;28;01mreturn\u001b[39;00m node\u001b[38;5;241m.\u001b[39mvalue\n",
      "File \u001b[0;32m/opt/conda/lib/python3.12/ast.py:73\u001b[0m, in \u001b[0;36mliteral_eval.<locals>._raise_malformed_node\u001b[0;34m(node)\u001b[0m\n\u001b[1;32m     71\u001b[0m \u001b[38;5;28;01mif\u001b[39;00m lno \u001b[38;5;241m:=\u001b[39m \u001b[38;5;28mgetattr\u001b[39m(node, \u001b[38;5;124m'\u001b[39m\u001b[38;5;124mlineno\u001b[39m\u001b[38;5;124m'\u001b[39m, \u001b[38;5;28;01mNone\u001b[39;00m):\n\u001b[1;32m     72\u001b[0m     msg \u001b[38;5;241m+\u001b[39m\u001b[38;5;241m=\u001b[39m \u001b[38;5;124mf\u001b[39m\u001b[38;5;124m'\u001b[39m\u001b[38;5;124m on line \u001b[39m\u001b[38;5;132;01m{\u001b[39;00mlno\u001b[38;5;132;01m}\u001b[39;00m\u001b[38;5;124m'\u001b[39m\n\u001b[0;32m---> 73\u001b[0m \u001b[38;5;28;01mraise\u001b[39;00m \u001b[38;5;167;01mValueError\u001b[39;00m(msg \u001b[38;5;241m+\u001b[39m \u001b[38;5;124mf\u001b[39m\u001b[38;5;124m'\u001b[39m\u001b[38;5;124m: \u001b[39m\u001b[38;5;132;01m{\u001b[39;00mnode\u001b[38;5;132;01m!r}\u001b[39;00m\u001b[38;5;124m'\u001b[39m)\n",
      "\u001b[0;31mValueError\u001b[0m: malformed node or string: ['1', '+', '10']"
     ]
    }
   ],
   "source": [
    "import math\n",
    "import ast\n",
    "import operator\n",
    "import re\n",
    "\n",
    "print(ast.literal_eval(\"1 + 10\".split()))\n",
    "      \n",
    "\n",
    "#@tool\n",
    "#def calculator_tool(expression: str) -> str:\n",
    "#    \"\"\"\n",
    "#    Safely evaluate mathematical expressions.\n",
    "#    \n",
    "#    :param expression: A mathematical expression as a string (e.g., \"2 + 3 * 4\")\n",
    "#    :return: The result of the calculation\n",
    "#    \"\"\"\n",
    "    # TODO: Implement safe mathematical evaluation\n",
    "    # Hint: You can use ast.literal_eval for simple expressions\n",
    "    # or create a safe evaluator for more complex math\n",
    "#    pass\n",
    "\n",
    "# TODO: Add calculator_tool to your tools list\n",
    "# TODO: Test with the agent: \"What's 15% of 250 plus the square root of 144?\""
   ]
  },
  {
   "cell_type": "markdown",
   "metadata": {},
   "source": [
    "## Exercise 2 - Create a News Summary Tool\n",
    "\n",
    "**Objective:** Build a tool that can fetch and summarize recent news articles.\n",
    "\n",
    "Create a news summarization tool that works with the existing search functionality. This tool should take search results and create concise summaries of news articles.\n",
    "\n",
    "### Instructions:\n",
    "1. Create a `news_summarizer_tool` that takes news content and creates summaries.\n",
    "2. The tool should extract key information: headline, date, main points.\n",
    "3. Format the output in a readable way.\n",
    "4. Test it by asking the agent to \"search for recent AI news and summarize the top 3 articles\".\n",
    "\n",
    "### Starter Code:\n"
   ]
  },
  {
   "cell_type": "code",
   "execution_count": null,
   "metadata": {},
   "outputs": [],
   "source": [
    "@tool\n",
    "def news_summarizer_tool(news_content: str) -> str:\n",
    "    \"\"\"\n",
    "    Summarize news articles from search results.\n",
    "    \n",
    "    :param news_content: Raw news content or search results\n",
    "    :return: A formatted summary of the news\n",
    "    \"\"\"\n",
    "    # TODO: Parse the news content\n",
    "    # TODO: Extract key information (headlines, dates, main points)\n",
    "    # TODO: Format into a readable summary\n",
    "    # Hint: You might want to split by articles and process each one\n",
    "    pass\n",
    "\n",
    "# TODO: Add to tools list and test with:\n",
    "# \"Find recent news about artificial intelligence and give me a summary\""
   ]
  },
  {
   "cell_type": "markdown",
   "metadata": {},
   "source": [
    "## Testing Your Solutions\n",
    "\n",
    "For each exercise, test your implementation with these commands:\n"
   ]
  },
  {
   "cell_type": "code",
   "execution_count": null,
   "metadata": {},
   "outputs": [],
   "source": [
    "# Exercise 1 Test\n",
    "inputs = {\"messages\": [HumanMessage(content=\"Calculate 15% of 250 plus the square root of 144\")]}\n",
    "print_stream(graph.stream(inputs, stream_mode=\"values\"))"
   ]
  },
  {
   "cell_type": "code",
   "execution_count": null,
   "metadata": {},
   "outputs": [],
   "source": [
    "# Exercise 2 Test  \n",
    "inputs = {\"messages\": [HumanMessage(content=\"Find recent AI news and summarize the top 3 articles\")]}\n",
    "print_stream(graph.stream(inputs, stream_mode=\"values\"))"
   ]
  },
  {
   "cell_type": "markdown",
   "metadata": {},
   "source": [
    "## Authors\n"
   ]
  },
  {
   "cell_type": "markdown",
   "metadata": {},
   "source": [
    "[Joseph Santarcangelo](https://author.skills.network/instructors/joseph_santarcangelo): Joseph has a Ph.D. in Electrical Engineering, his research focused on using machine learning, signal processing, and computer vision to determine how videos impact human cognition. Joseph has been working for IBM since he completed his PhD.\n",
    "\n",
    "[Tenzin Migmar](https://author.skills.network/instructors/tenzin_migmar): Hi, I'm Tenzin. I'm a data scientist intern at IBM interested in applying machine learning to solve difficult problems. Prior to joining IBM, I worked as a research assistant on projects exploring perspectivism and personalization within large language models. In my free time, I enjoy recreational programming and learning to cook new recipes.\n",
    "\n",
    "[Faranak Heidari](https://www.linkedin.com/in/faranakhdr/) is a data scientist and AI developer in IBM. \n"
   ]
  },
  {
   "cell_type": "markdown",
   "metadata": {},
   "source": [
    "<!--#### Change Log\n"
   ]
  },
  {
   "cell_type": "markdown",
   "metadata": {},
   "source": [
    "<!--\n",
    "|Date (YYYY-MM-DD)|Version|Changed By|Change Description|\n",
    "|-|-|-|-|\n",
    "|2024-02-23|0.2|Elio Di Nino|Update library documentation|\n",
    "|2020-07-17|0.1|Sam|Create lab template|\n",
    "-->\n"
   ]
  },
  {
   "cell_type": "markdown",
   "metadata": {},
   "source": [
    "Copyright © IBM Corporation. All rights reserved.\n"
   ]
  }
 ],
 "metadata": {
  "kernelspec": {
   "display_name": "Python 3 (ipykernel)",
   "language": "python",
   "name": "python3"
  },
  "language_info": {
   "codemirror_mode": {
    "name": "ipython",
    "version": 3
   },
   "file_extension": ".py",
   "mimetype": "text/x-python",
   "name": "python",
   "nbconvert_exporter": "python",
   "pygments_lexer": "ipython3",
   "version": "3.12.8"
  },
  "prev_pub_hash": "8c934cd1f83b596adfcbc5587f1033178f6fdba432838b18df7d9d0e24b2f6c9"
 },
 "nbformat": 4,
 "nbformat_minor": 4
}
